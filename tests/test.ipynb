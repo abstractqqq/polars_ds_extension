{
 "cells": [
  {
   "cell_type": "code",
   "execution_count": null,
   "metadata": {},
   "outputs": [],
   "source": [
    "import polars as pl\n",
    "import polars_ds as pds\n",
    "print(pds.__version__)"
   ]
  },
  {
   "cell_type": "code",
   "execution_count": null,
   "metadata": {},
   "outputs": [],
   "source": [
    "size = 1000\n",
    "df = pds.frame(size = size).select(\n",
    "    pds.random(0., 1.).alias(\"x1\"),\n",
    "    pds.random(0., 1.).alias(\"x2\"),\n",
    "    pds.random(0., 1.).alias(\"x3\"),\n",
    ").with_columns(\n",
    "    pl.when(pds.random() < 0.2).then(None).otherwise(pl.col(\"x1\")).alias(\"x1\"),\n",
    "    pl.when(pds.random() < 0.2).then(None).otherwise(pl.col(\"x2\")).alias(\"x2\"),\n",
    "    pl.when(pds.random() < 0.2).then(None).otherwise(pl.col(\"x3\")).alias(\"x3\"),\n",
    ").with_columns(\n",
    "    null_ref = pl.any_horizontal(pl.col(\"x1\").is_null(), pl.col(\"x2\").is_null(), pl.col(\"x3\").is_null()),\n",
    "    y = pl.col(\"x1\") * 0.15 + pl.col(\"x2\") * 0.3 - pl.col(\"x3\") * 1.5 + pds.random() * 0.0001\n",
    ")\n",
    "\n",
    "window_size = 6\n",
    "min_valid_rows = 5\n",
    "\n",
    "result = df.with_columns(\n",
    "    pds.query_rolling_lstsq(\n",
    "        \"x1\", \"exp(x2)\", \"x3\",\n",
    "        target = \"y\",\n",
    "        window_size = window_size,\n",
    "        min_valid_rows = min_valid_rows,\n",
    "        null_policy = \"skip\" \n",
    "    ).alias(\"test\")\n",
    ").with_columns(\n",
    "    pl.col(\"test\").is_null().alias(\"is_null\")\n",
    ")"
   ]
  },
  {
   "cell_type": "code",
   "execution_count": null,
   "metadata": {},
   "outputs": [],
   "source": [
    "pl.sql_expr(pl.col(\"x1\"))"
   ]
  },
  {
   "cell_type": "code",
   "execution_count": null,
   "metadata": {},
   "outputs": [],
   "source": [
    "result.head(10)"
   ]
  },
  {
   "cell_type": "code",
   "execution_count": null,
   "metadata": {},
   "outputs": [],
   "source": [
    "df.with_columns(\n",
    "    pds.query_rolling_lstsq(\n",
    "        \"x1\", \"x2\", \"x3\",\n",
    "        target = \"y\",\n",
    "        window_size = 5,\n",
    "        min_valid_rows = 4,\n",
    "        null_policy = \"skip\" \n",
    "    ).alias(\"test\")\n",
    ") # .unnest(\"test\").limit(10)"
   ]
  },
  {
   "cell_type": "code",
   "execution_count": null,
   "metadata": {},
   "outputs": [],
   "source": [
    "df = pl.DataFrame({\n",
    "    \"x1\": [None, 0.1, 0.1, 0.1],\n",
    "    \"x2\": [None, 0.1, 0.1, 0.1],\n",
    "    \"x3\": [None, 0.1, 0.1, 0.1],\n",
    "})"
   ]
  },
  {
   "cell_type": "code",
   "execution_count": null,
   "metadata": {},
   "outputs": [],
   "source": [
    "df.slice(offset=1).with_columns(\n",
    "    pds.query_recursive_lstsq(\n",
    "        \"x1\", \"x2\", \"x3\",\n",
    "        target = \"y\",\n",
    "        start_with = 2,\n",
    "        null_policy = \"zero\" # fill with zero\n",
    "    ).alias(\"test\")\n",
    ").unnest(\"test\").limit(10)"
   ]
  },
  {
   "cell_type": "code",
   "execution_count": null,
   "metadata": {},
   "outputs": [],
   "source": [
    "df.select(\n",
    "    pds.query_knn_ptwise(\n",
    "        \"x1\", \"x2\", \"x3\",\n",
    "        index = \"index\",\n",
    "        dist = \"l2\",\n",
    "        k = 2\n",
    "    ).over(\"category\")\n",
    ")"
   ]
  },
  {
   "cell_type": "code",
   "execution_count": null,
   "metadata": {},
   "outputs": [],
   "source": []
  },
  {
   "cell_type": "code",
   "execution_count": null,
   "metadata": {},
   "outputs": [],
   "source": []
  },
  {
   "cell_type": "code",
   "execution_count": null,
   "metadata": {},
   "outputs": [],
   "source": [
    "df.with_columns(\n",
    "    pds.query_recursive_lstsq(\n",
    "        \"x1\", \"x2\", \"x3\",\n",
    "        target = \"y\",\n",
    "        start_at = 3,\n",
    "        method = \"normal\",\n",
    "    ).alias(\"res\")\n",
    ").unnest(\"res\")"
   ]
  },
  {
   "cell_type": "code",
   "execution_count": null,
   "metadata": {},
   "outputs": [],
   "source": [
    "df.with_columns(\n",
    "    pds.query_rolling_lstsq(\n",
    "        \"x1\", \"x2\", \"x3\",\n",
    "        target = \"y\",\n",
    "        window_size = 60,\n",
    "        method = \"l2\",\n",
    "        # add_bias = True,\n",
    "        lambda_ = 0.01\n",
    "    ).alias(\"res\")\n",
    ").unnest(\"res\")"
   ]
  },
  {
   "cell_type": "code",
   "execution_count": null,
   "metadata": {},
   "outputs": [],
   "source": []
  }
 ],
 "metadata": {
  "kernelspec": {
   "display_name": ".venv",
   "language": "python",
   "name": "python3"
  },
  "language_info": {
   "codemirror_mode": {
    "name": "ipython",
    "version": 3
   },
   "file_extension": ".py",
   "mimetype": "text/x-python",
   "name": "python",
   "nbconvert_exporter": "python",
   "pygments_lexer": "ipython3",
   "version": "3.12.4"
  }
 },
 "nbformat": 4,
 "nbformat_minor": 2
}
