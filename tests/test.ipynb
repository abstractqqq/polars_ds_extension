{
 "cells": [
  {
   "cell_type": "code",
   "execution_count": null,
   "metadata": {},
   "outputs": [],
   "source": [
    "import polars as pl\n",
    "import polars_ds as pds\n",
    "print(pds.__version__)"
   ]
  },
  {
   "cell_type": "code",
   "execution_count": null,
   "metadata": {},
   "outputs": [],
   "source": [
    "from polars_ds.linear_models import LR"
   ]
  },
  {
   "cell_type": "code",
   "execution_count": null,
   "metadata": {},
   "outputs": [],
   "source": [
    "model = LR()"
   ]
  },
  {
   "cell_type": "code",
   "execution_count": null,
   "metadata": {},
   "outputs": [],
   "source": [
    "model.fit(x, y, null_policy=\"skip\")"
   ]
  },
  {
   "cell_type": "code",
   "execution_count": null,
   "metadata": {},
   "outputs": [],
   "source": []
  },
  {
   "cell_type": "code",
   "execution_count": null,
   "metadata": {},
   "outputs": [],
   "source": [
    "import numpy as np\n",
    "\n",
    "x = df.select(\"x1\", \"x2\", \"x3\").to_numpy()\n"
   ]
  },
  {
   "cell_type": "code",
   "execution_count": null,
   "metadata": {},
   "outputs": [],
   "source": [
    "np.any(np.isnan(x), axis = 1) | True"
   ]
  },
  {
   "cell_type": "code",
   "execution_count": null,
   "metadata": {},
   "outputs": [],
   "source": [
    "from polars_ds.linear_models import LR"
   ]
  },
  {
   "cell_type": "code",
   "execution_count": null,
   "metadata": {},
   "outputs": [],
   "source": [
    "model = LR(fit_bias = False, lambda_=0.1)\n",
    "model"
   ]
  },
  {
   "cell_type": "code",
   "execution_count": null,
   "metadata": {},
   "outputs": [],
   "source": [
    "model.fit_df(\n",
    "    df, \n",
    "    features = [\"x1\", \"x2\", \"x3\"],\n",
    "    target = \"y\",\n",
    "    show_report = True\n",
    ")"
   ]
  },
  {
   "cell_type": "code",
   "execution_count": null,
   "metadata": {},
   "outputs": [],
   "source": [
    "model.predict_df(df)"
   ]
  },
  {
   "cell_type": "code",
   "execution_count": null,
   "metadata": {},
   "outputs": [],
   "source": []
  },
  {
   "cell_type": "code",
   "execution_count": null,
   "metadata": {},
   "outputs": [],
   "source": []
  },
  {
   "cell_type": "code",
   "execution_count": null,
   "metadata": {},
   "outputs": [],
   "source": [
    "df.select(\n",
    "    pds.query_lstsq(\n",
    "        \"x1\", \"x2\", \"x3\",\n",
    "        target = \"y\",\n",
    "        method = \"l2\",\n",
    "        solver = \"svd\",\n",
    "        l2_reg = 0.1,\n",
    "        add_bias = True\n",
    "    )\n",
    ")"
   ]
  },
  {
   "cell_type": "code",
   "execution_count": null,
   "metadata": {},
   "outputs": [],
   "source": [
    "from polars_ds import transforms as t\n",
    "\n",
    "\n",
    "df.select(\n",
    "\n",
    "    t.polynomial_features(\n",
    "        [\"x1\", \"x2\"],\n",
    "        degree = 4, \n",
    "        interaction_only = False\n",
    "    )\n",
    "\n",
    ")"
   ]
  },
  {
   "cell_type": "code",
   "execution_count": null,
   "metadata": {},
   "outputs": [],
   "source": []
  },
  {
   "cell_type": "code",
   "execution_count": null,
   "metadata": {},
   "outputs": [],
   "source": []
  },
  {
   "cell_type": "code",
   "execution_count": null,
   "metadata": {},
   "outputs": [],
   "source": [
    "kernel = [0.5] * 500"
   ]
  },
  {
   "cell_type": "code",
   "execution_count": null,
   "metadata": {},
   "outputs": [],
   "source": [
    "%%timeit\n",
    "df.select(\n",
    "    pds.convolve(\"x1\", kernel = kernel, method=\"direct\").alias(\"convolve_1\"),\n",
    ")"
   ]
  },
  {
   "cell_type": "code",
   "execution_count": null,
   "metadata": {},
   "outputs": [],
   "source": [
    "%%timeit\n",
    "df.select(\n",
    "    pds.convolve2(\"x1\", kernel = kernel, method=\"direct\").alias(\"convolve_1\"),\n",
    ")"
   ]
  },
  {
   "cell_type": "code",
   "execution_count": null,
   "metadata": {},
   "outputs": [],
   "source": []
  },
  {
   "cell_type": "code",
   "execution_count": null,
   "metadata": {},
   "outputs": [],
   "source": [
    "size = 1000\n",
    "df = pds.frame(size = size).select(\n",
    "    pds.random(0., 1.).alias(\"x1\"),\n",
    "    pds.random(0., 1.).alias(\"x2\"),\n",
    "    pds.random(0., 1.).alias(\"x3\"),\n",
    ").with_row_index().with_columns(\n",
    "    y = pl.col(\"x1\") + pl.col(\"x2\") * 0.2 - 0.3 * pl.col(\"x3\")\n",
    ")\n",
    "\n",
    "window_size = 5\n",
    "min_valid_rows = 3\n",
    "\n",
    "result = df.with_columns(\n",
    "    pds.query_rolling_lstsq(\n",
    "        \"x1\", \"exp(x2)\", \"x3\",\n",
    "        target = \"y\",\n",
    "        window_size = window_size,\n",
    "        min_valid_rows = min_valid_rows,\n",
    "        null_policy = \"skip\" \n",
    "    ).alias(\"test\")\n",
    ").with_columns(\n",
    "    pl.col(\"test\").is_null().alias(\"is_null\")\n",
    ")"
   ]
  },
  {
   "cell_type": "code",
   "execution_count": null,
   "metadata": {},
   "outputs": [],
   "source": [
    "df.select(\n",
    "    \"x1\",\n",
    "    pl.col(\"x1\").shift(1).alias(\"x2\")\n",
    ").select(\n",
    "    x1 = pl.col(\"x1\") - pl.col(\"x2\")\n",
    "    , x2 = pl.col(\"x1\").diff()\n",
    ")"
   ]
  },
  {
   "cell_type": "code",
   "execution_count": null,
   "metadata": {},
   "outputs": [],
   "source": [
    "df = pl.DataFrame({\n",
    "    \"a\": [1,2,3,None]\n",
    "})\n",
    "\n",
    "df.select(\n",
    "    pl.col(\"a\").mean()\n",
    ")"
   ]
  },
  {
   "cell_type": "code",
   "execution_count": null,
   "metadata": {},
   "outputs": [],
   "source": []
  }
 ],
 "metadata": {
  "kernelspec": {
   "display_name": ".venv",
   "language": "python",
   "name": "python3"
  },
  "language_info": {
   "codemirror_mode": {
    "name": "ipython",
    "version": 3
   },
   "file_extension": ".py",
   "mimetype": "text/x-python",
   "name": "python",
   "nbconvert_exporter": "python",
   "pygments_lexer": "ipython3",
   "version": "3.12.4"
  }
 },
 "nbformat": 4,
 "nbformat_minor": 2
}
