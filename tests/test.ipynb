{
 "cells": [
  {
   "cell_type": "code",
   "execution_count": null,
   "metadata": {},
   "outputs": [],
   "source": [
    "import polars as pl\n",
    "import polars_ds as pds\n",
    "print(pds.__version__)"
   ]
  },
  {
   "cell_type": "code",
   "execution_count": 2,
   "metadata": {},
   "outputs": [],
   "source": [
    "df = (\n",
    "    pds.frame(size=5000)\n",
    "    .select(\n",
    "        pds.random(0.0, 1.0).alias(\"x1\"),\n",
    "        pds.random(0.0, 1.0).alias(\"x2\"),\n",
    "        pds.random(0.0, 1.0).alias(\"x3\"),\n",
    "    )\n",
    "    .with_row_index()\n",
    "    .with_columns(\n",
    "        y=pl.col(\"x1\") + pl.col(\"x2\") * 0.2 - 0.3 * pl.col(\"x3\"),\n",
    "    )\n",
    "    .with_columns(is_null=pl.col(\"x1\").is_null())\n",
    ")\n",
    "\n",
    "X = df.select(\"x1\", \"x2\", \"x3\").to_numpy()\n",
    "y = df.select(\"y\").to_numpy()"
   ]
  },
  {
   "cell_type": "code",
   "execution_count": 3,
   "metadata": {},
   "outputs": [],
   "source": [
    "import numpy as np\n",
    "# np.random.rand(210, 8)"
   ]
  },
  {
   "cell_type": "code",
   "execution_count": 4,
   "metadata": {},
   "outputs": [],
   "source": [
    "from polars_ds.linear_models import ElasticNet, LR "
   ]
  },
  {
   "cell_type": "code",
   "execution_count": null,
   "metadata": {},
   "outputs": [],
   "source": [
    "en = ElasticNet(l1_reg = 0.1, l2_reg = 0.1, fit_bias = True)\n",
    "en.fit(X, y)"
   ]
  },
  {
   "cell_type": "code",
   "execution_count": null,
   "metadata": {},
   "outputs": [],
   "source": [
    "en.coeffs()"
   ]
  },
  {
   "cell_type": "code",
   "execution_count": 7,
   "metadata": {},
   "outputs": [],
   "source": [
    "import sklearn.linear_model as lm\n",
    "\n",
    "l1_reg = 0.1\n",
    "l2_reg = 0.1\n",
    "alpha = l1_reg + l2_reg\n",
    "l1_ratio = l1_reg / (l1_reg + l2_reg)\n",
    "\n",
    "elastic = lm.ElasticNet(alpha=alpha, l1_ratio=l1_ratio, fit_intercept=True)"
   ]
  },
  {
   "cell_type": "code",
   "execution_count": null,
   "metadata": {},
   "outputs": [],
   "source": [
    "elastic.fit(X, y)\n",
    "elastic.coef_"
   ]
  },
  {
   "cell_type": "code",
   "execution_count": null,
   "metadata": {},
   "outputs": [],
   "source": []
  },
  {
   "cell_type": "code",
   "execution_count": null,
   "metadata": {},
   "outputs": [],
   "source": [
    "import numpy as np\n",
    "\n",
    "X = df.select(f\"var{i}\" for i in range(3)).to_numpy(order=\"c\")\n",
    "X"
   ]
  },
  {
   "cell_type": "code",
   "execution_count": 4,
   "metadata": {},
   "outputs": [],
   "source": [
    "from polars_ds.kdtree import KDTree as KDT\n",
    "\n",
    "kdt = KDT(X, distance = \"l2\")"
   ]
  },
  {
   "cell_type": "code",
   "execution_count": 8,
   "metadata": {},
   "outputs": [],
   "source": [
    "distances, indices = kdt.knn(X, k = 10, parallel = False)"
   ]
  },
  {
   "cell_type": "code",
   "execution_count": 6,
   "metadata": {},
   "outputs": [],
   "source": [
    "from scipy.spatial import KDTree\n",
    "tree = KDTree(X, copy_data=True)"
   ]
  },
  {
   "cell_type": "code",
   "execution_count": 9,
   "metadata": {},
   "outputs": [],
   "source": [
    "distances_1, indices_1 = tree.query(X, k = 10, p = 2, distance_upper_bound = 9999.0)"
   ]
  },
  {
   "cell_type": "code",
   "execution_count": null,
   "metadata": {},
   "outputs": [],
   "source": [
    "distances"
   ]
  },
  {
   "cell_type": "code",
   "execution_count": null,
   "metadata": {},
   "outputs": [],
   "source": [
    "distances_1"
   ]
  },
  {
   "cell_type": "code",
   "execution_count": null,
   "metadata": {},
   "outputs": [],
   "source": [
    "%timeit kdt.knn(X, k = 10, parallel = False)\n",
    "%timeit kdt.knn(X, k = 10, parallel = True)"
   ]
  },
  {
   "cell_type": "code",
   "execution_count": null,
   "metadata": {},
   "outputs": [],
   "source": [
    "from scipy.spatial import KDTree\n",
    "tree = KDTree(X, copy_data=True)"
   ]
  },
  {
   "cell_type": "code",
   "execution_count": null,
   "metadata": {},
   "outputs": [],
   "source": [
    "%timeit tree.query(X, k = 10, p = 2, distance_upper_bound = 9999.0)\n",
    "%timeit tree.query(X, k = 10, p = 2, workers=-1, distance_upper_bound = 9999.0)"
   ]
  },
  {
   "cell_type": "code",
   "execution_count": null,
   "metadata": {},
   "outputs": [],
   "source": [
    "kdt.within_count(X, r = 0.005, parallel=True) - 10"
   ]
  },
  {
   "cell_type": "code",
   "execution_count": null,
   "metadata": {},
   "outputs": [],
   "source": [
    "%timeit kdt.knn(X, k = 10, epsilon = 0., max_dist_bound = 9999.0, parallel = False)\n",
    "%timeit kdt.knn(X, k = 10, epsilon = 0., max_dist_bound = 9999.0, parallel = True)"
   ]
  },
  {
   "cell_type": "code",
   "execution_count": null,
   "metadata": {},
   "outputs": [],
   "source": [
    "from scipy.spatial import KDTree"
   ]
  },
  {
   "cell_type": "code",
   "execution_count": null,
   "metadata": {},
   "outputs": [],
   "source": [
    "tree = KDTree(X, copy_data=True)"
   ]
  },
  {
   "cell_type": "code",
   "execution_count": null,
   "metadata": {},
   "outputs": [],
   "source": [
    "%timeit tree.query(X, k = 10, p = 2, workers=-1, distance_upper_bound = 9999.0)"
   ]
  },
  {
   "cell_type": "code",
   "execution_count": null,
   "metadata": {},
   "outputs": [],
   "source": [
    "%timeit tree.query(X, k = 10, p = 2, distance_upper_bound = 9999.0)\n",
    "%timeit tree.query(X, k = 10, p = 2, workers=-1, distance_upper_bound = 9999.0)"
   ]
  },
  {
   "cell_type": "code",
   "execution_count": null,
   "metadata": {},
   "outputs": [],
   "source": []
  },
  {
   "cell_type": "code",
   "execution_count": null,
   "metadata": {},
   "outputs": [],
   "source": [
    "%%timeit\n",
    "df.select(\n",
    "    pds.convolve(\n",
    "        \"x1\",\n",
    "        kernel = [0.5] * 10,\n",
    "        method = \"fft\",\n",
    "        mode = \"valid\"\n",
    "    )\n",
    ") # 705"
   ]
  },
  {
   "cell_type": "code",
   "execution_count": null,
   "metadata": {},
   "outputs": [],
   "source": []
  },
  {
   "cell_type": "code",
   "execution_count": null,
   "metadata": {},
   "outputs": [],
   "source": [
    "df.select(\n",
    "    pds.query_lstsq(\n",
    "        \"x1\", \"x2\", \"x3\",\n",
    "        target = \"y\",\n",
    "        l1_reg = l1_reg,\n",
    "        l2_reg = l2_reg,\n",
    "        tol = 1e-6\n",
    "    )\n",
    ")"
   ]
  },
  {
   "cell_type": "code",
   "execution_count": null,
   "metadata": {},
   "outputs": [],
   "source": [
    "from sklearn.linear_model import ElasticNet\n",
    "x = df.select(\"x1\", \"x2\", \"x3\").to_numpy()\n",
    "y = df.select(\"y\").to_numpy()"
   ]
  },
  {
   "cell_type": "code",
   "execution_count": null,
   "metadata": {},
   "outputs": [],
   "source": [
    "model = ElasticNet(alpha = alpha, l1_ratio= l1_ratio, fit_intercept=False)"
   ]
  },
  {
   "cell_type": "code",
   "execution_count": null,
   "metadata": {},
   "outputs": [],
   "source": [
    "model.fit(x, y)"
   ]
  },
  {
   "cell_type": "code",
   "execution_count": null,
   "metadata": {},
   "outputs": [],
   "source": [
    "model.coef_"
   ]
  },
  {
   "cell_type": "code",
   "execution_count": null,
   "metadata": {},
   "outputs": [],
   "source": []
  },
  {
   "cell_type": "code",
   "execution_count": null,
   "metadata": {},
   "outputs": [],
   "source": [
    "import numpy as np\n",
    "\n",
    "x = df.select(\"x1\", \"x2\", \"x3\").to_numpy()\n",
    "y = df.select(\"y\").to_numpy()"
   ]
  },
  {
   "cell_type": "code",
   "execution_count": null,
   "metadata": {},
   "outputs": [],
   "source": [
    "np.linalg.lstsq(x, y, rcond = 0.5)"
   ]
  },
  {
   "cell_type": "code",
   "execution_count": null,
   "metadata": {},
   "outputs": [],
   "source": [
    "res = df.select(\n",
    "    pds.query_lstsq_w_rcond(\n",
    "        \"x1\", \"x2\", \"x3\",\n",
    "        target = \"y\",\n",
    "        rcond = 0.5,\n",
    "        method = \"l2\",\n",
    "    ).alias(\"result\")\n",
    ").unnest(\"result\")"
   ]
  },
  {
   "cell_type": "code",
   "execution_count": null,
   "metadata": {},
   "outputs": [],
   "source": [
    "res"
   ]
  },
  {
   "cell_type": "code",
   "execution_count": null,
   "metadata": {},
   "outputs": [],
   "source": [
    "coeffs = res[\"coeffs\"][0].to_numpy()\n",
    "svs = res[\"singular_values\"][0].to_numpy()\n",
    "\n",
    "coeffs"
   ]
  },
  {
   "cell_type": "code",
   "execution_count": null,
   "metadata": {},
   "outputs": [],
   "source": [
    "svs"
   ]
  },
  {
   "cell_type": "code",
   "execution_count": null,
   "metadata": {},
   "outputs": [],
   "source": [
    "np.sqrt(4144.9180)"
   ]
  },
  {
   "cell_type": "code",
   "execution_count": null,
   "metadata": {},
   "outputs": [],
   "source": [
    "from polars_ds.linear_models import LR, OnlineLR\n"
   ]
  },
  {
   "cell_type": "code",
   "execution_count": null,
   "metadata": {},
   "outputs": [],
   "source": [
    "X = df.select(\"x1\", \"x2\", \"x3\").to_numpy()\n",
    "y = df.select(\"y\").to_numpy()"
   ]
  },
  {
   "cell_type": "code",
   "execution_count": null,
   "metadata": {},
   "outputs": [],
   "source": [
    "import numpy as np"
   ]
  },
  {
   "cell_type": "code",
   "execution_count": null,
   "metadata": {},
   "outputs": [],
   "source": [
    "model = LR(lambda_=0.1, fit_bias=True) # Ridge Regression\n",
    "online_model = OnlineLR(fit_bias = True) # Normal, online regression with a bias term\n"
   ]
  },
  {
   "cell_type": "code",
   "execution_count": null,
   "metadata": {},
   "outputs": [],
   "source": [
    "online_model.fit(X[:10], y[:10])"
   ]
  },
  {
   "cell_type": "code",
   "execution_count": null,
   "metadata": {},
   "outputs": [],
   "source": [
    "np.linalg.lstsq(X[:10], y[:10])"
   ]
  },
  {
   "cell_type": "code",
   "execution_count": null,
   "metadata": {},
   "outputs": [],
   "source": [
    "query"
   ]
  },
  {
   "cell_type": "code",
   "execution_count": null,
   "metadata": {},
   "outputs": [],
   "source": [
    "df.select(\n",
    "    pds.query_similar_count(\n",
    "        query = query,\n",
    "        target = \"x1\",\n",
    "        metric = \"sql2\",\n",
    "        threshold = 0.5\n",
    "    )\n",
    ")"
   ]
  },
  {
   "cell_type": "code",
   "execution_count": null,
   "metadata": {},
   "outputs": [],
   "source": []
  },
  {
   "cell_type": "code",
   "execution_count": null,
   "metadata": {},
   "outputs": [],
   "source": []
  },
  {
   "cell_type": "code",
   "execution_count": null,
   "metadata": {},
   "outputs": [],
   "source": []
  },
  {
   "cell_type": "code",
   "execution_count": null,
   "metadata": {},
   "outputs": [],
   "source": [
    "df.select(\n",
    "    pds.query_similar_count(\n",
    "        query = [0.5, 0.5, 0.1, 0.1, 0.12, 0.22],\n",
    "        target = \"x1\",\n",
    "        metric = \"sql2\",\n",
    "        threshold = 0.1\n",
    "    )\n",
    ")"
   ]
  },
  {
   "cell_type": "code",
   "execution_count": null,
   "metadata": {},
   "outputs": [],
   "source": [
    "q = pl.Series([0.5, 1.0, 0.3])\n",
    "qq = pl.lit(q)\n",
    "df.select(\n",
    "    (qq - qq.mean()) / qq.std()\n",
    ")"
   ]
  },
  {
   "cell_type": "code",
   "execution_count": null,
   "metadata": {},
   "outputs": [],
   "source": []
  }
 ],
 "metadata": {
  "kernelspec": {
   "display_name": ".venv",
   "language": "python",
   "name": "python3"
  },
  "language_info": {
   "codemirror_mode": {
    "name": "ipython",
    "version": 3
   },
   "file_extension": ".py",
   "mimetype": "text/x-python",
   "name": "python",
   "nbconvert_exporter": "python",
   "pygments_lexer": "ipython3",
   "version": "3.12.6"
  }
 },
 "nbformat": 4,
 "nbformat_minor": 2
}
