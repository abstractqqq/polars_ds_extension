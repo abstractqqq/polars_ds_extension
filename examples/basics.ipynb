{
 "cells": [
  {
   "cell_type": "code",
   "execution_count": 1,
   "id": "529f4422-5c3a-4bd6-abe0-a15edfc62abb",
   "metadata": {},
   "outputs": [],
   "source": [
    "import polars as pl\n",
    "import polars_ds as pds\n",
    "import numpy as np"
   ]
  },
  {
   "cell_type": "markdown",
   "id": "6a314316",
   "metadata": {},
   "source": [
    "# This notebook illustrates the basic usage of this package\n",
    "\n",
    "You need to create an environment with this package installed to run this notebook. (usually latest version)"
   ]
  },
  {
   "cell_type": "markdown",
   "id": "3aef5c69-fff3-4779-9b58-f939d725f0b0",
   "metadata": {},
   "source": [
    "# Num Extensions"
   ]
  },
  {
   "cell_type": "code",
   "execution_count": 2,
   "id": "430fec01-5d0b-422f-b099-c86037512b6d",
   "metadata": {},
   "outputs": [
    {
     "data": {
      "text/html": [
       "<div><style>\n",
       ".dataframe > thead > tr,\n",
       ".dataframe > tbody > tr {\n",
       "  text-align: right;\n",
       "  white-space: pre-wrap;\n",
       "}\n",
       "</style>\n",
       "<small>shape: (5, 13)</small><table border=\"1\" class=\"dataframe\"><thead><tr><th>f</th><th>time_idx</th><th>dummy</th><th>actual</th><th>predicted</th><th>dummy_groups</th><th>x1</th><th>x2</th><th>x3</th><th>a</th><th>b</th><th>y</th><th>y2</th></tr><tr><td>f64</td><td>i64</td><td>str</td><td>i32</td><td>f64</td><td>str</td><td>f64</td><td>f64</td><td>f64</td><td>f64</td><td>f64</td><td>f64</td><td>f64</td></tr></thead><tbody><tr><td>0.0</td><td>0</td><td>&quot;a&quot;</td><td>1</td><td>0.865246</td><td>&quot;a&quot;</td><td>0.531304</td><td>0.342598</td><td>0.555673</td><td>0.141504</td><td>0.374844</td><td>-0.651013</td><td>0.167762</td></tr><tr><td>0.841471</td><td>1</td><td>&quot;a&quot;</td><td>1</td><td>0.426308</td><td>&quot;a&quot;</td><td>0.66626</td><td>0.767732</td><td>0.319284</td><td>0.989981</td><td>0.257848</td><td>-0.148656</td><td>0.400214</td></tr><tr><td>0.909297</td><td>2</td><td>&quot;a&quot;</td><td>1</td><td>0.023306</td><td>&quot;a&quot;</td><td>0.52806</td><td>0.2415</td><td>0.574577</td><td>0.492929</td><td>0.427643</td><td>-0.710107</td><td>0.119897</td></tr><tr><td>0.14112</td><td>3</td><td>&quot;a&quot;</td><td>0</td><td>0.890483</td><td>&quot;a&quot;</td><td>0.92675</td><td>0.35313</td><td>0.332102</td><td>0.95379</td><td>0.06414</td><td>-0.253124</td><td>0.246243</td></tr><tr><td>-0.756802</td><td>4</td><td>&quot;a&quot;</td><td>1</td><td>0.804295</td><td>&quot;a&quot;</td><td>0.124174</td><td>0.028771</td><td>0.580792</td><td>0.9729</td><td>0.466718</td><td>-0.843863</td><td>-0.02891</td></tr></tbody></table></div>"
      ],
      "text/plain": [
       "shape: (5, 13)\n",
       "┌───────────┬──────────┬───────┬────────┬───┬──────────┬──────────┬───────────┬──────────┐\n",
       "│ f         ┆ time_idx ┆ dummy ┆ actual ┆ … ┆ a        ┆ b        ┆ y         ┆ y2       │\n",
       "│ ---       ┆ ---      ┆ ---   ┆ ---    ┆   ┆ ---      ┆ ---      ┆ ---       ┆ ---      │\n",
       "│ f64       ┆ i64      ┆ str   ┆ i32    ┆   ┆ f64      ┆ f64      ┆ f64       ┆ f64      │\n",
       "╞═══════════╪══════════╪═══════╪════════╪═══╪══════════╪══════════╪═══════════╪══════════╡\n",
       "│ 0.0       ┆ 0        ┆ a     ┆ 1      ┆ … ┆ 0.141504 ┆ 0.374844 ┆ -0.651013 ┆ 0.167762 │\n",
       "│ 0.841471  ┆ 1        ┆ a     ┆ 1      ┆ … ┆ 0.989981 ┆ 0.257848 ┆ -0.148656 ┆ 0.400214 │\n",
       "│ 0.909297  ┆ 2        ┆ a     ┆ 1      ┆ … ┆ 0.492929 ┆ 0.427643 ┆ -0.710107 ┆ 0.119897 │\n",
       "│ 0.14112   ┆ 3        ┆ a     ┆ 0      ┆ … ┆ 0.95379  ┆ 0.06414  ┆ -0.253124 ┆ 0.246243 │\n",
       "│ -0.756802 ┆ 4        ┆ a     ┆ 1      ┆ … ┆ 0.9729   ┆ 0.466718 ┆ -0.843863 ┆ -0.02891 │\n",
       "└───────────┴──────────┴───────┴────────┴───┴──────────┴──────────┴───────────┴──────────┘"
      ]
     },
     "execution_count": 2,
     "metadata": {},
     "output_type": "execute_result"
    }
   ],
   "source": [
    "size = 10_000\n",
    "df = pl.DataFrame({\n",
    "    \"f\": np.sin(list(range(size)))\n",
    "    , \"time_idx\": range(size)\n",
    "    , \"dummy\": [\"a\"] * (size // 2) + [\"b\"] * (size // 2)\n",
    "    , \"actual\": np.round(np.random.random(size=size)).astype(np.int32)\n",
    "    , \"predicted\": np.random.random(size=size)\n",
    "    , \"dummy_groups\":[\"a\"] * (size//2) + [\"b\"] * (size//2) \n",
    "}).with_columns(\n",
    "    pds.random(0., 1.).alias(\"x1\")\n",
    "    , pds.random(0., 1.).alias(\"x2\")\n",
    "    , pds.random(0., 1.).alias(\"x3\")\n",
    "    , pds.random(0., 1.).alias(\"a\")\n",
    "    , pds.random(0., 1.).alias(\"b\")\n",
    ").with_columns(\n",
    "    y = pl.col(\"x1\") * 0.15 + pl.col(\"x2\") * 0.3 - pl.col(\"x3\") * 1.5 + pds.random() * 0.0001,\n",
    "    y2 = pl.col(\"x1\") * 0.13 + pl.col(\"x2\") * 0.45 - pl.col(\"x3\") * 0.1 + pds.random() * 0.0001\n",
    ")\n",
    "df.head()"
   ]
  },
  {
   "cell_type": "code",
   "execution_count": 3,
   "id": "b6f98453-34cd-4afc-b35d-db58fa60a69a",
   "metadata": {},
   "outputs": [
    {
     "data": {
      "text/html": [
       "<div><style>\n",
       ".dataframe > thead > tr,\n",
       ".dataframe > tbody > tr {\n",
       "  text-align: right;\n",
       "  white-space: pre-wrap;\n",
       "}\n",
       "</style>\n",
       "<small>shape: (1, 1)</small><table border=\"1\" class=\"dataframe\"><thead><tr><th>x1</th></tr><tr><td>f64</td></tr></thead><tbody><tr><td>0.0</td></tr></tbody></table></div>"
      ],
      "text/plain": [
       "shape: (1, 1)\n",
       "┌─────┐\n",
       "│ x1  │\n",
       "│ --- │\n",
       "│ f64 │\n",
       "╞═════╡\n",
       "│ 0.0 │\n",
       "└─────┘"
      ]
     },
     "execution_count": 3,
     "metadata": {},
     "output_type": "execute_result"
    }
   ],
   "source": [
    "# Column-wise Jaccard Similarity. Result should be 0 as they are distinct\n",
    "df.select(\n",
    "    pds.jaccard_col(\"x1\", pl.col(\"x2\"))\n",
    ")"
   ]
  },
  {
   "cell_type": "code",
   "execution_count": 4,
   "id": "416d5346-e75b-4769-a953-e898d6a4d84c",
   "metadata": {},
   "outputs": [
    {
     "data": {
      "text/html": [
       "<div><style>\n",
       ".dataframe > thead > tr,\n",
       ".dataframe > tbody > tr {\n",
       "  text-align: right;\n",
       "  white-space: pre-wrap;\n",
       "}\n",
       "</style>\n",
       "<small>shape: (5, 1)</small><table border=\"1\" class=\"dataframe\"><thead><tr><th>f</th></tr><tr><td>array[f64, 2]</td></tr></thead><tbody><tr><td>[1.939505, 0.0]</td></tr><tr><td>[1.939506, 0.000209]</td></tr><tr><td>[1.939508, 0.000418]</td></tr><tr><td>[1.939512, 0.000627]</td></tr><tr><td>[1.939518, 0.000835]</td></tr></tbody></table></div>"
      ],
      "text/plain": [
       "shape: (5, 1)\n",
       "┌──────────────────────┐\n",
       "│ f                    │\n",
       "│ ---                  │\n",
       "│ array[f64, 2]        │\n",
       "╞══════════════════════╡\n",
       "│ [1.939505, 0.0]      │\n",
       "│ [1.939506, 0.000209] │\n",
       "│ [1.939508, 0.000418] │\n",
       "│ [1.939512, 0.000627] │\n",
       "│ [1.939518, 0.000835] │\n",
       "└──────────────────────┘"
      ]
     },
     "execution_count": 4,
     "metadata": {},
     "output_type": "execute_result"
    }
   ],
   "source": [
    "# FFT. First is real part, second is complex part\n",
    "# By default, this behaves the same as np's rfft, which returns a non-redundant \n",
    "# compact representation of fft output.\n",
    "df.select(\n",
    "    pds.rfft(\"f\")\n",
    ").head()"
   ]
  },
  {
   "cell_type": "code",
   "execution_count": 5,
   "id": "71c76353",
   "metadata": {},
   "outputs": [
    {
     "data": {
      "text/plain": [
       "(10000, 1)"
      ]
     },
     "execution_count": 5,
     "metadata": {},
     "output_type": "execute_result"
    }
   ],
   "source": [
    "# FFT. But return the full length\n",
    "df.select(\n",
    "    pds.rfft(\"f\", return_full=True)\n",
    ").shape"
   ]
  },
  {
   "cell_type": "code",
   "execution_count": 6,
   "id": "cd6662d2",
   "metadata": {},
   "outputs": [
    {
     "data": {
      "text/html": [
       "<div><style>\n",
       ".dataframe > thead > tr,\n",
       ".dataframe > tbody > tr {\n",
       "  text-align: right;\n",
       "  white-space: pre-wrap;\n",
       "}\n",
       "</style>\n",
       "<small>shape: (5, 3)</small><table border=\"1\" class=\"dataframe\"><thead><tr><th>f</th><th>a</th><th>b</th></tr><tr><td>f64</td><td>f64</td><td>f64</td></tr></thead><tbody><tr><td>1.3944e-15</td><td>-0.141504</td><td>-0.374844</td></tr><tr><td>-0.841471</td><td>-0.989981</td><td>-0.257848</td></tr><tr><td>-0.909297</td><td>-0.492929</td><td>-0.427643</td></tr><tr><td>-0.14112</td><td>-0.95379</td><td>-0.06414</td></tr><tr><td>0.756802</td><td>-0.831396</td><td>-0.091874</td></tr></tbody></table></div>"
      ],
      "text/plain": [
       "shape: (5, 3)\n",
       "┌────────────┬───────────┬───────────┐\n",
       "│ f          ┆ a         ┆ b         │\n",
       "│ ---        ┆ ---       ┆ ---       │\n",
       "│ f64        ┆ f64       ┆ f64       │\n",
       "╞════════════╪═══════════╪═══════════╡\n",
       "│ 1.3944e-15 ┆ -0.141504 ┆ -0.374844 │\n",
       "│ -0.841471  ┆ -0.989981 ┆ -0.257848 │\n",
       "│ -0.909297  ┆ -0.492929 ┆ -0.427643 │\n",
       "│ -0.14112   ┆ -0.95379  ┆ -0.06414  │\n",
       "│ 0.756802   ┆ -0.831396 ┆ -0.091874 │\n",
       "└────────────┴───────────┴───────────┘"
      ]
     },
     "execution_count": 6,
     "metadata": {},
     "output_type": "execute_result"
    }
   ],
   "source": [
    "# Multiple Convolutions at once\n",
    "# Modes: `same`, `left` (left-aligned same), `right` (right-aligned same), `valid` or `full`\n",
    "# Method: `fft`, `direct`\n",
    "# Currently slower than SciPy but provides parallelism because of Polars\n",
    "df.select(\n",
    "    pds.convolve(\"f\", [-1, 0, 0, 0, 1], mode = \"full\", method = \"fft\"), # column f with the kernel given here\n",
    "    pds.convolve(\"a\", [-1, 0, 0, 0, 1], mode = \"full\", method = \"direct\"),\n",
    "    pds.convolve(\"b\", [-1, 0, 0, 0, 1], mode = \"full\", method = \"direct\"),\n",
    ").head()"
   ]
  },
  {
   "cell_type": "code",
   "execution_count": 7,
   "id": "ed47b643-6bcc-43f6-9a25-82168c33e7fd",
   "metadata": {},
   "outputs": [
    {
     "data": {
      "text/html": [
       "<div><style>\n",
       ".dataframe > thead > tr,\n",
       ".dataframe > tbody > tr {\n",
       "  text-align: right;\n",
       "  white-space: pre-wrap;\n",
       "}\n",
       "</style>\n",
       "<small>shape: (1, 1)</small><table border=\"1\" class=\"dataframe\"><thead><tr><th>coeffs</th></tr><tr><td>list[f64]</td></tr></thead><tbody><tr><td>[-0.49286, -0.338774]</td></tr></tbody></table></div>"
      ],
      "text/plain": [
       "shape: (1, 1)\n",
       "┌───────────────────────┐\n",
       "│ coeffs                │\n",
       "│ ---                   │\n",
       "│ list[f64]             │\n",
       "╞═══════════════════════╡\n",
       "│ [-0.49286, -0.338774] │\n",
       "└───────────────────────┘"
      ]
     },
     "execution_count": 7,
     "metadata": {},
     "output_type": "execute_result"
    }
   ],
   "source": [
    "# Linear Regression\n",
    "df.select(\n",
    "    pds.lin_reg(\n",
    "        pl.col(\"x1\"), pl.col(\"x2\"),\n",
    "        target = pl.col(\"y\"),\n",
    "        add_bias=False\n",
    "    )\n",
    ")"
   ]
  },
  {
   "cell_type": "code",
   "execution_count": 8,
   "id": "e94324b7",
   "metadata": {},
   "outputs": [
    {
     "data": {
      "text/html": [
       "<div><style>\n",
       ".dataframe > thead > tr,\n",
       ".dataframe > tbody > tr {\n",
       "  text-align: right;\n",
       "  white-space: pre-wrap;\n",
       "}\n",
       "</style>\n",
       "<small>shape: (1, 2)</small><table border=\"1\" class=\"dataframe\"><thead><tr><th>target_0</th><th>target_1</th></tr><tr><td>list[f64]</td><td>list[f64]</td></tr></thead><tbody><tr><td>[-0.49286, -0.338774]</td><td>[0.087182, 0.407455]</td></tr></tbody></table></div>"
      ],
      "text/plain": [
       "shape: (1, 2)\n",
       "┌───────────────────────┬──────────────────────┐\n",
       "│ target_0              ┆ target_1             │\n",
       "│ ---                   ┆ ---                  │\n",
       "│ list[f64]             ┆ list[f64]            │\n",
       "╞═══════════════════════╪══════════════════════╡\n",
       "│ [-0.49286, -0.338774] ┆ [0.087182, 0.407455] │\n",
       "└───────────────────────┴──────────────────────┘"
      ]
     },
     "execution_count": 8,
     "metadata": {},
     "output_type": "execute_result"
    }
   ],
   "source": [
    "# Linear Regression, multi-target\n",
    "df.select(\n",
    "    pds.lin_reg(\n",
    "        pl.col(\"x1\"), pl.col(\"x2\"),\n",
    "        target = [pl.col(\"y\"), pl.col(\"y2\")],\n",
    "        add_bias=False\n",
    "    )\n",
    ").unnest(\"coeffs\")"
   ]
  },
  {
   "cell_type": "code",
   "execution_count": 9,
   "id": "6613a769",
   "metadata": {},
   "outputs": [
    {
     "data": {
      "text/html": [
       "<div><style>\n",
       ".dataframe > thead > tr,\n",
       ".dataframe > tbody > tr {\n",
       "  text-align: right;\n",
       "  white-space: pre-wrap;\n",
       "}\n",
       "</style>\n",
       "<small>shape: (1, 2)</small><table border=\"1\" class=\"dataframe\"><thead><tr><th>target_0</th><th>target_1</th></tr><tr><td>list[f32]</td><td>list[f32]</td></tr></thead><tbody><tr><td>[-0.49286, -0.338774]</td><td>[0.087182, 0.407456]</td></tr></tbody></table></div>"
      ],
      "text/plain": [
       "shape: (1, 2)\n",
       "┌───────────────────────┬──────────────────────┐\n",
       "│ target_0              ┆ target_1             │\n",
       "│ ---                   ┆ ---                  │\n",
       "│ list[f32]             ┆ list[f32]            │\n",
       "╞═══════════════════════╪══════════════════════╡\n",
       "│ [-0.49286, -0.338774] ┆ [0.087182, 0.407456] │\n",
       "└───────────────────────┴──────────────────────┘"
      ]
     },
     "execution_count": 9,
     "metadata": {},
     "output_type": "execute_result"
    }
   ],
   "source": [
    "# If you want the underlying calculation to be done in f32 instead of f64, you may use the following.\n",
    "# In some cases, f32 can run faster, especially when input data is in f32.\n",
    "pds.config.LIN_REG_EXPR_F64 = False\n",
    "df.select(\n",
    "    pds.lin_reg(\n",
    "        pl.col(\"x1\"), pl.col(\"x2\"),\n",
    "        target = [pl.col(\"y\"), pl.col(\"y2\")],\n",
    "        add_bias=False\n",
    "    )\n",
    ").unnest(\"coeffs\")"
   ]
  },
  {
   "cell_type": "code",
   "execution_count": null,
   "id": "73f45035",
   "metadata": {},
   "outputs": [],
   "source": [
    "pds.Config.LIN_REG_EXPR_F64 = True # pds.Config or pds.config will both work"
   ]
  },
  {
   "cell_type": "code",
   "execution_count": 11,
   "id": "7e6da23d",
   "metadata": {},
   "outputs": [
    {
     "data": {
      "text/html": [
       "<div><style>\n",
       ".dataframe > thead > tr,\n",
       ".dataframe > tbody > tr {\n",
       "  text-align: right;\n",
       "  white-space: pre-wrap;\n",
       "}\n",
       "</style>\n",
       "<small>shape: (4, 9)</small><table border=\"1\" class=\"dataframe\"><thead><tr><th>features</th><th>beta</th><th>std_err</th><th>t</th><th>p&gt;|t|</th><th>0.025</th><th>0.975</th><th>r2</th><th>adj_r2</th></tr><tr><td>str</td><td>f64</td><td>f64</td><td>f64</td><td>f64</td><td>f64</td><td>f64</td><td>f64</td><td>f64</td></tr></thead><tbody><tr><td>&quot;ln(x1+1)&quot;</td><td>0.216885</td><td>0.001695</td><td>127.979002</td><td>0.0</td><td>0.213563</td><td>0.220207</td><td>0.99432</td><td>0.994318</td></tr><tr><td>&quot;exp(x2)&quot;</td><td>0.174897</td><td>0.000678</td><td>257.890455</td><td>0.0</td><td>0.173567</td><td>0.176226</td><td>0.99432</td><td>0.994318</td></tr><tr><td>&quot;sin(x3)&quot;</td><td>-1.744464</td><td>0.00135</td><td>-1292.580898</td><td>0.0</td><td>-1.747109</td><td>-1.741818</td><td>0.99432</td><td>0.994318</td></tr><tr><td>&quot;__bias__&quot;</td><td>-0.107621</td><td>0.001511</td><td>-71.206374</td><td>0.0</td><td>-0.110583</td><td>-0.104658</td><td>0.99432</td><td>0.994318</td></tr></tbody></table></div>"
      ],
      "text/plain": [
       "shape: (4, 9)\n",
       "┌──────────┬───────────┬──────────┬──────────────┬───┬───────────┬───────────┬─────────┬──────────┐\n",
       "│ features ┆ beta      ┆ std_err  ┆ t            ┆ … ┆ 0.025     ┆ 0.975     ┆ r2      ┆ adj_r2   │\n",
       "│ ---      ┆ ---       ┆ ---      ┆ ---          ┆   ┆ ---       ┆ ---       ┆ ---     ┆ ---      │\n",
       "│ str      ┆ f64       ┆ f64      ┆ f64          ┆   ┆ f64       ┆ f64       ┆ f64     ┆ f64      │\n",
       "╞══════════╪═══════════╪══════════╪══════════════╪═══╪═══════════╪═══════════╪═════════╪══════════╡\n",
       "│ ln(x1+1) ┆ 0.216885  ┆ 0.001695 ┆ 127.979002   ┆ … ┆ 0.213563  ┆ 0.220207  ┆ 0.99432 ┆ 0.994318 │\n",
       "│ exp(x2)  ┆ 0.174897  ┆ 0.000678 ┆ 257.890455   ┆ … ┆ 0.173567  ┆ 0.176226  ┆ 0.99432 ┆ 0.994318 │\n",
       "│ sin(x3)  ┆ -1.744464 ┆ 0.00135  ┆ -1292.580898 ┆ … ┆ -1.747109 ┆ -1.741818 ┆ 0.99432 ┆ 0.994318 │\n",
       "│ __bias__ ┆ -0.107621 ┆ 0.001511 ┆ -71.206374   ┆ … ┆ -0.110583 ┆ -0.104658 ┆ 0.99432 ┆ 0.994318 │\n",
       "└──────────┴───────────┴──────────┴──────────────┴───┴───────────┴───────────┴─────────┴──────────┘"
      ]
     },
     "execution_count": 11,
     "metadata": {},
     "output_type": "execute_result"
    }
   ],
   "source": [
    "df.select(\n",
    "    pds.lin_reg_report(\n",
    "        # formulaic input is also available for lstsq related queries, \n",
    "        # or you can always use polars expressions, e.g. pl.col('x1') + 1, pl.col('x2').exp(), pl.col('x3').sin()\n",
    "        \"ln(x1+1)\", \"exp(x2)\", \"sin(x3)\",\n",
    "        target = \"y\",\n",
    "        add_bias = True\n",
    "    ).alias(\"report\")\n",
    ").unnest(\"report\")"
   ]
  },
  {
   "cell_type": "code",
   "execution_count": 12,
   "id": "1ae6021f",
   "metadata": {},
   "outputs": [
    {
     "data": {
      "text/html": [
       "<div><style>\n",
       ".dataframe > thead > tr,\n",
       ".dataframe > tbody > tr {\n",
       "  text-align: right;\n",
       "  white-space: pre-wrap;\n",
       "}\n",
       "</style>\n",
       "<small>shape: (4, 9)</small><table border=\"1\" class=\"dataframe\"><thead><tr><th>features</th><th>beta</th><th>std_err</th><th>t</th><th>p&gt;|t|</th><th>0.025</th><th>0.975</th><th>r2</th><th>adj_r2</th></tr><tr><td>str</td><td>f32</td><td>f32</td><td>f32</td><td>f32</td><td>f32</td><td>f32</td><td>f32</td><td>f32</td></tr></thead><tbody><tr><td>&quot;ln(x1+1)&quot;</td><td>0.216881</td><td>0.001695</td><td>127.976707</td><td>0.0</td><td>0.213559</td><td>0.220203</td><td>0.99432</td><td>0.994318</td></tr><tr><td>&quot;exp(x2)&quot;</td><td>0.174897</td><td>0.000678</td><td>257.890411</td><td>0.0</td><td>0.173567</td><td>0.176226</td><td>0.99432</td><td>0.994318</td></tr><tr><td>&quot;sin(x3)&quot;</td><td>-1.744467</td><td>0.00135</td><td>-1292.583496</td><td>0.0</td><td>-1.747113</td><td>-1.741822</td><td>0.99432</td><td>0.994318</td></tr><tr><td>&quot;__bias__&quot;</td><td>-0.10762</td><td>0.001511</td><td>-71.205765</td><td>0.0</td><td>-0.110582</td><td>-0.104657</td><td>0.99432</td><td>0.994318</td></tr></tbody></table></div>"
      ],
      "text/plain": [
       "shape: (4, 9)\n",
       "┌──────────┬───────────┬──────────┬──────────────┬───┬───────────┬───────────┬─────────┬──────────┐\n",
       "│ features ┆ beta      ┆ std_err  ┆ t            ┆ … ┆ 0.025     ┆ 0.975     ┆ r2      ┆ adj_r2   │\n",
       "│ ---      ┆ ---       ┆ ---      ┆ ---          ┆   ┆ ---       ┆ ---       ┆ ---     ┆ ---      │\n",
       "│ str      ┆ f32       ┆ f32      ┆ f32          ┆   ┆ f32       ┆ f32       ┆ f32     ┆ f32      │\n",
       "╞══════════╪═══════════╪══════════╪══════════════╪═══╪═══════════╪═══════════╪═════════╪══════════╡\n",
       "│ ln(x1+1) ┆ 0.216881  ┆ 0.001695 ┆ 127.976707   ┆ … ┆ 0.213559  ┆ 0.220203  ┆ 0.99432 ┆ 0.994318 │\n",
       "│ exp(x2)  ┆ 0.174897  ┆ 0.000678 ┆ 257.890411   ┆ … ┆ 0.173567  ┆ 0.176226  ┆ 0.99432 ┆ 0.994318 │\n",
       "│ sin(x3)  ┆ -1.744467 ┆ 0.00135  ┆ -1292.583496 ┆ … ┆ -1.747113 ┆ -1.741822 ┆ 0.99432 ┆ 0.994318 │\n",
       "│ __bias__ ┆ -0.10762  ┆ 0.001511 ┆ -71.205765   ┆ … ┆ -0.110582 ┆ -0.104657 ┆ 0.99432 ┆ 0.994318 │\n",
       "└──────────┴───────────┴──────────┴──────────────┴───┴───────────┴───────────┴─────────┴──────────┘"
      ]
     },
     "execution_count": 12,
     "metadata": {},
     "output_type": "execute_result"
    }
   ],
   "source": [
    "pds.config.LIN_REG_EXPR_F64 = False\n",
    "df.select(\n",
    "    pds.lin_reg_report(\n",
    "        # formulaic input is also available for lstsq related queries, \n",
    "        # or you can always use polars expressions, e.g. pl.col('x1') + 1, pl.col('x2').exp(), pl.col('x3').sin()\n",
    "        \"ln(x1+1)\", \"exp(x2)\", \"sin(x3)\",\n",
    "        target = \"y\",\n",
    "        add_bias = True\n",
    "    ).alias(\"report\")\n",
    ").unnest(\"report\")"
   ]
  },
  {
   "cell_type": "code",
   "execution_count": 13,
   "id": "b4d9451b",
   "metadata": {},
   "outputs": [],
   "source": [
    "pds.config.LIN_REG_EXPR_F64 = True"
   ]
  },
  {
   "cell_type": "code",
   "execution_count": 14,
   "id": "16511624-fc7f-45fc-b28e-ad9a91c1bfe9",
   "metadata": {},
   "outputs": [
    {
     "data": {
      "text/html": [
       "<div><style>\n",
       ".dataframe > thead > tr,\n",
       ".dataframe > tbody > tr {\n",
       "  text-align: right;\n",
       "  white-space: pre-wrap;\n",
       "}\n",
       "</style>\n",
       "<small>shape: (10_000, 2)</small><table border=\"1\" class=\"dataframe\"><thead><tr><th>dummy</th><th>coeffs</th></tr><tr><td>str</td><td>list[f64]</td></tr></thead><tbody><tr><td>&quot;a&quot;</td><td>[-0.492705, -0.347587]</td></tr><tr><td>&quot;a&quot;</td><td>[-0.492705, -0.347587]</td></tr><tr><td>&quot;a&quot;</td><td>[-0.492705, -0.347587]</td></tr><tr><td>&quot;a&quot;</td><td>[-0.492705, -0.347587]</td></tr><tr><td>&quot;a&quot;</td><td>[-0.492705, -0.347587]</td></tr><tr><td>&hellip;</td><td>&hellip;</td></tr><tr><td>&quot;b&quot;</td><td>[-0.49306, -0.329949]</td></tr><tr><td>&quot;b&quot;</td><td>[-0.49306, -0.329949]</td></tr><tr><td>&quot;b&quot;</td><td>[-0.49306, -0.329949]</td></tr><tr><td>&quot;b&quot;</td><td>[-0.49306, -0.329949]</td></tr><tr><td>&quot;b&quot;</td><td>[-0.49306, -0.329949]</td></tr></tbody></table></div>"
      ],
      "text/plain": [
       "shape: (10_000, 2)\n",
       "┌───────┬────────────────────────┐\n",
       "│ dummy ┆ coeffs                 │\n",
       "│ ---   ┆ ---                    │\n",
       "│ str   ┆ list[f64]              │\n",
       "╞═══════╪════════════════════════╡\n",
       "│ a     ┆ [-0.492705, -0.347587] │\n",
       "│ a     ┆ [-0.492705, -0.347587] │\n",
       "│ a     ┆ [-0.492705, -0.347587] │\n",
       "│ a     ┆ [-0.492705, -0.347587] │\n",
       "│ a     ┆ [-0.492705, -0.347587] │\n",
       "│ …     ┆ …                      │\n",
       "│ b     ┆ [-0.49306, -0.329949]  │\n",
       "│ b     ┆ [-0.49306, -0.329949]  │\n",
       "│ b     ┆ [-0.49306, -0.329949]  │\n",
       "│ b     ┆ [-0.49306, -0.329949]  │\n",
       "│ b     ┆ [-0.49306, -0.329949]  │\n",
       "└───────┴────────────────────────┘"
      ]
     },
     "execution_count": 14,
     "metadata": {},
     "output_type": "execute_result"
    }
   ],
   "source": [
    "df.select(\n",
    "    \"dummy\",\n",
    "    pds.lin_reg(\n",
    "        pl.col(\"x1\"), pl.col(\"x2\"),\n",
    "        target = pl.col(\"y\"),\n",
    "        add_bias=False\n",
    "    ).over(pl.col(\"dummy\"))\n",
    ")"
   ]
  },
  {
   "cell_type": "code",
   "execution_count": 15,
   "id": "f550c7c6",
   "metadata": {},
   "outputs": [
    {
     "data": {
      "text/html": [
       "<div><style>\n",
       ".dataframe > thead > tr,\n",
       ".dataframe > tbody > tr {\n",
       "  text-align: right;\n",
       "  white-space: pre-wrap;\n",
       "}\n",
       "</style>\n",
       "<small>shape: (5, 5)</small><table border=\"1\" class=\"dataframe\"><thead><tr><th>x1</th><th>x2</th><th>y</th><th>pred</th><th>resid</th></tr><tr><td>f64</td><td>f64</td><td>f64</td><td>f64</td><td>f64</td></tr></thead><tbody><tr><td>0.531304</td><td>0.342598</td><td>-0.651013</td><td>-0.377922</td><td>-0.273091</td></tr><tr><td>0.66626</td><td>0.767732</td><td>-0.148656</td><td>-0.58846</td><td>0.439805</td></tr><tr><td>0.52806</td><td>0.2415</td><td>-0.710107</td><td>-0.342073</td><td>-0.368034</td></tr><tr><td>0.92675</td><td>0.35313</td><td>-0.253124</td><td>-0.57639</td><td>0.323266</td></tr><tr><td>0.124174</td><td>0.028771</td><td>-0.843863</td><td>-0.070947</td><td>-0.772915</td></tr></tbody></table></div>"
      ],
      "text/plain": [
       "shape: (5, 5)\n",
       "┌──────────┬──────────┬───────────┬───────────┬───────────┐\n",
       "│ x1       ┆ x2       ┆ y         ┆ pred      ┆ resid     │\n",
       "│ ---      ┆ ---      ┆ ---       ┆ ---       ┆ ---       │\n",
       "│ f64      ┆ f64      ┆ f64       ┆ f64       ┆ f64       │\n",
       "╞══════════╪══════════╪═══════════╪═══════════╪═══════════╡\n",
       "│ 0.531304 ┆ 0.342598 ┆ -0.651013 ┆ -0.377922 ┆ -0.273091 │\n",
       "│ 0.66626  ┆ 0.767732 ┆ -0.148656 ┆ -0.58846  ┆ 0.439805  │\n",
       "│ 0.52806  ┆ 0.2415   ┆ -0.710107 ┆ -0.342073 ┆ -0.368034 │\n",
       "│ 0.92675  ┆ 0.35313  ┆ -0.253124 ┆ -0.57639  ┆ 0.323266  │\n",
       "│ 0.124174 ┆ 0.028771 ┆ -0.843863 ┆ -0.070947 ┆ -0.772915 │\n",
       "└──────────┴──────────┴───────────┴───────────┴───────────┘"
      ]
     },
     "execution_count": 15,
     "metadata": {},
     "output_type": "execute_result"
    }
   ],
   "source": [
    "# If you want prediction and residue instead of coefficients\n",
    "df.select(\n",
    "    \"x1\",\n",
    "    \"x2\",\n",
    "    \"y\",\n",
    "    pds.lin_reg(\n",
    "        \"x1\", pl.col(\"x2\"),\n",
    "        target = \"y\",\n",
    "        add_bias=False, \n",
    "        return_pred=True\n",
    "    ).alias(\"prediction\")\n",
    ").unnest(\"prediction\").head()"
   ]
  },
  {
   "cell_type": "code",
   "execution_count": 16,
   "id": "0e9fb061-340d-423d-9107-772387006ff2",
   "metadata": {},
   "outputs": [
    {
     "data": {
      "text/html": [
       "<div><style>\n",
       ".dataframe > thead > tr,\n",
       ".dataframe > tbody > tr {\n",
       "  text-align: right;\n",
       "  white-space: pre-wrap;\n",
       "}\n",
       "</style>\n",
       "<small>shape: (2, 2)</small><table border=\"1\" class=\"dataframe\"><thead><tr><th>dummy</th><th>coeffs</th></tr><tr><td>str</td><td>list[f64]</td></tr></thead><tbody><tr><td>&quot;a&quot;</td><td>[-0.492705, -0.347587]</td></tr><tr><td>&quot;b&quot;</td><td>[-0.49306, -0.329949]</td></tr></tbody></table></div>"
      ],
      "text/plain": [
       "shape: (2, 2)\n",
       "┌───────┬────────────────────────┐\n",
       "│ dummy ┆ coeffs                 │\n",
       "│ ---   ┆ ---                    │\n",
       "│ str   ┆ list[f64]              │\n",
       "╞═══════╪════════════════════════╡\n",
       "│ a     ┆ [-0.492705, -0.347587] │\n",
       "│ b     ┆ [-0.49306, -0.329949]  │\n",
       "└───────┴────────────────────────┘"
      ]
     },
     "execution_count": 16,
     "metadata": {},
     "output_type": "execute_result"
    }
   ],
   "source": [
    "df.group_by(\"dummy\").agg(\n",
    "    pds.lin_reg(\n",
    "        pl.col(\"x1\"), pl.col(\"x2\"),\n",
    "        target = pl.col(\"y\"),\n",
    "        add_bias=False\n",
    "    )\n",
    ")"
   ]
  },
  {
   "cell_type": "code",
   "execution_count": 17,
   "id": "955f2db2",
   "metadata": {},
   "outputs": [
    {
     "data": {
      "text/html": [
       "<div><style>\n",
       ".dataframe > thead > tr,\n",
       ".dataframe > tbody > tr {\n",
       "  text-align: right;\n",
       "  white-space: pre-wrap;\n",
       "}\n",
       "</style>\n",
       "<small>shape: (2, 2)</small><table border=\"1\" class=\"dataframe\"><thead><tr><th>dummy</th><th>coeffs</th></tr><tr><td>str</td><td>list[f64]</td></tr></thead><tbody><tr><td>&quot;b&quot;</td><td>[-0.322837, -0.156869]</td></tr><tr><td>&quot;a&quot;</td><td>[-0.316503, -0.177763]</td></tr></tbody></table></div>"
      ],
      "text/plain": [
       "shape: (2, 2)\n",
       "┌───────┬────────────────────────┐\n",
       "│ dummy ┆ coeffs                 │\n",
       "│ ---   ┆ ---                    │\n",
       "│ str   ┆ list[f64]              │\n",
       "╞═══════╪════════════════════════╡\n",
       "│ b     ┆ [-0.322837, -0.156869] │\n",
       "│ a     ┆ [-0.316503, -0.177763] │\n",
       "└───────┴────────────────────────┘"
      ]
     },
     "execution_count": 17,
     "metadata": {},
     "output_type": "execute_result"
    }
   ],
   "source": [
    "# Lasso\n",
    "df.group_by(\"dummy\").agg(\n",
    "    pds.lin_reg(\n",
    "        pl.col(\"x1\"), pl.col(\"x2\"),\n",
    "        target = pl.col(\"y\"),\n",
    "        l1_reg = 0.1,\n",
    "        add_bias=False\n",
    "    )\n",
    ")"
   ]
  },
  {
   "cell_type": "code",
   "execution_count": 18,
   "id": "1bdae8e5",
   "metadata": {},
   "outputs": [
    {
     "data": {
      "text/html": [
       "<div><style>\n",
       ".dataframe > thead > tr,\n",
       ".dataframe > tbody > tr {\n",
       "  text-align: right;\n",
       "  white-space: pre-wrap;\n",
       "}\n",
       "</style>\n",
       "<small>shape: (2, 2)</small><table border=\"1\" class=\"dataframe\"><thead><tr><th>dummy</th><th>lasso_r2</th></tr><tr><td>str</td><td>f64</td></tr></thead><tbody><tr><td>&quot;a&quot;</td><td>-0.536532</td></tr><tr><td>&quot;b&quot;</td><td>-0.514658</td></tr></tbody></table></div>"
      ],
      "text/plain": [
       "shape: (2, 2)\n",
       "┌───────┬───────────┐\n",
       "│ dummy ┆ lasso_r2  │\n",
       "│ ---   ┆ ---       │\n",
       "│ str   ┆ f64       │\n",
       "╞═══════╪═══════════╡\n",
       "│ a     ┆ -0.536532 │\n",
       "│ b     ┆ -0.514658 │\n",
       "└───────┴───────────┘"
      ]
     },
     "execution_count": 18,
     "metadata": {},
     "output_type": "execute_result"
    }
   ],
   "source": [
    "# R2 metric of lasso regressions on each group\n",
    "df.group_by(\"dummy\").agg(\n",
    "    pds.query_r2(\n",
    "        actual = pl.col(\"y\"),\n",
    "        pred = pds.lin_reg(\n",
    "            pl.col(\"x1\"), pl.col(\"x2\"),\n",
    "            target = pl.col(\"y\"),\n",
    "            l1_reg = 0.1,\n",
    "            return_pred = True,\n",
    "            add_bias=False\n",
    "        ).struct.field(\"pred\")\n",
    "    ).alias(\"lasso_r2\")\n",
    ")"
   ]
  },
  {
   "cell_type": "code",
   "execution_count": 19,
   "id": "765ff27b",
   "metadata": {},
   "outputs": [
    {
     "data": {
      "text/html": [
       "<div><style>\n",
       ".dataframe > thead > tr,\n",
       ".dataframe > tbody > tr {\n",
       "  text-align: right;\n",
       "  white-space: pre-wrap;\n",
       "}\n",
       "</style>\n",
       "<small>shape: (10_000, 5)</small><table border=\"1\" class=\"dataframe\"><thead><tr><th>y</th><th>x1</th><th>x2</th><th>coeffs</th><th>pred</th></tr><tr><td>f64</td><td>f64</td><td>f64</td><td>list[f64]</td><td>f64</td></tr></thead><tbody><tr><td>-0.651013</td><td>0.531304</td><td>0.342598</td><td>null</td><td>null</td></tr><tr><td>-0.148656</td><td>0.66626</td><td>0.767732</td><td>null</td><td>null</td></tr><tr><td>-0.710107</td><td>0.52806</td><td>0.2415</td><td>null</td><td>null</td></tr><tr><td>-0.253124</td><td>0.92675</td><td>0.35313</td><td>null</td><td>null</td></tr><tr><td>-0.843863</td><td>0.124174</td><td>0.028771</td><td>[-0.90984, 0.477997]</td><td>-0.099226</td></tr><tr><td>&hellip;</td><td>&hellip;</td><td>&hellip;</td><td>&hellip;</td><td>&hellip;</td></tr><tr><td>-0.147426</td><td>0.931717</td><td>0.147461</td><td>[-0.332345, -0.48363]</td><td>-0.380968</td></tr><tr><td>0.274645</td><td>0.966595</td><td>0.932579</td><td>[-0.26154, 0.0467]</td><td>-0.209252</td></tr><tr><td>-0.591685</td><td>0.472488</td><td>0.26536</td><td>[-0.647542, 0.698849]</td><td>-0.12051</td></tr><tr><td>0.233548</td><td>0.593302</td><td>0.494004</td><td>[-0.332868, 0.430982]</td><td>0.015416</td></tr><tr><td>0.201134</td><td>0.177943</td><td>0.940524</td><td>[-0.238873, 0.368339]</td><td>0.303926</td></tr></tbody></table></div>"
      ],
      "text/plain": [
       "shape: (10_000, 5)\n",
       "┌───────────┬──────────┬──────────┬───────────────────────┬───────────┐\n",
       "│ y         ┆ x1       ┆ x2       ┆ coeffs                ┆ pred      │\n",
       "│ ---       ┆ ---      ┆ ---      ┆ ---                   ┆ ---       │\n",
       "│ f64       ┆ f64      ┆ f64      ┆ list[f64]             ┆ f64       │\n",
       "╞═══════════╪══════════╪══════════╪═══════════════════════╪═══════════╡\n",
       "│ -0.651013 ┆ 0.531304 ┆ 0.342598 ┆ null                  ┆ null      │\n",
       "│ -0.148656 ┆ 0.66626  ┆ 0.767732 ┆ null                  ┆ null      │\n",
       "│ -0.710107 ┆ 0.52806  ┆ 0.2415   ┆ null                  ┆ null      │\n",
       "│ -0.253124 ┆ 0.92675  ┆ 0.35313  ┆ null                  ┆ null      │\n",
       "│ -0.843863 ┆ 0.124174 ┆ 0.028771 ┆ [-0.90984, 0.477997]  ┆ -0.099226 │\n",
       "│ …         ┆ …        ┆ …        ┆ …                     ┆ …         │\n",
       "│ -0.147426 ┆ 0.931717 ┆ 0.147461 ┆ [-0.332345, -0.48363] ┆ -0.380968 │\n",
       "│ 0.274645  ┆ 0.966595 ┆ 0.932579 ┆ [-0.26154, 0.0467]    ┆ -0.209252 │\n",
       "│ -0.591685 ┆ 0.472488 ┆ 0.26536  ┆ [-0.647542, 0.698849] ┆ -0.12051  │\n",
       "│ 0.233548  ┆ 0.593302 ┆ 0.494004 ┆ [-0.332868, 0.430982] ┆ 0.015416  │\n",
       "│ 0.201134  ┆ 0.177943 ┆ 0.940524 ┆ [-0.238873, 0.368339] ┆ 0.303926  │\n",
       "└───────────┴──────────┴──────────┴───────────────────────┴───────────┘"
      ]
     },
     "execution_count": 19,
     "metadata": {},
     "output_type": "execute_result"
    }
   ],
   "source": [
    "# Rolling regression\n",
    "df.select(\n",
    "    \"y\",\n",
    "    \"x1\",\n",
    "    \"x2\",\n",
    "    pds.rolling_lin_reg(\n",
    "        \"x1\", \"x2\",\n",
    "        target = \"y\",\n",
    "        window_size = 5,\n",
    "        null_policy = \"zero\"\n",
    "    ).alias(\"result\")\n",
    ").unnest(\"result\")"
   ]
  },
  {
   "cell_type": "code",
   "execution_count": 20,
   "id": "d8fda8ca-57e7-4e02-a3f0-283ecce66a59",
   "metadata": {},
   "outputs": [
    {
     "data": {
      "text/html": [
       "<div><style>\n",
       ".dataframe > thead > tr,\n",
       ".dataframe > tbody > tr {\n",
       "  text-align: right;\n",
       "  white-space: pre-wrap;\n",
       "}\n",
       "</style>\n",
       "<small>shape: (1, 1)</small><table border=\"1\" class=\"dataframe\"><thead><tr><th>y</th></tr><tr><td>f64</td></tr></thead><tbody><tr><td>-0.0</td></tr></tbody></table></div>"
      ],
      "text/plain": [
       "shape: (1, 1)\n",
       "┌──────┐\n",
       "│ y    │\n",
       "│ ---  │\n",
       "│ f64  │\n",
       "╞══════╡\n",
       "│ -0.0 │\n",
       "└──────┘"
      ]
     },
     "execution_count": 20,
     "metadata": {},
     "output_type": "execute_result"
    }
   ],
   "source": [
    "# Conditional Entropy, should be 0 because x1 is an ID\n",
    "df.select(\n",
    "    pds.query_cond_entropy(\"y\", \"x1\")\n",
    ")"
   ]
  },
  {
   "cell_type": "code",
   "execution_count": 21,
   "id": "81def1cf",
   "metadata": {},
   "outputs": [
    {
     "data": {
      "text/html": [
       "<div><style>\n",
       ".dataframe > thead > tr,\n",
       ".dataframe > tbody > tr {\n",
       "  text-align: right;\n",
       "  white-space: pre-wrap;\n",
       "}\n",
       "</style>\n",
       "<small>shape: (1, 1)</small><table border=\"1\" class=\"dataframe\"><thead><tr><th>a</th></tr><tr><td>list[f64]</td></tr></thead><tbody><tr><td>[29.123781, 28.848938, 28.689624]</td></tr></tbody></table></div>"
      ],
      "text/plain": [
       "shape: (1, 1)\n",
       "┌─────────────────────────────────┐\n",
       "│ a                               │\n",
       "│ ---                             │\n",
       "│ list[f64]                       │\n",
       "╞═════════════════════════════════╡\n",
       "│ [29.123781, 28.848938, 28.6896… │\n",
       "└─────────────────────────────────┘"
      ]
     },
     "execution_count": 21,
     "metadata": {},
     "output_type": "execute_result"
    }
   ],
   "source": [
    "# Only want singular values (principal values?)\n",
    "df.select(\n",
    "    pds.singular_values(\"a\", \"b\", \"x1\")\n",
    ")"
   ]
  },
  {
   "cell_type": "code",
   "execution_count": 22,
   "id": "cc497383",
   "metadata": {},
   "outputs": [
    {
     "data": {
      "text/html": [
       "<div><style>\n",
       ".dataframe > thead > tr,\n",
       ".dataframe > tbody > tr {\n",
       "  text-align: right;\n",
       "  white-space: pre-wrap;\n",
       "}\n",
       "</style>\n",
       "<small>shape: (2, 2)</small><table border=\"1\" class=\"dataframe\"><thead><tr><th>singular_value</th><th>weight_vector</th></tr><tr><td>f64</td><td>list[f64]</td></tr></thead><tbody><tr><td>29.047303</td><td>[0.9709, -0.239487]</td></tr><tr><td>28.82667</td><td>[0.239487, 0.9709]</td></tr></tbody></table></div>"
      ],
      "text/plain": [
       "shape: (2, 2)\n",
       "┌────────────────┬─────────────────────┐\n",
       "│ singular_value ┆ weight_vector       │\n",
       "│ ---            ┆ ---                 │\n",
       "│ f64            ┆ list[f64]           │\n",
       "╞════════════════╪═════════════════════╡\n",
       "│ 29.047303      ┆ [0.9709, -0.239487] │\n",
       "│ 28.82667       ┆ [0.239487, 0.9709]  │\n",
       "└────────────────┴─────────────────────┘"
      ]
     },
     "execution_count": 22,
     "metadata": {},
     "output_type": "execute_result"
    }
   ],
   "source": [
    "# Singular values + The principal components\n",
    "df.select(\n",
    "    pds.pca(\"a\", \"b\")\n",
    ").unnest(\"a\")"
   ]
  },
  {
   "cell_type": "code",
   "execution_count": 23,
   "id": "e047d40a",
   "metadata": {},
   "outputs": [
    {
     "data": {
      "text/html": [
       "<div><style>\n",
       ".dataframe > thead > tr,\n",
       ".dataframe > tbody > tr {\n",
       "  text-align: right;\n",
       "  white-space: pre-wrap;\n",
       "}\n",
       "</style>\n",
       "<small>shape: (5, 1)</small><table border=\"1\" class=\"dataframe\"><thead><tr><th>pc1</th></tr><tr><td>f64</td></tr></thead><tbody><tr><td>-0.316118</td></tr><tr><td>0.535687</td></tr><tr><td>0.012437</td></tr><tr><td>0.546941</td></tr><tr><td>0.469082</td></tr></tbody></table></div>"
      ],
      "text/plain": [
       "shape: (5, 1)\n",
       "┌───────────┐\n",
       "│ pc1       │\n",
       "│ ---       │\n",
       "│ f64       │\n",
       "╞═══════════╡\n",
       "│ -0.316118 │\n",
       "│ 0.535687  │\n",
       "│ 0.012437  │\n",
       "│ 0.546941  │\n",
       "│ 0.469082  │\n",
       "└───────────┘"
      ]
     },
     "execution_count": 23,
     "metadata": {},
     "output_type": "execute_result"
    }
   ],
   "source": [
    "# PC1\n",
    "df.select(\n",
    "    pds.principal_components(\"a\", \"b\", k =1).alias(\"principal_components\")\n",
    ").unnest(\"principal_components\").head()"
   ]
  },
  {
   "cell_type": "markdown",
   "id": "1b2e036f",
   "metadata": {},
   "source": [
    "# ML Metrics"
   ]
  },
  {
   "cell_type": "code",
   "execution_count": 24,
   "id": "85d0d094-3c4c-4230-a589-1027c5690162",
   "metadata": {},
   "outputs": [
    {
     "data": {
      "text/html": [
       "<div><style>\n",
       ".dataframe > thead > tr,\n",
       ".dataframe > tbody > tr {\n",
       "  text-align: right;\n",
       "  white-space: pre-wrap;\n",
       "}\n",
       "</style>\n",
       "<small>shape: (2, 8)</small><table border=\"1\" class=\"dataframe\"><thead><tr><th>dummy_groups</th><th>l2</th><th>log loss</th><th>precision</th><th>recall</th><th>f</th><th>average_precision</th><th>roc_auc</th></tr><tr><td>str</td><td>f64</td><td>f64</td><td>f64</td><td>f64</td><td>f64</td><td>f64</td><td>f64</td></tr></thead><tbody><tr><td>&quot;b&quot;</td><td>0.329661</td><td>0.997781</td><td>0.5</td><td>0.501617</td><td>0.500807</td><td>0.500811</td><td>0.505487</td></tr><tr><td>&quot;a&quot;</td><td>0.338734</td><td>1.021778</td><td>0.486155</td><td>0.501019</td><td>0.493475</td><td>0.478556</td><td>0.490244</td></tr></tbody></table></div>"
      ],
      "text/plain": [
       "shape: (2, 8)\n",
       "┌──────────────┬──────────┬──────────┬───────────┬──────────┬──────────┬────────────────┬──────────┐\n",
       "│ dummy_groups ┆ l2       ┆ log loss ┆ precision ┆ recall   ┆ f        ┆ average_precis ┆ roc_auc  │\n",
       "│ ---          ┆ ---      ┆ ---      ┆ ---       ┆ ---      ┆ ---      ┆ ion            ┆ ---      │\n",
       "│ str          ┆ f64      ┆ f64      ┆ f64       ┆ f64      ┆ f64      ┆ ---            ┆ f64      │\n",
       "│              ┆          ┆          ┆           ┆          ┆          ┆ f64            ┆          │\n",
       "╞══════════════╪══════════╪══════════╪═══════════╪══════════╪══════════╪════════════════╪══════════╡\n",
       "│ b            ┆ 0.329661 ┆ 0.997781 ┆ 0.5       ┆ 0.501617 ┆ 0.500807 ┆ 0.500811       ┆ 0.505487 │\n",
       "│ a            ┆ 0.338734 ┆ 1.021778 ┆ 0.486155  ┆ 0.501019 ┆ 0.493475 ┆ 0.478556       ┆ 0.490244 │\n",
       "└──────────────┴──────────┴──────────┴───────────┴──────────┴──────────┴────────────────┴──────────┘"
      ]
     },
     "execution_count": 24,
     "metadata": {},
     "output_type": "execute_result"
    }
   ],
   "source": [
    "df.group_by(\"dummy_groups\").agg(\n",
    "    pds.query_l2(\"actual\", \"predicted\").alias(\"l2\"),\n",
    "    pds.query_log_loss(\"actual\", \"predicted\").alias(\"log loss\"),\n",
    "    pds.query_binary_metrics(actual=\"actual\", pred=\"predicted\").alias(\"combo\")\n",
    ").unnest(\"combo\")\n"
   ]
  },
  {
   "cell_type": "code",
   "execution_count": null,
   "id": "859391b8",
   "metadata": {},
   "outputs": [],
   "source": []
  },
  {
   "cell_type": "markdown",
   "id": "a8d7c6e3-0f1d-45f0-9fdb-cdb303b98556",
   "metadata": {},
   "source": [
    "# Str Extension"
   ]
  },
  {
   "cell_type": "code",
   "execution_count": 25,
   "id": "54ad36f9-264e-4a49-bf36-936639440edf",
   "metadata": {},
   "outputs": [
    {
     "data": {
      "text/html": [
       "<div><style>\n",
       ".dataframe > thead > tr,\n",
       ".dataframe > tbody > tr {\n",
       "  text-align: right;\n",
       "  white-space: pre-wrap;\n",
       "}\n",
       "</style>\n",
       "<small>shape: (5, 2)</small><table border=\"1\" class=\"dataframe\"><thead><tr><th>sen</th><th>word</th></tr><tr><td>str</td><td>str</td></tr></thead><tbody><tr><td>&quot;Hello, world! I&#x27;m going to chu…</td><td>&quot;words&quot;</td></tr><tr><td>&quot;Hello, world! I&#x27;m going to chu…</td><td>&quot;word&quot;</td></tr><tr><td>&quot;Hello, world! I&#x27;m going to chu…</td><td>&quot;words&quot;</td></tr><tr><td>&quot;Hello, world! I&#x27;m going to chu…</td><td>&quot;word&quot;</td></tr><tr><td>&quot;Hello, world! I&#x27;m going to chu…</td><td>&quot;words&quot;</td></tr></tbody></table></div>"
      ],
      "text/plain": [
       "shape: (5, 2)\n",
       "┌─────────────────────────────────┬───────┐\n",
       "│ sen                             ┆ word  │\n",
       "│ ---                             ┆ ---   │\n",
       "│ str                             ┆ str   │\n",
       "╞═════════════════════════════════╪═══════╡\n",
       "│ Hello, world! I'm going to chu… ┆ words │\n",
       "│ Hello, world! I'm going to chu… ┆ word  │\n",
       "│ Hello, world! I'm going to chu… ┆ words │\n",
       "│ Hello, world! I'm going to chu… ┆ word  │\n",
       "│ Hello, world! I'm going to chu… ┆ words │\n",
       "└─────────────────────────────────┴───────┘"
      ]
     },
     "execution_count": 25,
     "metadata": {},
     "output_type": "execute_result"
    }
   ],
   "source": [
    "size = 100_000\n",
    "df2 = pl.DataFrame({\n",
    "    \"sen\":[\"Hello, world! I'm going to church.\"] * size,\n",
    "    \"word\":[\"words\", \"word\"] * (size //2)\n",
    "})\n",
    "df2.head()"
   ]
  },
  {
   "cell_type": "code",
   "execution_count": 26,
   "id": "69237c02-5f9f-4e92-b68d-6ac43aad1a79",
   "metadata": {},
   "outputs": [
    {
     "data": {
      "text/html": [
       "<div><style>\n",
       ".dataframe > thead > tr,\n",
       ".dataframe > tbody > tr {\n",
       "  text-align: right;\n",
       "  white-space: pre-wrap;\n",
       "}\n",
       "</style>\n",
       "<small>shape: (5, 1)</small><table border=\"1\" class=\"dataframe\"><thead><tr><th>word</th></tr><tr><td>u32</td></tr></thead><tbody><tr><td>2</td></tr><tr><td>1</td></tr><tr><td>2</td></tr><tr><td>1</td></tr><tr><td>2</td></tr></tbody></table></div>"
      ],
      "text/plain": [
       "shape: (5, 1)\n",
       "┌──────┐\n",
       "│ word │\n",
       "│ ---  │\n",
       "│ u32  │\n",
       "╞══════╡\n",
       "│ 2    │\n",
       "│ 1    │\n",
       "│ 2    │\n",
       "│ 1    │\n",
       "│ 2    │\n",
       "└──────┘"
      ]
     },
     "execution_count": 26,
     "metadata": {},
     "output_type": "execute_result"
    }
   ],
   "source": [
    "df2.select(\n",
    "    pds.str_leven(\"word\", pl.lit(\"world\"))\n",
    ").head()"
   ]
  },
  {
   "cell_type": "code",
   "execution_count": 27,
   "id": "2eba320c",
   "metadata": {},
   "outputs": [
    {
     "data": {
      "text/html": [
       "<div><style>\n",
       ".dataframe > thead > tr,\n",
       ".dataframe > tbody > tr {\n",
       "  text-align: right;\n",
       "  white-space: pre-wrap;\n",
       "}\n",
       "</style>\n",
       "<small>shape: (5, 1)</small><table border=\"1\" class=\"dataframe\"><thead><tr><th>word</th></tr><tr><td>u32</td></tr></thead><tbody><tr><td>2</td></tr><tr><td>1</td></tr><tr><td>2</td></tr><tr><td>1</td></tr><tr><td>2</td></tr></tbody></table></div>"
      ],
      "text/plain": [
       "shape: (5, 1)\n",
       "┌──────┐\n",
       "│ word │\n",
       "│ ---  │\n",
       "│ u32  │\n",
       "╞══════╡\n",
       "│ 2    │\n",
       "│ 1    │\n",
       "│ 2    │\n",
       "│ 1    │\n",
       "│ 2    │\n",
       "└──────┘"
      ]
     },
     "execution_count": 27,
     "metadata": {},
     "output_type": "execute_result"
    }
   ],
   "source": [
    "# Damerau-Levenshtein\n",
    "df2.select(\n",
    "    pds.str_d_leven(\"word\", pl.lit(\"world\"))\n",
    ").head()"
   ]
  },
  {
   "cell_type": "code",
   "execution_count": 28,
   "id": "795396dc",
   "metadata": {},
   "outputs": [
    {
     "data": {
      "text/html": [
       "<div><style>\n",
       ".dataframe > thead > tr,\n",
       ".dataframe > tbody > tr {\n",
       "  text-align: right;\n",
       "  white-space: pre-wrap;\n",
       "}\n",
       "</style>\n",
       "<small>shape: (5, 1)</small><table border=\"1\" class=\"dataframe\"><thead><tr><th>word</th></tr><tr><td>f64</td></tr></thead><tbody><tr><td>0.6</td></tr><tr><td>0.8</td></tr><tr><td>0.6</td></tr><tr><td>0.8</td></tr><tr><td>0.6</td></tr></tbody></table></div>"
      ],
      "text/plain": [
       "shape: (5, 1)\n",
       "┌──────┐\n",
       "│ word │\n",
       "│ ---  │\n",
       "│ f64  │\n",
       "╞══════╡\n",
       "│ 0.6  │\n",
       "│ 0.8  │\n",
       "│ 0.6  │\n",
       "│ 0.8  │\n",
       "│ 0.6  │\n",
       "└──────┘"
      ]
     },
     "execution_count": 28,
     "metadata": {},
     "output_type": "execute_result"
    }
   ],
   "source": [
    "df2.select( # column \"word\" vs. the word \"world\"\n",
    "    pds.str_leven(\"word\", pl.lit(\"world\"), return_sim = True)\n",
    ").head()"
   ]
  },
  {
   "cell_type": "code",
   "execution_count": 29,
   "id": "2dad7633-67fa-47f3-b86a-9f4cd097a650",
   "metadata": {},
   "outputs": [
    {
     "data": {
      "text/html": [
       "<div><style>\n",
       ".dataframe > thead > tr,\n",
       ".dataframe > tbody > tr {\n",
       "  text-align: right;\n",
       "  white-space: pre-wrap;\n",
       "}\n",
       "</style>\n",
       "<small>shape: (5, 2)</small><table border=\"1\" class=\"dataframe\"><thead><tr><th>sen</th><th>word</th></tr><tr><td>str</td><td>str</td></tr></thead><tbody><tr><td>&quot;Hello, world! I&#x27;m going to chu…</td><td>&quot;word&quot;</td></tr><tr><td>&quot;Hello, world! I&#x27;m going to chu…</td><td>&quot;word&quot;</td></tr><tr><td>&quot;Hello, world! I&#x27;m going to chu…</td><td>&quot;word&quot;</td></tr><tr><td>&quot;Hello, world! I&#x27;m going to chu…</td><td>&quot;word&quot;</td></tr><tr><td>&quot;Hello, world! I&#x27;m going to chu…</td><td>&quot;word&quot;</td></tr></tbody></table></div>"
      ],
      "text/plain": [
       "shape: (5, 2)\n",
       "┌─────────────────────────────────┬──────┐\n",
       "│ sen                             ┆ word │\n",
       "│ ---                             ┆ ---  │\n",
       "│ str                             ┆ str  │\n",
       "╞═════════════════════════════════╪══════╡\n",
       "│ Hello, world! I'm going to chu… ┆ word │\n",
       "│ Hello, world! I'm going to chu… ┆ word │\n",
       "│ Hello, world! I'm going to chu… ┆ word │\n",
       "│ Hello, world! I'm going to chu… ┆ word │\n",
       "│ Hello, world! I'm going to chu… ┆ word │\n",
       "└─────────────────────────────────┴──────┘"
      ]
     },
     "execution_count": 29,
     "metadata": {},
     "output_type": "execute_result"
    }
   ],
   "source": [
    "df2.filter(\n",
    "    # This is way faster than computing ditance and then doing a filter\n",
    "    pds.filter_by_levenshtein(pl.col(\"word\"), pl.lit(\"world\"), 1) # <= 1. \n",
    ").head()"
   ]
  },
  {
   "cell_type": "code",
   "execution_count": 30,
   "id": "dc9477c1",
   "metadata": {},
   "outputs": [],
   "source": [
    "df = pl.DataFrame({\n",
    "    \"word\":[\"apple\", \"banana\", \"pineapple\", \"asasasas\", \"sasasass\"],\n",
    "    \"other_data\": [1,2,3,4,5]\n",
    "})\n",
    "gibberish = [\"asasasa\", \"sasaaasss\", \"asdasadadfa\"]"
   ]
  },
  {
   "cell_type": "code",
   "execution_count": 31,
   "id": "cf0c0e72",
   "metadata": {},
   "outputs": [
    {
     "data": {
      "text/html": [
       "<div><style>\n",
       ".dataframe > thead > tr,\n",
       ".dataframe > tbody > tr {\n",
       "  text-align: right;\n",
       "  white-space: pre-wrap;\n",
       "}\n",
       "</style>\n",
       "<small>shape: (1, 1)</small><table border=\"1\" class=\"dataframe\"><thead><tr><th>word</th></tr><tr><td>str</td></tr></thead><tbody><tr><td>&quot;banana&quot;</td></tr></tbody></table></div>"
      ],
      "text/plain": [
       "shape: (1, 1)\n",
       "┌────────┐\n",
       "│ word   │\n",
       "│ ---    │\n",
       "│ str    │\n",
       "╞════════╡\n",
       "│ banana │\n",
       "└────────┘"
      ]
     },
     "execution_count": 31,
     "metadata": {},
     "output_type": "execute_result"
    }
   ],
   "source": [
    "df.select(\n",
    "    # Nearest string\n",
    "    pds.str_nearest(\"word\", word = \"banana\")\n",
    ")"
   ]
  },
  {
   "cell_type": "code",
   "execution_count": 32,
   "id": "c50591e0",
   "metadata": {},
   "outputs": [
    {
     "data": {
      "text/html": [
       "<div><style>\n",
       ".dataframe > thead > tr,\n",
       ".dataframe > tbody > tr {\n",
       "  text-align: right;\n",
       "  white-space: pre-wrap;\n",
       "}\n",
       "</style>\n",
       "<small>shape: (2, 2)</small><table border=\"1\" class=\"dataframe\"><thead><tr><th>word</th><th>other_data</th></tr><tr><td>str</td><td>i64</td></tr></thead><tbody><tr><td>&quot;asasasas&quot;</td><td>4</td></tr><tr><td>&quot;sasasass&quot;</td><td>5</td></tr></tbody></table></div>"
      ],
      "text/plain": [
       "shape: (2, 2)\n",
       "┌──────────┬────────────┐\n",
       "│ word     ┆ other_data │\n",
       "│ ---      ┆ ---        │\n",
       "│ str      ┆ i64        │\n",
       "╞══════════╪════════════╡\n",
       "│ asasasas ┆ 4          │\n",
       "│ sasasass ┆ 5          │\n",
       "└──────────┴────────────┘"
      ]
     },
     "execution_count": 32,
     "metadata": {},
     "output_type": "execute_result"
    }
   ],
   "source": [
    "df.filter(\n",
    "    # Filters to words that are similar to any word in vocab\n",
    "    pds.similar_to_vocab(\n",
    "        pl.col(\"word\"),\n",
    "        vocab = gibberish,\n",
    "        threshold = 0.5,\n",
    "        metric = \"lv\", # Levenshtein similarity. Other options: dleven, osa, jw\n",
    "        strategy = \"any\" # True if the word is similar to any word in vocab. Other options: \"all\", \"avg\"\n",
    "    )\n",
    ")"
   ]
  },
  {
   "cell_type": "code",
   "execution_count": 33,
   "id": "7ece3794",
   "metadata": {},
   "outputs": [
    {
     "data": {
      "text/html": [
       "<div><style>\n",
       ".dataframe > thead > tr,\n",
       ".dataframe > tbody > tr {\n",
       "  text-align: right;\n",
       "  white-space: pre-wrap;\n",
       "}\n",
       "</style>\n",
       "<small>shape: (5, 6)</small><table border=\"1\" class=\"dataframe\"><thead><tr><th>asasasa</th><th>sasaaasss</th><th>asdasadadfa</th><th>LCS based Fuzz match - apples</th><th>Optimal String Alignment - apples</th><th>Jaro-Winkler - apples</th></tr><tr><td>f64</td><td>f64</td><td>f64</td><td>f64</td><td>f64</td><td>f64</td></tr></thead><tbody><tr><td>0.142857</td><td>0.111111</td><td>0.090909</td><td>0.833333</td><td>0.833333</td><td>0.966667</td></tr><tr><td>0.428571</td><td>0.333333</td><td>0.272727</td><td>0.166667</td><td>0.0</td><td>0.444444</td></tr><tr><td>0.111111</td><td>0.111111</td><td>0.090909</td><td>0.555556</td><td>0.444444</td><td>0.5</td></tr><tr><td>0.875</td><td>0.666667</td><td>0.545455</td><td>0.25</td><td>0.25</td><td>0.527778</td></tr><tr><td>0.75</td><td>0.777778</td><td>0.454545</td><td>0.25</td><td>0.25</td><td>0.527778</td></tr></tbody></table></div>"
      ],
      "text/plain": [
       "shape: (5, 6)\n",
       "┌──────────┬───────────┬─────────────┬────────────────┬──────────────────┬─────────────────────────┐\n",
       "│ asasasa  ┆ sasaaasss ┆ asdasadadfa ┆ LCS based Fuzz ┆ Optimal String   ┆ Jaro-Winkler - apples   │\n",
       "│ ---      ┆ ---       ┆ ---         ┆ match - apples ┆ Alignment - app… ┆ ---                     │\n",
       "│ f64      ┆ f64       ┆ f64         ┆ ---            ┆ ---              ┆ f64                     │\n",
       "│          ┆           ┆             ┆ f64            ┆ f64              ┆                         │\n",
       "╞══════════╪═══════════╪═════════════╪════════════════╪══════════════════╪═════════════════════════╡\n",
       "│ 0.142857 ┆ 0.111111  ┆ 0.090909    ┆ 0.833333       ┆ 0.833333         ┆ 0.966667                │\n",
       "│ 0.428571 ┆ 0.333333  ┆ 0.272727    ┆ 0.166667       ┆ 0.0              ┆ 0.444444                │\n",
       "│ 0.111111 ┆ 0.111111  ┆ 0.090909    ┆ 0.555556       ┆ 0.444444         ┆ 0.5                     │\n",
       "│ 0.875    ┆ 0.666667  ┆ 0.545455    ┆ 0.25           ┆ 0.25             ┆ 0.527778                │\n",
       "│ 0.75     ┆ 0.777778  ┆ 0.454545    ┆ 0.25           ┆ 0.25             ┆ 0.527778                │\n",
       "└──────────┴───────────┴─────────────┴────────────────┴──────────────────┴─────────────────────────┘"
      ]
     },
     "execution_count": 33,
     "metadata": {},
     "output_type": "execute_result"
    }
   ],
   "source": [
    "df.select(\n",
    "    pds.str_leven(\"word\", pl.lit(\"asasasa\"), return_sim=True).alias(\"asasasa\"),\n",
    "    pds.str_leven(\"word\", pl.lit(\"sasaaasss\"), return_sim=True).alias(\"sasaaasss\"),\n",
    "    pds.str_leven(\"word\", pl.lit(\"asdasadadfa\"), return_sim=True).alias(\"asdasadadfa\"),\n",
    "    pds.str_fuzz(\"word\", pl.lit(\"apples\")).alias(\"LCS based Fuzz match - apples\"),\n",
    "    pds.str_osa(\"word\", pl.lit(\"apples\"), return_sim=True).alias(\"Optimal String Alignment - apples\"),\n",
    "    pds.str_jw(\"word\", pl.lit(\"apples\")).alias(\"Jaro-Winkler - apples\"),\n",
    ")\n"
   ]
  },
  {
   "cell_type": "markdown",
   "id": "7aa2a0b3",
   "metadata": {},
   "source": []
  },
  {
   "cell_type": "markdown",
   "id": "8841f2a1",
   "metadata": {},
   "source": [
    "# Stats Extension"
   ]
  },
  {
   "cell_type": "code",
   "execution_count": 34,
   "id": "2c6171b0",
   "metadata": {},
   "outputs": [
    {
     "data": {
      "text/html": [
       "<div><style>\n",
       ".dataframe > thead > tr,\n",
       ".dataframe > tbody > tr {\n",
       "  text-align: right;\n",
       "  white-space: pre-wrap;\n",
       "}\n",
       "</style>\n",
       "<small>shape: (5, 1)</small><table border=\"1\" class=\"dataframe\"><thead><tr><th>a</th></tr><tr><td>f64</td></tr></thead><tbody><tr><td>null</td></tr><tr><td>null</td></tr><tr><td>0.297652</td></tr><tr><td>-1.085844</td></tr><tr><td>1.623945</td></tr></tbody></table></div>"
      ],
      "text/plain": [
       "shape: (5, 1)\n",
       "┌───────────┐\n",
       "│ a         │\n",
       "│ ---       │\n",
       "│ f64       │\n",
       "╞═══════════╡\n",
       "│ null      │\n",
       "│ null      │\n",
       "│ 0.297652  │\n",
       "│ -1.085844 │\n",
       "│ 1.623945  │\n",
       "└───────────┘"
      ]
     },
     "execution_count": 34,
     "metadata": {},
     "output_type": "execute_result"
    }
   ],
   "source": [
    "import numpy as np\n",
    "\n",
    "df = pl.DataFrame({\n",
    "    \"a\": [None, None] + list(np.random.normal(size = 998))\n",
    "})\n",
    "df.head()"
   ]
  },
  {
   "cell_type": "code",
   "execution_count": 35,
   "id": "2f6e7445",
   "metadata": {},
   "outputs": [
    {
     "data": {
      "text/html": [
       "<div><style>\n",
       ".dataframe > thead > tr,\n",
       ".dataframe > tbody > tr {\n",
       "  text-align: right;\n",
       "  white-space: pre-wrap;\n",
       "}\n",
       "</style>\n",
       "<small>shape: (5, 3)</small><table border=\"1\" class=\"dataframe\"><thead><tr><th>a</th><th>random_normal</th><th>random_normal_that_respects_null_of_a</th></tr><tr><td>f64</td><td>f64</td><td>f64</td></tr></thead><tbody><tr><td>null</td><td>-0.581644</td><td>null</td></tr><tr><td>null</td><td>0.731812</td><td>null</td></tr><tr><td>0.297652</td><td>-0.133626</td><td>-0.916043</td></tr><tr><td>-1.085844</td><td>-0.685907</td><td>1.876444</td></tr><tr><td>1.623945</td><td>0.149713</td><td>0.4434</td></tr></tbody></table></div>"
      ],
      "text/plain": [
       "shape: (5, 3)\n",
       "┌───────────┬───────────────┬─────────────────────────────────┐\n",
       "│ a         ┆ random_normal ┆ random_normal_that_respects_nu… │\n",
       "│ ---       ┆ ---           ┆ ---                             │\n",
       "│ f64       ┆ f64           ┆ f64                             │\n",
       "╞═══════════╪═══════════════╪═════════════════════════════════╡\n",
       "│ null      ┆ -0.581644     ┆ null                            │\n",
       "│ null      ┆ 0.731812      ┆ null                            │\n",
       "│ 0.297652  ┆ -0.133626     ┆ -0.916043                       │\n",
       "│ -1.085844 ┆ -0.685907     ┆ 1.876444                        │\n",
       "│ 1.623945  ┆ 0.149713      ┆ 0.4434                          │\n",
       "└───────────┴───────────────┴─────────────────────────────────┘"
      ]
     },
     "execution_count": 35,
     "metadata": {},
     "output_type": "execute_result"
    }
   ],
   "source": [
    "# Genenrate random numbers, respecting null positions in reference column (pl.col(\"a\"))\n",
    "df.with_columns(\n",
    "    pds.random_normal(mean = 0.5, std = 1.0).alias(\"random_normal\"),\n",
    "    pl.when(pl.col(\"a\").is_null()).then(None).otherwise(\n",
    "        pds.random_normal(mean = 0.5, std = 1.0).alias(\"random_normal\")\n",
    "    ).alias(\"random_normal_that_respects_null_of_a\")\n",
    ").head()"
   ]
  },
  {
   "cell_type": "code",
   "execution_count": 36,
   "id": "11e13f55",
   "metadata": {},
   "outputs": [
    {
     "data": {
      "text/html": [
       "<div><style>\n",
       ".dataframe > thead > tr,\n",
       ".dataframe > tbody > tr {\n",
       "  text-align: right;\n",
       "  white-space: pre-wrap;\n",
       "}\n",
       "</style>\n",
       "<small>shape: (5, 3)</small><table border=\"1\" class=\"dataframe\"><thead><tr><th>a</th><th>random_str</th><th>random_str_that_respects_null_of_a</th></tr><tr><td>f64</td><td>str</td><td>str</td></tr></thead><tbody><tr><td>null</td><td>&quot;Jld&quot;</td><td>null</td></tr><tr><td>null</td><td>&quot;d0Xpa&quot;</td><td>null</td></tr><tr><td>0.297652</td><td>&quot;DV&quot;</td><td>&quot;f8&quot;</td></tr><tr><td>-1.085844</td><td>&quot;Nb&quot;</td><td>&quot;p&quot;</td></tr><tr><td>1.623945</td><td>&quot;H80o&quot;</td><td>&quot;y&quot;</td></tr></tbody></table></div>"
      ],
      "text/plain": [
       "shape: (5, 3)\n",
       "┌───────────┬────────────┬─────────────────────────────────┐\n",
       "│ a         ┆ random_str ┆ random_str_that_respects_null_… │\n",
       "│ ---       ┆ ---        ┆ ---                             │\n",
       "│ f64       ┆ str        ┆ str                             │\n",
       "╞═══════════╪════════════╪═════════════════════════════════╡\n",
       "│ null      ┆ Jld        ┆ null                            │\n",
       "│ null      ┆ d0Xpa      ┆ null                            │\n",
       "│ 0.297652  ┆ DV         ┆ f8                              │\n",
       "│ -1.085844 ┆ Nb         ┆ p                               │\n",
       "│ 1.623945  ┆ H80o       ┆ y                               │\n",
       "└───────────┴────────────┴─────────────────────────────────┘"
      ]
     },
     "execution_count": 36,
     "metadata": {},
     "output_type": "execute_result"
    }
   ],
   "source": [
    "# Genenrate random string\n",
    "df.with_columns(\n",
    "    pds.random_str(min_size = 1, max_size = 5).alias(\"random_str\"),\n",
    "    pl.when(pl.col(\"a\").is_null()).then(None).otherwise(\n",
    "        pds.random_str(min_size = 1, max_size = 5)\n",
    "    ).alias(\"random_str_that_respects_null_of_a\")\n",
    ").head()"
   ]
  },
  {
   "cell_type": "code",
   "execution_count": 37,
   "id": "43c37394",
   "metadata": {},
   "outputs": [
    {
     "data": {
      "text/html": [
       "<div><style>\n",
       ".dataframe > thead > tr,\n",
       ".dataframe > tbody > tr {\n",
       "  text-align: right;\n",
       "  white-space: pre-wrap;\n",
       "}\n",
       "</style>\n",
       "<small>shape: (5, 2)</small><table border=\"1\" class=\"dataframe\"><thead><tr><th>a</th><th>random_str</th></tr><tr><td>f64</td><td>str</td></tr></thead><tbody><tr><td>null</td><td>null</td></tr><tr><td>null</td><td>null</td></tr><tr><td>0.297652</td><td>&quot;8InwE&quot;</td></tr><tr><td>-1.085844</td><td>&quot;ByGh8&quot;</td></tr><tr><td>1.623945</td><td>&quot;s8v53&quot;</td></tr></tbody></table></div>"
      ],
      "text/plain": [
       "shape: (5, 2)\n",
       "┌───────────┬────────────┐\n",
       "│ a         ┆ random_str │\n",
       "│ ---       ┆ ---        │\n",
       "│ f64       ┆ str        │\n",
       "╞═══════════╪════════════╡\n",
       "│ null      ┆ null       │\n",
       "│ null      ┆ null       │\n",
       "│ 0.297652  ┆ 8InwE      │\n",
       "│ -1.085844 ┆ ByGh8      │\n",
       "│ 1.623945  ┆ s8v53      │\n",
       "└───────────┴────────────┘"
      ]
     },
     "execution_count": 37,
     "metadata": {},
     "output_type": "execute_result"
    }
   ],
   "source": [
    "# Genenrate fixed size random string, while respecting column a's nulls\n",
    "df.with_columns(\n",
    "    pl.when(pl.col(\"a\").is_null()).then(None).otherwise(\n",
    "        pds.random_str(min_size = 5, max_size = 5)\n",
    "    ).alias(\"random_str\")\n",
    ").head()"
   ]
  },
  {
   "cell_type": "code",
   "execution_count": 38,
   "id": "3d0c06a4",
   "metadata": {},
   "outputs": [
    {
     "data": {
      "text/html": [
       "<div><style>\n",
       ".dataframe > thead > tr,\n",
       ".dataframe > tbody > tr {\n",
       "  text-align: right;\n",
       "  white-space: pre-wrap;\n",
       "}\n",
       "</style>\n",
       "<small>shape: (5, 4)</small><table border=\"1\" class=\"dataframe\"><thead><tr><th>a</th><th>test1</th><th>literal</th><th>test1_perturbed</th></tr><tr><td>f64</td><td>f64</td><td>f64</td><td>f64</td></tr></thead><tbody><tr><td>null</td><td>0.079325</td><td>null</td><td>0.078981</td></tr><tr><td>null</td><td>-0.735392</td><td>null</td><td>-0.735726</td></tr><tr><td>0.297652</td><td>-0.534527</td><td>2.460246</td><td>-0.534622</td></tr><tr><td>-1.085844</td><td>0.341939</td><td>0.794185</td><td>0.341735</td></tr><tr><td>1.623945</td><td>-1.252153</td><td>0.312352</td><td>-1.252385</td></tr></tbody></table></div>"
      ],
      "text/plain": [
       "shape: (5, 4)\n",
       "┌───────────┬───────────┬──────────┬─────────────────┐\n",
       "│ a         ┆ test1     ┆ literal  ┆ test1_perturbed │\n",
       "│ ---       ┆ ---       ┆ ---      ┆ ---             │\n",
       "│ f64       ┆ f64       ┆ f64      ┆ f64             │\n",
       "╞═══════════╪═══════════╪══════════╪═════════════════╡\n",
       "│ null      ┆ 0.079325  ┆ null     ┆ 0.078981        │\n",
       "│ null      ┆ -0.735392 ┆ null     ┆ -0.735726       │\n",
       "│ 0.297652  ┆ -0.534527 ┆ 2.460246 ┆ -0.534622       │\n",
       "│ -1.085844 ┆ 0.341939  ┆ 0.794185 ┆ 0.341735        │\n",
       "│ 1.623945  ┆ -1.252153 ┆ 0.312352 ┆ -1.252385       │\n",
       "└───────────┴───────────┴──────────┴─────────────────┘"
      ]
     },
     "execution_count": 38,
     "metadata": {},
     "output_type": "execute_result"
    }
   ],
   "source": [
    "df.with_columns(\n",
    "    # Sample from a normal distribution, using reference column \"a\" 's mean and std\n",
    "    pds.random_normal(pl.col(\"a\").mean(), pl.col(\"a\").std()).alias(\"test1\") \n",
    "    # Sample from uniform distribution, with low = 0 and high = \"a\"'s max, and respect the nulls in \"a\"\n",
    "    , pl.when(pl.col(\"a\").is_null()).then(None).otherwise(\n",
    "        pds.random(lower = 0., upper = pl.col(\"a\").max()).alias(\"test2\")\n",
    "    )\n",
    ").with_columns(\n",
    "    # Add a random pertubation to test1\n",
    "    pds.perturb(\"test1\", epsilon=0.001).alias(\"test1_perturbed\")\n",
    ").head()"
   ]
  },
  {
   "cell_type": "code",
   "execution_count": 39,
   "id": "67dc6583",
   "metadata": {},
   "outputs": [
    {
     "data": {
      "text/html": [
       "<div><style>\n",
       ".dataframe > thead > tr,\n",
       ".dataframe > tbody > tr {\n",
       "  text-align: right;\n",
       "  white-space: pre-wrap;\n",
       "}\n",
       "</style>\n",
       "<small>shape: (5, 4)</small><table border=\"1\" class=\"dataframe\"><thead><tr><th>a</th><th>[0, 1)</th><th>Normal</th><th>Int from [0, 10)</th></tr><tr><td>f64</td><td>f64</td><td>f64</td><td>i32</td></tr></thead><tbody><tr><td>null</td><td>0.377581</td><td>-0.291951</td><td>5</td></tr><tr><td>null</td><td>0.158476</td><td>-2.229577</td><td>1</td></tr><tr><td>0.297652</td><td>0.375157</td><td>0.224972</td><td>1</td></tr><tr><td>-1.085844</td><td>0.971395</td><td>0.16292</td><td>3</td></tr><tr><td>1.623945</td><td>0.627268</td><td>1.558509</td><td>7</td></tr></tbody></table></div>"
      ],
      "text/plain": [
       "shape: (5, 4)\n",
       "┌───────────┬──────────┬───────────┬──────────────────┐\n",
       "│ a         ┆ [0, 1)   ┆ Normal    ┆ Int from [0, 10) │\n",
       "│ ---       ┆ ---      ┆ ---       ┆ ---              │\n",
       "│ f64       ┆ f64      ┆ f64       ┆ i32              │\n",
       "╞═══════════╪══════════╪═══════════╪══════════════════╡\n",
       "│ null      ┆ 0.377581 ┆ -0.291951 ┆ 5                │\n",
       "│ null      ┆ 0.158476 ┆ -2.229577 ┆ 1                │\n",
       "│ 0.297652  ┆ 0.375157 ┆ 0.224972  ┆ 1                │\n",
       "│ -1.085844 ┆ 0.971395 ┆ 0.16292   ┆ 3                │\n",
       "│ 1.623945  ┆ 0.627268 ┆ 1.558509  ┆ 7                │\n",
       "└───────────┴──────────┴───────────┴──────────────────┘"
      ]
     },
     "execution_count": 39,
     "metadata": {},
     "output_type": "execute_result"
    }
   ],
   "source": [
    "# New in v0.3.5\n",
    "# This way, we don't have a reference column, so we cannot respect nulls, but is more convenient to use.\n",
    "df.with_columns(\n",
    "    pds.random().alias(\"[0, 1)\"),\n",
    "    pds.random_normal(pl.col(\"a\").mean(), pl.col(\"a\").std()).alias(\"Normal\"),\n",
    "    pds.random_int(0, 10).alias(\"Int from [0, 10)\"),\n",
    ").head()"
   ]
  },
  {
   "cell_type": "code",
   "execution_count": 40,
   "id": "7b63f636",
   "metadata": {},
   "outputs": [
    {
     "data": {
      "text/html": [
       "<div><style>\n",
       ".dataframe > thead > tr,\n",
       ".dataframe > tbody > tr {\n",
       "  text-align: right;\n",
       "  white-space: pre-wrap;\n",
       "}\n",
       "</style>\n",
       "<small>shape: (1, 4)</small><table border=\"1\" class=\"dataframe\"><thead><tr><th>t-tests: statistics</th><th>t-tests: pvalue</th><th>normality_test: statistics</th><th>normality_test: pvalue</th></tr><tr><td>f64</td><td>f64</td><td>f64</td><td>f64</td></tr></thead><tbody><tr><td>-1.727544</td><td>0.084277</td><td>2.140865</td><td>0.34286</td></tr></tbody></table></div>"
      ],
      "text/plain": [
       "shape: (1, 4)\n",
       "┌─────────────────────┬─────────────────┬────────────────────────────┬────────────────────────┐\n",
       "│ t-tests: statistics ┆ t-tests: pvalue ┆ normality_test: statistics ┆ normality_test: pvalue │\n",
       "│ ---                 ┆ ---             ┆ ---                        ┆ ---                    │\n",
       "│ f64                 ┆ f64             ┆ f64                        ┆ f64                    │\n",
       "╞═════════════════════╪═════════════════╪════════════════════════════╪════════════════════════╡\n",
       "│ -1.727544           ┆ 0.084277        ┆ 2.140865                   ┆ 0.34286                │\n",
       "└─────────────────────┴─────────────────┴────────────────────────────┴────────────────────────┘"
      ]
     },
     "execution_count": 40,
     "metadata": {},
     "output_type": "execute_result"
    }
   ],
   "source": [
    "# Genenrate 2 random sample, both normally distributed\n",
    "# Run Welch's t test on them, p value should be big since they have equal mean\n",
    "# Run a normality test. Again, p value should be big since they are normally distributed \n",
    "\n",
    "df.with_columns(\n",
    "    pds.random_normal(0.5, 1.0).alias(\"test1\"),\n",
    "    pds.random_normal(0.5, 2.0).alias(\"test2\"),\n",
    ").select(\n",
    "    pds.ttest_ind(\"test1\", \"test2\", equal_var=False).alias(\"t-test\"),\n",
    "    pds.normal_test(\"test1\").alias(\"normality_test\")\n",
    ").select(\n",
    "    pl.col(\"t-test\").struct.field(\"statistic\").alias(\"t-tests: statistics\")\n",
    "    , pl.col(\"t-test\").struct.field(\"pvalue\").alias(\"t-tests: pvalue\")\n",
    "    , pl.col(\"normality_test\").struct.field(\"statistic\").alias(\"normality_test: statistics\")\n",
    "    , pl.col(\"normality_test\").struct.field(\"pvalue\").alias(\"normality_test: pvalue\")\n",
    ")"
   ]
  },
  {
   "cell_type": "code",
   "execution_count": 41,
   "id": "b46a72a5",
   "metadata": {},
   "outputs": [
    {
     "data": {
      "text/html": [
       "<div><style>\n",
       ".dataframe > thead > tr,\n",
       ".dataframe > tbody > tr {\n",
       "  text-align: right;\n",
       "  white-space: pre-wrap;\n",
       "}\n",
       "</style>\n",
       "<small>shape: (5, 5)</small><table border=\"1\" class=\"dataframe\"><thead><tr><th>market_id</th><th>var1</th><th>var2</th><th>category_1</th><th>category_2</th></tr><tr><td>i64</td><td>f64</td><td>f64</td><td>i32</td><td>i32</td></tr></thead><tbody><tr><td>0</td><td>0.225594</td><td>0.429516</td><td>2</td><td>0</td></tr><tr><td>1</td><td>0.328704</td><td>0.081412</td><td>0</td><td>8</td></tr><tr><td>2</td><td>0.877838</td><td>0.517795</td><td>1</td><td>4</td></tr><tr><td>0</td><td>0.096504</td><td>0.143272</td><td>1</td><td>7</td></tr><tr><td>1</td><td>0.910098</td><td>0.856956</td><td>1</td><td>4</td></tr></tbody></table></div>"
      ],
      "text/plain": [
       "shape: (5, 5)\n",
       "┌───────────┬──────────┬──────────┬────────────┬────────────┐\n",
       "│ market_id ┆ var1     ┆ var2     ┆ category_1 ┆ category_2 │\n",
       "│ ---       ┆ ---      ┆ ---      ┆ ---        ┆ ---        │\n",
       "│ i64       ┆ f64      ┆ f64      ┆ i32        ┆ i32        │\n",
       "╞═══════════╪══════════╪══════════╪════════════╪════════════╡\n",
       "│ 0         ┆ 0.225594 ┆ 0.429516 ┆ 2          ┆ 0          │\n",
       "│ 1         ┆ 0.328704 ┆ 0.081412 ┆ 0          ┆ 8          │\n",
       "│ 2         ┆ 0.877838 ┆ 0.517795 ┆ 1          ┆ 4          │\n",
       "│ 0         ┆ 0.096504 ┆ 0.143272 ┆ 1          ┆ 7          │\n",
       "│ 1         ┆ 0.910098 ┆ 0.856956 ┆ 1          ┆ 4          │\n",
       "└───────────┴──────────┴──────────┴────────────┴────────────┘"
      ]
     },
     "execution_count": 41,
     "metadata": {},
     "output_type": "execute_result"
    }
   ],
   "source": [
    "size = 5_000\n",
    "df = pl.DataFrame({\n",
    "    \"market_id\": range(size),\n",
    "}).with_columns(\n",
    "    pl.col(\"market_id\").mod(3),\n",
    "    var1 = pds.random(),\n",
    "    var2 = pds.random(),\n",
    "    category_1 = pds.random_int(0, 5),\n",
    "    category_2 = pds.random_int(0, 10),\n",
    ")\n",
    "\n",
    "df.head(5)"
   ]
  },
  {
   "cell_type": "code",
   "execution_count": 42,
   "id": "adc4f66f",
   "metadata": {},
   "outputs": [
    {
     "data": {
      "text/html": [
       "<div><style>\n",
       ".dataframe > thead > tr,\n",
       ".dataframe > tbody > tr {\n",
       "  text-align: right;\n",
       "  white-space: pre-wrap;\n",
       "}\n",
       "</style>\n",
       "<small>shape: (1, 3)</small><table border=\"1\" class=\"dataframe\"><thead><tr><th>t-test</th><th>chi2-test</th><th>f-test</th></tr><tr><td>struct[2]</td><td>struct[2]</td><td>struct[2]</td></tr></thead><tbody><tr><td>{-0.286603,0.774422}</td><td>{38.761962,0.346159}</td><td>{1.61827,0.166679}</td></tr></tbody></table></div>"
      ],
      "text/plain": [
       "shape: (1, 3)\n",
       "┌──────────────────────┬──────────────────────┬────────────────────┐\n",
       "│ t-test               ┆ chi2-test            ┆ f-test             │\n",
       "│ ---                  ┆ ---                  ┆ ---                │\n",
       "│ struct[2]            ┆ struct[2]            ┆ struct[2]          │\n",
       "╞══════════════════════╪══════════════════════╪════════════════════╡\n",
       "│ {-0.286603,0.774422} ┆ {38.761962,0.346159} ┆ {1.61827,0.166679} │\n",
       "└──────────────────────┴──────────────────────┴────────────────────┘"
      ]
     },
     "execution_count": 42,
     "metadata": {},
     "output_type": "execute_result"
    }
   ],
   "source": [
    "# In dataframe statistical tests!\n",
    "df.select(\n",
    "    pds.ttest_ind(\"var1\", \"var2\", equal_var=True).alias(\"t-test\"),\n",
    "    pds.chi2(\"category_1\", \"category_2\").alias(\"chi2-test\"),\n",
    "    pds.f_test(\"var1\", group = \"category_1\").alias(\"f-test\")\n",
    ")"
   ]
  },
  {
   "cell_type": "code",
   "execution_count": 43,
   "id": "65dbb6bd",
   "metadata": {},
   "outputs": [
    {
     "name": "stdout",
     "output_type": "stream",
     "text": [
      "shape: (3, 4)\n",
      "┌───────────┬─────────────────────┬──────────────────────┬─────────────────────┐\n",
      "│ market_id ┆ t-test              ┆ chi2-test            ┆ f-test              │\n",
      "│ ---       ┆ ---                 ┆ ---                  ┆ ---                 │\n",
      "│ i64       ┆ struct[2]           ┆ struct[2]            ┆ struct[2]           │\n",
      "╞═══════════╪═════════════════════╪══════════════════════╪═════════════════════╡\n",
      "│ 0         ┆ {-2.179,0.029402}   ┆ {26.677158,0.870887} ┆ {1.656147,0.157663} │\n",
      "│ 1         ┆ {0.715089,0.474604} ┆ {38.900734,0.340448} ┆ {0.493891,0.740251} │\n",
      "│ 2         ┆ {0.962678,0.335779} ┆ {50.352682,0.056579} ┆ {0.934368,0.442981} │\n",
      "└───────────┴─────────────────────┴──────────────────────┴─────────────────────┘\n"
     ]
    }
   ],
   "source": [
    "# Can also be done in group by context\n",
    "print(\n",
    "    df.group_by(\"market_id\").agg(\n",
    "        pds.ttest_ind(\"var1\", \"var2\", equal_var=False).alias(\"t-test\"),\n",
    "        pds.chi2(\"category_1\", \"category_2\").alias(\"chi2-test\"),\n",
    "        pds.f_test(\"var1\", group = \"category_1\").alias(\"f-test\")\n",
    "    )\n",
    ")"
   ]
  },
  {
   "cell_type": "code",
   "execution_count": 44,
   "id": "843d54c5",
   "metadata": {},
   "outputs": [
    {
     "data": {
      "text/html": [
       "<div><style>\n",
       ".dataframe > thead > tr,\n",
       ".dataframe > tbody > tr {\n",
       "  text-align: right;\n",
       "  white-space: pre-wrap;\n",
       "}\n",
       "</style>\n",
       "<small>shape: (9, 2)</small><table border=\"1\" class=\"dataframe\"><thead><tr><th>first_digit_cnt</th><th>first_digit_distribution</th></tr><tr><td>u32</td><td>f64</td></tr></thead><tbody><tr><td>567</td><td>0.1134</td></tr><tr><td>538</td><td>0.1076</td></tr><tr><td>561</td><td>0.1122</td></tr><tr><td>576</td><td>0.1152</td></tr><tr><td>589</td><td>0.1178</td></tr><tr><td>574</td><td>0.1148</td></tr><tr><td>565</td><td>0.113</td></tr><tr><td>513</td><td>0.1026</td></tr><tr><td>517</td><td>0.1034</td></tr></tbody></table></div>"
      ],
      "text/plain": [
       "shape: (9, 2)\n",
       "┌─────────────────┬──────────────────────────┐\n",
       "│ first_digit_cnt ┆ first_digit_distribution │\n",
       "│ ---             ┆ ---                      │\n",
       "│ u32             ┆ f64                      │\n",
       "╞═════════════════╪══════════════════════════╡\n",
       "│ 567             ┆ 0.1134                   │\n",
       "│ 538             ┆ 0.1076                   │\n",
       "│ 561             ┆ 0.1122                   │\n",
       "│ 576             ┆ 0.1152                   │\n",
       "│ 589             ┆ 0.1178                   │\n",
       "│ 574             ┆ 0.1148                   │\n",
       "│ 565             ┆ 0.113                    │\n",
       "│ 513             ┆ 0.1026                   │\n",
       "│ 517             ┆ 0.1034                   │\n",
       "└─────────────────┴──────────────────────────┘"
      ]
     },
     "execution_count": 44,
     "metadata": {},
     "output_type": "execute_result"
    }
   ],
   "source": [
    "# Benford's law\n",
    "df.select(\n",
    "    first_digit_cnt = pds.query_first_digit_cnt(pl.col(\"var1\")).explode()\n",
    ").with_columns(\n",
    "    # This doesn't follow benford's law because it is random data\n",
    "    first_digit_distribution = pl.col(\"first_digit_cnt\") / pl.col(\"first_digit_cnt\").sum()\n",
    ")"
   ]
  },
  {
   "cell_type": "markdown",
   "id": "b232e4d7",
   "metadata": {},
   "source": [
    "# Nearest Neighbors Related Tasks\n",
    "\n",
    "These queries can be very slow when data/dimension gets huge, even when processed in parallel."
   ]
  },
  {
   "cell_type": "code",
   "execution_count": 45,
   "id": "87aff1ef",
   "metadata": {},
   "outputs": [],
   "source": [
    "import polars_ds as pds\n",
    "size = 2000\n",
    "df = pl.DataFrame({\n",
    "    \"id\": range(size), \n",
    "}).with_columns(\n",
    "    pds.random().alias(\"var1\"),\n",
    "    pds.random().alias(\"var2\"),\n",
    "    pds.random().alias(\"var3\"),\n",
    "    pds.random().alias(\"r\"),\n",
    "    (pds.random() * 10).alias(\"rh\"),\n",
    "    pl.col(\"id\").cast(pl.UInt32)\n",
    ")"
   ]
  },
  {
   "cell_type": "code",
   "execution_count": 46,
   "id": "2fae4b5e",
   "metadata": {},
   "outputs": [
    {
     "data": {
      "text/html": [
       "<div><style>\n",
       ".dataframe > thead > tr,\n",
       ".dataframe > tbody > tr {\n",
       "  text-align: right;\n",
       "  white-space: pre-wrap;\n",
       "}\n",
       "</style>\n",
       "<small>shape: (5, 7)</small><table border=\"1\" class=\"dataframe\"><thead><tr><th>id</th><th>var1</th><th>var2</th><th>var3</th><th>r</th><th>rh</th><th>nb_l_inf_cnt</th></tr><tr><td>u32</td><td>f64</td><td>f64</td><td>f64</td><td>f64</td><td>f64</td><td>u32</td></tr></thead><tbody><tr><td>0</td><td>0.579134</td><td>0.329014</td><td>0.84423</td><td>0.056414</td><td>5.167237</td><td>18</td></tr><tr><td>1</td><td>0.136451</td><td>0.115837</td><td>0.743302</td><td>0.684414</td><td>6.663641</td><td>16</td></tr><tr><td>2</td><td>0.858462</td><td>0.671112</td><td>0.379695</td><td>0.323486</td><td>8.680795</td><td>20</td></tr><tr><td>3</td><td>0.362156</td><td>0.541902</td><td>0.985665</td><td>0.265312</td><td>0.041498</td><td>15</td></tr><tr><td>4</td><td>0.411226</td><td>0.753546</td><td>0.811137</td><td>0.201864</td><td>6.942092</td><td>14</td></tr></tbody></table></div>"
      ],
      "text/plain": [
       "shape: (5, 7)\n",
       "┌─────┬──────────┬──────────┬──────────┬──────────┬──────────┬──────────────┐\n",
       "│ id  ┆ var1     ┆ var2     ┆ var3     ┆ r        ┆ rh       ┆ nb_l_inf_cnt │\n",
       "│ --- ┆ ---      ┆ ---      ┆ ---      ┆ ---      ┆ ---      ┆ ---          │\n",
       "│ u32 ┆ f64      ┆ f64      ┆ f64      ┆ f64      ┆ f64      ┆ u32          │\n",
       "╞═════╪══════════╪══════════╪══════════╪══════════╪══════════╪══════════════╡\n",
       "│ 0   ┆ 0.579134 ┆ 0.329014 ┆ 0.84423  ┆ 0.056414 ┆ 5.167237 ┆ 18           │\n",
       "│ 1   ┆ 0.136451 ┆ 0.115837 ┆ 0.743302 ┆ 0.684414 ┆ 6.663641 ┆ 16           │\n",
       "│ 2   ┆ 0.858462 ┆ 0.671112 ┆ 0.379695 ┆ 0.323486 ┆ 8.680795 ┆ 20           │\n",
       "│ 3   ┆ 0.362156 ┆ 0.541902 ┆ 0.985665 ┆ 0.265312 ┆ 0.041498 ┆ 15           │\n",
       "│ 4   ┆ 0.411226 ┆ 0.753546 ┆ 0.811137 ┆ 0.201864 ┆ 6.942092 ┆ 14           │\n",
       "└─────┴──────────┴──────────┴──────────┴──────────┴──────────┴──────────────┘"
      ]
     },
     "execution_count": 46,
     "metadata": {},
     "output_type": "execute_result"
    }
   ],
   "source": [
    "# Get neighbor count. The point itself is always considered a neighbor to itself.\n",
    "df.with_columns(\n",
    "    pds.query_nb_cnt(\n",
    "        pl.col(\"var1\"), \"var2\", \"var3\", # Columns used as the coordinates in n-d space, str | pl.Expr \n",
    "        r = 0.1, # radius \n",
    "        dist = \"inf\", # L Infinity distance \n",
    "        parallel = True \n",
    "    ).alias(\"nb_l_inf_cnt\")\n",
    ").head() "
   ]
  },
  {
   "cell_type": "code",
   "execution_count": 47,
   "id": "69ad83d1",
   "metadata": {},
   "outputs": [
    {
     "data": {
      "text/html": [
       "<div><style>\n",
       ".dataframe > thead > tr,\n",
       ".dataframe > tbody > tr {\n",
       "  text-align: right;\n",
       "  white-space: pre-wrap;\n",
       "}\n",
       "</style>\n",
       "<small>shape: (5, 7)</small><table border=\"1\" class=\"dataframe\"><thead><tr><th>id</th><th>var1</th><th>var2</th><th>var3</th><th>r</th><th>rh</th><th>nb_l1_r_cnt</th></tr><tr><td>u32</td><td>f64</td><td>f64</td><td>f64</td><td>f64</td><td>f64</td><td>u32</td></tr></thead><tbody><tr><td>0</td><td>0.579134</td><td>0.329014</td><td>0.84423</td><td>0.056414</td><td>5.167237</td><td>1</td></tr><tr><td>1</td><td>0.136451</td><td>0.115837</td><td>0.743302</td><td>0.684414</td><td>6.663641</td><td>430</td></tr><tr><td>2</td><td>0.858462</td><td>0.671112</td><td>0.379695</td><td>0.323486</td><td>8.680795</td><td>99</td></tr><tr><td>3</td><td>0.362156</td><td>0.541902</td><td>0.985665</td><td>0.265312</td><td>0.041498</td><td>33</td></tr><tr><td>4</td><td>0.411226</td><td>0.753546</td><td>0.811137</td><td>0.201864</td><td>6.942092</td><td>23</td></tr></tbody></table></div>"
      ],
      "text/plain": [
       "shape: (5, 7)\n",
       "┌─────┬──────────┬──────────┬──────────┬──────────┬──────────┬─────────────┐\n",
       "│ id  ┆ var1     ┆ var2     ┆ var3     ┆ r        ┆ rh       ┆ nb_l1_r_cnt │\n",
       "│ --- ┆ ---      ┆ ---      ┆ ---      ┆ ---      ┆ ---      ┆ ---         │\n",
       "│ u32 ┆ f64      ┆ f64      ┆ f64      ┆ f64      ┆ f64      ┆ u32         │\n",
       "╞═════╪══════════╪══════════╪══════════╪══════════╪══════════╪═════════════╡\n",
       "│ 0   ┆ 0.579134 ┆ 0.329014 ┆ 0.84423  ┆ 0.056414 ┆ 5.167237 ┆ 1           │\n",
       "│ 1   ┆ 0.136451 ┆ 0.115837 ┆ 0.743302 ┆ 0.684414 ┆ 6.663641 ┆ 430         │\n",
       "│ 2   ┆ 0.858462 ┆ 0.671112 ┆ 0.379695 ┆ 0.323486 ┆ 8.680795 ┆ 99          │\n",
       "│ 3   ┆ 0.362156 ┆ 0.541902 ┆ 0.985665 ┆ 0.265312 ┆ 0.041498 ┆ 33          │\n",
       "│ 4   ┆ 0.411226 ┆ 0.753546 ┆ 0.811137 ┆ 0.201864 ┆ 6.942092 ┆ 23          │\n",
       "└─────┴──────────┴──────────┴──────────┴──────────┴──────────┴─────────────┘"
      ]
     },
     "execution_count": 47,
     "metadata": {},
     "output_type": "execute_result"
    }
   ],
   "source": [
    "df.with_columns(\n",
    "    pds.query_nb_cnt(\n",
    "        \"var1\", \"var2\", \"var3\", # Columns used as the coordinates in n-d space, str | pl.Expr \n",
    "        r = pl.col(\"r\"), # radius be an expression too\n",
    "        dist = \"l1\", # L 1 distance \n",
    "        parallel = True \n",
    "    ).alias(\"nb_l1_r_cnt\")\n",
    ").head()"
   ]
  },
  {
   "cell_type": "code",
   "execution_count": 48,
   "id": "ce1a2c7a",
   "metadata": {},
   "outputs": [
    {
     "data": {
      "text/html": [
       "<div><style>\n",
       ".dataframe > thead > tr,\n",
       ".dataframe > tbody > tr {\n",
       "  text-align: right;\n",
       "  white-space: pre-wrap;\n",
       "}\n",
       "</style>\n",
       "<small>shape: (5, 7)</small><table border=\"1\" class=\"dataframe\"><thead><tr><th>id</th><th>var1</th><th>var2</th><th>var3</th><th>r</th><th>rh</th><th>best friends</th></tr><tr><td>u32</td><td>f64</td><td>f64</td><td>f64</td><td>f64</td><td>f64</td><td>list[u32]</td></tr></thead><tbody><tr><td>0</td><td>0.579134</td><td>0.329014</td><td>0.84423</td><td>0.056414</td><td>5.167237</td><td>[0, 1881, … 959]</td></tr><tr><td>1</td><td>0.136451</td><td>0.115837</td><td>0.743302</td><td>0.684414</td><td>6.663641</td><td>[1, 1730, … 172]</td></tr><tr><td>2</td><td>0.858462</td><td>0.671112</td><td>0.379695</td><td>0.323486</td><td>8.680795</td><td>[2, 1827, … 689]</td></tr><tr><td>3</td><td>0.362156</td><td>0.541902</td><td>0.985665</td><td>0.265312</td><td>0.041498</td><td>[3, 1479, … 965]</td></tr><tr><td>4</td><td>0.411226</td><td>0.753546</td><td>0.811137</td><td>0.201864</td><td>6.942092</td><td>[4, 1624, … 696]</td></tr></tbody></table></div>"
      ],
      "text/plain": [
       "shape: (5, 7)\n",
       "┌─────┬──────────┬──────────┬──────────┬──────────┬──────────┬──────────────────┐\n",
       "│ id  ┆ var1     ┆ var2     ┆ var3     ┆ r        ┆ rh       ┆ best friends     │\n",
       "│ --- ┆ ---      ┆ ---      ┆ ---      ┆ ---      ┆ ---      ┆ ---              │\n",
       "│ u32 ┆ f64      ┆ f64      ┆ f64      ┆ f64      ┆ f64      ┆ list[u32]        │\n",
       "╞═════╪══════════╪══════════╪══════════╪══════════╪══════════╪══════════════════╡\n",
       "│ 0   ┆ 0.579134 ┆ 0.329014 ┆ 0.84423  ┆ 0.056414 ┆ 5.167237 ┆ [0, 1881, … 959] │\n",
       "│ 1   ┆ 0.136451 ┆ 0.115837 ┆ 0.743302 ┆ 0.684414 ┆ 6.663641 ┆ [1, 1730, … 172] │\n",
       "│ 2   ┆ 0.858462 ┆ 0.671112 ┆ 0.379695 ┆ 0.323486 ┆ 8.680795 ┆ [2, 1827, … 689] │\n",
       "│ 3   ┆ 0.362156 ┆ 0.541902 ┆ 0.985665 ┆ 0.265312 ┆ 0.041498 ┆ [3, 1479, … 965] │\n",
       "│ 4   ┆ 0.411226 ┆ 0.753546 ┆ 0.811137 ┆ 0.201864 ┆ 6.942092 ┆ [4, 1624, … 696] │\n",
       "└─────┴──────────┴──────────┴──────────┴──────────┴──────────┴──────────────────┘"
      ]
     },
     "execution_count": 48,
     "metadata": {},
     "output_type": "execute_result"
    }
   ],
   "source": [
    "# Get ids of the k nearest neighbors. \n",
    "# The point itself is always considered a neighbor to itself, so k + 1 elements will be returned.\n",
    "df.with_columns(\n",
    "    pds.query_knn_ptwise(\n",
    "        pl.col(\"var1\"), pl.col(\"var2\"), pl.col(\"var3\"), # Columns used as the coordinates in n-d space\n",
    "        index = \"id\",  # pl.col(\"id\"), str | pl.Expr\n",
    "        k = 3, \n",
    "        dist = \"l2\", # squared l2\n",
    "        parallel = True\n",
    "    ).alias(\"best friends\")\n",
    ").head() "
   ]
  },
  {
   "cell_type": "code",
   "execution_count": 49,
   "id": "67a769f3",
   "metadata": {},
   "outputs": [
    {
     "name": "stdout",
     "output_type": "stream",
     "text": [
      "shape: (5, 3)\n",
      "┌─────┬───────────────────┬────────────────────┐\n",
      "│ id  ┆ best friends      ┆ best friends count │\n",
      "│ --- ┆ ---               ┆ ---                │\n",
      "│ u32 ┆ list[u32]         ┆ u32                │\n",
      "╞═════╪═══════════════════╪════════════════════╡\n",
      "│ 0   ┆ [0, 1881, … 1075] ┆ 11                 │\n",
      "│ 1   ┆ [1, 1730, … 1737] ┆ 7                  │\n",
      "│ 2   ┆ [2, 1827, … 1817] ┆ 9                  │\n",
      "│ 3   ┆ [3, 1479, … 1545] ┆ 8                  │\n",
      "│ 4   ┆ [4, 1624, … 1364] ┆ 6                  │\n",
      "└─────┴───────────────────┴────────────────────┘\n"
     ]
    }
   ],
   "source": [
    "# Get all neighbors within radius r, call them best friends\n",
    "print(\n",
    "\n",
    "df.select(\n",
    "    pl.col(\"id\"),\n",
    "    pds.query_radius_ptwise(\n",
    "        pl.col(\"var1\"), pl.col(\"var2\"), pl.col(\"var3\"), # Columns used as the coordinates in 3d space\n",
    "        index = pl.col(\"id\"),\n",
    "        r = 0.1, \n",
    "        dist = \"l2\", # actually this is squared l2\n",
    "        parallel = True\n",
    "    ).alias(\"best friends\"),\n",
    ").with_columns( # -1 to remove the point itself\n",
    "    (pl.col(\"best friends\").list.len() - 1).alias(\"best friends count\")\n",
    ").head()\n",
    "\n",
    ")"
   ]
  },
  {
   "cell_type": "code",
   "execution_count": 50,
   "id": "06cd7fb2",
   "metadata": {},
   "outputs": [
    {
     "data": {
      "text/html": [
       "<div><style>\n",
       ".dataframe > thead > tr,\n",
       ".dataframe > tbody > tr {\n",
       "  text-align: right;\n",
       "  white-space: pre-wrap;\n",
       "}\n",
       "</style>\n",
       "<small>shape: (5, 8)</small><table border=\"1\" class=\"dataframe\"><thead><tr><th>id</th><th>var1</th><th>var2</th><th>var3</th><th>r</th><th>rh</th><th>idx</th><th>dist</th></tr><tr><td>u32</td><td>f64</td><td>f64</td><td>f64</td><td>f64</td><td>f64</td><td>list[u32]</td><td>list[f64]</td></tr></thead><tbody><tr><td>0</td><td>0.579134</td><td>0.329014</td><td>0.84423</td><td>0.056414</td><td>5.167237</td><td>[0, 1881, … 959]</td><td>[0.0, 0.053066, … 0.065413]</td></tr><tr><td>1</td><td>0.136451</td><td>0.115837</td><td>0.743302</td><td>0.684414</td><td>6.663641</td><td>[1, 1730, … 172]</td><td>[0.0, 0.036583, … 0.077932]</td></tr><tr><td>2</td><td>0.858462</td><td>0.671112</td><td>0.379695</td><td>0.323486</td><td>8.680795</td><td>[2, 1827, … 689]</td><td>[0.0, 0.060563, … 0.072454]</td></tr><tr><td>3</td><td>0.362156</td><td>0.541902</td><td>0.985665</td><td>0.265312</td><td>0.041498</td><td>[3, 1479, … 965]</td><td>[0.0, 0.028195, … 0.066759]</td></tr><tr><td>4</td><td>0.411226</td><td>0.753546</td><td>0.811137</td><td>0.201864</td><td>6.942092</td><td>[4, 1624, … 696]</td><td>[0.0, 0.071199, … 0.080162]</td></tr></tbody></table></div>"
      ],
      "text/plain": [
       "shape: (5, 8)\n",
       "┌─────┬──────────┬──────────┬──────────┬──────────┬──────────┬──────────────────┬──────────────────┐\n",
       "│ id  ┆ var1     ┆ var2     ┆ var3     ┆ r        ┆ rh       ┆ idx              ┆ dist             │\n",
       "│ --- ┆ ---      ┆ ---      ┆ ---      ┆ ---      ┆ ---      ┆ ---              ┆ ---              │\n",
       "│ u32 ┆ f64      ┆ f64      ┆ f64      ┆ f64      ┆ f64      ┆ list[u32]        ┆ list[f64]        │\n",
       "╞═════╪══════════╪══════════╪══════════╪══════════╪══════════╪══════════════════╪══════════════════╡\n",
       "│ 0   ┆ 0.579134 ┆ 0.329014 ┆ 0.84423  ┆ 0.056414 ┆ 5.167237 ┆ [0, 1881, … 959] ┆ [0.0, 0.053066,  │\n",
       "│     ┆          ┆          ┆          ┆          ┆          ┆                  ┆ … 0.065413]      │\n",
       "│ 1   ┆ 0.136451 ┆ 0.115837 ┆ 0.743302 ┆ 0.684414 ┆ 6.663641 ┆ [1, 1730, … 172] ┆ [0.0, 0.036583,  │\n",
       "│     ┆          ┆          ┆          ┆          ┆          ┆                  ┆ … 0.077932]      │\n",
       "│ 2   ┆ 0.858462 ┆ 0.671112 ┆ 0.379695 ┆ 0.323486 ┆ 8.680795 ┆ [2, 1827, … 689] ┆ [0.0, 0.060563,  │\n",
       "│     ┆          ┆          ┆          ┆          ┆          ┆                  ┆ … 0.072454]      │\n",
       "│ 3   ┆ 0.362156 ┆ 0.541902 ┆ 0.985665 ┆ 0.265312 ┆ 0.041498 ┆ [3, 1479, … 965] ┆ [0.0, 0.028195,  │\n",
       "│     ┆          ┆          ┆          ┆          ┆          ┆                  ┆ … 0.066759]      │\n",
       "│ 4   ┆ 0.411226 ┆ 0.753546 ┆ 0.811137 ┆ 0.201864 ┆ 6.942092 ┆ [4, 1624, … 696] ┆ [0.0, 0.071199,  │\n",
       "│     ┆          ┆          ┆          ┆          ┆          ┆                  ┆ … 0.080162]      │\n",
       "└─────┴──────────┴──────────┴──────────┴──────────┴──────────┴──────────────────┴──────────────────┘"
      ]
     },
     "execution_count": 50,
     "metadata": {},
     "output_type": "execute_result"
    }
   ],
   "source": [
    "# Get ids of the k nearest neighbors and distances\n",
    "# The point itself is always considered a neighbor to itself, so k + 1 elements will be returned.\n",
    "df.with_columns(\n",
    "    pds.query_knn_ptwise(\n",
    "        pl.col(\"var1\"), pl.col(\"var2\"), pl.col(\"var3\"), # Columns used as the coordinates in n-d space\n",
    "        index = pl.col(\"id\"),\n",
    "        k = 3, \n",
    "        dist = \"l2\", # actually this is squared l2\n",
    "        parallel = True,\n",
    "        return_dist = True\n",
    "    ).alias(\"best_friends_w_dist\")\n",
    ").unnest(\"best_friends_w_dist\").head()"
   ]
  },
  {
   "cell_type": "code",
   "execution_count": 51,
   "id": "b5c69ae4",
   "metadata": {},
   "outputs": [
    {
     "data": {
      "text/html": [
       "<div><style>\n",
       ".dataframe > thead > tr,\n",
       ".dataframe > tbody > tr {\n",
       "  text-align: right;\n",
       "  white-space: pre-wrap;\n",
       "}\n",
       "</style>\n",
       "<small>shape: (5, 6)</small><table border=\"1\" class=\"dataframe\"><thead><tr><th>id</th><th>var1</th><th>var2</th><th>var3</th><th>r</th><th>rh</th></tr><tr><td>u32</td><td>f64</td><td>f64</td><td>f64</td><td>f64</td><td>f64</td></tr></thead><tbody><tr><td>0</td><td>0.579134</td><td>0.329014</td><td>0.84423</td><td>0.056414</td><td>5.167237</td></tr><tr><td>2</td><td>0.858462</td><td>0.671112</td><td>0.379695</td><td>0.323486</td><td>8.680795</td></tr><tr><td>4</td><td>0.411226</td><td>0.753546</td><td>0.811137</td><td>0.201864</td><td>6.942092</td></tr><tr><td>5</td><td>0.099687</td><td>0.553936</td><td>0.375904</td><td>0.278505</td><td>1.227848</td></tr><tr><td>8</td><td>0.399726</td><td>0.501957</td><td>0.463459</td><td>0.761134</td><td>4.696983</td></tr></tbody></table></div>"
      ],
      "text/plain": [
       "shape: (5, 6)\n",
       "┌─────┬──────────┬──────────┬──────────┬──────────┬──────────┐\n",
       "│ id  ┆ var1     ┆ var2     ┆ var3     ┆ r        ┆ rh       │\n",
       "│ --- ┆ ---      ┆ ---      ┆ ---      ┆ ---      ┆ ---      │\n",
       "│ u32 ┆ f64      ┆ f64      ┆ f64      ┆ f64      ┆ f64      │\n",
       "╞═════╪══════════╪══════════╪══════════╪══════════╪══════════╡\n",
       "│ 0   ┆ 0.579134 ┆ 0.329014 ┆ 0.84423  ┆ 0.056414 ┆ 5.167237 │\n",
       "│ 2   ┆ 0.858462 ┆ 0.671112 ┆ 0.379695 ┆ 0.323486 ┆ 8.680795 │\n",
       "│ 4   ┆ 0.411226 ┆ 0.753546 ┆ 0.811137 ┆ 0.201864 ┆ 6.942092 │\n",
       "│ 5   ┆ 0.099687 ┆ 0.553936 ┆ 0.375904 ┆ 0.278505 ┆ 1.227848 │\n",
       "│ 8   ┆ 0.399726 ┆ 0.501957 ┆ 0.463459 ┆ 0.761134 ┆ 4.696983 │\n",
       "└─────┴──────────┴──────────┴──────────┴──────────┴──────────┘"
      ]
     },
     "execution_count": 51,
     "metadata": {},
     "output_type": "execute_result"
    }
   ],
   "source": [
    "# Filter to only points near the given point\n",
    "df.filter(\n",
    "    pds.within_dist_from(\n",
    "        pl.col(\"var1\"), pl.col(\"var2\"), pl.col(\"var3\"), # Columns used as the coordinates in n-d space\n",
    "        pt = [0.5, 0.5, 0.5],\n",
    "        r = 0.2,\n",
    "        dist = \"l2\" # actually this is squared l2, so this is asking for squared l2 <= 0.2\n",
    "    )\n",
    ").head()"
   ]
  },
  {
   "cell_type": "code",
   "execution_count": 52,
   "id": "4ab9e8f8",
   "metadata": {},
   "outputs": [
    {
     "data": {
      "text/html": [
       "<div><style>\n",
       ".dataframe > thead > tr,\n",
       ".dataframe > tbody > tr {\n",
       "  text-align: right;\n",
       "  white-space: pre-wrap;\n",
       "}\n",
       "</style>\n",
       "<small>shape: (5, 6)</small><table border=\"1\" class=\"dataframe\"><thead><tr><th>id</th><th>var1</th><th>var2</th><th>var3</th><th>r</th><th>rh</th></tr><tr><td>u32</td><td>f64</td><td>f64</td><td>f64</td><td>f64</td><td>f64</td></tr></thead><tbody><tr><td>14</td><td>0.528173</td><td>0.544334</td><td>0.69444</td><td>0.399148</td><td>7.458917</td></tr><tr><td>74</td><td>0.487442</td><td>0.576601</td><td>0.462924</td><td>0.048392</td><td>0.865228</td></tr><tr><td>76</td><td>0.45438</td><td>0.554271</td><td>0.542959</td><td>0.595356</td><td>9.977573</td></tr><tr><td>112</td><td>0.415284</td><td>0.471442</td><td>0.063427</td><td>0.728378</td><td>1.857436</td></tr><tr><td>116</td><td>0.583013</td><td>0.510799</td><td>0.021017</td><td>0.657546</td><td>6.362856</td></tr></tbody></table></div>"
      ],
      "text/plain": [
       "shape: (5, 6)\n",
       "┌─────┬──────────┬──────────┬──────────┬──────────┬──────────┐\n",
       "│ id  ┆ var1     ┆ var2     ┆ var3     ┆ r        ┆ rh       │\n",
       "│ --- ┆ ---      ┆ ---      ┆ ---      ┆ ---      ┆ ---      │\n",
       "│ u32 ┆ f64      ┆ f64      ┆ f64      ┆ f64      ┆ f64      │\n",
       "╞═════╪══════════╪══════════╪══════════╪══════════╪══════════╡\n",
       "│ 14  ┆ 0.528173 ┆ 0.544334 ┆ 0.69444  ┆ 0.399148 ┆ 7.458917 │\n",
       "│ 74  ┆ 0.487442 ┆ 0.576601 ┆ 0.462924 ┆ 0.048392 ┆ 0.865228 │\n",
       "│ 76  ┆ 0.45438  ┆ 0.554271 ┆ 0.542959 ┆ 0.595356 ┆ 9.977573 │\n",
       "│ 112 ┆ 0.415284 ┆ 0.471442 ┆ 0.063427 ┆ 0.728378 ┆ 1.857436 │\n",
       "│ 116 ┆ 0.583013 ┆ 0.510799 ┆ 0.021017 ┆ 0.657546 ┆ 6.362856 │\n",
       "└─────┴──────────┴──────────┴──────────┴──────────┴──────────┘"
      ]
     },
     "execution_count": 52,
     "metadata": {},
     "output_type": "execute_result"
    }
   ],
   "source": [
    "# Haversine distance is available when dimension is 2\n",
    "df.filter(\n",
    "    pds.within_dist_from(\n",
    "        pl.col(\"var1\"), pl.col(\"var2\"), # Columns used as the coordinates in n-d space\n",
    "        pt = [0.5, 0.5],\n",
    "        r = 10, # in km\n",
    "        dist = \"h\" \n",
    "    )\n",
    ").head()"
   ]
  },
  {
   "cell_type": "code",
   "execution_count": 53,
   "id": "7d3f5ae4",
   "metadata": {},
   "outputs": [
    {
     "data": {
      "text/html": [
       "<div><style>\n",
       ".dataframe > thead > tr,\n",
       ".dataframe > tbody > tr {\n",
       "  text-align: right;\n",
       "  white-space: pre-wrap;\n",
       "}\n",
       "</style>\n",
       "<small>shape: (5, 6)</small><table border=\"1\" class=\"dataframe\"><thead><tr><th>id</th><th>var1</th><th>var2</th><th>var3</th><th>r</th><th>rh</th></tr><tr><td>u32</td><td>f64</td><td>f64</td><td>f64</td><td>f64</td><td>f64</td></tr></thead><tbody><tr><td>14</td><td>0.528173</td><td>0.544334</td><td>0.69444</td><td>0.399148</td><td>7.458917</td></tr><tr><td>76</td><td>0.45438</td><td>0.554271</td><td>0.542959</td><td>0.595356</td><td>9.977573</td></tr><tr><td>123</td><td>0.50731</td><td>0.505499</td><td>0.873323</td><td>0.197635</td><td>3.340024</td></tr><tr><td>411</td><td>0.467528</td><td>0.53937</td><td>0.796454</td><td>0.18563</td><td>8.509126</td></tr><tr><td>533</td><td>0.526005</td><td>0.52802</td><td>0.625523</td><td>0.068372</td><td>7.109258</td></tr></tbody></table></div>"
      ],
      "text/plain": [
       "shape: (5, 6)\n",
       "┌─────┬──────────┬──────────┬──────────┬──────────┬──────────┐\n",
       "│ id  ┆ var1     ┆ var2     ┆ var3     ┆ r        ┆ rh       │\n",
       "│ --- ┆ ---      ┆ ---      ┆ ---      ┆ ---      ┆ ---      │\n",
       "│ u32 ┆ f64      ┆ f64      ┆ f64      ┆ f64      ┆ f64      │\n",
       "╞═════╪══════════╪══════════╪══════════╪══════════╪══════════╡\n",
       "│ 14  ┆ 0.528173 ┆ 0.544334 ┆ 0.69444  ┆ 0.399148 ┆ 7.458917 │\n",
       "│ 76  ┆ 0.45438  ┆ 0.554271 ┆ 0.542959 ┆ 0.595356 ┆ 9.977573 │\n",
       "│ 123 ┆ 0.50731  ┆ 0.505499 ┆ 0.873323 ┆ 0.197635 ┆ 3.340024 │\n",
       "│ 411 ┆ 0.467528 ┆ 0.53937  ┆ 0.796454 ┆ 0.18563  ┆ 8.509126 │\n",
       "│ 533 ┆ 0.526005 ┆ 0.52802  ┆ 0.625523 ┆ 0.068372 ┆ 7.109258 │\n",
       "└─────┴──────────┴──────────┴──────────┴──────────┴──────────┘"
      ]
     },
     "execution_count": 53,
     "metadata": {},
     "output_type": "execute_result"
    }
   ],
   "source": [
    "df.filter(\n",
    "    pds.within_dist_from(\n",
    "        pl.col(\"var1\"), pl.col(\"var2\"), \n",
    "        pt = [0.5, 0.5],\n",
    "        # radius can also be an existing column in the dataframe.\n",
    "        r = pl.col(\"rh\"), \n",
    "        dist = \"h\" \n",
    "    )\n",
    ").head()"
   ]
  },
  {
   "cell_type": "code",
   "execution_count": 54,
   "id": "f14627bc",
   "metadata": {},
   "outputs": [
    {
     "data": {
      "text/html": [
       "<div><style>\n",
       ".dataframe > thead > tr,\n",
       ".dataframe > tbody > tr {\n",
       "  text-align: right;\n",
       "  white-space: pre-wrap;\n",
       "}\n",
       "</style>\n",
       "<small>shape: (5, 3)</small><table border=\"1\" class=\"dataframe\"><thead><tr><th>id</th><th>friends</th><th>count</th></tr><tr><td>u64</td><td>list[u32]</td><td>u32</td></tr></thead><tbody><tr><td>0</td><td>[0, 12, … 340]</td><td>4</td></tr><tr><td>1</td><td>[1]</td><td>1</td></tr><tr><td>2</td><td>[2, 1263, … 1798]</td><td>5</td></tr><tr><td>3</td><td>[3, 1786]</td><td>2</td></tr><tr><td>4</td><td>[4, 595, 696]</td><td>3</td></tr></tbody></table></div>"
      ],
      "text/plain": [
       "shape: (5, 3)\n",
       "┌─────┬───────────────────┬───────┐\n",
       "│ id  ┆ friends           ┆ count │\n",
       "│ --- ┆ ---               ┆ ---   │\n",
       "│ u64 ┆ list[u32]         ┆ u32   │\n",
       "╞═════╪═══════════════════╪═══════╡\n",
       "│ 0   ┆ [0, 12, … 340]    ┆ 4     │\n",
       "│ 1   ┆ [1]               ┆ 1     │\n",
       "│ 2   ┆ [2, 1263, … 1798] ┆ 5     │\n",
       "│ 3   ┆ [3, 1786]         ┆ 2     │\n",
       "│ 4   ┆ [4, 595, 696]     ┆ 3     │\n",
       "└─────┴───────────────────┴───────┘"
      ]
     },
     "execution_count": 54,
     "metadata": {},
     "output_type": "execute_result"
    }
   ],
   "source": [
    "friends = df.select(\n",
    "    pl.col(\"id\").cast(pl.UInt64),\n",
    "    pds.query_radius_ptwise(\n",
    "        # Columns used as the coordinates in n-d space\n",
    "        pl.col(\"var1\"), pl.col(\"var2\"), \n",
    "        index=pl.col(\"id\"),\n",
    "        r = 0.02, \n",
    "        dist = \"l2\",\n",
    "    ).alias(\"friends\")\n",
    ").with_columns(\n",
    "    pl.col(\"friends\").list.len().alias(\"count\")\n",
    ")\n",
    "friends.head()"
   ]
  },
  {
   "cell_type": "markdown",
   "id": "8aebd83c",
   "metadata": {},
   "source": [
    "# Compatibility\n",
    "\n",
    "## Using PDS Expressions On pl.Series, NumPy arrays, or pd.Series, etc.\n",
    "\n",
    "The output by default is always a Polars Series. The user gets to choose whether to turn it into NumPy, Pandas, or other data structures. \n",
    "\n",
    "## Using PDS with Narwhals\n",
    "\n",
    "Limited"
   ]
  },
  {
   "cell_type": "code",
   "execution_count": 55,
   "id": "0a42a771",
   "metadata": {},
   "outputs": [
    {
     "name": "stderr",
     "output_type": "stream",
     "text": [
      "/tmp/ipykernel_12078/181413171.py:5: UserWarning: The compatibility layer is considered experimental.\n",
      "  from polars_ds.compat import compat as pds2\n"
     ]
    },
    {
     "data": {
      "text/html": [
       "<div><style>\n",
       ".dataframe > thead > tr,\n",
       ".dataframe > tbody > tr {\n",
       "  text-align: right;\n",
       "  white-space: pre-wrap;\n",
       "}\n",
       "</style>\n",
       "<small>shape: (5, 6)</small><table border=\"1\" class=\"dataframe\"><thead><tr><th>actual</th><th>predicted</th><th>0-2</th><th>0-9</th><th>s1</th><th>s2</th></tr><tr><td>f64</td><td>f64</td><td>i32</td><td>i32</td><td>str</td><td>str</td></tr></thead><tbody><tr><td>1.0</td><td>0.624251</td><td>0</td><td>7</td><td>&quot;aG&quot;</td><td>&quot;Jb&quot;</td></tr><tr><td>1.0</td><td>0.330709</td><td>2</td><td>3</td><td>&quot;Gh&quot;</td><td>&quot;I&quot;</td></tr><tr><td>1.0</td><td>0.858817</td><td>1</td><td>1</td><td>&quot;8G&quot;</td><td>&quot;l&quot;</td></tr><tr><td>1.0</td><td>0.097989</td><td>0</td><td>1</td><td>&quot;j&quot;</td><td>&quot;Uv&quot;</td></tr><tr><td>0.0</td><td>0.545426</td><td>1</td><td>1</td><td>&quot;m&quot;</td><td>&quot;R&quot;</td></tr></tbody></table></div>"
      ],
      "text/plain": [
       "shape: (5, 6)\n",
       "┌────────┬───────────┬─────┬─────┬─────┬─────┐\n",
       "│ actual ┆ predicted ┆ 0-2 ┆ 0-9 ┆ s1  ┆ s2  │\n",
       "│ ---    ┆ ---       ┆ --- ┆ --- ┆ --- ┆ --- │\n",
       "│ f64    ┆ f64       ┆ i32 ┆ i32 ┆ str ┆ str │\n",
       "╞════════╪═══════════╪═════╪═════╪═════╪═════╡\n",
       "│ 1.0    ┆ 0.624251  ┆ 0   ┆ 7   ┆ aG  ┆ Jb  │\n",
       "│ 1.0    ┆ 0.330709  ┆ 2   ┆ 3   ┆ Gh  ┆ I   │\n",
       "│ 1.0    ┆ 0.858817  ┆ 1   ┆ 1   ┆ 8G  ┆ l   │\n",
       "│ 1.0    ┆ 0.097989  ┆ 0   ┆ 1   ┆ j   ┆ Uv  │\n",
       "│ 0.0    ┆ 0.545426  ┆ 1   ┆ 1   ┆ m   ┆ R   │\n",
       "└────────┴───────────┴─────┴─────┴─────┴─────┘"
      ]
     },
     "execution_count": 55,
     "metadata": {},
     "output_type": "execute_result"
    }
   ],
   "source": [
    "import pandas as pd\n",
    "import numpy as np\n",
    "import polars as pl\n",
    "import polars_ds as pds\n",
    "from polars_ds.compat import compat as pds2\n",
    "\n",
    "df = pds.frame(size=100_000).select(\n",
    "    pds.random(0.0, 1.0).round().alias(\"actual\"),\n",
    "    pds.random(0.0, 1.0).alias(\"predicted\"),\n",
    "    pds.random_int(0, 3).alias(\"0-2\"),\n",
    "    pds.random_int(0, 10).alias(\"0-9\"),\n",
    "    pds.random_str(min_size=1, max_size=2).alias(\"s1\"),\n",
    "    pds.random_str(min_size=1, max_size=2).alias(\"s2\"),\n",
    ")\n",
    "df.head()"
   ]
  },
  {
   "cell_type": "code",
   "execution_count": 56,
   "id": "e6574a57",
   "metadata": {},
   "outputs": [],
   "source": [
    "df_pd = df.to_pandas()"
   ]
  },
  {
   "cell_type": "code",
   "execution_count": 57,
   "id": "70830d04",
   "metadata": {},
   "outputs": [
    {
     "data": {
      "text/plain": [
       "0    0.3\n",
       "Name: , dtype: float64"
      ]
     },
     "execution_count": 57,
     "metadata": {},
     "output_type": "execute_result"
    }
   ],
   "source": [
    "# Pandas Series\n",
    "pds2.jaccard_col(df_pd[\"0-2\"], df_pd[\"0-9\"])"
   ]
  },
  {
   "cell_type": "code",
   "execution_count": 58,
   "id": "471cbbbd",
   "metadata": {},
   "outputs": [
    {
     "name": "stdout",
     "output_type": "stream",
     "text": [
      "shape: (1,)\n",
      "Series: '' [f64]\n",
      "[\n",
      "\t0.501098\n",
      "]\n",
      "[0.5010979]\n",
      "0    0.501098\n",
      "Name: , dtype: float64\n",
      "[0.5010979]\n"
     ]
    }
   ],
   "source": [
    "# Polars Series\n",
    "print(pds2.query_roc_auc(df[\"actual\"], df[\"predicted\"]))\n",
    "# NumPy\n",
    "pds2.return_numpy = True\n",
    "print(pds2.query_roc_auc(df[\"actual\"].to_numpy(), df[\"predicted\"].to_numpy()))\n",
    "pds2.return_numpy = False\n",
    "# Pandas\n",
    "print(pds2.query_roc_auc(df[\"actual\"].to_pandas(), df[\"predicted\"].to_pandas()))\n",
    "# PyArrow\n",
    "# Arrow series can be inputs, but the output cannot be converted correctly. Please let me know if you have a fix.\n",
    "# The work around is to use NumPy for Arrow\n",
    "pds2.return_numpy = True\n",
    "print(pds2.query_roc_auc(df[\"actual\"].to_arrow(), df[\"predicted\"].to_arrow()))\n",
    "# Other array-protocal compatible inputs\n",
    "# print(pds2.query_roc_auc(df[\"actual\"].to_jax(), df[\"predicted\"].to_jax()))\n",
    "\n",
    "pds2.return_numpy = False\n"
   ]
  },
  {
   "cell_type": "code",
   "execution_count": 59,
   "id": "9d15fc63",
   "metadata": {},
   "outputs": [
    {
     "data": {
      "text/plain": [
       "array([0.00602434])"
      ]
     },
     "execution_count": 59,
     "metadata": {},
     "output_type": "execute_result"
    }
   ],
   "source": [
    "# NumPy Arrays\n",
    "pds2.psi(\n",
    "    np.random.random(size = 1000), \n",
    "    np.random.random(size = 1000), \n",
    "    n_bins = 5, \n",
    ")\n"
   ]
  },
  {
   "cell_type": "code",
   "execution_count": 60,
   "id": "f7cc8f20",
   "metadata": {},
   "outputs": [
    {
     "data": {
      "text/html": [
       "<div>\n",
       "<style scoped>\n",
       "    .dataframe tbody tr th:only-of-type {\n",
       "        vertical-align: middle;\n",
       "    }\n",
       "\n",
       "    .dataframe tbody tr th {\n",
       "        vertical-align: top;\n",
       "    }\n",
       "\n",
       "    .dataframe thead th {\n",
       "        text-align: right;\n",
       "    }\n",
       "</style>\n",
       "<table border=\"1\" class=\"dataframe\">\n",
       "  <thead>\n",
       "    <tr style=\"text-align: right;\">\n",
       "      <th></th>\n",
       "      <th>actual</th>\n",
       "      <th>predicted</th>\n",
       "      <th>0-2</th>\n",
       "      <th>0-9</th>\n",
       "      <th>s1</th>\n",
       "      <th>s2</th>\n",
       "      <th>levenshtein_dist</th>\n",
       "    </tr>\n",
       "  </thead>\n",
       "  <tbody>\n",
       "    <tr>\n",
       "      <th>0</th>\n",
       "      <td>1.0</td>\n",
       "      <td>0.624251</td>\n",
       "      <td>0</td>\n",
       "      <td>7</td>\n",
       "      <td>aG</td>\n",
       "      <td>Jb</td>\n",
       "      <td>2</td>\n",
       "    </tr>\n",
       "    <tr>\n",
       "      <th>1</th>\n",
       "      <td>1.0</td>\n",
       "      <td>0.330709</td>\n",
       "      <td>2</td>\n",
       "      <td>3</td>\n",
       "      <td>Gh</td>\n",
       "      <td>I</td>\n",
       "      <td>2</td>\n",
       "    </tr>\n",
       "    <tr>\n",
       "      <th>2</th>\n",
       "      <td>1.0</td>\n",
       "      <td>0.858817</td>\n",
       "      <td>1</td>\n",
       "      <td>1</td>\n",
       "      <td>8G</td>\n",
       "      <td>l</td>\n",
       "      <td>2</td>\n",
       "    </tr>\n",
       "    <tr>\n",
       "      <th>3</th>\n",
       "      <td>1.0</td>\n",
       "      <td>0.097989</td>\n",
       "      <td>0</td>\n",
       "      <td>1</td>\n",
       "      <td>j</td>\n",
       "      <td>Uv</td>\n",
       "      <td>2</td>\n",
       "    </tr>\n",
       "    <tr>\n",
       "      <th>4</th>\n",
       "      <td>0.0</td>\n",
       "      <td>0.545426</td>\n",
       "      <td>1</td>\n",
       "      <td>1</td>\n",
       "      <td>m</td>\n",
       "      <td>R</td>\n",
       "      <td>1</td>\n",
       "    </tr>\n",
       "  </tbody>\n",
       "</table>\n",
       "</div>"
      ],
      "text/plain": [
       "   actual  predicted  0-2  0-9  s1  s2  levenshtein_dist\n",
       "0     1.0   0.624251    0    7  aG  Jb                 2\n",
       "1     1.0   0.330709    2    3  Gh   I                 2\n",
       "2     1.0   0.858817    1    1  8G   l                 2\n",
       "3     1.0   0.097989    0    1   j  Uv                 2\n",
       "4     0.0   0.545426    1    1   m   R                 1"
      ]
     },
     "execution_count": 60,
     "metadata": {},
     "output_type": "execute_result"
    }
   ],
   "source": [
    "df_pd = df.to_pandas()\n",
    "df_pd[\"levenshtein_dist\"] = pds2.str_leven(df_pd[\"s1\"], df_pd[\"s2\"])\n",
    "df_pd.head()"
   ]
  },
  {
   "cell_type": "code",
   "execution_count": 61,
   "id": "d2aab4a3",
   "metadata": {},
   "outputs": [
    {
     "data": {
      "text/plain": [
       "┌─────────────────────────────────────────────────────────────────────────────┐\n",
       "|                             Narwhals DataFrame                              |\n",
       "|-----------------------------------------------------------------------------|\n",
       "|   actual  predicted  0-2  0-9  s1  s2  levenshtein_dist  nw_levenshtein_dist|\n",
       "|0     1.0   0.624251    0    7  aG  Jb                 2                    2|\n",
       "|1     1.0   0.330709    2    3  Gh   I                 2                    2|\n",
       "|2     1.0   0.858817    1    1  8G   l                 2                    2|\n",
       "|3     1.0   0.097989    0    1   j  Uv                 2                    2|\n",
       "|4     0.0   0.545426    1    1   m   R                 1                    2|\n",
       "└─────────────────────────────────────────────────────────────────────────────┘"
      ]
     },
     "execution_count": 61,
     "metadata": {},
     "output_type": "execute_result"
    }
   ],
   "source": [
    "# If you are using Narwhals, well, Narwhal expressions are not Polars expressions.\n",
    "# Using the pds2 module, you can run pds functions in map_batches, but this is limited to 1 input column.\n",
    "\n",
    "import narwhals as nw\n",
    "\n",
    "df_nw = nw.from_native(df_pd)\n",
    "df_nw.with_columns(\n",
    "    nw_levenshtein_dist = nw.col(\"s1\").map_batches(lambda s: pds2.str_leven(s.to_numpy(), pl.lit('k9')))\n",
    ").head()"
   ]
  },
  {
   "cell_type": "code",
   "execution_count": null,
   "id": "cbc75129",
   "metadata": {},
   "outputs": [],
   "source": []
  }
 ],
 "metadata": {
  "kernelspec": {
   "display_name": ".venv",
   "language": "python",
   "name": "python3"
  },
  "language_info": {
   "codemirror_mode": {
    "name": "ipython",
    "version": 3
   },
   "file_extension": ".py",
   "mimetype": "text/x-python",
   "name": "python",
   "nbconvert_exporter": "python",
   "pygments_lexer": "ipython3",
   "version": "3.13.7"
  }
 },
 "nbformat": 4,
 "nbformat_minor": 5
}
