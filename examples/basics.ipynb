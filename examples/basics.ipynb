{
 "cells": [
  {
   "cell_type": "code",
   "execution_count": 1,
   "id": "529f4422-5c3a-4bd6-abe0-a15edfc62abb",
   "metadata": {},
   "outputs": [],
   "source": [
    "import polars as pl\n",
    "import polars_ds as pds\n",
    "import numpy as np"
   ]
  },
  {
   "cell_type": "markdown",
   "id": "6a314316",
   "metadata": {},
   "source": [
    "# This notebook illustrates the basic usage of this package\n",
    "\n",
    "You need to create an environment with this package installed to run this notebook. (usually latest version)"
   ]
  },
  {
   "cell_type": "markdown",
   "id": "3aef5c69-fff3-4779-9b58-f939d725f0b0",
   "metadata": {},
   "source": [
    "# Num Extensions"
   ]
  },
  {
   "cell_type": "code",
   "execution_count": 2,
   "id": "430fec01-5d0b-422f-b099-c86037512b6d",
   "metadata": {},
   "outputs": [
    {
     "data": {
      "text/html": [
       "<div><style>\n",
       ".dataframe > thead > tr,\n",
       ".dataframe > tbody > tr {\n",
       "  text-align: right;\n",
       "  white-space: pre-wrap;\n",
       "}\n",
       "</style>\n",
       "<small>shape: (5, 13)</small><table border=\"1\" class=\"dataframe\"><thead><tr><th>f</th><th>time_idx</th><th>dummy</th><th>actual</th><th>predicted</th><th>dummy_groups</th><th>x1</th><th>x2</th><th>x3</th><th>a</th><th>b</th><th>y</th><th>y2</th></tr><tr><td>f64</td><td>i64</td><td>str</td><td>i32</td><td>f64</td><td>str</td><td>f64</td><td>f64</td><td>f64</td><td>f64</td><td>f64</td><td>f64</td><td>f64</td></tr></thead><tbody><tr><td>0.0</td><td>0</td><td>&quot;a&quot;</td><td>1</td><td>0.226058</td><td>&quot;a&quot;</td><td>0.708591</td><td>0.462704</td><td>0.698987</td><td>0.356959</td><td>0.350674</td><td>-0.803339</td><td>0.230494</td></tr><tr><td>0.841471</td><td>1</td><td>&quot;a&quot;</td><td>0</td><td>0.523528</td><td>&quot;a&quot;</td><td>0.123305</td><td>0.724855</td><td>0.171432</td><td>0.868455</td><td>0.910366</td><td>-0.021179</td><td>0.325117</td></tr><tr><td>0.909297</td><td>2</td><td>&quot;a&quot;</td><td>1</td><td>0.568643</td><td>&quot;a&quot;</td><td>0.996366</td><td>0.722279</td><td>0.028079</td><td>0.624149</td><td>0.223698</td><td>0.324061</td><td>0.451812</td></tr><tr><td>0.14112</td><td>3</td><td>&quot;a&quot;</td><td>1</td><td>0.187578</td><td>&quot;a&quot;</td><td>0.518841</td><td>0.262821</td><td>0.643063</td><td>0.013103</td><td>0.408594</td><td>-0.80789</td><td>0.121423</td></tr><tr><td>-0.756802</td><td>4</td><td>&quot;a&quot;</td><td>0</td><td>0.970416</td><td>&quot;a&quot;</td><td>0.698661</td><td>0.704845</td><td>0.377904</td><td>0.71565</td><td>0.83899</td><td>-0.250571</td><td>0.370264</td></tr></tbody></table></div>"
      ],
      "text/plain": [
       "shape: (5, 13)\n",
       "┌───────────┬──────────┬───────┬────────┬───┬──────────┬──────────┬───────────┬──────────┐\n",
       "│ f         ┆ time_idx ┆ dummy ┆ actual ┆ … ┆ a        ┆ b        ┆ y         ┆ y2       │\n",
       "│ ---       ┆ ---      ┆ ---   ┆ ---    ┆   ┆ ---      ┆ ---      ┆ ---       ┆ ---      │\n",
       "│ f64       ┆ i64      ┆ str   ┆ i32    ┆   ┆ f64      ┆ f64      ┆ f64       ┆ f64      │\n",
       "╞═══════════╪══════════╪═══════╪════════╪═══╪══════════╪══════════╪═══════════╪══════════╡\n",
       "│ 0.0       ┆ 0        ┆ a     ┆ 1      ┆ … ┆ 0.356959 ┆ 0.350674 ┆ -0.803339 ┆ 0.230494 │\n",
       "│ 0.841471  ┆ 1        ┆ a     ┆ 0      ┆ … ┆ 0.868455 ┆ 0.910366 ┆ -0.021179 ┆ 0.325117 │\n",
       "│ 0.909297  ┆ 2        ┆ a     ┆ 1      ┆ … ┆ 0.624149 ┆ 0.223698 ┆ 0.324061  ┆ 0.451812 │\n",
       "│ 0.14112   ┆ 3        ┆ a     ┆ 1      ┆ … ┆ 0.013103 ┆ 0.408594 ┆ -0.80789  ┆ 0.121423 │\n",
       "│ -0.756802 ┆ 4        ┆ a     ┆ 0      ┆ … ┆ 0.71565  ┆ 0.83899  ┆ -0.250571 ┆ 0.370264 │\n",
       "└───────────┴──────────┴───────┴────────┴───┴──────────┴──────────┴───────────┴──────────┘"
      ]
     },
     "execution_count": 2,
     "metadata": {},
     "output_type": "execute_result"
    }
   ],
   "source": [
    "size = 10_000\n",
    "df = pl.DataFrame({\n",
    "    \"f\": np.sin(list(range(size)))\n",
    "    , \"time_idx\": range(size)\n",
    "    , \"dummy\": [\"a\"] * (size // 2) + [\"b\"] * (size // 2)\n",
    "    , \"actual\": np.round(np.random.random(size=size)).astype(np.int32)\n",
    "    , \"predicted\": np.random.random(size=size)\n",
    "    , \"dummy_groups\":[\"a\"] * (size//2) + [\"b\"] * (size//2) \n",
    "}).with_columns(\n",
    "    pds.random(0., 1.).alias(\"x1\")\n",
    "    , pds.random(0., 1.).alias(\"x2\")\n",
    "    , pds.random(0., 1.).alias(\"x3\")\n",
    "    , pds.random(0., 1.).alias(\"a\")\n",
    "    , pds.random(0., 1.).alias(\"b\")\n",
    ").with_columns(\n",
    "    y = pl.col(\"x1\") * 0.15 + pl.col(\"x2\") * 0.3 - pl.col(\"x3\") * 1.5 + pds.random() * 0.0001,\n",
    "    y2 = pl.col(\"x1\") * 0.13 + pl.col(\"x2\") * 0.45 - pl.col(\"x3\") * 0.1 + pds.random() * 0.0001\n",
    ")\n",
    "df.head()"
   ]
  },
  {
   "cell_type": "code",
   "execution_count": 3,
   "id": "b6f98453-34cd-4afc-b35d-db58fa60a69a",
   "metadata": {},
   "outputs": [
    {
     "data": {
      "text/html": [
       "<div><style>\n",
       ".dataframe > thead > tr,\n",
       ".dataframe > tbody > tr {\n",
       "  text-align: right;\n",
       "  white-space: pre-wrap;\n",
       "}\n",
       "</style>\n",
       "<small>shape: (1, 1)</small><table border=\"1\" class=\"dataframe\"><thead><tr><th>x1</th></tr><tr><td>f64</td></tr></thead><tbody><tr><td>0.0</td></tr></tbody></table></div>"
      ],
      "text/plain": [
       "shape: (1, 1)\n",
       "┌─────┐\n",
       "│ x1  │\n",
       "│ --- │\n",
       "│ f64 │\n",
       "╞═════╡\n",
       "│ 0.0 │\n",
       "└─────┘"
      ]
     },
     "execution_count": 3,
     "metadata": {},
     "output_type": "execute_result"
    }
   ],
   "source": [
    "# Column-wise Jaccard Similarity. Result should be 0 as they are distinct\n",
    "df.select(\n",
    "    pds.jaccard_col(\"x1\", pl.col(\"x2\"))\n",
    ")"
   ]
  },
  {
   "cell_type": "code",
   "execution_count": 4,
   "id": "416d5346-e75b-4769-a953-e898d6a4d84c",
   "metadata": {},
   "outputs": [
    {
     "data": {
      "text/html": [
       "<div><style>\n",
       ".dataframe > thead > tr,\n",
       ".dataframe > tbody > tr {\n",
       "  text-align: right;\n",
       "  white-space: pre-wrap;\n",
       "}\n",
       "</style>\n",
       "<small>shape: (5, 1)</small><table border=\"1\" class=\"dataframe\"><thead><tr><th>f</th></tr><tr><td>array[f64, 2]</td></tr></thead><tbody><tr><td>[1.939505, 0.0]</td></tr><tr><td>[1.939506, 0.000209]</td></tr><tr><td>[1.939508, 0.000418]</td></tr><tr><td>[1.939512, 0.000627]</td></tr><tr><td>[1.939518, 0.000835]</td></tr></tbody></table></div>"
      ],
      "text/plain": [
       "shape: (5, 1)\n",
       "┌──────────────────────┐\n",
       "│ f                    │\n",
       "│ ---                  │\n",
       "│ array[f64, 2]        │\n",
       "╞══════════════════════╡\n",
       "│ [1.939505, 0.0]      │\n",
       "│ [1.939506, 0.000209] │\n",
       "│ [1.939508, 0.000418] │\n",
       "│ [1.939512, 0.000627] │\n",
       "│ [1.939518, 0.000835] │\n",
       "└──────────────────────┘"
      ]
     },
     "execution_count": 4,
     "metadata": {},
     "output_type": "execute_result"
    }
   ],
   "source": [
    "# FFT. First is real part, second is complex part\n",
    "# By default, this behaves the same as np's rfft, which returns a non-redundant \n",
    "# compact representation of fft output.\n",
    "df.select(\n",
    "    pds.rfft(\"f\")\n",
    ").head()"
   ]
  },
  {
   "cell_type": "code",
   "execution_count": 5,
   "id": "71c76353",
   "metadata": {},
   "outputs": [
    {
     "data": {
      "text/plain": [
       "(10000, 1)"
      ]
     },
     "execution_count": 5,
     "metadata": {},
     "output_type": "execute_result"
    }
   ],
   "source": [
    "# FFT. But return the full length\n",
    "df.select(\n",
    "    pds.rfft(\"f\", return_full=True)\n",
    ").shape"
   ]
  },
  {
   "cell_type": "code",
   "execution_count": 6,
   "id": "cd6662d2",
   "metadata": {},
   "outputs": [
    {
     "data": {
      "text/html": [
       "<div><style>\n",
       ".dataframe > thead > tr,\n",
       ".dataframe > tbody > tr {\n",
       "  text-align: right;\n",
       "  white-space: pre-wrap;\n",
       "}\n",
       "</style>\n",
       "<small>shape: (5, 3)</small><table border=\"1\" class=\"dataframe\"><thead><tr><th>f</th><th>a</th><th>b</th></tr><tr><td>f64</td><td>f64</td><td>f64</td></tr></thead><tbody><tr><td>1.3944e-15</td><td>-0.356959</td><td>-0.350674</td></tr><tr><td>-0.841471</td><td>-0.868455</td><td>-0.910366</td></tr><tr><td>-0.909297</td><td>-0.624149</td><td>-0.223698</td></tr><tr><td>-0.14112</td><td>-0.013103</td><td>-0.408594</td></tr><tr><td>0.756802</td><td>-0.358691</td><td>-0.488315</td></tr></tbody></table></div>"
      ],
      "text/plain": [
       "shape: (5, 3)\n",
       "┌────────────┬───────────┬───────────┐\n",
       "│ f          ┆ a         ┆ b         │\n",
       "│ ---        ┆ ---       ┆ ---       │\n",
       "│ f64        ┆ f64       ┆ f64       │\n",
       "╞════════════╪═══════════╪═══════════╡\n",
       "│ 1.3944e-15 ┆ -0.356959 ┆ -0.350674 │\n",
       "│ -0.841471  ┆ -0.868455 ┆ -0.910366 │\n",
       "│ -0.909297  ┆ -0.624149 ┆ -0.223698 │\n",
       "│ -0.14112   ┆ -0.013103 ┆ -0.408594 │\n",
       "│ 0.756802   ┆ -0.358691 ┆ -0.488315 │\n",
       "└────────────┴───────────┴───────────┘"
      ]
     },
     "execution_count": 6,
     "metadata": {},
     "output_type": "execute_result"
    }
   ],
   "source": [
    "# Multiple Convolutions at once\n",
    "# Modes: `same`, `left` (left-aligned same), `right` (right-aligned same), `valid` or `full`\n",
    "# Method: `fft`, `direct`\n",
    "# Currently slower than SciPy but provides parallelism because of Polars\n",
    "df.select(\n",
    "    pds.convolve(\"f\", [-1, 0, 0, 0, 1], mode = \"full\", method = \"fft\"), # column f with the kernel given here\n",
    "    pds.convolve(\"a\", [-1, 0, 0, 0, 1], mode = \"full\", method = \"direct\"),\n",
    "    pds.convolve(\"b\", [-1, 0, 0, 0, 1], mode = \"full\", method = \"direct\"),\n",
    ").head()"
   ]
  },
  {
   "cell_type": "code",
   "execution_count": 7,
   "id": "ed47b643-6bcc-43f6-9a25-82168c33e7fd",
   "metadata": {},
   "outputs": [
    {
     "data": {
      "text/html": [
       "<div><style>\n",
       ".dataframe > thead > tr,\n",
       ".dataframe > tbody > tr {\n",
       "  text-align: right;\n",
       "  white-space: pre-wrap;\n",
       "}\n",
       "</style>\n",
       "<small>shape: (1, 1)</small><table border=\"1\" class=\"dataframe\"><thead><tr><th>coeffs</th></tr><tr><td>list[f64]</td></tr></thead><tbody><tr><td>[-0.503983, -0.350111]</td></tr></tbody></table></div>"
      ],
      "text/plain": [
       "shape: (1, 1)\n",
       "┌────────────────────────┐\n",
       "│ coeffs                 │\n",
       "│ ---                    │\n",
       "│ list[f64]              │\n",
       "╞════════════════════════╡\n",
       "│ [-0.503983, -0.350111] │\n",
       "└────────────────────────┘"
      ]
     },
     "execution_count": 7,
     "metadata": {},
     "output_type": "execute_result"
    }
   ],
   "source": [
    "# Linear Regression\n",
    "df.select(\n",
    "    pds.lin_reg(\n",
    "        pl.col(\"x1\"), pl.col(\"x2\"),\n",
    "        target = pl.col(\"y\"),\n",
    "        add_bias=False\n",
    "    )\n",
    ")"
   ]
  },
  {
   "cell_type": "code",
   "execution_count": 8,
   "id": "e94324b7",
   "metadata": {},
   "outputs": [
    {
     "data": {
      "text/html": [
       "<div><style>\n",
       ".dataframe > thead > tr,\n",
       ".dataframe > tbody > tr {\n",
       "  text-align: right;\n",
       "  white-space: pre-wrap;\n",
       "}\n",
       "</style>\n",
       "<small>shape: (1, 2)</small><table border=\"1\" class=\"dataframe\"><thead><tr><th>target_0</th><th>target_1</th></tr><tr><td>list[f64]</td><td>list[f64]</td></tr></thead><tbody><tr><td>[-0.503983, -0.350111]</td><td>[0.086441, 0.406699]</td></tr></tbody></table></div>"
      ],
      "text/plain": [
       "shape: (1, 2)\n",
       "┌────────────────────────┬──────────────────────┐\n",
       "│ target_0               ┆ target_1             │\n",
       "│ ---                    ┆ ---                  │\n",
       "│ list[f64]              ┆ list[f64]            │\n",
       "╞════════════════════════╪══════════════════════╡\n",
       "│ [-0.503983, -0.350111] ┆ [0.086441, 0.406699] │\n",
       "└────────────────────────┴──────────────────────┘"
      ]
     },
     "execution_count": 8,
     "metadata": {},
     "output_type": "execute_result"
    }
   ],
   "source": [
    "# Linear Regression, multi-target\n",
    "df.select(\n",
    "    pds.lin_reg(\n",
    "        pl.col(\"x1\"), pl.col(\"x2\"),\n",
    "        target = [pl.col(\"y\"), pl.col(\"y2\")],\n",
    "        add_bias=False\n",
    "    )\n",
    ").unnest(\"coeffs\")"
   ]
  },
  {
   "cell_type": "code",
   "execution_count": 9,
   "id": "6613a769",
   "metadata": {},
   "outputs": [
    {
     "data": {
      "text/html": [
       "<div><style>\n",
       ".dataframe > thead > tr,\n",
       ".dataframe > tbody > tr {\n",
       "  text-align: right;\n",
       "  white-space: pre-wrap;\n",
       "}\n",
       "</style>\n",
       "<small>shape: (1, 2)</small><table border=\"1\" class=\"dataframe\"><thead><tr><th>target_0</th><th>target_1</th></tr><tr><td>list[f32]</td><td>list[f32]</td></tr></thead><tbody><tr><td>[-0.503983, -0.350111]</td><td>[0.086441, 0.406699]</td></tr></tbody></table></div>"
      ],
      "text/plain": [
       "shape: (1, 2)\n",
       "┌────────────────────────┬──────────────────────┐\n",
       "│ target_0               ┆ target_1             │\n",
       "│ ---                    ┆ ---                  │\n",
       "│ list[f32]              ┆ list[f32]            │\n",
       "╞════════════════════════╪══════════════════════╡\n",
       "│ [-0.503983, -0.350111] ┆ [0.086441, 0.406699] │\n",
       "└────────────────────────┴──────────────────────┘"
      ]
     },
     "execution_count": 9,
     "metadata": {},
     "output_type": "execute_result"
    }
   ],
   "source": [
    "# If you want the underlying calculation to be done in f32 instead of f64, you may use the following.\n",
    "# In some cases, f32 can run faster, especially when input data is in f32.\n",
    "pds.config.LIN_REG_EXPR_F64 = False\n",
    "df.select(\n",
    "    pds.lin_reg(\n",
    "        pl.col(\"x1\"), pl.col(\"x2\"),\n",
    "        target = [pl.col(\"y\"), pl.col(\"y2\")],\n",
    "        add_bias=False\n",
    "    )\n",
    ").unnest(\"coeffs\")"
   ]
  },
  {
   "cell_type": "code",
   "execution_count": 10,
   "id": "73f45035",
   "metadata": {},
   "outputs": [],
   "source": [
    "pds.config.LIN_REG_EXPR_F64 = True"
   ]
  },
  {
   "cell_type": "code",
   "execution_count": 11,
   "id": "7e6da23d",
   "metadata": {},
   "outputs": [
    {
     "data": {
      "text/html": [
       "<div><style>\n",
       ".dataframe > thead > tr,\n",
       ".dataframe > tbody > tr {\n",
       "  text-align: right;\n",
       "  white-space: pre-wrap;\n",
       "}\n",
       "</style>\n",
       "<small>shape: (4, 9)</small><table border=\"1\" class=\"dataframe\"><thead><tr><th>features</th><th>beta</th><th>std_err</th><th>t</th><th>p&gt;|t|</th><th>0.025</th><th>0.975</th><th>r2</th><th>adj_r2</th></tr><tr><td>str</td><td>f64</td><td>f64</td><td>f64</td><td>f64</td><td>f64</td><td>f64</td><td>f64</td><td>f64</td></tr></thead><tbody><tr><td>&quot;ln(x1+1)&quot;</td><td>0.220117</td><td>0.001687</td><td>130.489333</td><td>0.0</td><td>0.216811</td><td>0.223424</td><td>0.994412</td><td>0.99441</td></tr><tr><td>&quot;exp(x2)&quot;</td><td>0.175348</td><td>0.000679</td><td>258.255791</td><td>0.0</td><td>0.174017</td><td>0.176679</td><td>0.994412</td><td>0.99441</td></tr><tr><td>&quot;sin(x3)&quot;</td><td>-1.745157</td><td>0.00134</td><td>-1301.974452</td><td>0.0</td><td>-1.747785</td><td>-1.74253</td><td>0.994412</td><td>0.99441</td></tr><tr><td>&quot;__bias__&quot;</td><td>-0.109283</td><td>0.001507</td><td>-72.499729</td><td>0.0</td><td>-0.112238</td><td>-0.106328</td><td>0.994412</td><td>0.99441</td></tr></tbody></table></div>"
      ],
      "text/plain": [
       "shape: (4, 9)\n",
       "┌──────────┬───────────┬──────────┬──────────────┬───┬───────────┬───────────┬──────────┬─────────┐\n",
       "│ features ┆ beta      ┆ std_err  ┆ t            ┆ … ┆ 0.025     ┆ 0.975     ┆ r2       ┆ adj_r2  │\n",
       "│ ---      ┆ ---       ┆ ---      ┆ ---          ┆   ┆ ---       ┆ ---       ┆ ---      ┆ ---     │\n",
       "│ str      ┆ f64       ┆ f64      ┆ f64          ┆   ┆ f64       ┆ f64       ┆ f64      ┆ f64     │\n",
       "╞══════════╪═══════════╪══════════╪══════════════╪═══╪═══════════╪═══════════╪══════════╪═════════╡\n",
       "│ ln(x1+1) ┆ 0.220117  ┆ 0.001687 ┆ 130.489333   ┆ … ┆ 0.216811  ┆ 0.223424  ┆ 0.994412 ┆ 0.99441 │\n",
       "│ exp(x2)  ┆ 0.175348  ┆ 0.000679 ┆ 258.255791   ┆ … ┆ 0.174017  ┆ 0.176679  ┆ 0.994412 ┆ 0.99441 │\n",
       "│ sin(x3)  ┆ -1.745157 ┆ 0.00134  ┆ -1301.974452 ┆ … ┆ -1.747785 ┆ -1.74253  ┆ 0.994412 ┆ 0.99441 │\n",
       "│ __bias__ ┆ -0.109283 ┆ 0.001507 ┆ -72.499729   ┆ … ┆ -0.112238 ┆ -0.106328 ┆ 0.994412 ┆ 0.99441 │\n",
       "└──────────┴───────────┴──────────┴──────────────┴───┴───────────┴───────────┴──────────┴─────────┘"
      ]
     },
     "execution_count": 11,
     "metadata": {},
     "output_type": "execute_result"
    }
   ],
   "source": [
    "df.select(\n",
    "    pds.lin_reg_report(\n",
    "        # formulaic input is also available for lstsq related queries, \n",
    "        # or you can always use polars expressions, e.g. pl.col('x1') + 1, pl.col('x2').exp(), pl.col('x3').sin()\n",
    "        \"ln(x1+1)\", \"exp(x2)\", \"sin(x3)\",\n",
    "        target = \"y\",\n",
    "        add_bias = True\n",
    "    ).alias(\"report\")\n",
    ").unnest(\"report\")"
   ]
  },
  {
   "cell_type": "code",
   "execution_count": 12,
   "id": "1ae6021f",
   "metadata": {},
   "outputs": [
    {
     "data": {
      "text/html": [
       "<div><style>\n",
       ".dataframe > thead > tr,\n",
       ".dataframe > tbody > tr {\n",
       "  text-align: right;\n",
       "  white-space: pre-wrap;\n",
       "}\n",
       "</style>\n",
       "<small>shape: (4, 9)</small><table border=\"1\" class=\"dataframe\"><thead><tr><th>features</th><th>beta</th><th>std_err</th><th>t</th><th>p&gt;|t|</th><th>0.025</th><th>0.975</th><th>r2</th><th>adj_r2</th></tr><tr><td>str</td><td>f32</td><td>f32</td><td>f32</td><td>f32</td><td>f32</td><td>f32</td><td>f32</td><td>f32</td></tr></thead><tbody><tr><td>&quot;ln(x1+1)&quot;</td><td>0.220121</td><td>0.001687</td><td>130.491577</td><td>0.0</td><td>0.216815</td><td>0.223428</td><td>0.994412</td><td>0.99441</td></tr><tr><td>&quot;exp(x2)&quot;</td><td>0.175347</td><td>0.000679</td><td>258.253998</td><td>0.0</td><td>0.174016</td><td>0.176678</td><td>0.994412</td><td>0.99441</td></tr><tr><td>&quot;sin(x3)&quot;</td><td>-1.745157</td><td>0.00134</td><td>-1301.974243</td><td>0.0</td><td>-1.747784</td><td>-1.742529</td><td>0.994412</td><td>0.99441</td></tr><tr><td>&quot;__bias__&quot;</td><td>-0.109282</td><td>0.001507</td><td>-72.499084</td><td>0.0</td><td>-0.112237</td><td>-0.106327</td><td>0.994412</td><td>0.99441</td></tr></tbody></table></div>"
      ],
      "text/plain": [
       "shape: (4, 9)\n",
       "┌──────────┬───────────┬──────────┬──────────────┬───┬───────────┬───────────┬──────────┬─────────┐\n",
       "│ features ┆ beta      ┆ std_err  ┆ t            ┆ … ┆ 0.025     ┆ 0.975     ┆ r2       ┆ adj_r2  │\n",
       "│ ---      ┆ ---       ┆ ---      ┆ ---          ┆   ┆ ---       ┆ ---       ┆ ---      ┆ ---     │\n",
       "│ str      ┆ f32       ┆ f32      ┆ f32          ┆   ┆ f32       ┆ f32       ┆ f32      ┆ f32     │\n",
       "╞══════════╪═══════════╪══════════╪══════════════╪═══╪═══════════╪═══════════╪══════════╪═════════╡\n",
       "│ ln(x1+1) ┆ 0.220121  ┆ 0.001687 ┆ 130.491577   ┆ … ┆ 0.216815  ┆ 0.223428  ┆ 0.994412 ┆ 0.99441 │\n",
       "│ exp(x2)  ┆ 0.175347  ┆ 0.000679 ┆ 258.253998   ┆ … ┆ 0.174016  ┆ 0.176678  ┆ 0.994412 ┆ 0.99441 │\n",
       "│ sin(x3)  ┆ -1.745157 ┆ 0.00134  ┆ -1301.974243 ┆ … ┆ -1.747784 ┆ -1.742529 ┆ 0.994412 ┆ 0.99441 │\n",
       "│ __bias__ ┆ -0.109282 ┆ 0.001507 ┆ -72.499084   ┆ … ┆ -0.112237 ┆ -0.106327 ┆ 0.994412 ┆ 0.99441 │\n",
       "└──────────┴───────────┴──────────┴──────────────┴───┴───────────┴───────────┴──────────┴─────────┘"
      ]
     },
     "execution_count": 12,
     "metadata": {},
     "output_type": "execute_result"
    }
   ],
   "source": [
    "pds.config.LIN_REG_EXPR_F64 = False\n",
    "df.select(\n",
    "    pds.lin_reg_report(\n",
    "        # formulaic input is also available for lstsq related queries, \n",
    "        # or you can always use polars expressions, e.g. pl.col('x1') + 1, pl.col('x2').exp(), pl.col('x3').sin()\n",
    "        \"ln(x1+1)\", \"exp(x2)\", \"sin(x3)\",\n",
    "        target = \"y\",\n",
    "        add_bias = True\n",
    "    ).alias(\"report\")\n",
    ").unnest(\"report\")"
   ]
  },
  {
   "cell_type": "code",
   "execution_count": 13,
   "id": "b4d9451b",
   "metadata": {},
   "outputs": [],
   "source": [
    "pds.config.LIN_REG_EXPR_F64 = True"
   ]
  },
  {
   "cell_type": "code",
   "execution_count": 14,
   "id": "16511624-fc7f-45fc-b28e-ad9a91c1bfe9",
   "metadata": {},
   "outputs": [
    {
     "data": {
      "text/html": [
       "<div><style>\n",
       ".dataframe > thead > tr,\n",
       ".dataframe > tbody > tr {\n",
       "  text-align: right;\n",
       "  white-space: pre-wrap;\n",
       "}\n",
       "</style>\n",
       "<small>shape: (10_000, 2)</small><table border=\"1\" class=\"dataframe\"><thead><tr><th>dummy</th><th>coeffs</th></tr><tr><td>str</td><td>list[f64]</td></tr></thead><tbody><tr><td>&quot;a&quot;</td><td>[-0.512962, -0.340556]</td></tr><tr><td>&quot;a&quot;</td><td>[-0.512962, -0.340556]</td></tr><tr><td>&quot;a&quot;</td><td>[-0.512962, -0.340556]</td></tr><tr><td>&quot;a&quot;</td><td>[-0.512962, -0.340556]</td></tr><tr><td>&quot;a&quot;</td><td>[-0.512962, -0.340556]</td></tr><tr><td>&hellip;</td><td>&hellip;</td></tr><tr><td>&quot;b&quot;</td><td>[-0.49521, -0.359508]</td></tr><tr><td>&quot;b&quot;</td><td>[-0.49521, -0.359508]</td></tr><tr><td>&quot;b&quot;</td><td>[-0.49521, -0.359508]</td></tr><tr><td>&quot;b&quot;</td><td>[-0.49521, -0.359508]</td></tr><tr><td>&quot;b&quot;</td><td>[-0.49521, -0.359508]</td></tr></tbody></table></div>"
      ],
      "text/plain": [
       "shape: (10_000, 2)\n",
       "┌───────┬────────────────────────┐\n",
       "│ dummy ┆ coeffs                 │\n",
       "│ ---   ┆ ---                    │\n",
       "│ str   ┆ list[f64]              │\n",
       "╞═══════╪════════════════════════╡\n",
       "│ a     ┆ [-0.512962, -0.340556] │\n",
       "│ a     ┆ [-0.512962, -0.340556] │\n",
       "│ a     ┆ [-0.512962, -0.340556] │\n",
       "│ a     ┆ [-0.512962, -0.340556] │\n",
       "│ a     ┆ [-0.512962, -0.340556] │\n",
       "│ …     ┆ …                      │\n",
       "│ b     ┆ [-0.49521, -0.359508]  │\n",
       "│ b     ┆ [-0.49521, -0.359508]  │\n",
       "│ b     ┆ [-0.49521, -0.359508]  │\n",
       "│ b     ┆ [-0.49521, -0.359508]  │\n",
       "│ b     ┆ [-0.49521, -0.359508]  │\n",
       "└───────┴────────────────────────┘"
      ]
     },
     "execution_count": 14,
     "metadata": {},
     "output_type": "execute_result"
    }
   ],
   "source": [
    "df.select(\n",
    "    \"dummy\",\n",
    "    pds.lin_reg(\n",
    "        pl.col(\"x1\"), pl.col(\"x2\"),\n",
    "        target = pl.col(\"y\"),\n",
    "        add_bias=False\n",
    "    ).over(pl.col(\"dummy\"))\n",
    ")"
   ]
  },
  {
   "cell_type": "code",
   "execution_count": 15,
   "id": "f550c7c6",
   "metadata": {},
   "outputs": [
    {
     "data": {
      "text/html": [
       "<div><style>\n",
       ".dataframe > thead > tr,\n",
       ".dataframe > tbody > tr {\n",
       "  text-align: right;\n",
       "  white-space: pre-wrap;\n",
       "}\n",
       "</style>\n",
       "<small>shape: (5, 5)</small><table border=\"1\" class=\"dataframe\"><thead><tr><th>x1</th><th>x2</th><th>y</th><th>pred</th><th>resid</th></tr><tr><td>f64</td><td>f64</td><td>f64</td><td>f64</td><td>f64</td></tr></thead><tbody><tr><td>0.708591</td><td>0.462704</td><td>-0.803339</td><td>-0.519115</td><td>-0.284224</td></tr><tr><td>0.123305</td><td>0.724855</td><td>-0.021179</td><td>-0.315923</td><td>0.294744</td></tr><tr><td>0.996366</td><td>0.722279</td><td>0.324061</td><td>-0.755029</td><td>1.079091</td></tr><tr><td>0.518841</td><td>0.262821</td><td>-0.80789</td><td>-0.353503</td><td>-0.454386</td></tr><tr><td>0.698661</td><td>0.704845</td><td>-0.250571</td><td>-0.598887</td><td>0.348316</td></tr></tbody></table></div>"
      ],
      "text/plain": [
       "shape: (5, 5)\n",
       "┌──────────┬──────────┬───────────┬───────────┬───────────┐\n",
       "│ x1       ┆ x2       ┆ y         ┆ pred      ┆ resid     │\n",
       "│ ---      ┆ ---      ┆ ---       ┆ ---       ┆ ---       │\n",
       "│ f64      ┆ f64      ┆ f64       ┆ f64       ┆ f64       │\n",
       "╞══════════╪══════════╪═══════════╪═══════════╪═══════════╡\n",
       "│ 0.708591 ┆ 0.462704 ┆ -0.803339 ┆ -0.519115 ┆ -0.284224 │\n",
       "│ 0.123305 ┆ 0.724855 ┆ -0.021179 ┆ -0.315923 ┆ 0.294744  │\n",
       "│ 0.996366 ┆ 0.722279 ┆ 0.324061  ┆ -0.755029 ┆ 1.079091  │\n",
       "│ 0.518841 ┆ 0.262821 ┆ -0.80789  ┆ -0.353503 ┆ -0.454386 │\n",
       "│ 0.698661 ┆ 0.704845 ┆ -0.250571 ┆ -0.598887 ┆ 0.348316  │\n",
       "└──────────┴──────────┴───────────┴───────────┴───────────┘"
      ]
     },
     "execution_count": 15,
     "metadata": {},
     "output_type": "execute_result"
    }
   ],
   "source": [
    "# If you want prediction and residue instead of coefficients\n",
    "df.select(\n",
    "    \"x1\",\n",
    "    \"x2\",\n",
    "    \"y\",\n",
    "    pds.lin_reg(\n",
    "        \"x1\", pl.col(\"x2\"),\n",
    "        target = \"y\",\n",
    "        add_bias=False, \n",
    "        return_pred=True\n",
    "    ).alias(\"prediction\")\n",
    ").unnest(\"prediction\").head()"
   ]
  },
  {
   "cell_type": "code",
   "execution_count": 16,
   "id": "0e9fb061-340d-423d-9107-772387006ff2",
   "metadata": {},
   "outputs": [
    {
     "data": {
      "text/html": [
       "<div><style>\n",
       ".dataframe > thead > tr,\n",
       ".dataframe > tbody > tr {\n",
       "  text-align: right;\n",
       "  white-space: pre-wrap;\n",
       "}\n",
       "</style>\n",
       "<small>shape: (2, 2)</small><table border=\"1\" class=\"dataframe\"><thead><tr><th>dummy</th><th>coeffs</th></tr><tr><td>str</td><td>list[f64]</td></tr></thead><tbody><tr><td>&quot;a&quot;</td><td>[-0.512962, -0.340556]</td></tr><tr><td>&quot;b&quot;</td><td>[-0.49521, -0.359508]</td></tr></tbody></table></div>"
      ],
      "text/plain": [
       "shape: (2, 2)\n",
       "┌───────┬────────────────────────┐\n",
       "│ dummy ┆ coeffs                 │\n",
       "│ ---   ┆ ---                    │\n",
       "│ str   ┆ list[f64]              │\n",
       "╞═══════╪════════════════════════╡\n",
       "│ a     ┆ [-0.512962, -0.340556] │\n",
       "│ b     ┆ [-0.49521, -0.359508]  │\n",
       "└───────┴────────────────────────┘"
      ]
     },
     "execution_count": 16,
     "metadata": {},
     "output_type": "execute_result"
    }
   ],
   "source": [
    "df.group_by(\"dummy\").agg(\n",
    "    pds.lin_reg(\n",
    "        pl.col(\"x1\"), pl.col(\"x2\"),\n",
    "        target = pl.col(\"y\"),\n",
    "        add_bias=False\n",
    "    )\n",
    ")"
   ]
  },
  {
   "cell_type": "code",
   "execution_count": 17,
   "id": "955f2db2",
   "metadata": {},
   "outputs": [
    {
     "data": {
      "text/html": [
       "<div><style>\n",
       ".dataframe > thead > tr,\n",
       ".dataframe > tbody > tr {\n",
       "  text-align: right;\n",
       "  white-space: pre-wrap;\n",
       "}\n",
       "</style>\n",
       "<small>shape: (2, 2)</small><table border=\"1\" class=\"dataframe\"><thead><tr><th>dummy</th><th>coeffs</th></tr><tr><td>str</td><td>list[f64]</td></tr></thead><tbody><tr><td>&quot;b&quot;</td><td>[-0.319952, -0.189272]</td></tr><tr><td>&quot;a&quot;</td><td>[-0.336547, -0.174777]</td></tr></tbody></table></div>"
      ],
      "text/plain": [
       "shape: (2, 2)\n",
       "┌───────┬────────────────────────┐\n",
       "│ dummy ┆ coeffs                 │\n",
       "│ ---   ┆ ---                    │\n",
       "│ str   ┆ list[f64]              │\n",
       "╞═══════╪════════════════════════╡\n",
       "│ b     ┆ [-0.319952, -0.189272] │\n",
       "│ a     ┆ [-0.336547, -0.174777] │\n",
       "└───────┴────────────────────────┘"
      ]
     },
     "execution_count": 17,
     "metadata": {},
     "output_type": "execute_result"
    }
   ],
   "source": [
    "# Lasso\n",
    "df.group_by(\"dummy\").agg(\n",
    "    pds.lin_reg(\n",
    "        pl.col(\"x1\"), pl.col(\"x2\"),\n",
    "        target = pl.col(\"y\"),\n",
    "        l1_reg = 0.1,\n",
    "        add_bias=False\n",
    "    )\n",
    ")"
   ]
  },
  {
   "cell_type": "code",
   "execution_count": 18,
   "id": "1bdae8e5",
   "metadata": {},
   "outputs": [
    {
     "data": {
      "text/html": [
       "<div><style>\n",
       ".dataframe > thead > tr,\n",
       ".dataframe > tbody > tr {\n",
       "  text-align: right;\n",
       "  white-space: pre-wrap;\n",
       "}\n",
       "</style>\n",
       "<small>shape: (2, 2)</small><table border=\"1\" class=\"dataframe\"><thead><tr><th>dummy</th><th>lasso_r2</th></tr><tr><td>str</td><td>f64</td></tr></thead><tbody><tr><td>&quot;a&quot;</td><td>-0.569388</td></tr><tr><td>&quot;b&quot;</td><td>-0.51467</td></tr></tbody></table></div>"
      ],
      "text/plain": [
       "shape: (2, 2)\n",
       "┌───────┬───────────┐\n",
       "│ dummy ┆ lasso_r2  │\n",
       "│ ---   ┆ ---       │\n",
       "│ str   ┆ f64       │\n",
       "╞═══════╪═══════════╡\n",
       "│ a     ┆ -0.569388 │\n",
       "│ b     ┆ -0.51467  │\n",
       "└───────┴───────────┘"
      ]
     },
     "execution_count": 18,
     "metadata": {},
     "output_type": "execute_result"
    }
   ],
   "source": [
    "# R2 metric of lasso regressions on each group\n",
    "df.group_by(\"dummy\").agg(\n",
    "    pds.query_r2(\n",
    "        actual = pl.col(\"y\"),\n",
    "        pred = pds.lin_reg(\n",
    "            pl.col(\"x1\"), pl.col(\"x2\"),\n",
    "            target = pl.col(\"y\"),\n",
    "            l1_reg = 0.1,\n",
    "            return_pred = True,\n",
    "            add_bias=False\n",
    "        ).struct.field(\"pred\")\n",
    "    ).alias(\"lasso_r2\")\n",
    ")"
   ]
  },
  {
   "cell_type": "code",
   "execution_count": 19,
   "id": "765ff27b",
   "metadata": {},
   "outputs": [
    {
     "data": {
      "text/html": [
       "<div><style>\n",
       ".dataframe > thead > tr,\n",
       ".dataframe > tbody > tr {\n",
       "  text-align: right;\n",
       "  white-space: pre-wrap;\n",
       "}\n",
       "</style>\n",
       "<small>shape: (10_000, 5)</small><table border=\"1\" class=\"dataframe\"><thead><tr><th>y</th><th>x1</th><th>x2</th><th>coeffs</th><th>pred</th></tr><tr><td>f64</td><td>f64</td><td>f64</td><td>list[f64]</td><td>f64</td></tr></thead><tbody><tr><td>-0.803339</td><td>0.708591</td><td>0.462704</td><td>null</td><td>null</td></tr><tr><td>-0.021179</td><td>0.123305</td><td>0.724855</td><td>null</td><td>null</td></tr><tr><td>0.324061</td><td>0.996366</td><td>0.722279</td><td>null</td><td>null</td></tr><tr><td>-0.80789</td><td>0.518841</td><td>0.262821</td><td>null</td><td>null</td></tr><tr><td>-0.250571</td><td>0.698661</td><td>0.704845</td><td>[-0.569476, 0.253733]</td><td>-0.219029</td></tr><tr><td>&hellip;</td><td>&hellip;</td><td>&hellip;</td><td>&hellip;</td><td>&hellip;</td></tr><tr><td>0.155725</td><td>0.955219</td><td>0.908676</td><td>[-1.11676, 0.508952]</td><td>-0.604278</td></tr><tr><td>-0.253023</td><td>0.602168</td><td>0.733212</td><td>[-1.193864, 0.812388]</td><td>-0.123254</td></tr><tr><td>0.108824</td><td>0.737362</td><td>0.713642</td><td>[0.973572, -1.126835]</td><td>-0.086281</td></tr><tr><td>-0.004442</td><td>0.899387</td><td>0.169692</td><td>[0.365255, -0.495715]</td><td>0.244386</td></tr><tr><td>-1.477646</td><td>0.028068</td><td>0.000668</td><td>[-0.00401, 0.020973]</td><td>-0.000099</td></tr></tbody></table></div>"
      ],
      "text/plain": [
       "shape: (10_000, 5)\n",
       "┌───────────┬──────────┬──────────┬───────────────────────┬───────────┐\n",
       "│ y         ┆ x1       ┆ x2       ┆ coeffs                ┆ pred      │\n",
       "│ ---       ┆ ---      ┆ ---      ┆ ---                   ┆ ---       │\n",
       "│ f64       ┆ f64      ┆ f64      ┆ list[f64]             ┆ f64       │\n",
       "╞═══════════╪══════════╪══════════╪═══════════════════════╪═══════════╡\n",
       "│ -0.803339 ┆ 0.708591 ┆ 0.462704 ┆ null                  ┆ null      │\n",
       "│ -0.021179 ┆ 0.123305 ┆ 0.724855 ┆ null                  ┆ null      │\n",
       "│ 0.324061  ┆ 0.996366 ┆ 0.722279 ┆ null                  ┆ null      │\n",
       "│ -0.80789  ┆ 0.518841 ┆ 0.262821 ┆ null                  ┆ null      │\n",
       "│ -0.250571 ┆ 0.698661 ┆ 0.704845 ┆ [-0.569476, 0.253733] ┆ -0.219029 │\n",
       "│ …         ┆ …        ┆ …        ┆ …                     ┆ …         │\n",
       "│ 0.155725  ┆ 0.955219 ┆ 0.908676 ┆ [-1.11676, 0.508952]  ┆ -0.604278 │\n",
       "│ -0.253023 ┆ 0.602168 ┆ 0.733212 ┆ [-1.193864, 0.812388] ┆ -0.123254 │\n",
       "│ 0.108824  ┆ 0.737362 ┆ 0.713642 ┆ [0.973572, -1.126835] ┆ -0.086281 │\n",
       "│ -0.004442 ┆ 0.899387 ┆ 0.169692 ┆ [0.365255, -0.495715] ┆ 0.244386  │\n",
       "│ -1.477646 ┆ 0.028068 ┆ 0.000668 ┆ [-0.00401, 0.020973]  ┆ -0.000099 │\n",
       "└───────────┴──────────┴──────────┴───────────────────────┴───────────┘"
      ]
     },
     "execution_count": 19,
     "metadata": {},
     "output_type": "execute_result"
    }
   ],
   "source": [
    "# Rolling regression\n",
    "df.select(\n",
    "    \"y\",\n",
    "    \"x1\",\n",
    "    \"x2\",\n",
    "    pds.rolling_lin_reg(\n",
    "        \"x1\", \"x2\",\n",
    "        target = \"y\",\n",
    "        window_size = 5,\n",
    "        null_policy = \"zero\"\n",
    "    ).alias(\"result\")\n",
    ").unnest(\"result\")"
   ]
  },
  {
   "cell_type": "code",
   "execution_count": 20,
   "id": "d8fda8ca-57e7-4e02-a3f0-283ecce66a59",
   "metadata": {},
   "outputs": [
    {
     "data": {
      "text/html": [
       "<div><style>\n",
       ".dataframe > thead > tr,\n",
       ".dataframe > tbody > tr {\n",
       "  text-align: right;\n",
       "  white-space: pre-wrap;\n",
       "}\n",
       "</style>\n",
       "<small>shape: (1, 1)</small><table border=\"1\" class=\"dataframe\"><thead><tr><th>y</th></tr><tr><td>f64</td></tr></thead><tbody><tr><td>-0.0</td></tr></tbody></table></div>"
      ],
      "text/plain": [
       "shape: (1, 1)\n",
       "┌──────┐\n",
       "│ y    │\n",
       "│ ---  │\n",
       "│ f64  │\n",
       "╞══════╡\n",
       "│ -0.0 │\n",
       "└──────┘"
      ]
     },
     "execution_count": 20,
     "metadata": {},
     "output_type": "execute_result"
    }
   ],
   "source": [
    "# Conditional Entropy, should be 0 because x1 is an ID\n",
    "df.select(\n",
    "    pds.query_cond_entropy(\"y\", \"x1\")\n",
    ")"
   ]
  },
  {
   "cell_type": "code",
   "execution_count": 21,
   "id": "81def1cf",
   "metadata": {},
   "outputs": [
    {
     "data": {
      "text/html": [
       "<div><style>\n",
       ".dataframe > thead > tr,\n",
       ".dataframe > tbody > tr {\n",
       "  text-align: right;\n",
       "  white-space: pre-wrap;\n",
       "}\n",
       "</style>\n",
       "<small>shape: (1, 1)</small><table border=\"1\" class=\"dataframe\"><thead><tr><th>a</th></tr><tr><td>list[f64]</td></tr></thead><tbody><tr><td>[29.226961, 28.83222, 28.429692]</td></tr></tbody></table></div>"
      ],
      "text/plain": [
       "shape: (1, 1)\n",
       "┌─────────────────────────────────┐\n",
       "│ a                               │\n",
       "│ ---                             │\n",
       "│ list[f64]                       │\n",
       "╞═════════════════════════════════╡\n",
       "│ [29.226961, 28.83222, 28.42969… │\n",
       "└─────────────────────────────────┘"
      ]
     },
     "execution_count": 21,
     "metadata": {},
     "output_type": "execute_result"
    }
   ],
   "source": [
    "# Only want singular values (principal values?)\n",
    "df.select(\n",
    "    pds.singular_values(\"a\", \"b\", \"x1\")\n",
    ")"
   ]
  },
  {
   "cell_type": "code",
   "execution_count": 22,
   "id": "cc497383",
   "metadata": {},
   "outputs": [
    {
     "data": {
      "text/html": [
       "<div><style>\n",
       ".dataframe > thead > tr,\n",
       ".dataframe > tbody > tr {\n",
       "  text-align: right;\n",
       "  white-space: pre-wrap;\n",
       "}\n",
       "</style>\n",
       "<small>shape: (2, 2)</small><table border=\"1\" class=\"dataframe\"><thead><tr><th>singular_value</th><th>weight_vector</th></tr><tr><td>f64</td><td>list[f64]</td></tr></thead><tbody><tr><td>28.851301</td><td>[0.911501, -0.411297]</td></tr><tr><td>28.806003</td><td>[0.411297, 0.911501]</td></tr></tbody></table></div>"
      ],
      "text/plain": [
       "shape: (2, 2)\n",
       "┌────────────────┬───────────────────────┐\n",
       "│ singular_value ┆ weight_vector         │\n",
       "│ ---            ┆ ---                   │\n",
       "│ f64            ┆ list[f64]             │\n",
       "╞════════════════╪═══════════════════════╡\n",
       "│ 28.851301      ┆ [0.911501, -0.411297] │\n",
       "│ 28.806003      ┆ [0.411297, 0.911501]  │\n",
       "└────────────────┴───────────────────────┘"
      ]
     },
     "execution_count": 22,
     "metadata": {},
     "output_type": "execute_result"
    }
   ],
   "source": [
    "# Singular values + The principal components\n",
    "df.select(\n",
    "    pds.pca(\"a\", \"b\")\n",
    ").unnest(\"a\")"
   ]
  },
  {
   "cell_type": "code",
   "execution_count": 23,
   "id": "e047d40a",
   "metadata": {},
   "outputs": [
    {
     "data": {
      "text/html": [
       "<div><style>\n",
       ".dataframe > thead > tr,\n",
       ".dataframe > tbody > tr {\n",
       "  text-align: right;\n",
       "  white-space: pre-wrap;\n",
       "}\n",
       "</style>\n",
       "<small>shape: (5, 1)</small><table border=\"1\" class=\"dataframe\"><thead><tr><th>pc1</th></tr><tr><td>f64</td></tr></thead><tbody><tr><td>-0.070858</td></tr><tr><td>0.165171</td></tr><tr><td>0.22491</td></tr><tr><td>-0.408106</td></tr><tr><td>0.055246</td></tr></tbody></table></div>"
      ],
      "text/plain": [
       "shape: (5, 1)\n",
       "┌───────────┐\n",
       "│ pc1       │\n",
       "│ ---       │\n",
       "│ f64       │\n",
       "╞═══════════╡\n",
       "│ -0.070858 │\n",
       "│ 0.165171  │\n",
       "│ 0.22491   │\n",
       "│ -0.408106 │\n",
       "│ 0.055246  │\n",
       "└───────────┘"
      ]
     },
     "execution_count": 23,
     "metadata": {},
     "output_type": "execute_result"
    }
   ],
   "source": [
    "# PC1\n",
    "df.select(\n",
    "    pds.principal_components(\"a\", \"b\", k =1).alias(\"principal_components\")\n",
    ").unnest(\"principal_components\").head()"
   ]
  },
  {
   "cell_type": "markdown",
   "id": "1b2e036f",
   "metadata": {},
   "source": [
    "# ML Metrics"
   ]
  },
  {
   "cell_type": "code",
   "execution_count": 24,
   "id": "85d0d094-3c4c-4230-a589-1027c5690162",
   "metadata": {},
   "outputs": [
    {
     "data": {
      "text/html": [
       "<div><style>\n",
       ".dataframe > thead > tr,\n",
       ".dataframe > tbody > tr {\n",
       "  text-align: right;\n",
       "  white-space: pre-wrap;\n",
       "}\n",
       "</style>\n",
       "<small>shape: (2, 8)</small><table border=\"1\" class=\"dataframe\"><thead><tr><th>dummy_groups</th><th>l2</th><th>log loss</th><th>precision</th><th>recall</th><th>f</th><th>average_precision</th><th>roc_auc</th></tr><tr><td>str</td><td>f64</td><td>f64</td><td>f64</td><td>f64</td><td>f64</td><td>f64</td><td>f64</td></tr></thead><tbody><tr><td>&quot;a&quot;</td><td>0.333839</td><td>1.006882</td><td>0.511637</td><td>0.509427</td><td>0.510529</td><td>0.509782</td><td>0.503323</td></tr><tr><td>&quot;b&quot;</td><td>0.33568</td><td>1.004785</td><td>0.499603</td><td>0.498812</td><td>0.499208</td><td>0.505857</td><td>0.496367</td></tr></tbody></table></div>"
      ],
      "text/plain": [
       "shape: (2, 8)\n",
       "┌──────────────┬──────────┬──────────┬───────────┬──────────┬──────────┬────────────────┬──────────┐\n",
       "│ dummy_groups ┆ l2       ┆ log loss ┆ precision ┆ recall   ┆ f        ┆ average_precis ┆ roc_auc  │\n",
       "│ ---          ┆ ---      ┆ ---      ┆ ---       ┆ ---      ┆ ---      ┆ ion            ┆ ---      │\n",
       "│ str          ┆ f64      ┆ f64      ┆ f64       ┆ f64      ┆ f64      ┆ ---            ┆ f64      │\n",
       "│              ┆          ┆          ┆           ┆          ┆          ┆ f64            ┆          │\n",
       "╞══════════════╪══════════╪══════════╪═══════════╪══════════╪══════════╪════════════════╪══════════╡\n",
       "│ a            ┆ 0.333839 ┆ 1.006882 ┆ 0.511637  ┆ 0.509427 ┆ 0.510529 ┆ 0.509782       ┆ 0.503323 │\n",
       "│ b            ┆ 0.33568  ┆ 1.004785 ┆ 0.499603  ┆ 0.498812 ┆ 0.499208 ┆ 0.505857       ┆ 0.496367 │\n",
       "└──────────────┴──────────┴──────────┴───────────┴──────────┴──────────┴────────────────┴──────────┘"
      ]
     },
     "execution_count": 24,
     "metadata": {},
     "output_type": "execute_result"
    }
   ],
   "source": [
    "df.group_by(\"dummy_groups\").agg(\n",
    "    pds.query_l2(\"actual\", \"predicted\").alias(\"l2\"),\n",
    "    pds.query_log_loss(\"actual\", \"predicted\").alias(\"log loss\"),\n",
    "    pds.query_binary_metrics(actual=\"actual\", pred=\"predicted\").alias(\"combo\")\n",
    ").unnest(\"combo\")\n"
   ]
  },
  {
   "cell_type": "markdown",
   "id": "a8d7c6e3-0f1d-45f0-9fdb-cdb303b98556",
   "metadata": {},
   "source": [
    "# Str Extension"
   ]
  },
  {
   "cell_type": "code",
   "execution_count": 25,
   "id": "54ad36f9-264e-4a49-bf36-936639440edf",
   "metadata": {},
   "outputs": [
    {
     "data": {
      "text/html": [
       "<div><style>\n",
       ".dataframe > thead > tr,\n",
       ".dataframe > tbody > tr {\n",
       "  text-align: right;\n",
       "  white-space: pre-wrap;\n",
       "}\n",
       "</style>\n",
       "<small>shape: (5, 2)</small><table border=\"1\" class=\"dataframe\"><thead><tr><th>sen</th><th>word</th></tr><tr><td>str</td><td>str</td></tr></thead><tbody><tr><td>&quot;Hello, world! I&#x27;m going to chu…</td><td>&quot;words&quot;</td></tr><tr><td>&quot;Hello, world! I&#x27;m going to chu…</td><td>&quot;word&quot;</td></tr><tr><td>&quot;Hello, world! I&#x27;m going to chu…</td><td>&quot;words&quot;</td></tr><tr><td>&quot;Hello, world! I&#x27;m going to chu…</td><td>&quot;word&quot;</td></tr><tr><td>&quot;Hello, world! I&#x27;m going to chu…</td><td>&quot;words&quot;</td></tr></tbody></table></div>"
      ],
      "text/plain": [
       "shape: (5, 2)\n",
       "┌─────────────────────────────────┬───────┐\n",
       "│ sen                             ┆ word  │\n",
       "│ ---                             ┆ ---   │\n",
       "│ str                             ┆ str   │\n",
       "╞═════════════════════════════════╪═══════╡\n",
       "│ Hello, world! I'm going to chu… ┆ words │\n",
       "│ Hello, world! I'm going to chu… ┆ word  │\n",
       "│ Hello, world! I'm going to chu… ┆ words │\n",
       "│ Hello, world! I'm going to chu… ┆ word  │\n",
       "│ Hello, world! I'm going to chu… ┆ words │\n",
       "└─────────────────────────────────┴───────┘"
      ]
     },
     "execution_count": 25,
     "metadata": {},
     "output_type": "execute_result"
    }
   ],
   "source": [
    "size = 100_000\n",
    "df2 = pl.DataFrame({\n",
    "    \"sen\":[\"Hello, world! I'm going to church.\"] * size,\n",
    "    \"word\":[\"words\", \"word\"] * (size //2)\n",
    "})\n",
    "df2.head()"
   ]
  },
  {
   "cell_type": "code",
   "execution_count": 27,
   "id": "69237c02-5f9f-4e92-b68d-6ac43aad1a79",
   "metadata": {},
   "outputs": [
    {
     "data": {
      "text/html": [
       "<div><style>\n",
       ".dataframe > thead > tr,\n",
       ".dataframe > tbody > tr {\n",
       "  text-align: right;\n",
       "  white-space: pre-wrap;\n",
       "}\n",
       "</style>\n",
       "<small>shape: (5, 1)</small><table border=\"1\" class=\"dataframe\"><thead><tr><th>word</th></tr><tr><td>u32</td></tr></thead><tbody><tr><td>2</td></tr><tr><td>1</td></tr><tr><td>2</td></tr><tr><td>1</td></tr><tr><td>2</td></tr></tbody></table></div>"
      ],
      "text/plain": [
       "shape: (5, 1)\n",
       "┌──────┐\n",
       "│ word │\n",
       "│ ---  │\n",
       "│ u32  │\n",
       "╞══════╡\n",
       "│ 2    │\n",
       "│ 1    │\n",
       "│ 2    │\n",
       "│ 1    │\n",
       "│ 2    │\n",
       "└──────┘"
      ]
     },
     "execution_count": 27,
     "metadata": {},
     "output_type": "execute_result"
    }
   ],
   "source": [
    "df2.select(\n",
    "    pds.str_leven(\"word\", pl.lit(\"world\"))\n",
    ").head()"
   ]
  },
  {
   "cell_type": "code",
   "execution_count": 28,
   "id": "2eba320c",
   "metadata": {},
   "outputs": [
    {
     "data": {
      "text/html": [
       "<div><style>\n",
       ".dataframe > thead > tr,\n",
       ".dataframe > tbody > tr {\n",
       "  text-align: right;\n",
       "  white-space: pre-wrap;\n",
       "}\n",
       "</style>\n",
       "<small>shape: (5, 1)</small><table border=\"1\" class=\"dataframe\"><thead><tr><th>word</th></tr><tr><td>u32</td></tr></thead><tbody><tr><td>2</td></tr><tr><td>1</td></tr><tr><td>2</td></tr><tr><td>1</td></tr><tr><td>2</td></tr></tbody></table></div>"
      ],
      "text/plain": [
       "shape: (5, 1)\n",
       "┌──────┐\n",
       "│ word │\n",
       "│ ---  │\n",
       "│ u32  │\n",
       "╞══════╡\n",
       "│ 2    │\n",
       "│ 1    │\n",
       "│ 2    │\n",
       "│ 1    │\n",
       "│ 2    │\n",
       "└──────┘"
      ]
     },
     "execution_count": 28,
     "metadata": {},
     "output_type": "execute_result"
    }
   ],
   "source": [
    "# Damerau-Levenshtein\n",
    "df2.select(\n",
    "    pds.str_d_leven(\"word\", pl.lit(\"world\"))\n",
    ").head()"
   ]
  },
  {
   "cell_type": "code",
   "execution_count": 29,
   "id": "795396dc",
   "metadata": {},
   "outputs": [
    {
     "data": {
      "text/html": [
       "<div><style>\n",
       ".dataframe > thead > tr,\n",
       ".dataframe > tbody > tr {\n",
       "  text-align: right;\n",
       "  white-space: pre-wrap;\n",
       "}\n",
       "</style>\n",
       "<small>shape: (5, 1)</small><table border=\"1\" class=\"dataframe\"><thead><tr><th>word</th></tr><tr><td>f64</td></tr></thead><tbody><tr><td>0.6</td></tr><tr><td>0.8</td></tr><tr><td>0.6</td></tr><tr><td>0.8</td></tr><tr><td>0.6</td></tr></tbody></table></div>"
      ],
      "text/plain": [
       "shape: (5, 1)\n",
       "┌──────┐\n",
       "│ word │\n",
       "│ ---  │\n",
       "│ f64  │\n",
       "╞══════╡\n",
       "│ 0.6  │\n",
       "│ 0.8  │\n",
       "│ 0.6  │\n",
       "│ 0.8  │\n",
       "│ 0.6  │\n",
       "└──────┘"
      ]
     },
     "execution_count": 29,
     "metadata": {},
     "output_type": "execute_result"
    }
   ],
   "source": [
    "df2.select( # column \"word\" vs. the word \"world\"\n",
    "    pds.str_leven(\"word\", pl.lit(\"world\"), return_sim = True)\n",
    ").head()"
   ]
  },
  {
   "cell_type": "code",
   "execution_count": 30,
   "id": "2dad7633-67fa-47f3-b86a-9f4cd097a650",
   "metadata": {},
   "outputs": [
    {
     "data": {
      "text/html": [
       "<div><style>\n",
       ".dataframe > thead > tr,\n",
       ".dataframe > tbody > tr {\n",
       "  text-align: right;\n",
       "  white-space: pre-wrap;\n",
       "}\n",
       "</style>\n",
       "<small>shape: (5, 2)</small><table border=\"1\" class=\"dataframe\"><thead><tr><th>sen</th><th>word</th></tr><tr><td>str</td><td>str</td></tr></thead><tbody><tr><td>&quot;Hello, world! I&#x27;m going to chu…</td><td>&quot;word&quot;</td></tr><tr><td>&quot;Hello, world! I&#x27;m going to chu…</td><td>&quot;word&quot;</td></tr><tr><td>&quot;Hello, world! I&#x27;m going to chu…</td><td>&quot;word&quot;</td></tr><tr><td>&quot;Hello, world! I&#x27;m going to chu…</td><td>&quot;word&quot;</td></tr><tr><td>&quot;Hello, world! I&#x27;m going to chu…</td><td>&quot;word&quot;</td></tr></tbody></table></div>"
      ],
      "text/plain": [
       "shape: (5, 2)\n",
       "┌─────────────────────────────────┬──────┐\n",
       "│ sen                             ┆ word │\n",
       "│ ---                             ┆ ---  │\n",
       "│ str                             ┆ str  │\n",
       "╞═════════════════════════════════╪══════╡\n",
       "│ Hello, world! I'm going to chu… ┆ word │\n",
       "│ Hello, world! I'm going to chu… ┆ word │\n",
       "│ Hello, world! I'm going to chu… ┆ word │\n",
       "│ Hello, world! I'm going to chu… ┆ word │\n",
       "│ Hello, world! I'm going to chu… ┆ word │\n",
       "└─────────────────────────────────┴──────┘"
      ]
     },
     "execution_count": 30,
     "metadata": {},
     "output_type": "execute_result"
    }
   ],
   "source": [
    "df2.filter(\n",
    "    # This is way faster than computing ditance and then doing a filter\n",
    "    pds.filter_by_levenshtein(pl.col(\"word\"), pl.lit(\"world\"), 1) # <= 1. \n",
    ").head()"
   ]
  },
  {
   "cell_type": "code",
   "execution_count": 31,
   "id": "dc9477c1",
   "metadata": {},
   "outputs": [],
   "source": [
    "df = pl.DataFrame({\n",
    "    \"word\":[\"apple\", \"banana\", \"pineapple\", \"asasasas\", \"sasasass\"],\n",
    "    \"other_data\": [1,2,3,4,5]\n",
    "})\n",
    "gibberish = [\"asasasa\", \"sasaaasss\", \"asdasadadfa\"]"
   ]
  },
  {
   "cell_type": "code",
   "execution_count": 32,
   "id": "cf0c0e72",
   "metadata": {},
   "outputs": [
    {
     "data": {
      "text/html": [
       "<div><style>\n",
       ".dataframe > thead > tr,\n",
       ".dataframe > tbody > tr {\n",
       "  text-align: right;\n",
       "  white-space: pre-wrap;\n",
       "}\n",
       "</style>\n",
       "<small>shape: (1, 1)</small><table border=\"1\" class=\"dataframe\"><thead><tr><th>word</th></tr><tr><td>str</td></tr></thead><tbody><tr><td>&quot;banana&quot;</td></tr></tbody></table></div>"
      ],
      "text/plain": [
       "shape: (1, 1)\n",
       "┌────────┐\n",
       "│ word   │\n",
       "│ ---    │\n",
       "│ str    │\n",
       "╞════════╡\n",
       "│ banana │\n",
       "└────────┘"
      ]
     },
     "execution_count": 32,
     "metadata": {},
     "output_type": "execute_result"
    }
   ],
   "source": [
    "df.select(\n",
    "    # Nearest string\n",
    "    pds.str_nearest(\"word\", word = \"banana\")\n",
    ")"
   ]
  },
  {
   "cell_type": "code",
   "execution_count": 33,
   "id": "c50591e0",
   "metadata": {},
   "outputs": [
    {
     "data": {
      "text/html": [
       "<div><style>\n",
       ".dataframe > thead > tr,\n",
       ".dataframe > tbody > tr {\n",
       "  text-align: right;\n",
       "  white-space: pre-wrap;\n",
       "}\n",
       "</style>\n",
       "<small>shape: (2, 2)</small><table border=\"1\" class=\"dataframe\"><thead><tr><th>word</th><th>other_data</th></tr><tr><td>str</td><td>i64</td></tr></thead><tbody><tr><td>&quot;asasasas&quot;</td><td>4</td></tr><tr><td>&quot;sasasass&quot;</td><td>5</td></tr></tbody></table></div>"
      ],
      "text/plain": [
       "shape: (2, 2)\n",
       "┌──────────┬────────────┐\n",
       "│ word     ┆ other_data │\n",
       "│ ---      ┆ ---        │\n",
       "│ str      ┆ i64        │\n",
       "╞══════════╪════════════╡\n",
       "│ asasasas ┆ 4          │\n",
       "│ sasasass ┆ 5          │\n",
       "└──────────┴────────────┘"
      ]
     },
     "execution_count": 33,
     "metadata": {},
     "output_type": "execute_result"
    }
   ],
   "source": [
    "df.filter(\n",
    "    # Filters to words that are similar to any word in vocab\n",
    "    pds.similar_to_vocab(\n",
    "        pl.col(\"word\"),\n",
    "        vocab = gibberish,\n",
    "        threshold = 0.5,\n",
    "        metric = \"lv\", # Levenshtein similarity. Other options: dleven, osa, jw\n",
    "        strategy = \"any\" # True if the word is similar to any word in vocab. Other options: \"all\", \"avg\"\n",
    "    )\n",
    ")"
   ]
  },
  {
   "cell_type": "code",
   "execution_count": 34,
   "id": "7ece3794",
   "metadata": {},
   "outputs": [
    {
     "data": {
      "text/html": [
       "<div><style>\n",
       ".dataframe > thead > tr,\n",
       ".dataframe > tbody > tr {\n",
       "  text-align: right;\n",
       "  white-space: pre-wrap;\n",
       "}\n",
       "</style>\n",
       "<small>shape: (5, 6)</small><table border=\"1\" class=\"dataframe\"><thead><tr><th>asasasa</th><th>sasaaasss</th><th>asdasadadfa</th><th>LCS based Fuzz match - apples</th><th>Optimal String Alignment - apples</th><th>Jaro-Winkler - apples</th></tr><tr><td>f64</td><td>f64</td><td>f64</td><td>f64</td><td>f64</td><td>f64</td></tr></thead><tbody><tr><td>0.142857</td><td>0.111111</td><td>0.090909</td><td>0.833333</td><td>0.833333</td><td>0.966667</td></tr><tr><td>0.428571</td><td>0.333333</td><td>0.272727</td><td>0.166667</td><td>0.0</td><td>0.444444</td></tr><tr><td>0.111111</td><td>0.111111</td><td>0.090909</td><td>0.555556</td><td>0.444444</td><td>0.5</td></tr><tr><td>0.875</td><td>0.666667</td><td>0.545455</td><td>0.25</td><td>0.25</td><td>0.527778</td></tr><tr><td>0.75</td><td>0.777778</td><td>0.454545</td><td>0.25</td><td>0.25</td><td>0.527778</td></tr></tbody></table></div>"
      ],
      "text/plain": [
       "shape: (5, 6)\n",
       "┌──────────┬───────────┬─────────────┬────────────────┬──────────────────┬─────────────────────────┐\n",
       "│ asasasa  ┆ sasaaasss ┆ asdasadadfa ┆ LCS based Fuzz ┆ Optimal String   ┆ Jaro-Winkler - apples   │\n",
       "│ ---      ┆ ---       ┆ ---         ┆ match - apples ┆ Alignment - app… ┆ ---                     │\n",
       "│ f64      ┆ f64       ┆ f64         ┆ ---            ┆ ---              ┆ f64                     │\n",
       "│          ┆           ┆             ┆ f64            ┆ f64              ┆                         │\n",
       "╞══════════╪═══════════╪═════════════╪════════════════╪══════════════════╪═════════════════════════╡\n",
       "│ 0.142857 ┆ 0.111111  ┆ 0.090909    ┆ 0.833333       ┆ 0.833333         ┆ 0.966667                │\n",
       "│ 0.428571 ┆ 0.333333  ┆ 0.272727    ┆ 0.166667       ┆ 0.0              ┆ 0.444444                │\n",
       "│ 0.111111 ┆ 0.111111  ┆ 0.090909    ┆ 0.555556       ┆ 0.444444         ┆ 0.5                     │\n",
       "│ 0.875    ┆ 0.666667  ┆ 0.545455    ┆ 0.25           ┆ 0.25             ┆ 0.527778                │\n",
       "│ 0.75     ┆ 0.777778  ┆ 0.454545    ┆ 0.25           ┆ 0.25             ┆ 0.527778                │\n",
       "└──────────┴───────────┴─────────────┴────────────────┴──────────────────┴─────────────────────────┘"
      ]
     },
     "execution_count": 34,
     "metadata": {},
     "output_type": "execute_result"
    }
   ],
   "source": [
    "df.select(\n",
    "    pds.str_leven(\"word\", pl.lit(\"asasasa\"), return_sim=True).alias(\"asasasa\"),\n",
    "    pds.str_leven(\"word\", pl.lit(\"sasaaasss\"), return_sim=True).alias(\"sasaaasss\"),\n",
    "    pds.str_leven(\"word\", pl.lit(\"asdasadadfa\"), return_sim=True).alias(\"asdasadadfa\"),\n",
    "    pds.str_fuzz(\"word\", pl.lit(\"apples\")).alias(\"LCS based Fuzz match - apples\"),\n",
    "    pds.str_osa(\"word\", pl.lit(\"apples\"), return_sim=True).alias(\"Optimal String Alignment - apples\"),\n",
    "    pds.str_jw(\"word\", pl.lit(\"apples\")).alias(\"Jaro-Winkler - apples\"),\n",
    ")\n"
   ]
  },
  {
   "cell_type": "markdown",
   "id": "8841f2a1",
   "metadata": {},
   "source": [
    "# Stats Extension"
   ]
  },
  {
   "cell_type": "code",
   "execution_count": 35,
   "id": "2c6171b0",
   "metadata": {},
   "outputs": [
    {
     "data": {
      "text/html": [
       "<div><style>\n",
       ".dataframe > thead > tr,\n",
       ".dataframe > tbody > tr {\n",
       "  text-align: right;\n",
       "  white-space: pre-wrap;\n",
       "}\n",
       "</style>\n",
       "<small>shape: (5, 1)</small><table border=\"1\" class=\"dataframe\"><thead><tr><th>a</th></tr><tr><td>f64</td></tr></thead><tbody><tr><td>null</td></tr><tr><td>null</td></tr><tr><td>-0.235002</td></tr><tr><td>0.690898</td></tr><tr><td>-2.766704</td></tr></tbody></table></div>"
      ],
      "text/plain": [
       "shape: (5, 1)\n",
       "┌───────────┐\n",
       "│ a         │\n",
       "│ ---       │\n",
       "│ f64       │\n",
       "╞═══════════╡\n",
       "│ null      │\n",
       "│ null      │\n",
       "│ -0.235002 │\n",
       "│ 0.690898  │\n",
       "│ -2.766704 │\n",
       "└───────────┘"
      ]
     },
     "execution_count": 35,
     "metadata": {},
     "output_type": "execute_result"
    }
   ],
   "source": [
    "import numpy as np\n",
    "\n",
    "df = pl.DataFrame({\n",
    "    \"a\": [None, None] + list(np.random.normal(size = 998))\n",
    "})\n",
    "df.head()"
   ]
  },
  {
   "cell_type": "code",
   "execution_count": 36,
   "id": "2f6e7445",
   "metadata": {},
   "outputs": [
    {
     "data": {
      "text/html": [
       "<div><style>\n",
       ".dataframe > thead > tr,\n",
       ".dataframe > tbody > tr {\n",
       "  text-align: right;\n",
       "  white-space: pre-wrap;\n",
       "}\n",
       "</style>\n",
       "<small>shape: (5, 3)</small><table border=\"1\" class=\"dataframe\"><thead><tr><th>a</th><th>random_normal</th><th>random_normal_that_respects_null_of_a</th></tr><tr><td>f64</td><td>f64</td><td>f64</td></tr></thead><tbody><tr><td>null</td><td>1.070217</td><td>null</td></tr><tr><td>null</td><td>-0.571811</td><td>null</td></tr><tr><td>-0.235002</td><td>0.736468</td><td>-0.470783</td></tr><tr><td>0.690898</td><td>1.677268</td><td>1.808989</td></tr><tr><td>-2.766704</td><td>1.314463</td><td>0.62103</td></tr></tbody></table></div>"
      ],
      "text/plain": [
       "shape: (5, 3)\n",
       "┌───────────┬───────────────┬─────────────────────────────────┐\n",
       "│ a         ┆ random_normal ┆ random_normal_that_respects_nu… │\n",
       "│ ---       ┆ ---           ┆ ---                             │\n",
       "│ f64       ┆ f64           ┆ f64                             │\n",
       "╞═══════════╪═══════════════╪═════════════════════════════════╡\n",
       "│ null      ┆ 1.070217      ┆ null                            │\n",
       "│ null      ┆ -0.571811     ┆ null                            │\n",
       "│ -0.235002 ┆ 0.736468      ┆ -0.470783                       │\n",
       "│ 0.690898  ┆ 1.677268      ┆ 1.808989                        │\n",
       "│ -2.766704 ┆ 1.314463      ┆ 0.62103                         │\n",
       "└───────────┴───────────────┴─────────────────────────────────┘"
      ]
     },
     "execution_count": 36,
     "metadata": {},
     "output_type": "execute_result"
    }
   ],
   "source": [
    "# Genenrate random numbers, respecting null positions in reference column (pl.col(\"a\"))\n",
    "df.with_columns(\n",
    "    pds.random_normal(mean = 0.5, std = 1.0).alias(\"random_normal\"),\n",
    "    pl.when(pl.col(\"a\").is_null()).then(None).otherwise(\n",
    "        pds.random_normal(mean = 0.5, std = 1.0).alias(\"random_normal\")\n",
    "    ).alias(\"random_normal_that_respects_null_of_a\")\n",
    ").head()"
   ]
  },
  {
   "cell_type": "code",
   "execution_count": 37,
   "id": "11e13f55",
   "metadata": {},
   "outputs": [
    {
     "data": {
      "text/html": [
       "<div><style>\n",
       ".dataframe > thead > tr,\n",
       ".dataframe > tbody > tr {\n",
       "  text-align: right;\n",
       "  white-space: pre-wrap;\n",
       "}\n",
       "</style>\n",
       "<small>shape: (5, 3)</small><table border=\"1\" class=\"dataframe\"><thead><tr><th>a</th><th>random_str</th><th>random_str_that_respects_null_of_a</th></tr><tr><td>f64</td><td>str</td><td>str</td></tr></thead><tbody><tr><td>null</td><td>&quot;oQn8Y&quot;</td><td>null</td></tr><tr><td>null</td><td>&quot;XZV3&quot;</td><td>null</td></tr><tr><td>-0.235002</td><td>&quot;Qm&quot;</td><td>&quot;6ZpT&quot;</td></tr><tr><td>0.690898</td><td>&quot;DUVaG&quot;</td><td>&quot;T&quot;</td></tr><tr><td>-2.766704</td><td>&quot;2bg&quot;</td><td>&quot;ZO&quot;</td></tr></tbody></table></div>"
      ],
      "text/plain": [
       "shape: (5, 3)\n",
       "┌───────────┬────────────┬─────────────────────────────────┐\n",
       "│ a         ┆ random_str ┆ random_str_that_respects_null_… │\n",
       "│ ---       ┆ ---        ┆ ---                             │\n",
       "│ f64       ┆ str        ┆ str                             │\n",
       "╞═══════════╪════════════╪═════════════════════════════════╡\n",
       "│ null      ┆ oQn8Y      ┆ null                            │\n",
       "│ null      ┆ XZV3       ┆ null                            │\n",
       "│ -0.235002 ┆ Qm         ┆ 6ZpT                            │\n",
       "│ 0.690898  ┆ DUVaG      ┆ T                               │\n",
       "│ -2.766704 ┆ 2bg        ┆ ZO                              │\n",
       "└───────────┴────────────┴─────────────────────────────────┘"
      ]
     },
     "execution_count": 37,
     "metadata": {},
     "output_type": "execute_result"
    }
   ],
   "source": [
    "# Genenrate random string\n",
    "df.with_columns(\n",
    "    pds.random_str(min_size = 1, max_size = 5).alias(\"random_str\"),\n",
    "    pl.when(pl.col(\"a\").is_null()).then(None).otherwise(\n",
    "        pds.random_str(min_size = 1, max_size = 5)\n",
    "    ).alias(\"random_str_that_respects_null_of_a\")\n",
    ").head()"
   ]
  },
  {
   "cell_type": "code",
   "execution_count": 38,
   "id": "43c37394",
   "metadata": {},
   "outputs": [
    {
     "data": {
      "text/html": [
       "<div><style>\n",
       ".dataframe > thead > tr,\n",
       ".dataframe > tbody > tr {\n",
       "  text-align: right;\n",
       "  white-space: pre-wrap;\n",
       "}\n",
       "</style>\n",
       "<small>shape: (5, 2)</small><table border=\"1\" class=\"dataframe\"><thead><tr><th>a</th><th>random_str</th></tr><tr><td>f64</td><td>str</td></tr></thead><tbody><tr><td>null</td><td>null</td></tr><tr><td>null</td><td>null</td></tr><tr><td>-0.235002</td><td>&quot;DCR5x&quot;</td></tr><tr><td>0.690898</td><td>&quot;PqEEc&quot;</td></tr><tr><td>-2.766704</td><td>&quot;UYb7X&quot;</td></tr></tbody></table></div>"
      ],
      "text/plain": [
       "shape: (5, 2)\n",
       "┌───────────┬────────────┐\n",
       "│ a         ┆ random_str │\n",
       "│ ---       ┆ ---        │\n",
       "│ f64       ┆ str        │\n",
       "╞═══════════╪════════════╡\n",
       "│ null      ┆ null       │\n",
       "│ null      ┆ null       │\n",
       "│ -0.235002 ┆ DCR5x      │\n",
       "│ 0.690898  ┆ PqEEc      │\n",
       "│ -2.766704 ┆ UYb7X      │\n",
       "└───────────┴────────────┘"
      ]
     },
     "execution_count": 38,
     "metadata": {},
     "output_type": "execute_result"
    }
   ],
   "source": [
    "# Genenrate fixed size random string, while respecting column a's nulls\n",
    "df.with_columns(\n",
    "    pl.when(pl.col(\"a\").is_null()).then(None).otherwise(\n",
    "        pds.random_str(min_size = 5, max_size = 5)\n",
    "    ).alias(\"random_str\")\n",
    ").head()"
   ]
  },
  {
   "cell_type": "code",
   "execution_count": 39,
   "id": "3d0c06a4",
   "metadata": {},
   "outputs": [
    {
     "data": {
      "text/html": [
       "<div><style>\n",
       ".dataframe > thead > tr,\n",
       ".dataframe > tbody > tr {\n",
       "  text-align: right;\n",
       "  white-space: pre-wrap;\n",
       "}\n",
       "</style>\n",
       "<small>shape: (5, 4)</small><table border=\"1\" class=\"dataframe\"><thead><tr><th>a</th><th>test1</th><th>literal</th><th>test1_perturbed</th></tr><tr><td>f64</td><td>f64</td><td>f64</td><td>f64</td></tr></thead><tbody><tr><td>null</td><td>-0.123625</td><td>null</td><td>-0.123441</td></tr><tr><td>null</td><td>-1.691028</td><td>null</td><td>-1.691397</td></tr><tr><td>-0.235002</td><td>0.856147</td><td>0.524302</td><td>0.856287</td></tr><tr><td>0.690898</td><td>-1.471031</td><td>1.066612</td><td>-1.47093</td></tr><tr><td>-2.766704</td><td>-0.373147</td><td>0.049235</td><td>-0.37355</td></tr></tbody></table></div>"
      ],
      "text/plain": [
       "shape: (5, 4)\n",
       "┌───────────┬───────────┬──────────┬─────────────────┐\n",
       "│ a         ┆ test1     ┆ literal  ┆ test1_perturbed │\n",
       "│ ---       ┆ ---       ┆ ---      ┆ ---             │\n",
       "│ f64       ┆ f64       ┆ f64      ┆ f64             │\n",
       "╞═══════════╪═══════════╪══════════╪═════════════════╡\n",
       "│ null      ┆ -0.123625 ┆ null     ┆ -0.123441       │\n",
       "│ null      ┆ -1.691028 ┆ null     ┆ -1.691397       │\n",
       "│ -0.235002 ┆ 0.856147  ┆ 0.524302 ┆ 0.856287        │\n",
       "│ 0.690898  ┆ -1.471031 ┆ 1.066612 ┆ -1.47093        │\n",
       "│ -2.766704 ┆ -0.373147 ┆ 0.049235 ┆ -0.37355        │\n",
       "└───────────┴───────────┴──────────┴─────────────────┘"
      ]
     },
     "execution_count": 39,
     "metadata": {},
     "output_type": "execute_result"
    }
   ],
   "source": [
    "df.with_columns(\n",
    "    # Sample from a normal distribution, using reference column \"a\" 's mean and std\n",
    "    pds.random_normal(pl.col(\"a\").mean(), pl.col(\"a\").std()).alias(\"test1\") \n",
    "    # Sample from uniform distribution, with low = 0 and high = \"a\"'s max, and respect the nulls in \"a\"\n",
    "    , pl.when(pl.col(\"a\").is_null()).then(None).otherwise(\n",
    "        pds.random(lower = 0., upper = pl.col(\"a\").max()).alias(\"test2\")\n",
    "    )\n",
    ").with_columns(\n",
    "    # Add a random pertubation to test1\n",
    "    pds.perturb(\"test1\", epsilon=0.001).alias(\"test1_perturbed\")\n",
    ").head()"
   ]
  },
  {
   "cell_type": "code",
   "execution_count": 40,
   "id": "67dc6583",
   "metadata": {},
   "outputs": [
    {
     "data": {
      "text/html": [
       "<div><style>\n",
       ".dataframe > thead > tr,\n",
       ".dataframe > tbody > tr {\n",
       "  text-align: right;\n",
       "  white-space: pre-wrap;\n",
       "}\n",
       "</style>\n",
       "<small>shape: (5, 4)</small><table border=\"1\" class=\"dataframe\"><thead><tr><th>a</th><th>[0, 1)</th><th>Normal</th><th>Int from [0, 10)</th></tr><tr><td>f64</td><td>f64</td><td>f64</td><td>i32</td></tr></thead><tbody><tr><td>null</td><td>0.143557</td><td>0.374139</td><td>8</td></tr><tr><td>null</td><td>0.424823</td><td>2.333433</td><td>5</td></tr><tr><td>-0.235002</td><td>0.193159</td><td>0.64696</td><td>8</td></tr><tr><td>0.690898</td><td>0.083981</td><td>2.059376</td><td>2</td></tr><tr><td>-2.766704</td><td>0.553186</td><td>0.532175</td><td>8</td></tr></tbody></table></div>"
      ],
      "text/plain": [
       "shape: (5, 4)\n",
       "┌───────────┬──────────┬──────────┬──────────────────┐\n",
       "│ a         ┆ [0, 1)   ┆ Normal   ┆ Int from [0, 10) │\n",
       "│ ---       ┆ ---      ┆ ---      ┆ ---              │\n",
       "│ f64       ┆ f64      ┆ f64      ┆ i32              │\n",
       "╞═══════════╪══════════╪══════════╪══════════════════╡\n",
       "│ null      ┆ 0.143557 ┆ 0.374139 ┆ 8                │\n",
       "│ null      ┆ 0.424823 ┆ 2.333433 ┆ 5                │\n",
       "│ -0.235002 ┆ 0.193159 ┆ 0.64696  ┆ 8                │\n",
       "│ 0.690898  ┆ 0.083981 ┆ 2.059376 ┆ 2                │\n",
       "│ -2.766704 ┆ 0.553186 ┆ 0.532175 ┆ 8                │\n",
       "└───────────┴──────────┴──────────┴──────────────────┘"
      ]
     },
     "execution_count": 40,
     "metadata": {},
     "output_type": "execute_result"
    }
   ],
   "source": [
    "# New in v0.3.5\n",
    "# This way, we don't have a reference column, so we cannot respect nulls, but is more convenient to use.\n",
    "df.with_columns(\n",
    "    pds.random().alias(\"[0, 1)\"),\n",
    "    pds.random_normal(pl.col(\"a\").mean(), pl.col(\"a\").std()).alias(\"Normal\"),\n",
    "    pds.random_int(0, 10).alias(\"Int from [0, 10)\"),\n",
    ").head()"
   ]
  },
  {
   "cell_type": "code",
   "execution_count": 41,
   "id": "7b63f636",
   "metadata": {},
   "outputs": [
    {
     "data": {
      "text/html": [
       "<div><style>\n",
       ".dataframe > thead > tr,\n",
       ".dataframe > tbody > tr {\n",
       "  text-align: right;\n",
       "  white-space: pre-wrap;\n",
       "}\n",
       "</style>\n",
       "<small>shape: (1, 4)</small><table border=\"1\" class=\"dataframe\"><thead><tr><th>t-tests: statistics</th><th>t-tests: pvalue</th><th>normality_test: statistics</th><th>normality_test: pvalue</th></tr><tr><td>f64</td><td>f64</td><td>f64</td><td>f64</td></tr></thead><tbody><tr><td>0.508863</td><td>0.610926</td><td>0.262524</td><td>0.876988</td></tr></tbody></table></div>"
      ],
      "text/plain": [
       "shape: (1, 4)\n",
       "┌─────────────────────┬─────────────────┬────────────────────────────┬────────────────────────┐\n",
       "│ t-tests: statistics ┆ t-tests: pvalue ┆ normality_test: statistics ┆ normality_test: pvalue │\n",
       "│ ---                 ┆ ---             ┆ ---                        ┆ ---                    │\n",
       "│ f64                 ┆ f64             ┆ f64                        ┆ f64                    │\n",
       "╞═════════════════════╪═════════════════╪════════════════════════════╪════════════════════════╡\n",
       "│ 0.508863            ┆ 0.610926        ┆ 0.262524                   ┆ 0.876988               │\n",
       "└─────────────────────┴─────────────────┴────────────────────────────┴────────────────────────┘"
      ]
     },
     "execution_count": 41,
     "metadata": {},
     "output_type": "execute_result"
    }
   ],
   "source": [
    "# Genenrate 2 random sample, both normally distributed\n",
    "# Run Welch's t test on them, p value should be big since they have equal mean\n",
    "# Run a normality test. Again, p value should be big since they are normally distributed \n",
    "\n",
    "df.with_columns(\n",
    "    pds.random_normal(0.5, 1.0).alias(\"test1\"),\n",
    "    pds.random_normal(0.5, 2.0).alias(\"test2\"),\n",
    ").select(\n",
    "    pds.ttest_ind(\"test1\", \"test2\", equal_var=False).alias(\"t-test\"),\n",
    "    pds.normal_test(\"test1\").alias(\"normality_test\")\n",
    ").select(\n",
    "    pl.col(\"t-test\").struct.field(\"statistic\").alias(\"t-tests: statistics\")\n",
    "    , pl.col(\"t-test\").struct.field(\"pvalue\").alias(\"t-tests: pvalue\")\n",
    "    , pl.col(\"normality_test\").struct.field(\"statistic\").alias(\"normality_test: statistics\")\n",
    "    , pl.col(\"normality_test\").struct.field(\"pvalue\").alias(\"normality_test: pvalue\")\n",
    ")"
   ]
  },
  {
   "cell_type": "code",
   "execution_count": 42,
   "id": "b46a72a5",
   "metadata": {},
   "outputs": [
    {
     "data": {
      "text/html": [
       "<div><style>\n",
       ".dataframe > thead > tr,\n",
       ".dataframe > tbody > tr {\n",
       "  text-align: right;\n",
       "  white-space: pre-wrap;\n",
       "}\n",
       "</style>\n",
       "<small>shape: (5, 5)</small><table border=\"1\" class=\"dataframe\"><thead><tr><th>market_id</th><th>var1</th><th>var2</th><th>category_1</th><th>category_2</th></tr><tr><td>i64</td><td>f64</td><td>f64</td><td>i32</td><td>i32</td></tr></thead><tbody><tr><td>0</td><td>0.672702</td><td>0.865685</td><td>0</td><td>8</td></tr><tr><td>1</td><td>0.705295</td><td>0.563739</td><td>0</td><td>7</td></tr><tr><td>2</td><td>0.58488</td><td>0.081444</td><td>1</td><td>3</td></tr><tr><td>0</td><td>0.67017</td><td>0.38607</td><td>3</td><td>1</td></tr><tr><td>1</td><td>0.4255</td><td>0.084388</td><td>2</td><td>5</td></tr></tbody></table></div>"
      ],
      "text/plain": [
       "shape: (5, 5)\n",
       "┌───────────┬──────────┬──────────┬────────────┬────────────┐\n",
       "│ market_id ┆ var1     ┆ var2     ┆ category_1 ┆ category_2 │\n",
       "│ ---       ┆ ---      ┆ ---      ┆ ---        ┆ ---        │\n",
       "│ i64       ┆ f64      ┆ f64      ┆ i32        ┆ i32        │\n",
       "╞═══════════╪══════════╪══════════╪════════════╪════════════╡\n",
       "│ 0         ┆ 0.672702 ┆ 0.865685 ┆ 0          ┆ 8          │\n",
       "│ 1         ┆ 0.705295 ┆ 0.563739 ┆ 0          ┆ 7          │\n",
       "│ 2         ┆ 0.58488  ┆ 0.081444 ┆ 1          ┆ 3          │\n",
       "│ 0         ┆ 0.67017  ┆ 0.38607  ┆ 3          ┆ 1          │\n",
       "│ 1         ┆ 0.4255   ┆ 0.084388 ┆ 2          ┆ 5          │\n",
       "└───────────┴──────────┴──────────┴────────────┴────────────┘"
      ]
     },
     "execution_count": 42,
     "metadata": {},
     "output_type": "execute_result"
    }
   ],
   "source": [
    "size = 5_000\n",
    "df = pl.DataFrame({\n",
    "    \"market_id\": range(size),\n",
    "}).with_columns(\n",
    "    pl.col(\"market_id\").mod(3),\n",
    "    var1 = pds.random(),\n",
    "    var2 = pds.random(),\n",
    "    category_1 = pds.random_int(0, 5),\n",
    "    category_2 = pds.random_int(0, 10),\n",
    ")\n",
    "\n",
    "df.head(5)"
   ]
  },
  {
   "cell_type": "code",
   "execution_count": 43,
   "id": "adc4f66f",
   "metadata": {},
   "outputs": [
    {
     "data": {
      "text/html": [
       "<div><style>\n",
       ".dataframe > thead > tr,\n",
       ".dataframe > tbody > tr {\n",
       "  text-align: right;\n",
       "  white-space: pre-wrap;\n",
       "}\n",
       "</style>\n",
       "<small>shape: (1, 3)</small><table border=\"1\" class=\"dataframe\"><thead><tr><th>t-test</th><th>chi2-test</th><th>f-test</th></tr><tr><td>struct[2]</td><td>struct[2]</td><td>struct[2]</td></tr></thead><tbody><tr><td>{0.44077,0.659389}</td><td>{32.159171,0.651894}</td><td>{1.629011,0.163967}</td></tr></tbody></table></div>"
      ],
      "text/plain": [
       "shape: (1, 3)\n",
       "┌────────────────────┬──────────────────────┬─────────────────────┐\n",
       "│ t-test             ┆ chi2-test            ┆ f-test              │\n",
       "│ ---                ┆ ---                  ┆ ---                 │\n",
       "│ struct[2]          ┆ struct[2]            ┆ struct[2]           │\n",
       "╞════════════════════╪══════════════════════╪═════════════════════╡\n",
       "│ {0.44077,0.659389} ┆ {32.159171,0.651894} ┆ {1.629011,0.163967} │\n",
       "└────────────────────┴──────────────────────┴─────────────────────┘"
      ]
     },
     "execution_count": 43,
     "metadata": {},
     "output_type": "execute_result"
    }
   ],
   "source": [
    "# In dataframe statistical tests!\n",
    "df.select(\n",
    "    pds.ttest_ind(\"var1\", \"var2\", equal_var=True).alias(\"t-test\"),\n",
    "    pds.chi2(\"category_1\", \"category_2\").alias(\"chi2-test\"),\n",
    "    pds.f_test(\"var1\", group = \"category_1\").alias(\"f-test\")\n",
    ")"
   ]
  },
  {
   "cell_type": "code",
   "execution_count": 44,
   "id": "65dbb6bd",
   "metadata": {},
   "outputs": [
    {
     "name": "stdout",
     "output_type": "stream",
     "text": [
      "shape: (3, 4)\n",
      "┌───────────┬──────────────────────┬──────────────────────┬─────────────────────┐\n",
      "│ market_id ┆ t-test               ┆ chi2-test            ┆ f-test              │\n",
      "│ ---       ┆ ---                  ┆ ---                  ┆ ---                 │\n",
      "│ i64       ┆ struct[2]            ┆ struct[2]            ┆ struct[2]           │\n",
      "╞═══════════╪══════════════════════╪══════════════════════╪═════════════════════╡\n",
      "│ 0         ┆ {0.678266,0.49765}   ┆ {27.885553,0.831255} ┆ {0.527716,0.71539}  │\n",
      "│ 1         ┆ {0.494796,0.620777}  ┆ {31.501982,0.6824}   ┆ {2.438253,0.045223} │\n",
      "│ 2         ┆ {-0.418066,0.675925} ┆ {28.162548,0.821357} ┆ {2.882355,0.021516} │\n",
      "└───────────┴──────────────────────┴──────────────────────┴─────────────────────┘\n"
     ]
    }
   ],
   "source": [
    "# Can also be done in group by context\n",
    "print(\n",
    "    df.group_by(\"market_id\").agg(\n",
    "        pds.ttest_ind(\"var1\", \"var2\", equal_var=False).alias(\"t-test\"),\n",
    "        pds.chi2(\"category_1\", \"category_2\").alias(\"chi2-test\"),\n",
    "        pds.f_test(\"var1\", group = \"category_1\").alias(\"f-test\")\n",
    "    )\n",
    ")"
   ]
  },
  {
   "cell_type": "code",
   "execution_count": 45,
   "id": "843d54c5",
   "metadata": {},
   "outputs": [
    {
     "data": {
      "text/html": [
       "<div><style>\n",
       ".dataframe > thead > tr,\n",
       ".dataframe > tbody > tr {\n",
       "  text-align: right;\n",
       "  white-space: pre-wrap;\n",
       "}\n",
       "</style>\n",
       "<small>shape: (9, 2)</small><table border=\"1\" class=\"dataframe\"><thead><tr><th>first_digit_cnt</th><th>first_digit_distribution</th></tr><tr><td>u32</td><td>f64</td></tr></thead><tbody><tr><td>559</td><td>0.1118</td></tr><tr><td>561</td><td>0.1122</td></tr><tr><td>542</td><td>0.1084</td></tr><tr><td>555</td><td>0.111</td></tr><tr><td>548</td><td>0.1096</td></tr><tr><td>551</td><td>0.1102</td></tr><tr><td>552</td><td>0.1104</td></tr><tr><td>557</td><td>0.1114</td></tr><tr><td>575</td><td>0.115</td></tr></tbody></table></div>"
      ],
      "text/plain": [
       "shape: (9, 2)\n",
       "┌─────────────────┬──────────────────────────┐\n",
       "│ first_digit_cnt ┆ first_digit_distribution │\n",
       "│ ---             ┆ ---                      │\n",
       "│ u32             ┆ f64                      │\n",
       "╞═════════════════╪══════════════════════════╡\n",
       "│ 559             ┆ 0.1118                   │\n",
       "│ 561             ┆ 0.1122                   │\n",
       "│ 542             ┆ 0.1084                   │\n",
       "│ 555             ┆ 0.111                    │\n",
       "│ 548             ┆ 0.1096                   │\n",
       "│ 551             ┆ 0.1102                   │\n",
       "│ 552             ┆ 0.1104                   │\n",
       "│ 557             ┆ 0.1114                   │\n",
       "│ 575             ┆ 0.115                    │\n",
       "└─────────────────┴──────────────────────────┘"
      ]
     },
     "execution_count": 45,
     "metadata": {},
     "output_type": "execute_result"
    }
   ],
   "source": [
    "# Benford's law\n",
    "df.select(\n",
    "    first_digit_cnt = pds.query_first_digit_cnt(pl.col(\"var1\")).explode()\n",
    ").with_columns(\n",
    "    # This doesn't follow benford's law because it is random data\n",
    "    first_digit_distribution = pl.col(\"first_digit_cnt\") / pl.col(\"first_digit_cnt\").sum()\n",
    ")"
   ]
  },
  {
   "cell_type": "markdown",
   "id": "b232e4d7",
   "metadata": {},
   "source": [
    "# Nearest Neighbors Related Tasks\n",
    "\n",
    "These queries can be very slow when data/dimension gets huge, even when processed in parallel."
   ]
  },
  {
   "cell_type": "code",
   "execution_count": 46,
   "id": "87aff1ef",
   "metadata": {},
   "outputs": [],
   "source": [
    "import polars_ds as pds\n",
    "size = 2000\n",
    "df = pl.DataFrame({\n",
    "    \"id\": range(size), \n",
    "}).with_columns(\n",
    "    pds.random().alias(\"var1\"),\n",
    "    pds.random().alias(\"var2\"),\n",
    "    pds.random().alias(\"var3\"),\n",
    "    pds.random().alias(\"r\"),\n",
    "    (pds.random() * 10).alias(\"rh\"),\n",
    "    pl.col(\"id\").cast(pl.UInt32)\n",
    ")"
   ]
  },
  {
   "cell_type": "code",
   "execution_count": 47,
   "id": "2fae4b5e",
   "metadata": {},
   "outputs": [
    {
     "data": {
      "text/html": [
       "<div><style>\n",
       ".dataframe > thead > tr,\n",
       ".dataframe > tbody > tr {\n",
       "  text-align: right;\n",
       "  white-space: pre-wrap;\n",
       "}\n",
       "</style>\n",
       "<small>shape: (5, 7)</small><table border=\"1\" class=\"dataframe\"><thead><tr><th>id</th><th>var1</th><th>var2</th><th>var3</th><th>r</th><th>rh</th><th>nb_l_inf_cnt</th></tr><tr><td>u32</td><td>f64</td><td>f64</td><td>f64</td><td>f64</td><td>f64</td><td>u32</td></tr></thead><tbody><tr><td>0</td><td>0.876859</td><td>0.133115</td><td>0.423981</td><td>0.503255</td><td>7.166269</td><td>12</td></tr><tr><td>1</td><td>0.994173</td><td>0.428538</td><td>0.904636</td><td>0.443848</td><td>0.502891</td><td>10</td></tr><tr><td>2</td><td>0.581176</td><td>0.818299</td><td>0.717389</td><td>0.836512</td><td>4.573288</td><td>19</td></tr><tr><td>3</td><td>0.377086</td><td>0.714554</td><td>0.191054</td><td>0.558064</td><td>3.178318</td><td>18</td></tr><tr><td>4</td><td>0.710425</td><td>0.80805</td><td>0.756021</td><td>0.162609</td><td>3.843696</td><td>20</td></tr></tbody></table></div>"
      ],
      "text/plain": [
       "shape: (5, 7)\n",
       "┌─────┬──────────┬──────────┬──────────┬──────────┬──────────┬──────────────┐\n",
       "│ id  ┆ var1     ┆ var2     ┆ var3     ┆ r        ┆ rh       ┆ nb_l_inf_cnt │\n",
       "│ --- ┆ ---      ┆ ---      ┆ ---      ┆ ---      ┆ ---      ┆ ---          │\n",
       "│ u32 ┆ f64      ┆ f64      ┆ f64      ┆ f64      ┆ f64      ┆ u32          │\n",
       "╞═════╪══════════╪══════════╪══════════╪══════════╪══════════╪══════════════╡\n",
       "│ 0   ┆ 0.876859 ┆ 0.133115 ┆ 0.423981 ┆ 0.503255 ┆ 7.166269 ┆ 12           │\n",
       "│ 1   ┆ 0.994173 ┆ 0.428538 ┆ 0.904636 ┆ 0.443848 ┆ 0.502891 ┆ 10           │\n",
       "│ 2   ┆ 0.581176 ┆ 0.818299 ┆ 0.717389 ┆ 0.836512 ┆ 4.573288 ┆ 19           │\n",
       "│ 3   ┆ 0.377086 ┆ 0.714554 ┆ 0.191054 ┆ 0.558064 ┆ 3.178318 ┆ 18           │\n",
       "│ 4   ┆ 0.710425 ┆ 0.80805  ┆ 0.756021 ┆ 0.162609 ┆ 3.843696 ┆ 20           │\n",
       "└─────┴──────────┴──────────┴──────────┴──────────┴──────────┴──────────────┘"
      ]
     },
     "execution_count": 47,
     "metadata": {},
     "output_type": "execute_result"
    }
   ],
   "source": [
    "# Get neighbor count. The point itself is always considered a neighbor to itself.\n",
    "df.with_columns(\n",
    "    pds.query_nb_cnt(\n",
    "        pl.col(\"var1\"), \"var2\", \"var3\", # Columns used as the coordinates in n-d space, str | pl.Expr \n",
    "        r = 0.1, # radius \n",
    "        dist = \"inf\", # L Infinity distance \n",
    "        parallel = True \n",
    "    ).alias(\"nb_l_inf_cnt\")\n",
    ").head() "
   ]
  },
  {
   "cell_type": "code",
   "execution_count": 48,
   "id": "69ad83d1",
   "metadata": {},
   "outputs": [
    {
     "data": {
      "text/html": [
       "<div><style>\n",
       ".dataframe > thead > tr,\n",
       ".dataframe > tbody > tr {\n",
       "  text-align: right;\n",
       "  white-space: pre-wrap;\n",
       "}\n",
       "</style>\n",
       "<small>shape: (5, 7)</small><table border=\"1\" class=\"dataframe\"><thead><tr><th>id</th><th>var1</th><th>var2</th><th>var3</th><th>r</th><th>rh</th><th>nb_l1_r_cnt</th></tr><tr><td>u32</td><td>f64</td><td>f64</td><td>f64</td><td>f64</td><td>f64</td><td>u32</td></tr></thead><tbody><tr><td>0</td><td>0.876859</td><td>0.133115</td><td>0.423981</td><td>0.503255</td><td>7.166269</td><td>228</td></tr><tr><td>1</td><td>0.994173</td><td>0.428538</td><td>0.904636</td><td>0.443848</td><td>0.502891</td><td>85</td></tr><tr><td>2</td><td>0.581176</td><td>0.818299</td><td>0.717389</td><td>0.836512</td><td>4.573288</td><td>892</td></tr><tr><td>3</td><td>0.377086</td><td>0.714554</td><td>0.191054</td><td>0.558064</td><td>3.178318</td><td>383</td></tr><tr><td>4</td><td>0.710425</td><td>0.80805</td><td>0.756021</td><td>0.162609</td><td>3.843696</td><td>13</td></tr></tbody></table></div>"
      ],
      "text/plain": [
       "shape: (5, 7)\n",
       "┌─────┬──────────┬──────────┬──────────┬──────────┬──────────┬─────────────┐\n",
       "│ id  ┆ var1     ┆ var2     ┆ var3     ┆ r        ┆ rh       ┆ nb_l1_r_cnt │\n",
       "│ --- ┆ ---      ┆ ---      ┆ ---      ┆ ---      ┆ ---      ┆ ---         │\n",
       "│ u32 ┆ f64      ┆ f64      ┆ f64      ┆ f64      ┆ f64      ┆ u32         │\n",
       "╞═════╪══════════╪══════════╪══════════╪══════════╪══════════╪═════════════╡\n",
       "│ 0   ┆ 0.876859 ┆ 0.133115 ┆ 0.423981 ┆ 0.503255 ┆ 7.166269 ┆ 228         │\n",
       "│ 1   ┆ 0.994173 ┆ 0.428538 ┆ 0.904636 ┆ 0.443848 ┆ 0.502891 ┆ 85          │\n",
       "│ 2   ┆ 0.581176 ┆ 0.818299 ┆ 0.717389 ┆ 0.836512 ┆ 4.573288 ┆ 892         │\n",
       "│ 3   ┆ 0.377086 ┆ 0.714554 ┆ 0.191054 ┆ 0.558064 ┆ 3.178318 ┆ 383         │\n",
       "│ 4   ┆ 0.710425 ┆ 0.80805  ┆ 0.756021 ┆ 0.162609 ┆ 3.843696 ┆ 13          │\n",
       "└─────┴──────────┴──────────┴──────────┴──────────┴──────────┴─────────────┘"
      ]
     },
     "execution_count": 48,
     "metadata": {},
     "output_type": "execute_result"
    }
   ],
   "source": [
    "df.with_columns(\n",
    "    pds.query_nb_cnt(\n",
    "        \"var1\", \"var2\", \"var3\", # Columns used as the coordinates in n-d space, str | pl.Expr \n",
    "        r = pl.col(\"r\"), # radius be an expression too\n",
    "        dist = \"l1\", # L 1 distance \n",
    "        parallel = True \n",
    "    ).alias(\"nb_l1_r_cnt\")\n",
    ").head()"
   ]
  },
  {
   "cell_type": "code",
   "execution_count": 49,
   "id": "ce1a2c7a",
   "metadata": {},
   "outputs": [
    {
     "data": {
      "text/html": [
       "<div><style>\n",
       ".dataframe > thead > tr,\n",
       ".dataframe > tbody > tr {\n",
       "  text-align: right;\n",
       "  white-space: pre-wrap;\n",
       "}\n",
       "</style>\n",
       "<small>shape: (5, 7)</small><table border=\"1\" class=\"dataframe\"><thead><tr><th>id</th><th>var1</th><th>var2</th><th>var3</th><th>r</th><th>rh</th><th>best friends</th></tr><tr><td>u32</td><td>f64</td><td>f64</td><td>f64</td><td>f64</td><td>f64</td><td>list[u32]</td></tr></thead><tbody><tr><td>0</td><td>0.876859</td><td>0.133115</td><td>0.423981</td><td>0.503255</td><td>7.166269</td><td>[0, 1524, … 1946]</td></tr><tr><td>1</td><td>0.994173</td><td>0.428538</td><td>0.904636</td><td>0.443848</td><td>0.502891</td><td>[1, 39, … 125]</td></tr><tr><td>2</td><td>0.581176</td><td>0.818299</td><td>0.717389</td><td>0.836512</td><td>4.573288</td><td>[2, 380, … 1174]</td></tr><tr><td>3</td><td>0.377086</td><td>0.714554</td><td>0.191054</td><td>0.558064</td><td>3.178318</td><td>[3, 685, … 496]</td></tr><tr><td>4</td><td>0.710425</td><td>0.80805</td><td>0.756021</td><td>0.162609</td><td>3.843696</td><td>[4, 265, … 1106]</td></tr></tbody></table></div>"
      ],
      "text/plain": [
       "shape: (5, 7)\n",
       "┌─────┬──────────┬──────────┬──────────┬──────────┬──────────┬───────────────────┐\n",
       "│ id  ┆ var1     ┆ var2     ┆ var3     ┆ r        ┆ rh       ┆ best friends      │\n",
       "│ --- ┆ ---      ┆ ---      ┆ ---      ┆ ---      ┆ ---      ┆ ---               │\n",
       "│ u32 ┆ f64      ┆ f64      ┆ f64      ┆ f64      ┆ f64      ┆ list[u32]         │\n",
       "╞═════╪══════════╪══════════╪══════════╪══════════╪══════════╪═══════════════════╡\n",
       "│ 0   ┆ 0.876859 ┆ 0.133115 ┆ 0.423981 ┆ 0.503255 ┆ 7.166269 ┆ [0, 1524, … 1946] │\n",
       "│ 1   ┆ 0.994173 ┆ 0.428538 ┆ 0.904636 ┆ 0.443848 ┆ 0.502891 ┆ [1, 39, … 125]    │\n",
       "│ 2   ┆ 0.581176 ┆ 0.818299 ┆ 0.717389 ┆ 0.836512 ┆ 4.573288 ┆ [2, 380, … 1174]  │\n",
       "│ 3   ┆ 0.377086 ┆ 0.714554 ┆ 0.191054 ┆ 0.558064 ┆ 3.178318 ┆ [3, 685, … 496]   │\n",
       "│ 4   ┆ 0.710425 ┆ 0.80805  ┆ 0.756021 ┆ 0.162609 ┆ 3.843696 ┆ [4, 265, … 1106]  │\n",
       "└─────┴──────────┴──────────┴──────────┴──────────┴──────────┴───────────────────┘"
      ]
     },
     "execution_count": 49,
     "metadata": {},
     "output_type": "execute_result"
    }
   ],
   "source": [
    "# Get ids of the k nearest neighbors. \n",
    "# The point itself is always considered a neighbor to itself, so k + 1 elements will be returned.\n",
    "df.with_columns(\n",
    "    pds.query_knn_ptwise(\n",
    "        pl.col(\"var1\"), pl.col(\"var2\"), pl.col(\"var3\"), # Columns used as the coordinates in n-d space\n",
    "        index = \"id\",  # pl.col(\"id\"), str | pl.Expr\n",
    "        k = 3, \n",
    "        dist = \"l2\", # squared l2\n",
    "        parallel = True\n",
    "    ).alias(\"best friends\")\n",
    ").head() "
   ]
  },
  {
   "cell_type": "code",
   "execution_count": 50,
   "id": "67a769f3",
   "metadata": {},
   "outputs": [
    {
     "name": "stdout",
     "output_type": "stream",
     "text": [
      "shape: (5, 3)\n",
      "┌─────┬───────────────────┬────────────────────┐\n",
      "│ id  ┆ best friends      ┆ best friends count │\n",
      "│ --- ┆ ---               ┆ ---                │\n",
      "│ u32 ┆ list[u32]         ┆ u32                │\n",
      "╞═════╪═══════════════════╪════════════════════╡\n",
      "│ 0   ┆ [0, 1524, … 1946] ┆ 3                  │\n",
      "│ 1   ┆ [1, 39, … 1422]   ┆ 7                  │\n",
      "│ 2   ┆ [2, 380, … 1517]  ┆ 11                 │\n",
      "│ 3   ┆ [3, 685, … 944]   ┆ 9                  │\n",
      "│ 4   ┆ [4, 265, … 1002]  ┆ 9                  │\n",
      "└─────┴───────────────────┴────────────────────┘\n"
     ]
    }
   ],
   "source": [
    "# Get all neighbors within radius r, call them best friends\n",
    "print(\n",
    "\n",
    "df.select(\n",
    "    pl.col(\"id\"),\n",
    "    pds.query_radius_ptwise(\n",
    "        pl.col(\"var1\"), pl.col(\"var2\"), pl.col(\"var3\"), # Columns used as the coordinates in 3d space\n",
    "        index = pl.col(\"id\"),\n",
    "        r = 0.1, \n",
    "        dist = \"l2\", # actually this is squared l2\n",
    "        parallel = True\n",
    "    ).alias(\"best friends\"),\n",
    ").with_columns( # -1 to remove the point itself\n",
    "    (pl.col(\"best friends\").list.len() - 1).alias(\"best friends count\")\n",
    ").head()\n",
    "\n",
    ")"
   ]
  },
  {
   "cell_type": "code",
   "execution_count": 51,
   "id": "06cd7fb2",
   "metadata": {},
   "outputs": [
    {
     "data": {
      "text/html": [
       "<div><style>\n",
       ".dataframe > thead > tr,\n",
       ".dataframe > tbody > tr {\n",
       "  text-align: right;\n",
       "  white-space: pre-wrap;\n",
       "}\n",
       "</style>\n",
       "<small>shape: (5, 8)</small><table border=\"1\" class=\"dataframe\"><thead><tr><th>id</th><th>var1</th><th>var2</th><th>var3</th><th>r</th><th>rh</th><th>idx</th><th>dist</th></tr><tr><td>u32</td><td>f64</td><td>f64</td><td>f64</td><td>f64</td><td>f64</td><td>list[u32]</td><td>list[f64]</td></tr></thead><tbody><tr><td>0</td><td>0.876859</td><td>0.133115</td><td>0.423981</td><td>0.503255</td><td>7.166269</td><td>[0, 1524, … 1946]</td><td>[0.0, 0.072463, … 0.083246]</td></tr><tr><td>1</td><td>0.994173</td><td>0.428538</td><td>0.904636</td><td>0.443848</td><td>0.502891</td><td>[1, 39, … 125]</td><td>[0.0, 0.060109, … 0.082179]</td></tr><tr><td>2</td><td>0.581176</td><td>0.818299</td><td>0.717389</td><td>0.836512</td><td>4.573288</td><td>[2, 380, … 1174]</td><td>[0.0, 0.032803, … 0.059227]</td></tr><tr><td>3</td><td>0.377086</td><td>0.714554</td><td>0.191054</td><td>0.558064</td><td>3.178318</td><td>[3, 685, … 496]</td><td>[0.0, 0.030836, … 0.05278]</td></tr><tr><td>4</td><td>0.710425</td><td>0.80805</td><td>0.756021</td><td>0.162609</td><td>3.843696</td><td>[4, 265, … 1106]</td><td>[0.0, 0.057415, … 0.061693]</td></tr></tbody></table></div>"
      ],
      "text/plain": [
       "shape: (5, 8)\n",
       "┌─────┬──────────┬──────────┬──────────┬──────────┬──────────┬──────────────────┬──────────────────┐\n",
       "│ id  ┆ var1     ┆ var2     ┆ var3     ┆ r        ┆ rh       ┆ idx              ┆ dist             │\n",
       "│ --- ┆ ---      ┆ ---      ┆ ---      ┆ ---      ┆ ---      ┆ ---              ┆ ---              │\n",
       "│ u32 ┆ f64      ┆ f64      ┆ f64      ┆ f64      ┆ f64      ┆ list[u32]        ┆ list[f64]        │\n",
       "╞═════╪══════════╪══════════╪══════════╪══════════╪══════════╪══════════════════╪══════════════════╡\n",
       "│ 0   ┆ 0.876859 ┆ 0.133115 ┆ 0.423981 ┆ 0.503255 ┆ 7.166269 ┆ [0, 1524, …      ┆ [0.0, 0.072463,  │\n",
       "│     ┆          ┆          ┆          ┆          ┆          ┆ 1946]            ┆ … 0.083246]      │\n",
       "│ 1   ┆ 0.994173 ┆ 0.428538 ┆ 0.904636 ┆ 0.443848 ┆ 0.502891 ┆ [1, 39, … 125]   ┆ [0.0, 0.060109,  │\n",
       "│     ┆          ┆          ┆          ┆          ┆          ┆                  ┆ … 0.082179]      │\n",
       "│ 2   ┆ 0.581176 ┆ 0.818299 ┆ 0.717389 ┆ 0.836512 ┆ 4.573288 ┆ [2, 380, … 1174] ┆ [0.0, 0.032803,  │\n",
       "│     ┆          ┆          ┆          ┆          ┆          ┆                  ┆ … 0.059227]      │\n",
       "│ 3   ┆ 0.377086 ┆ 0.714554 ┆ 0.191054 ┆ 0.558064 ┆ 3.178318 ┆ [3, 685, … 496]  ┆ [0.0, 0.030836,  │\n",
       "│     ┆          ┆          ┆          ┆          ┆          ┆                  ┆ … 0.05278]       │\n",
       "│ 4   ┆ 0.710425 ┆ 0.80805  ┆ 0.756021 ┆ 0.162609 ┆ 3.843696 ┆ [4, 265, … 1106] ┆ [0.0, 0.057415,  │\n",
       "│     ┆          ┆          ┆          ┆          ┆          ┆                  ┆ … 0.061693]      │\n",
       "└─────┴──────────┴──────────┴──────────┴──────────┴──────────┴──────────────────┴──────────────────┘"
      ]
     },
     "execution_count": 51,
     "metadata": {},
     "output_type": "execute_result"
    }
   ],
   "source": [
    "# Get ids of the k nearest neighbors and distances\n",
    "# The point itself is always considered a neighbor to itself, so k + 1 elements will be returned.\n",
    "df.with_columns(\n",
    "    pds.query_knn_ptwise(\n",
    "        pl.col(\"var1\"), pl.col(\"var2\"), pl.col(\"var3\"), # Columns used as the coordinates in n-d space\n",
    "        index = pl.col(\"id\"),\n",
    "        k = 3, \n",
    "        dist = \"l2\", # actually this is squared l2\n",
    "        parallel = True,\n",
    "        return_dist = True\n",
    "    ).alias(\"best_friends_w_dist\")\n",
    ").unnest(\"best_friends_w_dist\").head()"
   ]
  },
  {
   "cell_type": "code",
   "execution_count": 52,
   "id": "b5c69ae4",
   "metadata": {},
   "outputs": [
    {
     "data": {
      "text/html": [
       "<div><style>\n",
       ".dataframe > thead > tr,\n",
       ".dataframe > tbody > tr {\n",
       "  text-align: right;\n",
       "  white-space: pre-wrap;\n",
       "}\n",
       "</style>\n",
       "<small>shape: (5, 6)</small><table border=\"1\" class=\"dataframe\"><thead><tr><th>id</th><th>var1</th><th>var2</th><th>var3</th><th>r</th><th>rh</th></tr><tr><td>u32</td><td>f64</td><td>f64</td><td>f64</td><td>f64</td><td>f64</td></tr></thead><tbody><tr><td>2</td><td>0.581176</td><td>0.818299</td><td>0.717389</td><td>0.836512</td><td>4.573288</td></tr><tr><td>3</td><td>0.377086</td><td>0.714554</td><td>0.191054</td><td>0.558064</td><td>3.178318</td></tr><tr><td>6</td><td>0.501085</td><td>0.446665</td><td>0.669058</td><td>0.295177</td><td>3.797496</td></tr><tr><td>10</td><td>0.4565</td><td>0.334125</td><td>0.541461</td><td>0.240152</td><td>6.451545</td></tr><tr><td>13</td><td>0.152949</td><td>0.629336</td><td>0.648148</td><td>0.099689</td><td>6.246647</td></tr></tbody></table></div>"
      ],
      "text/plain": [
       "shape: (5, 6)\n",
       "┌─────┬──────────┬──────────┬──────────┬──────────┬──────────┐\n",
       "│ id  ┆ var1     ┆ var2     ┆ var3     ┆ r        ┆ rh       │\n",
       "│ --- ┆ ---      ┆ ---      ┆ ---      ┆ ---      ┆ ---      │\n",
       "│ u32 ┆ f64      ┆ f64      ┆ f64      ┆ f64      ┆ f64      │\n",
       "╞═════╪══════════╪══════════╪══════════╪══════════╪══════════╡\n",
       "│ 2   ┆ 0.581176 ┆ 0.818299 ┆ 0.717389 ┆ 0.836512 ┆ 4.573288 │\n",
       "│ 3   ┆ 0.377086 ┆ 0.714554 ┆ 0.191054 ┆ 0.558064 ┆ 3.178318 │\n",
       "│ 6   ┆ 0.501085 ┆ 0.446665 ┆ 0.669058 ┆ 0.295177 ┆ 3.797496 │\n",
       "│ 10  ┆ 0.4565   ┆ 0.334125 ┆ 0.541461 ┆ 0.240152 ┆ 6.451545 │\n",
       "│ 13  ┆ 0.152949 ┆ 0.629336 ┆ 0.648148 ┆ 0.099689 ┆ 6.246647 │\n",
       "└─────┴──────────┴──────────┴──────────┴──────────┴──────────┘"
      ]
     },
     "execution_count": 52,
     "metadata": {},
     "output_type": "execute_result"
    }
   ],
   "source": [
    "# Filter to only points near the given point\n",
    "df.filter(\n",
    "    pds.within_dist_from(\n",
    "        pl.col(\"var1\"), pl.col(\"var2\"), pl.col(\"var3\"), # Columns used as the coordinates in n-d space\n",
    "        pt = [0.5, 0.5, 0.5],\n",
    "        r = 0.2,\n",
    "        dist = \"l2\" # actually this is squared l2, so this is asking for squared l2 <= 0.2\n",
    "    )\n",
    ").head()"
   ]
  },
  {
   "cell_type": "code",
   "execution_count": 53,
   "id": "4ab9e8f8",
   "metadata": {},
   "outputs": [
    {
     "data": {
      "text/html": [
       "<div><style>\n",
       ".dataframe > thead > tr,\n",
       ".dataframe > tbody > tr {\n",
       "  text-align: right;\n",
       "  white-space: pre-wrap;\n",
       "}\n",
       "</style>\n",
       "<small>shape: (5, 6)</small><table border=\"1\" class=\"dataframe\"><thead><tr><th>id</th><th>var1</th><th>var2</th><th>var3</th><th>r</th><th>rh</th></tr><tr><td>u32</td><td>f64</td><td>f64</td><td>f64</td><td>f64</td><td>f64</td></tr></thead><tbody><tr><td>6</td><td>0.501085</td><td>0.446665</td><td>0.669058</td><td>0.295177</td><td>3.797496</td></tr><tr><td>12</td><td>0.517317</td><td>0.574726</td><td>0.997668</td><td>0.336344</td><td>1.81484</td></tr><tr><td>30</td><td>0.483279</td><td>0.482538</td><td>0.249474</td><td>0.617154</td><td>7.513426</td></tr><tr><td>81</td><td>0.50054</td><td>0.568065</td><td>0.464834</td><td>0.428289</td><td>2.536523</td></tr><tr><td>168</td><td>0.436916</td><td>0.509921</td><td>0.079442</td><td>0.256517</td><td>7.261429</td></tr></tbody></table></div>"
      ],
      "text/plain": [
       "shape: (5, 6)\n",
       "┌─────┬──────────┬──────────┬──────────┬──────────┬──────────┐\n",
       "│ id  ┆ var1     ┆ var2     ┆ var3     ┆ r        ┆ rh       │\n",
       "│ --- ┆ ---      ┆ ---      ┆ ---      ┆ ---      ┆ ---      │\n",
       "│ u32 ┆ f64      ┆ f64      ┆ f64      ┆ f64      ┆ f64      │\n",
       "╞═════╪══════════╪══════════╪══════════╪══════════╪══════════╡\n",
       "│ 6   ┆ 0.501085 ┆ 0.446665 ┆ 0.669058 ┆ 0.295177 ┆ 3.797496 │\n",
       "│ 12  ┆ 0.517317 ┆ 0.574726 ┆ 0.997668 ┆ 0.336344 ┆ 1.81484  │\n",
       "│ 30  ┆ 0.483279 ┆ 0.482538 ┆ 0.249474 ┆ 0.617154 ┆ 7.513426 │\n",
       "│ 81  ┆ 0.50054  ┆ 0.568065 ┆ 0.464834 ┆ 0.428289 ┆ 2.536523 │\n",
       "│ 168 ┆ 0.436916 ┆ 0.509921 ┆ 0.079442 ┆ 0.256517 ┆ 7.261429 │\n",
       "└─────┴──────────┴──────────┴──────────┴──────────┴──────────┘"
      ]
     },
     "execution_count": 53,
     "metadata": {},
     "output_type": "execute_result"
    }
   ],
   "source": [
    "# Haversine distance is available when dimension is 2\n",
    "df.filter(\n",
    "    pds.within_dist_from(\n",
    "        pl.col(\"var1\"), pl.col(\"var2\"), # Columns used as the coordinates in n-d space\n",
    "        pt = [0.5, 0.5],\n",
    "        r = 10, # in km\n",
    "        dist = \"h\" \n",
    "    )\n",
    ").head()"
   ]
  },
  {
   "cell_type": "code",
   "execution_count": 54,
   "id": "7d3f5ae4",
   "metadata": {},
   "outputs": [
    {
     "data": {
      "text/html": [
       "<div><style>\n",
       ".dataframe > thead > tr,\n",
       ".dataframe > tbody > tr {\n",
       "  text-align: right;\n",
       "  white-space: pre-wrap;\n",
       "}\n",
       "</style>\n",
       "<small>shape: (5, 6)</small><table border=\"1\" class=\"dataframe\"><thead><tr><th>id</th><th>var1</th><th>var2</th><th>var3</th><th>r</th><th>rh</th></tr><tr><td>u32</td><td>f64</td><td>f64</td><td>f64</td><td>f64</td><td>f64</td></tr></thead><tbody><tr><td>30</td><td>0.483279</td><td>0.482538</td><td>0.249474</td><td>0.617154</td><td>7.513426</td></tr><tr><td>168</td><td>0.436916</td><td>0.509921</td><td>0.079442</td><td>0.256517</td><td>7.261429</td></tr><tr><td>256</td><td>0.546873</td><td>0.525636</td><td>0.672437</td><td>0.719224</td><td>7.529955</td></tr><tr><td>298</td><td>0.509085</td><td>0.471096</td><td>0.925357</td><td>0.564083</td><td>5.556756</td></tr><tr><td>349</td><td>0.496174</td><td>0.560128</td><td>0.05123</td><td>0.811701</td><td>7.688234</td></tr></tbody></table></div>"
      ],
      "text/plain": [
       "shape: (5, 6)\n",
       "┌─────┬──────────┬──────────┬──────────┬──────────┬──────────┐\n",
       "│ id  ┆ var1     ┆ var2     ┆ var3     ┆ r        ┆ rh       │\n",
       "│ --- ┆ ---      ┆ ---      ┆ ---      ┆ ---      ┆ ---      │\n",
       "│ u32 ┆ f64      ┆ f64      ┆ f64      ┆ f64      ┆ f64      │\n",
       "╞═════╪══════════╪══════════╪══════════╪══════════╪══════════╡\n",
       "│ 30  ┆ 0.483279 ┆ 0.482538 ┆ 0.249474 ┆ 0.617154 ┆ 7.513426 │\n",
       "│ 168 ┆ 0.436916 ┆ 0.509921 ┆ 0.079442 ┆ 0.256517 ┆ 7.261429 │\n",
       "│ 256 ┆ 0.546873 ┆ 0.525636 ┆ 0.672437 ┆ 0.719224 ┆ 7.529955 │\n",
       "│ 298 ┆ 0.509085 ┆ 0.471096 ┆ 0.925357 ┆ 0.564083 ┆ 5.556756 │\n",
       "│ 349 ┆ 0.496174 ┆ 0.560128 ┆ 0.05123  ┆ 0.811701 ┆ 7.688234 │\n",
       "└─────┴──────────┴──────────┴──────────┴──────────┴──────────┘"
      ]
     },
     "execution_count": 54,
     "metadata": {},
     "output_type": "execute_result"
    }
   ],
   "source": [
    "df.filter(\n",
    "    pds.within_dist_from(\n",
    "        pl.col(\"var1\"), pl.col(\"var2\"), \n",
    "        pt = [0.5, 0.5],\n",
    "        # radius can also be an existing column in the dataframe.\n",
    "        r = pl.col(\"rh\"), \n",
    "        dist = \"h\" \n",
    "    )\n",
    ").head()"
   ]
  },
  {
   "cell_type": "code",
   "execution_count": 55,
   "id": "f14627bc",
   "metadata": {},
   "outputs": [
    {
     "data": {
      "text/html": [
       "<div><style>\n",
       ".dataframe > thead > tr,\n",
       ".dataframe > tbody > tr {\n",
       "  text-align: right;\n",
       "  white-space: pre-wrap;\n",
       "}\n",
       "</style>\n",
       "<small>shape: (5, 3)</small><table border=\"1\" class=\"dataframe\"><thead><tr><th>id</th><th>friends</th><th>count</th></tr><tr><td>u64</td><td>list[u32]</td><td>u32</td></tr></thead><tbody><tr><td>0</td><td>[0, 1274, … 1283]</td><td>4</td></tr><tr><td>1</td><td>[1, 47]</td><td>2</td></tr><tr><td>2</td><td>[2, 1427, 1652]</td><td>3</td></tr><tr><td>3</td><td>[3, 685, … 676]</td><td>4</td></tr><tr><td>4</td><td>[4, 890, … 24]</td><td>7</td></tr></tbody></table></div>"
      ],
      "text/plain": [
       "shape: (5, 3)\n",
       "┌─────┬───────────────────┬───────┐\n",
       "│ id  ┆ friends           ┆ count │\n",
       "│ --- ┆ ---               ┆ ---   │\n",
       "│ u64 ┆ list[u32]         ┆ u32   │\n",
       "╞═════╪═══════════════════╪═══════╡\n",
       "│ 0   ┆ [0, 1274, … 1283] ┆ 4     │\n",
       "│ 1   ┆ [1, 47]           ┆ 2     │\n",
       "│ 2   ┆ [2, 1427, 1652]   ┆ 3     │\n",
       "│ 3   ┆ [3, 685, … 676]   ┆ 4     │\n",
       "│ 4   ┆ [4, 890, … 24]    ┆ 7     │\n",
       "└─────┴───────────────────┴───────┘"
      ]
     },
     "execution_count": 55,
     "metadata": {},
     "output_type": "execute_result"
    }
   ],
   "source": [
    "friends = df.select(\n",
    "    pl.col(\"id\").cast(pl.UInt64),\n",
    "    pds.query_radius_ptwise(\n",
    "        # Columns used as the coordinates in n-d space\n",
    "        pl.col(\"var1\"), pl.col(\"var2\"), \n",
    "        index=pl.col(\"id\"),\n",
    "        r = 0.02, \n",
    "        dist = \"l2\",\n",
    "    ).alias(\"friends\")\n",
    ").with_columns(\n",
    "    pl.col(\"friends\").list.len().alias(\"count\")\n",
    ")\n",
    "friends.head()"
   ]
  },
  {
   "cell_type": "markdown",
   "id": "98264a05",
   "metadata": {},
   "source": [
    "# Using PDS Expressions On pl.Series, NumPy arrays, or pd.Series, etc.\n",
    "\n",
    "The output by default is always a Polars Series. The user gets to choose whether to turn it into NumPy, Pandas, or other data structures."
   ]
  },
  {
   "cell_type": "code",
   "execution_count": 56,
   "id": "0a42a771",
   "metadata": {},
   "outputs": [
    {
     "name": "stderr",
     "output_type": "stream",
     "text": [
      "/tmp/ipykernel_13570/3354819425.py:3: UserWarning: The compatibility layer is considered experimental.\n",
      "  from polars_ds.compat import compat as pds2\n"
     ]
    },
    {
     "data": {
      "text/html": [
       "<div><style>\n",
       ".dataframe > thead > tr,\n",
       ".dataframe > tbody > tr {\n",
       "  text-align: right;\n",
       "  white-space: pre-wrap;\n",
       "}\n",
       "</style>\n",
       "<small>shape: (5, 6)</small><table border=\"1\" class=\"dataframe\"><thead><tr><th>actual</th><th>predicted</th><th>0-2</th><th>0-9</th><th>s1</th><th>s2</th></tr><tr><td>f64</td><td>f64</td><td>i32</td><td>i32</td><td>str</td><td>str</td></tr></thead><tbody><tr><td>1.0</td><td>0.621664</td><td>0</td><td>6</td><td>&quot;22&quot;</td><td>&quot;q&quot;</td></tr><tr><td>0.0</td><td>0.763334</td><td>0</td><td>1</td><td>&quot;X&quot;</td><td>&quot;aA&quot;</td></tr><tr><td>0.0</td><td>0.537238</td><td>2</td><td>0</td><td>&quot;ej&quot;</td><td>&quot;W0&quot;</td></tr><tr><td>1.0</td><td>0.330224</td><td>2</td><td>9</td><td>&quot;c&quot;</td><td>&quot;Yq&quot;</td></tr><tr><td>0.0</td><td>0.5436</td><td>0</td><td>7</td><td>&quot;JM&quot;</td><td>&quot;ZU&quot;</td></tr></tbody></table></div>"
      ],
      "text/plain": [
       "shape: (5, 6)\n",
       "┌────────┬───────────┬─────┬─────┬─────┬─────┐\n",
       "│ actual ┆ predicted ┆ 0-2 ┆ 0-9 ┆ s1  ┆ s2  │\n",
       "│ ---    ┆ ---       ┆ --- ┆ --- ┆ --- ┆ --- │\n",
       "│ f64    ┆ f64       ┆ i32 ┆ i32 ┆ str ┆ str │\n",
       "╞════════╪═══════════╪═════╪═════╪═════╪═════╡\n",
       "│ 1.0    ┆ 0.621664  ┆ 0   ┆ 6   ┆ 22  ┆ q   │\n",
       "│ 0.0    ┆ 0.763334  ┆ 0   ┆ 1   ┆ X   ┆ aA  │\n",
       "│ 0.0    ┆ 0.537238  ┆ 2   ┆ 0   ┆ ej  ┆ W0  │\n",
       "│ 1.0    ┆ 0.330224  ┆ 2   ┆ 9   ┆ c   ┆ Yq  │\n",
       "│ 0.0    ┆ 0.5436    ┆ 0   ┆ 7   ┆ JM  ┆ ZU  │\n",
       "└────────┴───────────┴─────┴─────┴─────┴─────┘"
      ]
     },
     "execution_count": 56,
     "metadata": {},
     "output_type": "execute_result"
    }
   ],
   "source": [
    "import pandas as pd\n",
    "import numpy as np\n",
    "from polars_ds.compat import compat as pds2\n",
    "\n",
    "df = pds.frame(size=100_000).select(\n",
    "    pds.random(0.0, 1.0).round().alias(\"actual\"),\n",
    "    pds.random(0.0, 1.0).alias(\"predicted\"),\n",
    "    pds.random_int(0, 3).alias(\"0-2\"),\n",
    "    pds.random_int(0, 10).alias(\"0-9\"),\n",
    "    pds.random_str(min_size=1, max_size=2).alias(\"s1\"),\n",
    "    pds.random_str(min_size=1, max_size=2).alias(\"s2\"),\n",
    ")\n",
    "df.head()"
   ]
  },
  {
   "cell_type": "code",
   "execution_count": 57,
   "id": "e6574a57",
   "metadata": {},
   "outputs": [],
   "source": [
    "df_pd = df.to_pandas()"
   ]
  },
  {
   "cell_type": "code",
   "execution_count": 58,
   "id": "70830d04",
   "metadata": {},
   "outputs": [
    {
     "data": {
      "text/html": [
       "<div><style>\n",
       ".dataframe > thead > tr,\n",
       ".dataframe > tbody > tr {\n",
       "  text-align: right;\n",
       "  white-space: pre-wrap;\n",
       "}\n",
       "</style>\n",
       "<small>shape: (1,)</small><table border=\"1\" class=\"dataframe\"><thead><tr><th>jaccard_col</th></tr><tr><td>f64</td></tr></thead><tbody><tr><td>0.3</td></tr></tbody></table></div>"
      ],
      "text/plain": [
       "shape: (1,)\n",
       "Series: 'jaccard_col' [f64]\n",
       "[\n",
       "\t0.3\n",
       "]"
      ]
     },
     "execution_count": 58,
     "metadata": {},
     "output_type": "execute_result"
    }
   ],
   "source": [
    "# Pandas Series\n",
    "pds2.jaccard_col(df_pd[\"0-2\"], df_pd[\"0-9\"])"
   ]
  },
  {
   "cell_type": "code",
   "execution_count": 59,
   "id": "471cbbbd",
   "metadata": {},
   "outputs": [
    {
     "name": "stdout",
     "output_type": "stream",
     "text": [
      "shape: (1, 5)\n",
      "┌───────────┬──────────┬──────────┬───────────────────┬──────────┐\n",
      "│ precision ┆ recall   ┆ f        ┆ average_precision ┆ roc_auc  │\n",
      "│ ---       ┆ ---      ┆ ---      ┆ ---               ┆ ---      │\n",
      "│ f64       ┆ f64      ┆ f64      ┆ f64               ┆ f64      │\n",
      "╞═══════════╪══════════╪══════════╪═══════════════════╪══════════╡\n",
      "│ 0.499641  ┆ 0.502827 ┆ 0.501229 ┆ 0.50112           ┆ 0.502869 │\n",
      "└───────────┴──────────┴──────────┴───────────────────┴──────────┘\n",
      "shape: (1, 5)\n",
      "┌───────────┬──────────┬──────────┬───────────────────┬──────────┐\n",
      "│ precision ┆ recall   ┆ f        ┆ average_precision ┆ roc_auc  │\n",
      "│ ---       ┆ ---      ┆ ---      ┆ ---               ┆ ---      │\n",
      "│ f64       ┆ f64      ┆ f64      ┆ f64               ┆ f64      │\n",
      "╞═══════════╪══════════╪══════════╪═══════════════════╪══════════╡\n",
      "│ 0.499641  ┆ 0.502827 ┆ 0.501229 ┆ 0.50112           ┆ 0.502869 │\n",
      "└───────────┴──────────┴──────────┴───────────────────┴──────────┘\n",
      "shape: (1, 5)\n",
      "┌───────────┬──────────┬──────────┬───────────────────┬──────────┐\n",
      "│ precision ┆ recall   ┆ f        ┆ average_precision ┆ roc_auc  │\n",
      "│ ---       ┆ ---      ┆ ---      ┆ ---               ┆ ---      │\n",
      "│ f64       ┆ f64      ┆ f64      ┆ f64               ┆ f64      │\n",
      "╞═══════════╪══════════╪══════════╪═══════════════════╪══════════╡\n",
      "│ 0.499641  ┆ 0.502827 ┆ 0.501229 ┆ 0.50112           ┆ 0.502869 │\n",
      "└───────────┴──────────┴──────────┴───────────────────┴──────────┘\n"
     ]
    }
   ],
   "source": [
    "# Polars Series\n",
    "print(pds2.query_binary_metrics(df[\"actual\"], df[\"predicted\"]).struct.unnest())\n",
    "# Pyarrow Series\n",
    "print(pds2.query_binary_metrics(df[\"actual\"].to_arrow(), df[\"predicted\"].to_arrow()).struct.unnest())\n",
    "# NumPy\n",
    "print(pds2.query_binary_metrics(df[\"actual\"].to_numpy(), df[\"predicted\"].to_numpy()).struct.unnest())"
   ]
  },
  {
   "cell_type": "code",
   "execution_count": 60,
   "id": "9d15fc63",
   "metadata": {},
   "outputs": [
    {
     "data": {
      "text/html": [
       "<div><style>\n",
       ".dataframe > thead > tr,\n",
       ".dataframe > tbody > tr {\n",
       "  text-align: right;\n",
       "  white-space: pre-wrap;\n",
       "}\n",
       "</style>\n",
       "<small>shape: (5, 4)</small><table border=\"1\" class=\"dataframe\"><thead><tr><th>&lt;=</th><th>baseline_pct</th><th>actual_pct</th><th>psi_bin</th></tr><tr><td>f64</td><td>f64</td><td>f64</td><td>f64</td></tr></thead><tbody><tr><td>0.19793</td><td>0.2</td><td>0.217</td><td>0.001387</td></tr><tr><td>0.395133</td><td>0.2</td><td>0.201</td><td>0.000005</td></tr><tr><td>0.587547</td><td>0.2</td><td>0.202</td><td>0.00002</td></tr><tr><td>0.797317</td><td>0.2</td><td>0.193</td><td>0.000249</td></tr><tr><td>inf</td><td>0.2</td><td>0.187</td><td>0.000874</td></tr></tbody></table></div>"
      ],
      "text/plain": [
       "shape: (5, 4)\n",
       "┌──────────┬──────────────┬────────────┬──────────┐\n",
       "│ <=       ┆ baseline_pct ┆ actual_pct ┆ psi_bin  │\n",
       "│ ---      ┆ ---          ┆ ---        ┆ ---      │\n",
       "│ f64      ┆ f64          ┆ f64        ┆ f64      │\n",
       "╞══════════╪══════════════╪════════════╪══════════╡\n",
       "│ 0.19793  ┆ 0.2          ┆ 0.217      ┆ 0.001387 │\n",
       "│ 0.395133 ┆ 0.2          ┆ 0.201      ┆ 0.000005 │\n",
       "│ 0.587547 ┆ 0.2          ┆ 0.202      ┆ 0.00002  │\n",
       "│ 0.797317 ┆ 0.2          ┆ 0.193      ┆ 0.000249 │\n",
       "│ inf      ┆ 0.2          ┆ 0.187      ┆ 0.000874 │\n",
       "└──────────┴──────────────┴────────────┴──────────┘"
      ]
     },
     "execution_count": 60,
     "metadata": {},
     "output_type": "execute_result"
    }
   ],
   "source": [
    "# NumPy Arrays\n",
    "pds2.psi(\n",
    "    np.random.random(size = 1000), \n",
    "    np.random.random(size = 1000), \n",
    "    n_bins = 5, \n",
    "    return_report = True\n",
    ").struct.unnest()"
   ]
  },
  {
   "cell_type": "code",
   "execution_count": 61,
   "id": "8c5c3fee",
   "metadata": {},
   "outputs": [
    {
     "data": {
      "text/html": [
       "<div><style>\n",
       ".dataframe > thead > tr,\n",
       ".dataframe > tbody > tr {\n",
       "  text-align: right;\n",
       "  white-space: pre-wrap;\n",
       "}\n",
       "</style>\n",
       "<small>shape: (1,)</small><table border=\"1\" class=\"dataframe\"><thead><tr><th>cid_ce</th></tr><tr><td>f64</td></tr></thead><tbody><tr><td>12.568847</td></tr></tbody></table></div>"
      ],
      "text/plain": [
       "shape: (1,)\n",
       "Series: 'cid_ce' [f64]\n",
       "[\n",
       "\t12.568847\n",
       "]"
      ]
     },
     "execution_count": 61,
     "metadata": {},
     "output_type": "execute_result"
    }
   ],
   "source": [
    "pds2.query_cid_ce(\n",
    "    np.random.random(size = 1000),\n",
    ")"
   ]
  },
  {
   "cell_type": "code",
   "execution_count": 62,
   "id": "b0c14067",
   "metadata": {},
   "outputs": [
    {
     "data": {
      "text/html": [
       "<div><style>\n",
       ".dataframe > thead > tr,\n",
       ".dataframe > tbody > tr {\n",
       "  text-align: right;\n",
       "  white-space: pre-wrap;\n",
       "}\n",
       "</style>\n",
       "<small>shape: (1,)</small><table border=\"1\" class=\"dataframe\"><thead><tr><th>c3_stats</th></tr><tr><td>f64</td></tr></thead><tbody><tr><td>0.114879</td></tr></tbody></table></div>"
      ],
      "text/plain": [
       "shape: (1,)\n",
       "Series: 'c3_stats' [f64]\n",
       "[\n",
       "\t0.114879\n",
       "]"
      ]
     },
     "execution_count": 62,
     "metadata": {},
     "output_type": "execute_result"
    }
   ],
   "source": [
    "pds2.query_c3_stats(\n",
    "    pl.Series(values=np.random.random(size = 1000)), \n",
    "    lag = 3\n",
    ")"
   ]
  },
  {
   "cell_type": "code",
   "execution_count": 63,
   "id": "f7cc8f20",
   "metadata": {},
   "outputs": [
    {
     "data": {
      "text/html": [
       "<div><style>\n",
       ".dataframe > thead > tr,\n",
       ".dataframe > tbody > tr {\n",
       "  text-align: right;\n",
       "  white-space: pre-wrap;\n",
       "}\n",
       "</style>\n",
       "<small>shape: (10,)</small><table border=\"1\" class=\"dataframe\"><thead><tr><th>str_leven</th></tr><tr><td>u32</td></tr></thead><tbody><tr><td>2</td></tr><tr><td>2</td></tr><tr><td>2</td></tr><tr><td>2</td></tr><tr><td>2</td></tr><tr><td>2</td></tr><tr><td>2</td></tr><tr><td>1</td></tr><tr><td>2</td></tr><tr><td>2</td></tr></tbody></table></div>"
      ],
      "text/plain": [
       "shape: (10,)\n",
       "Series: 'str_leven' [u32]\n",
       "[\n",
       "\t2\n",
       "\t2\n",
       "\t2\n",
       "\t2\n",
       "\t2\n",
       "\t2\n",
       "\t2\n",
       "\t1\n",
       "\t2\n",
       "\t2\n",
       "]"
      ]
     },
     "execution_count": 63,
     "metadata": {},
     "output_type": "execute_result"
    }
   ],
   "source": [
    "pds2.str_leven(df[\"s1\"], df[\"s2\"]).head() "
   ]
  },
  {
   "cell_type": "code",
   "execution_count": null,
   "id": "d2aab4a3",
   "metadata": {},
   "outputs": [],
   "source": []
  }
 ],
 "metadata": {
  "kernelspec": {
   "display_name": ".venv",
   "language": "python",
   "name": "python3"
  },
  "language_info": {
   "codemirror_mode": {
    "name": "ipython",
    "version": 3
   },
   "file_extension": ".py",
   "mimetype": "text/x-python",
   "name": "python",
   "nbconvert_exporter": "python",
   "pygments_lexer": "ipython3",
   "version": "3.13.3"
  }
 },
 "nbformat": 4,
 "nbformat_minor": 5
}
