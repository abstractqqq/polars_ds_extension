{
 "cells": [
  {
   "cell_type": "code",
   "execution_count": 1,
   "metadata": {},
   "outputs": [],
   "source": [
    "import polars as pl\n",
    "import polars.selectors as cs\n",
    "from polars_ds.pipeline import Pipeline, Blueprint\n",
    "from polars.testing import assert_frame_equal"
   ]
  },
  {
   "cell_type": "markdown",
   "metadata": {},
   "source": [
    "# Builtin Pipeline Functions\n",
    "\n",
    "You can use it for:\n",
    "\n",
    "1. Data Science Pipelines\n",
    "2. Data preparation, manipulation, wrangling pipelines"
   ]
  },
  {
   "cell_type": "code",
   "execution_count": 2,
   "metadata": {},
   "outputs": [
    {
     "data": {
      "text/html": [
       "<div><style>\n",
       ".dataframe > thead > tr,\n",
       ".dataframe > tbody > tr {\n",
       "  text-align: right;\n",
       "  white-space: pre-wrap;\n",
       "}\n",
       "</style>\n",
       "<small>shape: (5, 17)</small><table border=\"1\" class=\"dataframe\"><thead><tr><th>ID</th><th>Gender</th><th>City_Category</th><th>Employer_Category1</th><th>Employer_Category2</th><th>Monthly_Income</th><th>Customer_Existing_Primary_Bank_Code</th><th>Primary_Bank_Type</th><th>Contacted</th><th>Source_Category</th><th>Existing_EMI</th><th>Loan_Amount</th><th>Loan_Period</th><th>Interest_Rate</th><th>EMI</th><th>Var1</th><th>Approved</th></tr><tr><td>str</td><td>str</td><td>str</td><td>str</td><td>i64</td><td>f64</td><td>str</td><td>str</td><td>str</td><td>str</td><td>f64</td><td>i64</td><td>i64</td><td>f64</td><td>i64</td><td>i64</td><td>i64</td></tr></thead><tbody><tr><td>&quot;APPC90493171225&quot;</td><td>&quot;Female&quot;</td><td>&quot;A&quot;</td><td>&quot;A&quot;</td><td>4</td><td>2000.0</td><td>&quot;B001&quot;</td><td>&quot;P&quot;</td><td>&quot;N&quot;</td><td>&quot;G&quot;</td><td>0.0</td><td>null</td><td>null</td><td>null</td><td>null</td><td>0</td><td>0</td></tr><tr><td>&quot;APPD40611263344&quot;</td><td>&quot;Male&quot;</td><td>&quot;A&quot;</td><td>&quot;C&quot;</td><td>1</td><td>3500.0</td><td>&quot;B002&quot;</td><td>&quot;P&quot;</td><td>&quot;Y&quot;</td><td>&quot;G&quot;</td><td>0.0</td><td>20000</td><td>2</td><td>13.25</td><td>953</td><td>10</td><td>0</td></tr><tr><td>&quot;APPE70289249423&quot;</td><td>&quot;Male&quot;</td><td>&quot;C&quot;</td><td>&quot;C&quot;</td><td>4</td><td>2250.0</td><td>&quot;B003&quot;</td><td>&quot;G&quot;</td><td>&quot;Y&quot;</td><td>&quot;B&quot;</td><td>0.0</td><td>45000</td><td>4</td><td>null</td><td>null</td><td>0</td><td>0</td></tr><tr><td>&quot;APPF80273865537&quot;</td><td>&quot;Male&quot;</td><td>&quot;C&quot;</td><td>&quot;A&quot;</td><td>4</td><td>3500.0</td><td>&quot;B003&quot;</td><td>&quot;G&quot;</td><td>&quot;Y&quot;</td><td>&quot;B&quot;</td><td>0.0</td><td>92000</td><td>5</td><td>null</td><td>null</td><td>7</td><td>0</td></tr><tr><td>&quot;APPG60994436641&quot;</td><td>&quot;Male&quot;</td><td>&quot;A&quot;</td><td>&quot;A&quot;</td><td>4</td><td>10000.0</td><td>&quot;B001&quot;</td><td>&quot;P&quot;</td><td>&quot;Y&quot;</td><td>&quot;B&quot;</td><td>2500.0</td><td>50000</td><td>2</td><td>null</td><td>null</td><td>10</td><td>0</td></tr></tbody></table></div>"
      ],
      "text/plain": [
       "shape: (5, 17)\n",
       "┌───────────────┬────────┬──────────────┬──────────────┬───┬──────────────┬──────┬──────┬──────────┐\n",
       "│ ID            ┆ Gender ┆ City_Categor ┆ Employer_Cat ┆ … ┆ Interest_Rat ┆ EMI  ┆ Var1 ┆ Approved │\n",
       "│ ---           ┆ ---    ┆ y            ┆ egory1       ┆   ┆ e            ┆ ---  ┆ ---  ┆ ---      │\n",
       "│ str           ┆ str    ┆ ---          ┆ ---          ┆   ┆ ---          ┆ i64  ┆ i64  ┆ i64      │\n",
       "│               ┆        ┆ str          ┆ str          ┆   ┆ f64          ┆      ┆      ┆          │\n",
       "╞═══════════════╪════════╪══════════════╪══════════════╪═══╪══════════════╪══════╪══════╪══════════╡\n",
       "│ APPC904931712 ┆ Female ┆ A            ┆ A            ┆ … ┆ null         ┆ null ┆ 0    ┆ 0        │\n",
       "│ 25            ┆        ┆              ┆              ┆   ┆              ┆      ┆      ┆          │\n",
       "│ APPD406112633 ┆ Male   ┆ A            ┆ C            ┆ … ┆ 13.25        ┆ 953  ┆ 10   ┆ 0        │\n",
       "│ 44            ┆        ┆              ┆              ┆   ┆              ┆      ┆      ┆          │\n",
       "│ APPE702892494 ┆ Male   ┆ C            ┆ C            ┆ … ┆ null         ┆ null ┆ 0    ┆ 0        │\n",
       "│ 23            ┆        ┆              ┆              ┆   ┆              ┆      ┆      ┆          │\n",
       "│ APPF802738655 ┆ Male   ┆ C            ┆ A            ┆ … ┆ null         ┆ null ┆ 7    ┆ 0        │\n",
       "│ 37            ┆        ┆              ┆              ┆   ┆              ┆      ┆      ┆          │\n",
       "│ APPG609944366 ┆ Male   ┆ A            ┆ A            ┆ … ┆ null         ┆ null ┆ 10   ┆ 0        │\n",
       "│ 41            ┆        ┆              ┆              ┆   ┆              ┆      ┆      ┆          │\n",
       "└───────────────┴────────┴──────────────┴──────────────┴───┴──────────────┴──────┴──────┴──────────┘"
      ]
     },
     "execution_count": 2,
     "metadata": {},
     "output_type": "execute_result"
    }
   ],
   "source": [
    "df = pl.read_parquet(\"../examples/dependency.parquet\").select(pl.exclude(['DOB', 'Source', 'Lead_Creation_Date', 'City_Code', 'Employer_Code']))\n",
    "df.head()"
   ]
  },
  {
   "cell_type": "markdown",
   "metadata": {},
   "source": [
    "## 1. A data science pipeline with data science transformers"
   ]
  },
  {
   "cell_type": "code",
   "execution_count": 3,
   "metadata": {},
   "outputs": [],
   "source": [
    "sql = \"\"\"\n",
    "select\n",
    "*\n",
    ", 'TEST' as test_col\n",
    "from df\n",
    "where loan_amount is not null\n",
    "\"\"\""
   ]
  },
  {
   "cell_type": "code",
   "execution_count": 4,
   "metadata": {},
   "outputs": [
    {
     "name": "stdout",
     "output_type": "stream",
     "text": [
      "Blueprint name: example\n",
      "Column names: Lowercase all incoming columns.\n",
      "Blueprint current steps: 9\n",
      "Features Expected: ['id', 'gender', 'city_category', 'employer_category1', 'employer_category2', 'monthly_income', 'customer_existing_primary_bank_code', 'primary_bank_type', 'contacted', 'source_category', 'existing_emi', 'loan_amount', 'loan_period', 'interest_rate', 'emi', 'var1', 'approved']\n",
      "\n"
     ]
    }
   ],
   "source": [
    "# Create a blueprint first. \n",
    "# A blueprint is a plan for a pipeline. No hard work will be done until the blueprint is materialized, which\n",
    "# is when the tranforms are fitted (e.g. scale learns the mean and std from base data)\n",
    "# If target is specified for the blueprint, target will be excluded from all transformations that require a fit,\n",
    "# and target will be auto-filled if the transformation requires a target field and when no target field is explicitly given.\n",
    "\n",
    "bp = (\n",
    "    Blueprint(df, name = \"example\", target = \"approved\", lowercase=True) # You can optionally put target of the ML model here\n",
    "    # Select only the columns we need\n",
    "    .sql_transform(sql) # Run a SQL transform on the df\n",
    "    # Say you want to remove a population for your data pipeline.\n",
    "    .filter( \n",
    "        \"city_category is not null\" # or equivalently, you can do: pl.col(\"city_category\").is_not_null()\n",
    "    )\n",
    "    # explicitly put target, since this is not the target for prediction. \n",
    "    # Use a linear regression with x1 = var1, x2=existing_emi to predict missing values in loan_period\n",
    "    .linear_impute(features = [\"var1\", \"existing_emi\"], target = \"loan_period\") \n",
    "    .impute([\"existing_emi\"], method = \"median\")\n",
    "    .with_columns( # generate some features\n",
    "        pl.col(\"existing_emi\").log1p().alias(\"existing_emi_log1p\"),\n",
    "        pl.col(\"loan_amount\").log1p().alias(\"loan_amount_log1p\"),\n",
    "        pl.col(\"loan_amount\").clip(lower_bound = 0, upper_bound = 1000).alias(\"loan_amount_log1p_clipped\"),\n",
    "        pl.col(\"loan_amount\").sqrt().alias(\"loan_amount_sqrt\"),\n",
    "        pl.col(\"loan_amount\").shift(-1).alias(\"loan_amount_lag_1\") # any kind of lag transform\n",
    "    )\n",
    "    .scale( # target is numerical, but will be excluded automatically because bp is initialzied with a target\n",
    "        cs.numeric().exclude([\"var1\", \"existing_emi_log1p\"]), method = \"standard\"\n",
    "    ) # Scale the columns up to this point. The columns below won't be scaled\n",
    "    .with_columns(\n",
    "        # Add missing flags\n",
    "        pl.col(\"employer_category1\").is_null().cast(pl.UInt8).alias(\"employer_category1_is_missing\")\n",
    "    )\n",
    "    .woe_encode(cols = pl.exclude('id')) # No need to specify target because we initialized bp with a target. None means encode all str columns\n",
    "    .sort(by = \"monthly_income\", descending=True)\n",
    "    # .one_hot_encode(cols=None, drop_first=True) # None means all str columns, or you can provide a list of columns\n",
    "    # .target_encode(\"employer_category1\", min_samples_leaf = 20, smoothing = 10.0) # same as above\n",
    ")\n",
    "\n",
    "print(bp)"
   ]
  },
  {
   "cell_type": "code",
   "execution_count": 5,
   "metadata": {},
   "outputs": [
    {
     "data": {
      "text/plain": [
       "Pipeline(name='example', feature_names_in_=['id', 'gender', 'city_category', 'employer_category1', 'employer_category2', 'monthly_income', 'customer_existing_primary_bank_code', 'primary_bank_type', 'contacted', 'source_category', 'existing_emi', 'loan_amount', 'loan_period', 'interest_rate', 'emi', 'var1', 'approved'], feature_names_out_=['id', 'gender', 'city_category', 'employer_category1', 'employer_category2', 'monthly_income', 'customer_existing_primary_bank_code', 'primary_bank_type', 'contacted', 'source_category', 'existing_emi', 'loan_amount', 'loan_period', 'interest_rate', 'emi', 'var1', 'approved', 'test_col', 'existing_emi_log1p', 'loan_amount_log1p', 'loan_amount_log1p_clipped', 'loan_amount_sqrt', 'loan_amount_lag_1', 'employer_category1_is_missing'], transforms=[<polars_ds.pipeline._step.SQLStep object at 0x7ff62266e650>, <polars_ds.pipeline._step.ExprStep object at 0x7ff6117ad360>, <polars_ds.pipeline._step.ExprStep object at 0x7ff6117aca90>, <polars_ds.pipeline._step.ExprStep object at 0x7ff622560730>, <polars_ds.pipeline._step.ExprStep object at 0x7ff62012aaa0>, <polars_ds.pipeline._step.ExprStep object at 0x7ff6101009a0>, <polars_ds.pipeline._step.ExprStep object at 0x7ff622563820>, <polars_ds.pipeline._step.ExprStep object at 0x7ff6105d8a60>, <polars_ds.pipeline._step.SortStep object at 0x7ff6117b8400>], ensure_features_in=False, ensure_features_out=True, lowercase=True, uppercase=False)"
      ]
     },
     "execution_count": 5,
     "metadata": {},
     "output_type": "execute_result"
    }
   ],
   "source": [
    "# Materialize the blueprint\n",
    "pipe:Pipeline = bp.materialize(\n",
    "    # This is an optional parameter, which will be passed to .collect()\n",
    "    # when there is a fit stet. User may decide which \n",
    "    optimizations = pl.QueryOptFlags() \n",
    ")\n",
    "# Text representation of the pipeline\n",
    "pipe"
   ]
  },
  {
   "cell_type": "code",
   "execution_count": 6,
   "metadata": {},
   "outputs": [
    {
     "data": {
      "text/html": [
       "<div><style>\n",
       ".dataframe > thead > tr,\n",
       ".dataframe > tbody > tr {\n",
       "  text-align: right;\n",
       "  white-space: pre-wrap;\n",
       "}\n",
       "</style>\n",
       "<small>shape: (5, 24)</small><table border=\"1\" class=\"dataframe\"><thead><tr><th>id</th><th>gender</th><th>city_category</th><th>employer_category1</th><th>employer_category2</th><th>monthly_income</th><th>customer_existing_primary_bank_code</th><th>primary_bank_type</th><th>contacted</th><th>source_category</th><th>existing_emi</th><th>loan_amount</th><th>loan_period</th><th>interest_rate</th><th>emi</th><th>var1</th><th>approved</th><th>test_col</th><th>existing_emi_log1p</th><th>loan_amount_log1p</th><th>loan_amount_log1p_clipped</th><th>loan_amount_sqrt</th><th>loan_amount_lag_1</th><th>employer_category1_is_missing</th></tr><tr><td>str</td><td>f64</td><td>f64</td><td>f64</td><td>f64</td><td>f64</td><td>f64</td><td>f64</td><td>f64</td><td>f64</td><td>f64</td><td>f64</td><td>f64</td><td>f64</td><td>f64</td><td>i64</td><td>i64</td><td>f64</td><td>f64</td><td>f64</td><td>f64</td><td>f64</td><td>f64</td><td>u8</td></tr></thead><tbody><tr><td>&quot;APPJ70184404909&quot;</td><td>0.042296</td><td>0.080959</td><td>-0.318275</td><td>0.371879</td><td>170.5226</td><td>0.062811</td><td>0.172773</td><td>-0.001157</td><td>-0.221381</td><td>-0.096348</td><td>3.598437</td><td>0.093681</td><td>-0.977179</td><td>3.93218</td><td>7</td><td>0</td><td>-0.001157</td><td>0.0</td><td>2.204828</td><td>NaN</td><td>2.937331</td><td>0.343978</td><td>0</td></tr><tr><td>&quot;APPD50002916548&quot;</td><td>0.042296</td><td>0.080959</td><td>null</td><td>null</td><td>53.332446</td><td>-0.572202</td><td>-0.481119</td><td>-0.001157</td><td>0.075118</td><td>197.696903</td><td>0.343995</td><td>0.950229</td><td>-0.635123</td><td>0.134903</td><td>10</td><td>0</td><td>-0.001157</td><td>13.209344</td><td>0.683076</td><td>NaN</td><td>0.543738</td><td>-0.632348</td><td>1</td></tr><tr><td>&quot;APPA60086062823&quot;</td><td>0.042296</td><td>0.080959</td><td>-0.318275</td><td>0.371879</td><td>44.4011</td><td>0.185567</td><td>0.172773</td><td>-0.001157</td><td>0.075118</td><td>-0.096348</td><td>-0.957782</td><td>-2.475963</td><td>null</td><td>null</td><td>10</td><td>0</td><td>-0.001157</td><td>0.0</td><td>-1.546165</td><td>NaN</td><td>-1.263712</td><td>-0.306906</td><td>0</td></tr><tr><td>&quot;APPO10994188022&quot;</td><td>0.042296</td><td>0.080959</td><td>-0.318275</td><td>0.371879</td><td>44.4011</td><td>0.185567</td><td>0.172773</td><td>-0.001157</td><td>0.075118</td><td>-0.096348</td><td>3.598437</td><td>-2.475963</td><td>null</td><td>null</td><td>10</td><td>0</td><td>-0.001157</td><td>0.0</td><td>2.204828</td><td>NaN</td><td>2.937331</td><td>-0.306906</td><td>0</td></tr><tr><td>&quot;APPO90710036421&quot;</td><td>0.042296</td><td>0.080959</td><td>0.193157</td><td>0.371879</td><td>44.4011</td><td>0.185567</td><td>0.172773</td><td>-0.001157</td><td>0.042189</td><td>0.32068</td><td>3.598437</td><td>0.093681</td><td>null</td><td>null</td><td>10</td><td>0</td><td>-0.001157</td><td>7.048386</td><td>2.204828</td><td>NaN</td><td>2.937331</td><td>-0.632348</td><td>0</td></tr></tbody></table></div>"
      ],
      "text/plain": [
       "shape: (5, 24)\n",
       "┌───────────┬──────────┬───────────┬───────────┬───┬───────────┬───────────┬───────────┬───────────┐\n",
       "│ id        ┆ gender   ┆ city_cate ┆ employer_ ┆ … ┆ loan_amou ┆ loan_amou ┆ loan_amou ┆ employer_ │\n",
       "│ ---       ┆ ---      ┆ gory      ┆ category1 ┆   ┆ nt_log1p_ ┆ nt_sqrt   ┆ nt_lag_1  ┆ category1 │\n",
       "│ str       ┆ f64      ┆ ---       ┆ ---       ┆   ┆ clipped   ┆ ---       ┆ ---       ┆ _is_missi │\n",
       "│           ┆          ┆ f64       ┆ f64       ┆   ┆ ---       ┆ f64       ┆ f64       ┆ ng        │\n",
       "│           ┆          ┆           ┆           ┆   ┆ f64       ┆           ┆           ┆ ---       │\n",
       "│           ┆          ┆           ┆           ┆   ┆           ┆           ┆           ┆ u8        │\n",
       "╞═══════════╪══════════╪═══════════╪═══════════╪═══╪═══════════╪═══════════╪═══════════╪═══════════╡\n",
       "│ APPJ70184 ┆ 0.042296 ┆ 0.080959  ┆ -0.318275 ┆ … ┆ NaN       ┆ 2.937331  ┆ 0.343978  ┆ 0         │\n",
       "│ 404909    ┆          ┆           ┆           ┆   ┆           ┆           ┆           ┆           │\n",
       "│ APPD50002 ┆ 0.042296 ┆ 0.080959  ┆ null      ┆ … ┆ NaN       ┆ 0.543738  ┆ -0.632348 ┆ 1         │\n",
       "│ 916548    ┆          ┆           ┆           ┆   ┆           ┆           ┆           ┆           │\n",
       "│ APPA60086 ┆ 0.042296 ┆ 0.080959  ┆ -0.318275 ┆ … ┆ NaN       ┆ -1.263712 ┆ -0.306906 ┆ 0         │\n",
       "│ 062823    ┆          ┆           ┆           ┆   ┆           ┆           ┆           ┆           │\n",
       "│ APPO10994 ┆ 0.042296 ┆ 0.080959  ┆ -0.318275 ┆ … ┆ NaN       ┆ 2.937331  ┆ -0.306906 ┆ 0         │\n",
       "│ 188022    ┆          ┆           ┆           ┆   ┆           ┆           ┆           ┆           │\n",
       "│ APPO90710 ┆ 0.042296 ┆ 0.080959  ┆ 0.193157  ┆ … ┆ NaN       ┆ 2.937331  ┆ -0.632348 ┆ 0         │\n",
       "│ 036421    ┆          ┆           ┆           ┆   ┆           ┆           ┆           ┆           │\n",
       "└───────────┴──────────┴───────────┴───────────┴───┴───────────┴───────────┴───────────┴───────────┘"
      ]
     },
     "execution_count": 6,
     "metadata": {},
     "output_type": "execute_result"
    }
   ],
   "source": [
    "# If you want separation between features (X) and target (y)\n",
    "# you can run the following:\n",
    "# df_x, df_y = pipe.transform(df, separate=True)\n",
    "\n",
    "df_transformed = pipe.transform(\n",
    "    df \n",
    "    # This is an optional parameter, which can be used to tune performance\n",
    "    # during collect\n",
    "    , optimizations = pl.QueryOptFlags() \n",
    ")\n",
    "df_transformed.head()"
   ]
  },
  {
   "cell_type": "code",
   "execution_count": 7,
   "metadata": {},
   "outputs": [],
   "source": [
    "if tuple(int(v) for v in pl.__version__.split(\".\")) >= (1, 34, 0):\n",
    "    batches = []\n",
    "    for df_batch in pipe.transform(df, return_lazy=True).collect_batches():\n",
    "        batches.append(df_batch)\n",
    "        # Pass the batch to any ML model which can be updated. (Online training)\n",
    "\n",
    "    # Here we test that the df combined from the batches is equivalent to the original df_transformed\n",
    "    # up to reordering. If we don't sort by id, the frames are equal in terms of all the transformed records \n",
    "    # but may not be equal in terms of the ordering. \n",
    "    # The reason is that when collecting from batches, ordering may not be\n",
    "    # so clear and strictly the same as the original. By testing, the `sort` transform should\n",
    "    # be avoided if you want the same df output with the same ordering without manually ordering them.\n",
    "\n",
    "    df_transformed_from_batches = pl.concat(batches).sort(\"id\")\n",
    "    assert_frame_equal(df_transformed.sort(\"id\"), df_transformed_from_batches)"
   ]
  },
  {
   "cell_type": "code",
   "execution_count": 8,
   "metadata": {},
   "outputs": [
    {
     "data": {
      "text/html": [
       "<div><style>\n",
       ".dataframe > thead > tr,\n",
       ".dataframe > tbody > tr {\n",
       "  text-align: right;\n",
       "  white-space: pre-wrap;\n",
       "}\n",
       "</style>\n",
       "<small>shape: (0, 24)</small><table border=\"1\" class=\"dataframe\"><thead><tr><th>id</th><th>gender</th><th>city_category</th><th>employer_category1</th><th>employer_category2</th><th>monthly_income</th><th>customer_existing_primary_bank_code</th><th>primary_bank_type</th><th>contacted</th><th>source_category</th><th>existing_emi</th><th>loan_amount</th><th>loan_period</th><th>interest_rate</th><th>emi</th><th>var1</th><th>approved</th><th>test_col</th><th>existing_emi_log1p</th><th>loan_amount_log1p</th><th>loan_amount_log1p_clipped</th><th>loan_amount_sqrt</th><th>loan_amount_lag_1</th><th>employer_category1_is_missing</th></tr><tr><td>str</td><td>f64</td><td>f64</td><td>f64</td><td>f64</td><td>f64</td><td>f64</td><td>f64</td><td>f64</td><td>f64</td><td>f64</td><td>f64</td><td>f64</td><td>f64</td><td>f64</td><td>i64</td><td>i64</td><td>f64</td><td>f64</td><td>f64</td><td>f64</td><td>f64</td><td>f64</td><td>u8</td></tr></thead><tbody></tbody></table></div>"
      ],
      "text/plain": [
       "shape: (0, 24)\n",
       "┌─────┬────────┬─────────────┬─────────────┬───┬────────────┬────────────┬────────────┬────────────┐\n",
       "│ id  ┆ gender ┆ city_catego ┆ employer_ca ┆ … ┆ loan_amoun ┆ loan_amoun ┆ loan_amoun ┆ employer_c │\n",
       "│ --- ┆ ---    ┆ ry          ┆ tegory1     ┆   ┆ t_log1p_cl ┆ t_sqrt     ┆ t_lag_1    ┆ ategory1_i │\n",
       "│ str ┆ f64    ┆ ---         ┆ ---         ┆   ┆ ipped      ┆ ---        ┆ ---        ┆ s_missing  │\n",
       "│     ┆        ┆ f64         ┆ f64         ┆   ┆ ---        ┆ f64        ┆ f64        ┆ ---        │\n",
       "│     ┆        ┆             ┆             ┆   ┆ f64        ┆            ┆            ┆ u8         │\n",
       "╞═════╪════════╪═════════════╪═════════════╪═══╪════════════╪════════════╪════════════╪════════════╡\n",
       "└─────┴────────┴─────────────┴─────────────┴───┴────────────┴────────────┴────────────┴────────────┘"
      ]
     },
     "execution_count": 8,
     "metadata": {},
     "output_type": "execute_result"
    }
   ],
   "source": [
    "# Empty. Because we filtered this to not null.\n",
    "df_transformed.filter(\n",
    "    pl.col(\"city_category\").is_null()\n",
    ")"
   ]
  },
  {
   "cell_type": "code",
   "execution_count": 9,
   "metadata": {},
   "outputs": [
    {
     "data": {
      "text/html": [
       "<div><style>\n",
       ".dataframe > thead > tr,\n",
       ".dataframe > tbody > tr {\n",
       "  text-align: right;\n",
       "  white-space: pre-wrap;\n",
       "}\n",
       "</style>\n",
       "<small>shape: (0, 24)</small><table border=\"1\" class=\"dataframe\"><thead><tr><th>id</th><th>gender</th><th>city_category</th><th>employer_category1</th><th>employer_category2</th><th>monthly_income</th><th>customer_existing_primary_bank_code</th><th>primary_bank_type</th><th>contacted</th><th>source_category</th><th>existing_emi</th><th>loan_amount</th><th>loan_period</th><th>interest_rate</th><th>emi</th><th>var1</th><th>approved</th><th>test_col</th><th>existing_emi_log1p</th><th>loan_amount_log1p</th><th>loan_amount_log1p_clipped</th><th>loan_amount_sqrt</th><th>loan_amount_lag_1</th><th>employer_category1_is_missing</th></tr><tr><td>str</td><td>f64</td><td>f64</td><td>f64</td><td>f64</td><td>f64</td><td>f64</td><td>f64</td><td>f64</td><td>f64</td><td>f64</td><td>f64</td><td>f64</td><td>f64</td><td>f64</td><td>i64</td><td>i64</td><td>f64</td><td>f64</td><td>f64</td><td>f64</td><td>f64</td><td>f64</td><td>u8</td></tr></thead><tbody></tbody></table></div>"
      ],
      "text/plain": [
       "shape: (0, 24)\n",
       "┌─────┬────────┬─────────────┬─────────────┬───┬────────────┬────────────┬────────────┬────────────┐\n",
       "│ id  ┆ gender ┆ city_catego ┆ employer_ca ┆ … ┆ loan_amoun ┆ loan_amoun ┆ loan_amoun ┆ employer_c │\n",
       "│ --- ┆ ---    ┆ ry          ┆ tegory1     ┆   ┆ t_log1p_cl ┆ t_sqrt     ┆ t_lag_1    ┆ ategory1_i │\n",
       "│ str ┆ f64    ┆ ---         ┆ ---         ┆   ┆ ipped      ┆ ---        ┆ ---        ┆ s_missing  │\n",
       "│     ┆        ┆ f64         ┆ f64         ┆   ┆ ---        ┆ f64        ┆ f64        ┆ ---        │\n",
       "│     ┆        ┆             ┆             ┆   ┆ f64        ┆            ┆            ┆ u8         │\n",
       "╞═════╪════════╪═════════════╪═════════════╪═══╪════════════╪════════════╪════════════╪════════════╡\n",
       "└─────┴────────┴─────────────┴─────────────┴───┴────────────┴────────────┴────────────┴────────────┘"
      ]
     },
     "execution_count": 9,
     "metadata": {},
     "output_type": "execute_result"
    }
   ],
   "source": [
    "# Empty. Because we filtered this to not null in the SQL\n",
    "df_transformed.filter(\n",
    "    pl.col(\"loan_amount\").is_null()\n",
    ")"
   ]
  },
  {
   "cell_type": "markdown",
   "metadata": {},
   "source": [
    "# A data preparation, manipulation pipeline"
   ]
  },
  {
   "cell_type": "code",
   "execution_count": 10,
   "metadata": {},
   "outputs": [
    {
     "name": "stdout",
     "output_type": "stream",
     "text": [
      "Blueprint name: example\n",
      "Column names: Lowercase all incoming columns.\n",
      "Blueprint current steps: 4\n",
      "Features Expected: ['id', 'gender', 'city_category', 'employer_category1', 'employer_category2', 'monthly_income', 'customer_existing_primary_bank_code', 'primary_bank_type', 'contacted', 'source_category', 'existing_emi', 'loan_amount', 'loan_period', 'interest_rate', 'emi', 'var1', 'approved']\n",
      "\n"
     ]
    }
   ],
   "source": [
    "\n",
    "bp2 = (\n",
    "    Blueprint(df, name = \"example\", target = \"approved\", lowercase=True) # You can optionally put target of the ML model here\n",
    "    .filter( \n",
    "        \"city_category is not null\" # or equivalently, you can do: pl.col(\"city_category\").is_not_null()\n",
    "    )\n",
    "    .with_columns( # generate some features\n",
    "        pl.col(\"existing_emi\").log1p().alias(\"existing_emi_log1p\"),\n",
    "        pl.col(\"loan_amount\").log1p().alias(\"loan_amount_log1p\"),\n",
    "        pl.col(\"loan_amount\").clip(lower_bound = 0, upper_bound = 1000).alias(\"loan_amount_log1p_clipped\"),\n",
    "        pl.col(\"loan_amount\").sqrt().alias(\"loan_amount_sqrt\"),\n",
    "        pl.col(\"loan_amount\").shift(-1).alias(\"loan_amount_lag_1\") # any kind of lag transform\n",
    "    )\n",
    "    .group_by_agg(by = \"city_category\", agg = [\n",
    "        pl.col(\"loan_amount\").sqrt().mean().alias(\"loan_amount_sqrt_mean\")\n",
    "        , pl.col(\"loan_amount\").min().alias(\"loan_amount_min\")\n",
    "        , pl.col(\"loan_amount\").max().alias(\"loan_amount_max\")\n",
    "    ])\n",
    "    .sort(by = [\"city_category\"] , descending=True)\n",
    ")\n",
    "\n",
    "print(bp2)"
   ]
  },
  {
   "cell_type": "code",
   "execution_count": 11,
   "metadata": {},
   "outputs": [
    {
     "data": {
      "text/html": [
       "<div><style>\n",
       ".dataframe > thead > tr,\n",
       ".dataframe > tbody > tr {\n",
       "  text-align: right;\n",
       "  white-space: pre-wrap;\n",
       "}\n",
       "</style>\n",
       "<small>shape: (3, 4)</small><table border=\"1\" class=\"dataframe\"><thead><tr><th>city_category</th><th>loan_amount_sqrt_mean</th><th>loan_amount_min</th><th>loan_amount_max</th></tr><tr><td>str</td><td>f64</td><td>i64</td><td>i64</td></tr></thead><tbody><tr><td>&quot;C&quot;</td><td>169.847635</td><td>5000</td><td>250000</td></tr><tr><td>&quot;B&quot;</td><td>183.365209</td><td>5000</td><td>300000</td></tr><tr><td>&quot;A&quot;</td><td>190.146432</td><td>5000</td><td>300000</td></tr></tbody></table></div>"
      ],
      "text/plain": [
       "shape: (3, 4)\n",
       "┌───────────────┬───────────────────────┬─────────────────┬─────────────────┐\n",
       "│ city_category ┆ loan_amount_sqrt_mean ┆ loan_amount_min ┆ loan_amount_max │\n",
       "│ ---           ┆ ---                   ┆ ---             ┆ ---             │\n",
       "│ str           ┆ f64                   ┆ i64             ┆ i64             │\n",
       "╞═══════════════╪═══════════════════════╪═════════════════╪═════════════════╡\n",
       "│ C             ┆ 169.847635            ┆ 5000            ┆ 250000          │\n",
       "│ B             ┆ 183.365209            ┆ 5000            ┆ 300000          │\n",
       "│ A             ┆ 190.146432            ┆ 5000            ┆ 300000          │\n",
       "└───────────────┴───────────────────────┴─────────────────┴─────────────────┘"
      ]
     },
     "execution_count": 11,
     "metadata": {},
     "output_type": "execute_result"
    }
   ],
   "source": [
    "pipe2 = bp2.materialize()\n",
    "df_transformed2 = pipe2.transform(df)\n",
    "df_transformed2.head()"
   ]
  },
  {
   "cell_type": "code",
   "execution_count": 12,
   "metadata": {},
   "outputs": [
    {
     "data": {
      "text/html": [
       "<div><style>\n",
       ".dataframe > thead > tr,\n",
       ".dataframe > tbody > tr {\n",
       "  text-align: right;\n",
       "  white-space: pre-wrap;\n",
       "}\n",
       "</style>\n",
       "<small>shape: (5, 2)</small><table border=\"1\" class=\"dataframe\"><thead><tr><th>Date</th><th>Close</th></tr><tr><td>date</td><td>f64</td></tr></thead><tbody><tr><td>1981-02-23</td><td>24.62</td></tr><tr><td>1981-05-06</td><td>27.38</td></tr><tr><td>1981-05-18</td><td>28.0</td></tr><tr><td>1981-09-25</td><td>14.25</td></tr><tr><td>1982-07-08</td><td>11.0</td></tr></tbody></table></div>"
      ],
      "text/plain": [
       "shape: (5, 2)\n",
       "┌────────────┬───────┐\n",
       "│ Date       ┆ Close │\n",
       "│ ---        ┆ ---   │\n",
       "│ date       ┆ f64   │\n",
       "╞════════════╪═══════╡\n",
       "│ 1981-02-23 ┆ 24.62 │\n",
       "│ 1981-05-06 ┆ 27.38 │\n",
       "│ 1981-05-18 ┆ 28.0  │\n",
       "│ 1981-09-25 ┆ 14.25 │\n",
       "│ 1982-07-08 ┆ 11.0  │\n",
       "└────────────┴───────┘"
      ]
     },
     "execution_count": 12,
     "metadata": {},
     "output_type": "execute_result"
    }
   ],
   "source": [
    "df_app = pl.read_csv(\"apple_stock.csv\", try_parse_dates=True)\n",
    "df_app.head()"
   ]
  },
  {
   "cell_type": "code",
   "execution_count": 13,
   "metadata": {},
   "outputs": [
    {
     "data": {
      "text/html": [
       "<div><style>\n",
       ".dataframe > thead > tr,\n",
       ".dataframe > tbody > tr {\n",
       "  text-align: right;\n",
       "  white-space: pre-wrap;\n",
       "}\n",
       "</style>\n",
       "<small>shape: (5, 4)</small><table border=\"1\" class=\"dataframe\"><thead><tr><th>Date</th><th>sqrt_mean</th><th>min</th><th>max</th></tr><tr><td>date</td><td>f64</td><td>f64</td><td>f64</td></tr></thead><tbody><tr><td>1981-01-01</td><td>4.815216</td><td>14.25</td><td>28.0</td></tr><tr><td>1982-01-01</td><td>3.316625</td><td>11.0</td><td>11.0</td></tr><tr><td>1983-01-01</td><td>5.49082</td><td>23.13</td><td>40.0</td></tr><tr><td>1984-01-01</td><td>5.25184</td><td>27.13</td><td>28.12</td></tr><tr><td>1985-01-01</td><td>4.252269</td><td>14.75</td><td>20.0</td></tr></tbody></table></div>"
      ],
      "text/plain": [
       "shape: (5, 4)\n",
       "┌────────────┬───────────┬───────┬───────┐\n",
       "│ Date       ┆ sqrt_mean ┆ min   ┆ max   │\n",
       "│ ---        ┆ ---       ┆ ---   ┆ ---   │\n",
       "│ date       ┆ f64       ┆ f64   ┆ f64   │\n",
       "╞════════════╪═══════════╪═══════╪═══════╡\n",
       "│ 1981-01-01 ┆ 4.815216  ┆ 14.25 ┆ 28.0  │\n",
       "│ 1982-01-01 ┆ 3.316625  ┆ 11.0  ┆ 11.0  │\n",
       "│ 1983-01-01 ┆ 5.49082   ┆ 23.13 ┆ 40.0  │\n",
       "│ 1984-01-01 ┆ 5.25184   ┆ 27.13 ┆ 28.12 │\n",
       "│ 1985-01-01 ┆ 4.252269  ┆ 14.75 ┆ 20.0  │\n",
       "└────────────┴───────────┴───────┴───────┘"
      ]
     },
     "execution_count": 13,
     "metadata": {},
     "output_type": "execute_result"
    }
   ],
   "source": [
    "bp3 = (\n",
    "    Blueprint(df_app) \n",
    "    .sort(by = [\"Date\"] , descending=False)\n",
    "    .group_by_dynamic_agg(\n",
    "        index_column = \"Date\"\n",
    "        , every=\"1y\"\n",
    "        , agg = [\n",
    "            pl.col(\"Close\").sqrt().mean().alias(\"sqrt_mean\")\n",
    "            , pl.col(\"Close\").min().alias(\"min\")\n",
    "            , pl.col(\"Close\").max().alias(\"max\")\n",
    "        ]\n",
    "    )\n",
    ")\n",
    "\n",
    "pipe3 = bp3.materialize()\n",
    "df_transformed3 = pipe3.transform(df_app)\n",
    "df_transformed3.head()"
   ]
  },
  {
   "cell_type": "markdown",
   "metadata": {},
   "source": [
    "# A Time Series Pipeline"
   ]
  },
  {
   "cell_type": "code",
   "execution_count": 14,
   "metadata": {},
   "outputs": [
    {
     "data": {
      "text/html": [
       "<div><style>\n",
       ".dataframe > thead > tr,\n",
       ".dataframe > tbody > tr {\n",
       "  text-align: right;\n",
       "  white-space: pre-wrap;\n",
       "}\n",
       "</style>\n",
       "<small>shape: (5, 4)</small><table border=\"1\" class=\"dataframe\"><thead><tr><th>id</th><th>timestamp</th><th>features</th><th>target</th></tr><tr><td>i64</td><td>i64</td><td>array[f64, (3, 2)]</td><td>u32</td></tr></thead><tbody><tr><td>1</td><td>0</td><td>[[-4.792937, -0.015359], [9.952815, -0.120919], [14.181205, 0.162681]]</td><td>1</td></tr><tr><td>1</td><td>3</td><td>[[12.442229, -0.160611], [14.678651, -0.083225], [2.211781, 0.136785]]</td><td>2</td></tr><tr><td>1</td><td>6</td><td>[[4.381065, 0.076757], [-6.968868, -0.03936], [-11.235111, -0.034404]]</td><td>2</td></tr><tr><td>2</td><td>0</td><td>[[-14.00195, -0.0513], [6.935859, 0.053503], [-12.127647, 0.061455]]</td><td>1</td></tr><tr><td>2</td><td>3</td><td>[[-14.697957, -0.068382], [-4.916968, 0.076963], [-8.356783, -0.059306]]</td><td>1</td></tr></tbody></table></div>"
      ],
      "text/plain": [
       "shape: (5, 4)\n",
       "┌─────┬───────────┬─────────────────────────────────┬────────┐\n",
       "│ id  ┆ timestamp ┆ features                        ┆ target │\n",
       "│ --- ┆ ---       ┆ ---                             ┆ ---    │\n",
       "│ i64 ┆ i64       ┆ array[f64, (3, 2)]              ┆ u32    │\n",
       "╞═════╪═══════════╪═════════════════════════════════╪════════╡\n",
       "│ 1   ┆ 0         ┆ [[-4.792937, -0.015359], [9.95… ┆ 1      │\n",
       "│ 1   ┆ 3         ┆ [[12.442229, -0.160611], [14.6… ┆ 2      │\n",
       "│ 1   ┆ 6         ┆ [[4.381065, 0.076757], [-6.968… ┆ 2      │\n",
       "│ 2   ┆ 0         ┆ [[-14.00195, -0.0513], [6.9358… ┆ 1      │\n",
       "│ 2   ┆ 3         ┆ [[-14.697957, -0.068382], [-4.… ┆ 1      │\n",
       "└─────┴───────────┴─────────────────────────────────┴────────┘"
      ]
     },
     "execution_count": 14,
     "metadata": {},
     "output_type": "execute_result"
    }
   ],
   "source": [
    "import numpy as np\n",
    "import random \n",
    "\n",
    "df_ts = pl.DataFrame(\n",
    "    {\n",
    "        \"id\": [1] * 9 + [2] * 15 + [3] * 6,\n",
    "        \"timestamp\": list(range(9))\n",
    "        + list(range(15))\n",
    "        + list(range(6)),\n",
    "        \"var_1\": np.random.rand(30),\n",
    "        \"var_2\": np.random.rand(30),\n",
    "        \"target\": random.choices([False, True], k=30),\n",
    "    }\n",
    ")\n",
    "\n",
    "bp4 = (\n",
    "    Blueprint(df_ts) \n",
    "    .scale(\n",
    "        [\"var_1\", \"var_2\"]\n",
    "        , method = \"standard\"\n",
    "    ).group_by_agg(\n",
    "        by = \"id\"\n",
    "        , maintain_order = True\n",
    "        , agg = [\n",
    "            \"timestamp\",\n",
    "            pl.col(\"var_1\").mul(10),\n",
    "            pl.col(\"var_2\").truediv(10),\n",
    "            \"target\",\n",
    "        ]\n",
    "    ).explode(columns = pl.exclude(\"id\"))\n",
    "    .group_by_dynamic_agg(\n",
    "        index_column = \"timestamp\"\n",
    "        , every=\"3i\"\n",
    "        , group_by = \"id\"\n",
    "        , start_by=\"datapoint\"\n",
    "        , agg = [\n",
    "            pl.concat_list(\"var_1\", \"var_2\").alias(\"features\"),\n",
    "            pl.col(\"target\").sum(),\n",
    "        ]\n",
    "    ).with_columns(\n",
    "        pl.col(\"features\").cast(pl.Array(pl.Float64, (3, 2)))\n",
    "    )\n",
    ")\n",
    "\n",
    "pipe4 = bp4.materialize()\n",
    "df_transformed4 = pipe4.transform(df_ts)\n",
    "df_transformed4.head()"
   ]
  },
  {
   "cell_type": "markdown",
   "metadata": {},
   "source": [
    "# Serialization Methods\n",
    "\n",
    "You can always use a pickle to preserve the pipeline. So I won't demonstrate that here. What's more exciting is that PDS pipelines can be turned into JSON."
   ]
  },
  {
   "cell_type": "code",
   "execution_count": 15,
   "metadata": {},
   "outputs": [],
   "source": [
    "pipe.to_json(\"test.json\")\n",
    "pipe_reload = Pipeline.from_json(open(\"test.json\").read())\n",
    "# True\n",
    "assert_frame_equal(df_transformed, pipe_reload.transform(df))"
   ]
  },
  {
   "cell_type": "code",
   "execution_count": 16,
   "metadata": {},
   "outputs": [],
   "source": [
    "pipe2.to_json(\"test2.json\")\n",
    "pipe2_reload = Pipeline.from_json(open(\"test2.json\").read())\n",
    "# True\n",
    "assert_frame_equal(df_transformed2, pipe2_reload.transform(df))"
   ]
  },
  {
   "cell_type": "code",
   "execution_count": 17,
   "metadata": {},
   "outputs": [],
   "source": [
    "pipe3.to_json(\"test3.json\")\n",
    "pipe3_reload = Pipeline.from_json(open(\"test3.json\").read())\n",
    "# True\n",
    "assert_frame_equal(df_transformed3, pipe3_reload.transform(df_app))"
   ]
  },
  {
   "cell_type": "code",
   "execution_count": 18,
   "metadata": {},
   "outputs": [],
   "source": [
    "pipe4.to_json(\"test4.json\")\n",
    "pipe4_reload = Pipeline.from_json(open(\"test4.json\").read())\n",
    "# True\n",
    "assert_frame_equal(df_transformed4, pipe4_reload.transform(df_ts))"
   ]
  },
  {
   "cell_type": "markdown",
   "metadata": {},
   "source": [
    "# Custom Tranformations in Pipeline\n",
    "\n",
    "Need version >= v0.4.6 (Not released yet)"
   ]
  },
  {
   "cell_type": "code",
   "execution_count": 19,
   "metadata": {},
   "outputs": [
    {
     "data": {
      "text/html": [
       "<div><style>\n",
       ".dataframe > thead > tr,\n",
       ".dataframe > tbody > tr {\n",
       "  text-align: right;\n",
       "  white-space: pre-wrap;\n",
       "}\n",
       "</style>\n",
       "<small>shape: (5, 22)</small><table border=\"1\" class=\"dataframe\"><thead><tr><th>ID</th><th>Gender</th><th>DOB</th><th>Lead_Creation_Date</th><th>City_Code</th><th>City_Category</th><th>Employer_Code</th><th>Employer_Category1</th><th>Employer_Category2</th><th>Monthly_Income</th><th>Customer_Existing_Primary_Bank_Code</th><th>Primary_Bank_Type</th><th>Contacted</th><th>Source</th><th>Source_Category</th><th>Existing_EMI</th><th>Loan_Amount</th><th>Loan_Period</th><th>Interest_Rate</th><th>EMI</th><th>Var1</th><th>Approved</th></tr><tr><td>str</td><td>str</td><td>str</td><td>str</td><td>str</td><td>str</td><td>str</td><td>str</td><td>i64</td><td>f64</td><td>str</td><td>str</td><td>str</td><td>str</td><td>str</td><td>f64</td><td>i64</td><td>i64</td><td>f64</td><td>i64</td><td>i64</td><td>i64</td></tr></thead><tbody><tr><td>&quot;APPC90493171225&quot;</td><td>&quot;Female&quot;</td><td>&quot;23/07/79&quot;</td><td>&quot;15/07/16&quot;</td><td>&quot;C10001&quot;</td><td>&quot;A&quot;</td><td>&quot;COM0044082&quot;</td><td>&quot;A&quot;</td><td>4</td><td>2000.0</td><td>&quot;B001&quot;</td><td>&quot;P&quot;</td><td>&quot;N&quot;</td><td>&quot;S122&quot;</td><td>&quot;G&quot;</td><td>0.0</td><td>null</td><td>null</td><td>null</td><td>null</td><td>0</td><td>0</td></tr><tr><td>&quot;APPD40611263344&quot;</td><td>&quot;Male&quot;</td><td>&quot;07/12/86&quot;</td><td>&quot;04/07/16&quot;</td><td>&quot;C10003&quot;</td><td>&quot;A&quot;</td><td>&quot;COM0000002&quot;</td><td>&quot;C&quot;</td><td>1</td><td>3500.0</td><td>&quot;B002&quot;</td><td>&quot;P&quot;</td><td>&quot;Y&quot;</td><td>&quot;S122&quot;</td><td>&quot;G&quot;</td><td>0.0</td><td>20000</td><td>2</td><td>13.25</td><td>953</td><td>10</td><td>0</td></tr><tr><td>&quot;APPE70289249423&quot;</td><td>&quot;Male&quot;</td><td>&quot;10/12/82&quot;</td><td>&quot;19/07/16&quot;</td><td>&quot;C10125&quot;</td><td>&quot;C&quot;</td><td>&quot;COM0005267&quot;</td><td>&quot;C&quot;</td><td>4</td><td>2250.0</td><td>&quot;B003&quot;</td><td>&quot;G&quot;</td><td>&quot;Y&quot;</td><td>&quot;S143&quot;</td><td>&quot;B&quot;</td><td>0.0</td><td>45000</td><td>4</td><td>null</td><td>null</td><td>0</td><td>0</td></tr><tr><td>&quot;APPF80273865537&quot;</td><td>&quot;Male&quot;</td><td>&quot;30/01/89&quot;</td><td>&quot;09/07/16&quot;</td><td>&quot;C10477&quot;</td><td>&quot;C&quot;</td><td>&quot;COM0004143&quot;</td><td>&quot;A&quot;</td><td>4</td><td>3500.0</td><td>&quot;B003&quot;</td><td>&quot;G&quot;</td><td>&quot;Y&quot;</td><td>&quot;S143&quot;</td><td>&quot;B&quot;</td><td>0.0</td><td>92000</td><td>5</td><td>null</td><td>null</td><td>7</td><td>0</td></tr><tr><td>&quot;APPG60994436641&quot;</td><td>&quot;Male&quot;</td><td>&quot;19/04/85&quot;</td><td>&quot;20/07/16&quot;</td><td>&quot;C10002&quot;</td><td>&quot;A&quot;</td><td>&quot;COM0001781&quot;</td><td>&quot;A&quot;</td><td>4</td><td>10000.0</td><td>&quot;B001&quot;</td><td>&quot;P&quot;</td><td>&quot;Y&quot;</td><td>&quot;S134&quot;</td><td>&quot;B&quot;</td><td>2500.0</td><td>50000</td><td>2</td><td>null</td><td>null</td><td>10</td><td>0</td></tr></tbody></table></div>"
      ],
      "text/plain": [
       "shape: (5, 22)\n",
       "┌────────────────┬────────┬──────────┬────────────────┬───┬───────────────┬──────┬──────┬──────────┐\n",
       "│ ID             ┆ Gender ┆ DOB      ┆ Lead_Creation_ ┆ … ┆ Interest_Rate ┆ EMI  ┆ Var1 ┆ Approved │\n",
       "│ ---            ┆ ---    ┆ ---      ┆ Date           ┆   ┆ ---           ┆ ---  ┆ ---  ┆ ---      │\n",
       "│ str            ┆ str    ┆ str      ┆ ---            ┆   ┆ f64           ┆ i64  ┆ i64  ┆ i64      │\n",
       "│                ┆        ┆          ┆ str            ┆   ┆               ┆      ┆      ┆          │\n",
       "╞════════════════╪════════╪══════════╪════════════════╪═══╪═══════════════╪══════╪══════╪══════════╡\n",
       "│ APPC9049317122 ┆ Female ┆ 23/07/79 ┆ 15/07/16       ┆ … ┆ null          ┆ null ┆ 0    ┆ 0        │\n",
       "│ 5              ┆        ┆          ┆                ┆   ┆               ┆      ┆      ┆          │\n",
       "│ APPD4061126334 ┆ Male   ┆ 07/12/86 ┆ 04/07/16       ┆ … ┆ 13.25         ┆ 953  ┆ 10   ┆ 0        │\n",
       "│ 4              ┆        ┆          ┆                ┆   ┆               ┆      ┆      ┆          │\n",
       "│ APPE7028924942 ┆ Male   ┆ 10/12/82 ┆ 19/07/16       ┆ … ┆ null          ┆ null ┆ 0    ┆ 0        │\n",
       "│ 3              ┆        ┆          ┆                ┆   ┆               ┆      ┆      ┆          │\n",
       "│ APPF8027386553 ┆ Male   ┆ 30/01/89 ┆ 09/07/16       ┆ … ┆ null          ┆ null ┆ 7    ┆ 0        │\n",
       "│ 7              ┆        ┆          ┆                ┆   ┆               ┆      ┆      ┆          │\n",
       "│ APPG6099443664 ┆ Male   ┆ 19/04/85 ┆ 20/07/16       ┆ … ┆ null          ┆ null ┆ 10   ┆ 0        │\n",
       "│ 1              ┆        ┆          ┆                ┆   ┆               ┆      ┆      ┆          │\n",
       "└────────────────┴────────┴──────────┴────────────────┴───┴───────────────┴──────┴──────┴──────────┘"
      ]
     },
     "execution_count": 19,
     "metadata": {},
     "output_type": "execute_result"
    }
   ],
   "source": [
    "df = pl.read_parquet(\"../examples/dependency.parquet\")\n",
    "df.head()"
   ]
  },
  {
   "cell_type": "code",
   "execution_count": 20,
   "metadata": {},
   "outputs": [],
   "source": [
    "from typing import Union, List\n",
    "\n",
    "# Any custom function must satistfy the following function signature:\n",
    "# func(df:Union[pl.DataFrame, pl.LazyFrame], cols: List[str], ...) -> List[pl.Expr]\n",
    "# where ... means kwargs\n",
    "# Here is a custom imputer\n",
    "\n",
    "def smallest_abs_impute(df:Union[pl.DataFrame, pl.LazyFrame], cols: List[str], epsilon:float = 0.01) -> List[pl.Expr]:\n",
    "    \"\"\"\n",
    "    Imputes columns by the min of the absolute values for c in columns, plus epsilon.\n",
    "    \"\"\"\n",
    "    temp = df.lazy().select(pl.col(cols).abs().min() + epsilon).collect().row(0)\n",
    "    return [pl.col(c).fill_null(m) for c, m in zip(cols, temp)]\n"
   ]
  },
  {
   "cell_type": "code",
   "execution_count": 21,
   "metadata": {},
   "outputs": [
    {
     "data": {
      "text/plain": [
       "Pipeline(name='example', feature_names_in_=['id', 'gender', 'dob', 'lead_creation_date', 'city_code', 'city_category', 'employer_code', 'employer_category1', 'employer_category2', 'monthly_income', 'customer_existing_primary_bank_code', 'primary_bank_type', 'contacted', 'source', 'source_category', 'existing_emi', 'loan_amount', 'loan_period', 'interest_rate', 'emi', 'var1', 'approved'], feature_names_out_=['id', 'gender', 'dob', 'lead_creation_date', 'city_code', 'city_category', 'employer_code', 'employer_category1', 'employer_category2', 'monthly_income', 'customer_existing_primary_bank_code', 'primary_bank_type', 'contacted', 'source', 'source_category', 'existing_emi', 'loan_amount', 'loan_period', 'interest_rate', 'emi', 'var1', 'approved'], transforms=[<polars_ds.pipeline._step.ExprStep object at 0x7ff5f414a5f0>], ensure_features_in=False, ensure_features_out=True, lowercase=True, uppercase=False)"
      ]
     },
     "execution_count": 21,
     "metadata": {},
     "output_type": "execute_result"
    }
   ],
   "source": [
    "bp = (\n",
    "    Blueprint(df, name = \"example\", target = \"approved\", lowercase=True)\n",
    "    .append_fit_func(smallest_abs_impute, [\"var1\", \"existing_emi\", \"loan_amount\"], epsilon = 0.5)\n",
    "    # Use append_fit_func for custom transforms\n",
    ")\n",
    "# Notice that the value to impute is correct, it is 0.5, because the min abs of the columns are 0.\n",
    "pipe:Pipeline = bp.materialize()\n",
    "pipe"
   ]
  },
  {
   "cell_type": "code",
   "execution_count": 22,
   "metadata": {},
   "outputs": [
    {
     "data": {
      "text/html": [
       "<div><style>\n",
       ".dataframe > thead > tr,\n",
       ".dataframe > tbody > tr {\n",
       "  text-align: right;\n",
       "  white-space: pre-wrap;\n",
       "}\n",
       "</style>\n",
       "<small>shape: (1, 3)</small><table border=\"1\" class=\"dataframe\"><thead><tr><th>var1</th><th>existing_emi</th><th>loan_amount</th></tr><tr><td>u32</td><td>u32</td><td>u32</td></tr></thead><tbody><tr><td>0</td><td>0</td><td>0</td></tr></tbody></table></div>"
      ],
      "text/plain": [
       "shape: (1, 3)\n",
       "┌──────┬──────────────┬─────────────┐\n",
       "│ var1 ┆ existing_emi ┆ loan_amount │\n",
       "│ ---  ┆ ---          ┆ ---         │\n",
       "│ u32  ┆ u32          ┆ u32         │\n",
       "╞══════╪══════════════╪═════════════╡\n",
       "│ 0    ┆ 0            ┆ 0           │\n",
       "└──────┴──────────────┴─────────────┘"
      ]
     },
     "execution_count": 22,
     "metadata": {},
     "output_type": "execute_result"
    }
   ],
   "source": [
    "pipe.transform(df).null_count().select([\"var1\", \"existing_emi\", \"loan_amount\"])"
   ]
  },
  {
   "cell_type": "code",
   "execution_count": null,
   "metadata": {},
   "outputs": [],
   "source": []
  },
  {
   "cell_type": "markdown",
   "metadata": {},
   "source": [
    "# Scriptable Steps in Pipeline\n",
    "\n",
    "What is a scriptable step? It means we can encode steps in a json or yaml file easily. As long as we can turn the text into \n",
    "a valid Python dictionary, the step (the transformation) can be defined."
   ]
  },
  {
   "cell_type": "code",
   "execution_count": 23,
   "metadata": {},
   "outputs": [
    {
     "data": {
      "text/html": [
       "<div><style>\n",
       ".dataframe > thead > tr,\n",
       ".dataframe > tbody > tr {\n",
       "  text-align: right;\n",
       "  white-space: pre-wrap;\n",
       "}\n",
       "</style>\n",
       "<small>shape: (1, 1)</small><table border=\"1\" class=\"dataframe\"><thead><tr><th>Existing_EMI</th></tr><tr><td>u32</td></tr></thead><tbody><tr><td>51</td></tr></tbody></table></div>"
      ],
      "text/plain": [
       "shape: (1, 1)\n",
       "┌──────────────┐\n",
       "│ Existing_EMI │\n",
       "│ ---          │\n",
       "│ u32          │\n",
       "╞══════════════╡\n",
       "│ 51           │\n",
       "└──────────────┘"
      ]
     },
     "execution_count": 23,
     "metadata": {},
     "output_type": "execute_result"
    }
   ],
   "source": [
    "df.select(\n",
    "    pl.col(\"Existing_EMI\").null_count() \n",
    ")"
   ]
  },
  {
   "cell_type": "code",
   "execution_count": 24,
   "metadata": {},
   "outputs": [
    {
     "data": {
      "text/html": [
       "<div><style>\n",
       ".dataframe > thead > tr,\n",
       ".dataframe > tbody > tr {\n",
       "  text-align: right;\n",
       "  white-space: pre-wrap;\n",
       "}\n",
       "</style>\n",
       "<small>shape: (1, 1)</small><table border=\"1\" class=\"dataframe\"><thead><tr><th>Existing_EMI</th></tr><tr><td>u32</td></tr></thead><tbody><tr><td>0</td></tr></tbody></table></div>"
      ],
      "text/plain": [
       "shape: (1, 1)\n",
       "┌──────────────┐\n",
       "│ Existing_EMI │\n",
       "│ ---          │\n",
       "│ u32          │\n",
       "╞══════════════╡\n",
       "│ 0            │\n",
       "└──────────────┘"
      ]
     },
     "execution_count": 24,
     "metadata": {},
     "output_type": "execute_result"
    }
   ],
   "source": [
    "bp = Blueprint(df, name = \"example\", target = \"approved\")\n",
    "\n",
    "# Takes in a dict with 3 fields: `name`, `args`, and `kwargs`. \n",
    "# Args and kwargs are optional depending on whether the method call needs certain arguments.\n",
    "step_dict_1 = {\n",
    "    \"name\": \"impute\",\n",
    "    \"kwargs\": {\"cols\": [\"Existing_EMI\"], \"method\": \"median\"} \n",
    "}\n",
    "\n",
    "step_dict_2 = {\n",
    "    \"name\": \"does_not_exist\",\n",
    "    \"kwargs\": {\"test\": 1} \n",
    "}\n",
    "\n",
    "# filter_step = {\n",
    "#     \"name\": \"filter\",\n",
    "#     \"args\": [\"Employer_Category1 is not null\"]\n",
    "# }\n",
    "\n",
    "bp.append_step_from_dict(\n",
    "    step_dict_1\n",
    ")\n",
    "\n",
    "# .append_step_from_dict(\n",
    "#     filter_step\n",
    "# )\n",
    "\n",
    "# bp.append_step_from_dict(step_dict_2) # Will error\n",
    "pipe = bp.materialize()\n",
    "# \n",
    "df_transformed = pipe.transform(df)\n",
    "df_transformed.select(\n",
    "    pl.col(\"Existing_EMI\").null_count() # Imputed. So 0\n",
    ")"
   ]
  },
  {
   "cell_type": "markdown",
   "metadata": {},
   "source": [
    "# Custom Transforms as a Scriptable Steps in Pipeline\n",
    "\n",
    "You need to inherit the blueprint class. Once the blueprint is materialized (learned). You do not need this class any more, because the \"learned\" info should all be encoded as Polars expressions"
   ]
  },
  {
   "cell_type": "code",
   "execution_count": 25,
   "metadata": {},
   "outputs": [],
   "source": [
    "from polars_ds.pipeline import Blueprint, FitStep\n",
    "from typing import Union, List\n",
    "\n",
    "from functools import partial\n",
    "\n",
    "def smallest_abs_impute(df:Union[pl.DataFrame, pl.LazyFrame], cols: List[str], epsilon:float = 0.01) -> List[pl.Expr]:\n",
    "    \"\"\"\n",
    "    Imputes columns by the min of the absolute values for c in columns, plus epsilon.\n",
    "    \"\"\"\n",
    "    temp = df.lazy().select(pl.col(cols).abs().min() + epsilon).collect().row(0)\n",
    "    return [pl.col(c).fill_null(m).name.suffix(\"_imputed\") for c, m in zip(cols, temp)]\n",
    "\n",
    "class ExtendedBlueprint(Blueprint):\n",
    "\n",
    "    def __init__(self, *args, **kwargs):\n",
    "        super().__init__(*args, **kwargs)\n",
    "\n",
    "    def smallest_abs_impute(self, cols: List[str], epsilon:float = 0.01) -> \"ExtendedBlueprint\":\n",
    "        # bind all arguments, except df and cols.\n",
    "        # If you don't want to use partial from functool, you can define an inner function\n",
    "        partial_func = partial(smallest_abs_impute, epsilon=epsilon)\n",
    "        self._steps.append(\n",
    "            FitStep(partial_func, cols, self.exclude)\n",
    "        )\n",
    "        return self\n",
    "\n",
    "    def smallest_abs_impute2(self, cols: List[str], epsilon:float = 0.01) -> \"ExtendedBlueprint\":\n",
    "        # bind all arguments, except df and cols.\n",
    "        # Example of using an inner function\n",
    "        def inner_func(df:Union[pl.DataFrame, pl.LazyFrame], cols: List[str]) -> List[pl.Expr]:\n",
    "            temp = df.lazy().select(pl.col(cols).abs().min() + epsilon).collect().row(0)\n",
    "            return [pl.col(c).fill_null(m).name.suffix(\"_imputed2\") for c, m in zip(cols, temp)]\n",
    "\n",
    "        self._steps.append(\n",
    "            FitStep(inner_func, cols, self.exclude)\n",
    "        )\n",
    "        return self\n"
   ]
  },
  {
   "cell_type": "code",
   "execution_count": 26,
   "metadata": {},
   "outputs": [
    {
     "data": {
      "text/html": [
       "<div><style>\n",
       ".dataframe > thead > tr,\n",
       ".dataframe > tbody > tr {\n",
       "  text-align: right;\n",
       "  white-space: pre-wrap;\n",
       "}\n",
       "</style>\n",
       "<small>shape: (51, 4)</small><table border=\"1\" class=\"dataframe\"><thead><tr><th>Existing_EMI</th><th>Existing_EMI_imputed</th><th>Existing_EMI_imputed2</th><th>impute_value</th></tr><tr><td>f64</td><td>f64</td><td>f64</td><td>f64</td></tr></thead><tbody><tr><td>null</td><td>0.01</td><td>0.01</td><td>0.01</td></tr><tr><td>null</td><td>0.01</td><td>0.01</td><td>0.01</td></tr><tr><td>null</td><td>0.01</td><td>0.01</td><td>0.01</td></tr><tr><td>null</td><td>0.01</td><td>0.01</td><td>0.01</td></tr><tr><td>null</td><td>0.01</td><td>0.01</td><td>0.01</td></tr><tr><td>&hellip;</td><td>&hellip;</td><td>&hellip;</td><td>&hellip;</td></tr><tr><td>null</td><td>0.01</td><td>0.01</td><td>0.01</td></tr><tr><td>null</td><td>0.01</td><td>0.01</td><td>0.01</td></tr><tr><td>null</td><td>0.01</td><td>0.01</td><td>0.01</td></tr><tr><td>null</td><td>0.01</td><td>0.01</td><td>0.01</td></tr><tr><td>null</td><td>0.01</td><td>0.01</td><td>0.01</td></tr></tbody></table></div>"
      ],
      "text/plain": [
       "shape: (51, 4)\n",
       "┌──────────────┬──────────────────────┬───────────────────────┬──────────────┐\n",
       "│ Existing_EMI ┆ Existing_EMI_imputed ┆ Existing_EMI_imputed2 ┆ impute_value │\n",
       "│ ---          ┆ ---                  ┆ ---                   ┆ ---          │\n",
       "│ f64          ┆ f64                  ┆ f64                   ┆ f64          │\n",
       "╞══════════════╪══════════════════════╪═══════════════════════╪══════════════╡\n",
       "│ null         ┆ 0.01                 ┆ 0.01                  ┆ 0.01         │\n",
       "│ null         ┆ 0.01                 ┆ 0.01                  ┆ 0.01         │\n",
       "│ null         ┆ 0.01                 ┆ 0.01                  ┆ 0.01         │\n",
       "│ null         ┆ 0.01                 ┆ 0.01                  ┆ 0.01         │\n",
       "│ null         ┆ 0.01                 ┆ 0.01                  ┆ 0.01         │\n",
       "│ …            ┆ …                    ┆ …                     ┆ …            │\n",
       "│ null         ┆ 0.01                 ┆ 0.01                  ┆ 0.01         │\n",
       "│ null         ┆ 0.01                 ┆ 0.01                  ┆ 0.01         │\n",
       "│ null         ┆ 0.01                 ┆ 0.01                  ┆ 0.01         │\n",
       "│ null         ┆ 0.01                 ┆ 0.01                  ┆ 0.01         │\n",
       "│ null         ┆ 0.01                 ┆ 0.01                  ┆ 0.01         │\n",
       "└──────────────┴──────────────────────┴───────────────────────┴──────────────┘"
      ]
     },
     "execution_count": 26,
     "metadata": {},
     "output_type": "execute_result"
    }
   ],
   "source": [
    "bp = ExtendedBlueprint(df, name = \"example\", target = \"approved\")\n",
    "\n",
    "# Takes in a dict with 3 fields: `name`, `args`, and `kwargs`. \n",
    "# Args and kwargs are optional depending on whether the method call needs certain arguments.\n",
    "step_dict_1 = {\n",
    "    \"name\": \"smallest_abs_impute\",\n",
    "    \"kwargs\": {\"cols\": [\"Existing_EMI\"], \"epsilon\": 0.01} \n",
    "}\n",
    "\n",
    "step_dict_2 = {\n",
    "    \"name\": \"smallest_abs_impute2\",\n",
    "    \"kwargs\": {\"cols\": [\"Existing_EMI\"], \"epsilon\": 0.01} \n",
    "}\n",
    "\n",
    "bp.append_step_from_dict(\n",
    "    step_dict_1\n",
    ").append_step_from_dict(\n",
    "    step_dict_2\n",
    ")\n",
    "\n",
    "pipe = bp.materialize()\n",
    "df_transformed = pipe.transform(df)\n",
    "\n",
    "df_transformed.with_columns(\n",
    "    impute_value = pl.col(\"Existing_EMI\").abs().min() + 0.01\n",
    ").filter(\n",
    "    pl.col(\"Existing_EMI\").is_null()\n",
    ").select(\n",
    "    pl.col(\"Existing_EMI\"),\n",
    "    pl.col(\"Existing_EMI_imputed\"),\n",
    "    pl.col(\"Existing_EMI_imputed2\"),\n",
    "    pl.col(\"impute_value\")\n",
    ")"
   ]
  },
  {
   "cell_type": "markdown",
   "metadata": {},
   "source": [
    "# Wrapping PDS Pipeline (blueprint) Inside a Sklearn Pipeline\n",
    "\n",
    "It is not recommended, but it is possible. If there is a sklearn pipeline transform you want, and that is not implemented in PDS, please submit a feature request."
   ]
  },
  {
   "cell_type": "code",
   "execution_count": 27,
   "metadata": {},
   "outputs": [
    {
     "data": {
      "text/html": [
       "<div><style>\n",
       ".dataframe > thead > tr,\n",
       ".dataframe > tbody > tr {\n",
       "  text-align: right;\n",
       "  white-space: pre-wrap;\n",
       "}\n",
       "</style>\n",
       "<small>shape: (68_899, 12)</small><table border=\"1\" class=\"dataframe\"><thead><tr><th>gender</th><th>city_category</th><th>employer_category1</th><th>employer_category2</th><th>monthly_income</th><th>existing_emi</th><th>loan_amount</th><th>loan_period</th><th>interest_rate</th><th>emi</th><th>var1</th><th>approved</th></tr><tr><td>str</td><td>str</td><td>str</td><td>i64</td><td>f64</td><td>f64</td><td>i64</td><td>f64</td><td>f64</td><td>i64</td><td>i64</td><td>i64</td></tr></thead><tbody><tr><td>&quot;Female&quot;</td><td>&quot;A&quot;</td><td>&quot;A&quot;</td><td>4</td><td>2000.0</td><td>0.0</td><td>null</td><td>0.0</td><td>null</td><td>null</td><td>0</td><td>0</td></tr><tr><td>&quot;Male&quot;</td><td>&quot;A&quot;</td><td>&quot;C&quot;</td><td>1</td><td>3500.0</td><td>0.0</td><td>20000</td><td>2.0</td><td>13.25</td><td>953</td><td>10</td><td>0</td></tr><tr><td>&quot;Male&quot;</td><td>&quot;C&quot;</td><td>&quot;C&quot;</td><td>4</td><td>2250.0</td><td>0.0</td><td>45000</td><td>4.0</td><td>null</td><td>null</td><td>0</td><td>0</td></tr><tr><td>&quot;Male&quot;</td><td>&quot;C&quot;</td><td>&quot;A&quot;</td><td>4</td><td>3500.0</td><td>0.0</td><td>92000</td><td>5.0</td><td>null</td><td>null</td><td>7</td><td>0</td></tr><tr><td>&quot;Male&quot;</td><td>&quot;A&quot;</td><td>&quot;A&quot;</td><td>4</td><td>10000.0</td><td>2500.0</td><td>50000</td><td>2.0</td><td>null</td><td>null</td><td>10</td><td>0</td></tr><tr><td>&hellip;</td><td>&hellip;</td><td>&hellip;</td><td>&hellip;</td><td>&hellip;</td><td>&hellip;</td><td>&hellip;</td><td>&hellip;</td><td>&hellip;</td><td>&hellip;</td><td>&hellip;</td><td>&hellip;</td></tr><tr><td>&quot;Female&quot;</td><td>&quot;A&quot;</td><td>&quot;A&quot;</td><td>1</td><td>4900.0</td><td>0.0</td><td>null</td><td>5.0981</td><td>null</td><td>null</td><td>10</td><td>0</td></tr><tr><td>&quot;Female&quot;</td><td>&quot;C&quot;</td><td>&quot;A&quot;</td><td>4</td><td>7190.1</td><td>1450.0</td><td>null</td><td>3.557644</td><td>null</td><td>null</td><td>7</td><td>0</td></tr><tr><td>&quot;Female&quot;</td><td>&quot;B&quot;</td><td>&quot;C&quot;</td><td>4</td><td>1600.0</td><td>0.0</td><td>24000</td><td>4.0</td><td>35.5</td><td>943</td><td>2</td><td>0</td></tr><tr><td>&quot;Male&quot;</td><td>&quot;A&quot;</td><td>&quot;C&quot;</td><td>3</td><td>9893.0</td><td>1366.0</td><td>80000</td><td>5.0</td><td>null</td><td>null</td><td>10</td><td>0</td></tr><tr><td>&quot;Male&quot;</td><td>&quot;A&quot;</td><td>&quot;A&quot;</td><td>1</td><td>4230.0</td><td>0.0</td><td>69000</td><td>4.0</td><td>13.99</td><td>1885</td><td>10</td><td>0</td></tr></tbody></table></div>"
      ],
      "text/plain": [
       "shape: (68_899, 12)\n",
       "┌────────┬───────────────┬──────────────┬──────────────┬───┬──────────────┬──────┬──────┬──────────┐\n",
       "│ gender ┆ city_category ┆ employer_cat ┆ employer_cat ┆ … ┆ interest_rat ┆ emi  ┆ var1 ┆ approved │\n",
       "│ ---    ┆ ---           ┆ egory1       ┆ egory2       ┆   ┆ e            ┆ ---  ┆ ---  ┆ ---      │\n",
       "│ str    ┆ str           ┆ ---          ┆ ---          ┆   ┆ ---          ┆ i64  ┆ i64  ┆ i64      │\n",
       "│        ┆               ┆ str          ┆ i64          ┆   ┆ f64          ┆      ┆      ┆          │\n",
       "╞════════╪═══════════════╪══════════════╪══════════════╪═══╪══════════════╪══════╪══════╪══════════╡\n",
       "│ Female ┆ A             ┆ A            ┆ 4            ┆ … ┆ null         ┆ null ┆ 0    ┆ 0        │\n",
       "│ Male   ┆ A             ┆ C            ┆ 1            ┆ … ┆ 13.25        ┆ 953  ┆ 10   ┆ 0        │\n",
       "│ Male   ┆ C             ┆ C            ┆ 4            ┆ … ┆ null         ┆ null ┆ 0    ┆ 0        │\n",
       "│ Male   ┆ C             ┆ A            ┆ 4            ┆ … ┆ null         ┆ null ┆ 7    ┆ 0        │\n",
       "│ Male   ┆ A             ┆ A            ┆ 4            ┆ … ┆ null         ┆ null ┆ 10   ┆ 0        │\n",
       "│ …      ┆ …             ┆ …            ┆ …            ┆ … ┆ …            ┆ …    ┆ …    ┆ …        │\n",
       "│ Female ┆ A             ┆ A            ┆ 1            ┆ … ┆ null         ┆ null ┆ 10   ┆ 0        │\n",
       "│ Female ┆ C             ┆ A            ┆ 4            ┆ … ┆ null         ┆ null ┆ 7    ┆ 0        │\n",
       "│ Female ┆ B             ┆ C            ┆ 4            ┆ … ┆ 35.5         ┆ 943  ┆ 2    ┆ 0        │\n",
       "│ Male   ┆ A             ┆ C            ┆ 3            ┆ … ┆ null         ┆ null ┆ 10   ┆ 0        │\n",
       "│ Male   ┆ A             ┆ A            ┆ 1            ┆ … ┆ 13.99        ┆ 1885 ┆ 10   ┆ 0        │\n",
       "└────────┴───────────────┴──────────────┴──────────────┴───┴──────────────┴──────┴──────┴──────────┘"
      ]
     },
     "execution_count": 27,
     "metadata": {},
     "output_type": "execute_result"
    }
   ],
   "source": [
    "import polars_ds.pipeline as pm\n",
    "from sklearn.pipeline import Pipeline\n",
    "from sklearn.base import BaseEstimator, TransformerMixin\n",
    "\n",
    "class CustomPDSTransformer(BaseEstimator, TransformerMixin):\n",
    "\n",
    "    def __init__(self):\n",
    "        self.pipe = None\n",
    "\n",
    "    def fit(self, df, y=None):\n",
    "        # specify all the rules for the transform here\n",
    "        bp = (\n",
    "            pm.Blueprint(df, name = \"example\", target = \"approved\", lowercase=True) \n",
    "            .filter( \n",
    "                \"city_category is not null\" # or equivalently, you can do: pl.col(\"city_category\").is_not_null()\n",
    "            )\n",
    "            .select(cs.numeric() | cs.by_name([\"gender\", \"employer_category1\", \"city_category\"]))\n",
    "            .linear_impute(features = [\"var1\", \"existing_emi\"], target = \"loan_period\") \n",
    "            .impute([\"existing_emi\"], method = \"median\")\n",
    "        )\n",
    "        self.pipe = bp.materialize()\n",
    "        return self\n",
    "\n",
    "    def transform(self, df, y=None):\n",
    "        return self.pipe.transform(df)\n",
    "\n",
    "# ---------------------------------------------------------------\n",
    "\n",
    "df = pl.read_parquet(\"../examples/dependency.parquet\")\n",
    "\n",
    "pipe = Pipeline(\n",
    "    steps=[\n",
    "        (\"CustomPDSTransformer\", CustomPDSTransformer())    \n",
    "    ]\n",
    ")\n",
    "df_transformed = pipe.fit_transform(df)\n",
    "df_transformed\n"
   ]
  },
  {
   "cell_type": "code",
   "execution_count": null,
   "metadata": {},
   "outputs": [],
   "source": []
  },
  {
   "cell_type": "code",
   "execution_count": null,
   "metadata": {},
   "outputs": [],
   "source": []
  },
  {
   "cell_type": "code",
   "execution_count": null,
   "metadata": {},
   "outputs": [],
   "source": []
  }
 ],
 "metadata": {
  "kernelspec": {
   "display_name": ".venv",
   "language": "python",
   "name": "python3"
  },
  "language_info": {
   "codemirror_mode": {
    "name": "ipython",
    "version": 3
   },
   "file_extension": ".py",
   "mimetype": "text/x-python",
   "name": "python",
   "nbconvert_exporter": "python",
   "pygments_lexer": "ipython3",
   "version": "3.13.7"
  }
 },
 "nbformat": 4,
 "nbformat_minor": 2
}
