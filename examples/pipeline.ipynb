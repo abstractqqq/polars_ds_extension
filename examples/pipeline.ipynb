{
 "cells": [
  {
   "cell_type": "code",
   "execution_count": 1,
   "metadata": {},
   "outputs": [],
   "source": [
    "import polars as pl\n",
    "import polars.selectors as cs\n",
    "from polars_ds.modeling import Pipeline, Blueprint"
   ]
  },
  {
   "cell_type": "markdown",
   "metadata": {},
   "source": [
    "# Builtin Pipeline Functions\n",
    "\n",
    "To run this demo: use the latest version of polars_ds. Or the latest commit if the latest version doesn't work.\n",
    "\n",
    "Need v0.8 or above"
   ]
  },
  {
   "cell_type": "code",
   "execution_count": 2,
   "metadata": {},
   "outputs": [
    {
     "data": {
      "text/html": [
       "<div><style>\n",
       ".dataframe > thead > tr,\n",
       ".dataframe > tbody > tr {\n",
       "  text-align: right;\n",
       "  white-space: pre-wrap;\n",
       "}\n",
       "</style>\n",
       "<small>shape: (5, 22)</small><table border=\"1\" class=\"dataframe\"><thead><tr><th>ID</th><th>Gender</th><th>DOB</th><th>Lead_Creation_Date</th><th>City_Code</th><th>City_Category</th><th>Employer_Code</th><th>Employer_Category1</th><th>Employer_Category2</th><th>Monthly_Income</th><th>Customer_Existing_Primary_Bank_Code</th><th>Primary_Bank_Type</th><th>Contacted</th><th>Source</th><th>Source_Category</th><th>Existing_EMI</th><th>Loan_Amount</th><th>Loan_Period</th><th>Interest_Rate</th><th>EMI</th><th>Var1</th><th>Approved</th></tr><tr><td>str</td><td>str</td><td>str</td><td>str</td><td>str</td><td>str</td><td>str</td><td>str</td><td>i64</td><td>f64</td><td>str</td><td>str</td><td>str</td><td>str</td><td>str</td><td>f64</td><td>i64</td><td>i64</td><td>f64</td><td>i64</td><td>i64</td><td>i64</td></tr></thead><tbody><tr><td>&quot;APPC90493171225&quot;</td><td>&quot;Female&quot;</td><td>&quot;23/07/79&quot;</td><td>&quot;15/07/16&quot;</td><td>&quot;C10001&quot;</td><td>&quot;A&quot;</td><td>&quot;COM0044082&quot;</td><td>&quot;A&quot;</td><td>4</td><td>2000.0</td><td>&quot;B001&quot;</td><td>&quot;P&quot;</td><td>&quot;N&quot;</td><td>&quot;S122&quot;</td><td>&quot;G&quot;</td><td>0.0</td><td>null</td><td>null</td><td>null</td><td>null</td><td>0</td><td>0</td></tr><tr><td>&quot;APPD40611263344&quot;</td><td>&quot;Male&quot;</td><td>&quot;07/12/86&quot;</td><td>&quot;04/07/16&quot;</td><td>&quot;C10003&quot;</td><td>&quot;A&quot;</td><td>&quot;COM0000002&quot;</td><td>&quot;C&quot;</td><td>1</td><td>3500.0</td><td>&quot;B002&quot;</td><td>&quot;P&quot;</td><td>&quot;Y&quot;</td><td>&quot;S122&quot;</td><td>&quot;G&quot;</td><td>0.0</td><td>20000</td><td>2</td><td>13.25</td><td>953</td><td>10</td><td>0</td></tr><tr><td>&quot;APPE70289249423&quot;</td><td>&quot;Male&quot;</td><td>&quot;10/12/82&quot;</td><td>&quot;19/07/16&quot;</td><td>&quot;C10125&quot;</td><td>&quot;C&quot;</td><td>&quot;COM0005267&quot;</td><td>&quot;C&quot;</td><td>4</td><td>2250.0</td><td>&quot;B003&quot;</td><td>&quot;G&quot;</td><td>&quot;Y&quot;</td><td>&quot;S143&quot;</td><td>&quot;B&quot;</td><td>0.0</td><td>45000</td><td>4</td><td>null</td><td>null</td><td>0</td><td>0</td></tr><tr><td>&quot;APPF80273865537&quot;</td><td>&quot;Male&quot;</td><td>&quot;30/01/89&quot;</td><td>&quot;09/07/16&quot;</td><td>&quot;C10477&quot;</td><td>&quot;C&quot;</td><td>&quot;COM0004143&quot;</td><td>&quot;A&quot;</td><td>4</td><td>3500.0</td><td>&quot;B003&quot;</td><td>&quot;G&quot;</td><td>&quot;Y&quot;</td><td>&quot;S143&quot;</td><td>&quot;B&quot;</td><td>0.0</td><td>92000</td><td>5</td><td>null</td><td>null</td><td>7</td><td>0</td></tr><tr><td>&quot;APPG60994436641&quot;</td><td>&quot;Male&quot;</td><td>&quot;19/04/85&quot;</td><td>&quot;20/07/16&quot;</td><td>&quot;C10002&quot;</td><td>&quot;A&quot;</td><td>&quot;COM0001781&quot;</td><td>&quot;A&quot;</td><td>4</td><td>10000.0</td><td>&quot;B001&quot;</td><td>&quot;P&quot;</td><td>&quot;Y&quot;</td><td>&quot;S134&quot;</td><td>&quot;B&quot;</td><td>2500.0</td><td>50000</td><td>2</td><td>null</td><td>null</td><td>10</td><td>0</td></tr></tbody></table></div>"
      ],
      "text/plain": [
       "shape: (5, 22)\n",
       "┌────────────────┬────────┬──────────┬────────────────┬───┬───────────────┬──────┬──────┬──────────┐\n",
       "│ ID             ┆ Gender ┆ DOB      ┆ Lead_Creation_ ┆ … ┆ Interest_Rate ┆ EMI  ┆ Var1 ┆ Approved │\n",
       "│ ---            ┆ ---    ┆ ---      ┆ Date           ┆   ┆ ---           ┆ ---  ┆ ---  ┆ ---      │\n",
       "│ str            ┆ str    ┆ str      ┆ ---            ┆   ┆ f64           ┆ i64  ┆ i64  ┆ i64      │\n",
       "│                ┆        ┆          ┆ str            ┆   ┆               ┆      ┆      ┆          │\n",
       "╞════════════════╪════════╪══════════╪════════════════╪═══╪═══════════════╪══════╪══════╪══════════╡\n",
       "│ APPC9049317122 ┆ Female ┆ 23/07/79 ┆ 15/07/16       ┆ … ┆ null          ┆ null ┆ 0    ┆ 0        │\n",
       "│ 5              ┆        ┆          ┆                ┆   ┆               ┆      ┆      ┆          │\n",
       "│ APPD4061126334 ┆ Male   ┆ 07/12/86 ┆ 04/07/16       ┆ … ┆ 13.25         ┆ 953  ┆ 10   ┆ 0        │\n",
       "│ 4              ┆        ┆          ┆                ┆   ┆               ┆      ┆      ┆          │\n",
       "│ APPE7028924942 ┆ Male   ┆ 10/12/82 ┆ 19/07/16       ┆ … ┆ null          ┆ null ┆ 0    ┆ 0        │\n",
       "│ 3              ┆        ┆          ┆                ┆   ┆               ┆      ┆      ┆          │\n",
       "│ APPF8027386553 ┆ Male   ┆ 30/01/89 ┆ 09/07/16       ┆ … ┆ null          ┆ null ┆ 7    ┆ 0        │\n",
       "│ 7              ┆        ┆          ┆                ┆   ┆               ┆      ┆      ┆          │\n",
       "│ APPG6099443664 ┆ Male   ┆ 19/04/85 ┆ 20/07/16       ┆ … ┆ null          ┆ null ┆ 10   ┆ 0        │\n",
       "│ 1              ┆        ┆          ┆                ┆   ┆               ┆      ┆      ┆          │\n",
       "└────────────────┴────────┴──────────┴────────────────┴───┴───────────────┴──────┴──────┴──────────┘"
      ]
     },
     "execution_count": 2,
     "metadata": {},
     "output_type": "execute_result"
    }
   ],
   "source": [
    "df = pl.read_parquet(\"../examples/dependency.parquet\")\n",
    "df.head()"
   ]
  },
  {
   "cell_type": "code",
   "execution_count": 3,
   "metadata": {},
   "outputs": [],
   "source": [
    "sql = \"\"\"\n",
    "select\n",
    "*\n",
    ", 'TEST' as test_col\n",
    "from df\n",
    "where loan_amount is not null\n",
    "\"\"\""
   ]
  },
  {
   "cell_type": "code",
   "execution_count": 4,
   "metadata": {},
   "outputs": [
    {
     "name": "stdout",
     "output_type": "stream",
     "text": [
      "Blueprint name: example\n",
      "Column names: Lowercase all incoming columns.Blueprint current steps: 11\n",
      "Features Expected: ['id', 'gender', 'dob', 'lead_creation_date', 'city_code', 'city_category', 'employer_code', 'employer_category1', 'employer_category2', 'monthly_income', 'customer_existing_primary_bank_code', 'primary_bank_type', 'contacted', 'source', 'source_category', 'existing_emi', 'loan_amount', 'loan_period', 'interest_rate', 'emi', 'var1', 'approved']\n",
      "\n"
     ]
    }
   ],
   "source": [
    "# Create a blueprint first. \n",
    "# A blueprint is a plan for a pipeline. No hard work will be done until the blueprint is materialized, which\n",
    "# is when the tranforms are fitted (e.g. scale learns the mean and std from base data)\n",
    "# If target is specified for the blueprint, target will be excluded from all transformations that require a fit,\n",
    "# and target will be auto-filled if the transformation requires a target field and when no target field is explicitly given.\n",
    "\n",
    "bp = (\n",
    "    Blueprint(df, name = \"example\", target = \"approved\", lowercase=True) # You can optionally put target of the ML model here\n",
    "    # Select only the columns we need\n",
    "    .sql_transform(sql) # Run a SQL transform on the df\n",
    "    # Say you want to remove a population for your data pipeline.\n",
    "    .filter( \n",
    "        \"city_category is not null\" # or equivalently, you can do: pl.col(\"city_category\").is_not_null()\n",
    "    )\n",
    "    # explicitly put target, since this is not the target for prediction. \n",
    "    # Use a linear regression with x1 = var1, x2=existing_emi to predict missing values in loan_period\n",
    "    .linear_impute(features = [\"var1\", \"existing_emi\"], target = \"loan_period\") \n",
    "    .impute([\"existing_emi\"], method = \"median\")\n",
    "    .append_expr( # generate some features\n",
    "        pl.col(\"existing_emi\").log1p().alias(\"existing_emi_log1p\"),\n",
    "        pl.col(\"loan_amount\").log1p().alias(\"loan_amount_log1p\"),\n",
    "        pl.col(\"loan_amount\").clip(lower_bound = 0, upper_bound = 1000).alias(\"loan_amount_log1p_clipped\"),\n",
    "        pl.col(\"loan_amount\").sqrt().alias(\"loan_amount_sqrt\"),\n",
    "        pl.col(\"loan_amount\").shift(-1).alias(\"loan_amount_lag_1\") # any kind of lag transform\n",
    "    )\n",
    "    .scale( # target is numerical, but will be excluded automatically because bp is initialzied with a target\n",
    "        cs.numeric().exclude([\"var1\", \"existing_emi_log1p\"]), method = \"standard\"\n",
    "    ) # Scale the columns up to this point. The columns below won't be scaled\n",
    "    .append_expr(\n",
    "        # Add missing flags\n",
    "        pl.col(\"employer_category1\").is_null().cast(pl.UInt8).alias(\"employer_category1_is_missing\")\n",
    "    )\n",
    "    .one_hot_encode(\"gender\", drop_first=True)\n",
    "    .woe_encode(\"city_category\") # No need to specify target because we initialized bp with a target\n",
    "    .target_encode(\"employer_category1\", min_samples_leaf = 20, smoothing = 10.0) # same as above\n",
    ")\n",
    "\n",
    "print(bp)"
   ]
  },
  {
   "cell_type": "code",
   "execution_count": 5,
   "metadata": {},
   "outputs": [
    {
     "data": {
      "text/plain": [
       "Naive Query Steps: \n",
       "\n",
       "Step 1:\n",
       "Run SQL: \n",
       "select\n",
       "*\n",
       ", 'TEST' as test_col\n",
       "from df\n",
       "where loan_amount is not null\n",
       "\n",
       "\n",
       "\n",
       "Step 2:\n",
       "col(\"city_category\").is_not_null()\n",
       "\n",
       "Step 3:\n",
       "col(\"loan_period\").fill_null([[(col(\"var1\")) * (dyn float: 0.509810011759666)].sum_horizontal([[(col(\"existing_emi\")) * (dyn float: -0.0000076040796537527814)]])]).alias(\"loan_period\")\n",
       "\n",
       "Step 4:\n",
       "col(\"existing_emi\").fill_null([dyn float: 0])\n",
       "\n",
       "Step 5:\n",
       "col(\"existing_emi\").log1p().alias(\"existing_emi_log1p\"),\n",
       "col(\"loan_amount\").log1p().alias(\"loan_amount_log1p\"),\n",
       "col(\"loan_amount\").clip([dyn int: 0, dyn int: 1000]).alias(\"loan_amount_log1p_clipped\"),\n",
       "col(\"loan_amount\").sqrt().alias(\"loan_amount_sqrt\"),\n",
       "col(\"loan_amount\").shift([dyn int: -1]).alias(\"loan_amount_lag_1\")\n",
       "\n",
       "Step 6:\n",
       "[([(col(\"employer_category2\")) - (dyn float: 3.679269695227142)]) / (dyn float: 0.862458786067542)],\n",
       "[([(col(\"monthly_income\")) - (dyn float: 7463.797309780022)]) / (dyn float: 225051.54436104206)],\n",
       "[([(col(\"existing_emi\")) - (dyn float: 265.6902475240454)]) / (dyn float: 2757.6092535058183)],\n",
       "[([(col(\"loan_amount\")) - (dyn float: 39429.98285877536)]) / (dyn float: 30727.23021813224)],\n",
       "[([(col(\"loan_period\")) - (dyn float: 3.8906294638605847)]) / (dyn float: 1.1674769269411276)],\n",
       "[([(col(\"interest_rate\")) - (dyn float: 19.213569761177947)]) / (dyn float: 5.8470045315482775)],\n",
       "[([(col(\"emi\")) - (dyn float: 1101.4662416950978)]) / (dyn float: 752.6444995250869)],\n",
       "[([(col(\"loan_amount_log1p\")) - (dyn float: 10.326664500589036)]) / (dyn float: 0.7219306388560954)],\n",
       "[([(col(\"loan_amount_log1p_clipped\")) - (dyn float: 1000)]) / (dyn float: 0)],\n",
       "[([(col(\"loan_amount_sqrt\")) - (dyn float: 186.4219606393428)]) / (dyn float: 68.38739247959866)],\n",
       "[([(col(\"loan_amount_lag_1\")) - (dyn float: 39430.44544437302)]) / (dyn float: 30727.449732966947)]\n",
       "\n",
       "Step 7:\n",
       "col(\"employer_category1\").is_null().strict_cast(UInt8).alias(\"employer_category1_is_missing\")\n",
       "\n",
       "Step 8:\n",
       "[(col(\"gender\")) ==v (\"Male\")].strict_cast(UInt8).alias(\"gender_Male\")\n",
       "\n",
       "Step 9:\n",
       "*.exclude([Name(\"gender\")])\n",
       "\n",
       "Step 10:\n",
       "col(\"city_category\").replace_strict([Series[value], Series[woe], null])\n",
       "\n",
       "Step 11:\n",
       "col(\"employer_category1\").replace_strict([Series[value], Series[to], null])\n"
      ]
     },
     "execution_count": 5,
     "metadata": {},
     "output_type": "execute_result"
    }
   ],
   "source": [
    "# Materialize the blueprint\n",
    "pipe:Pipeline = bp.materialize()\n",
    "# Text representation of the pipeline\n",
    "pipe"
   ]
  },
  {
   "cell_type": "code",
   "execution_count": 6,
   "metadata": {},
   "outputs": [
    {
     "data": {
      "text/html": [
       "<div><style>\n",
       ".dataframe > thead > tr,\n",
       ".dataframe > tbody > tr {\n",
       "  text-align: right;\n",
       "  white-space: pre-wrap;\n",
       "}\n",
       "</style>\n",
       "<small>shape: (5, 29)</small><table border=\"1\" class=\"dataframe\"><thead><tr><th>id</th><th>dob</th><th>lead_creation_date</th><th>city_code</th><th>city_category</th><th>employer_code</th><th>employer_category1</th><th>employer_category2</th><th>monthly_income</th><th>customer_existing_primary_bank_code</th><th>primary_bank_type</th><th>contacted</th><th>source</th><th>source_category</th><th>existing_emi</th><th>loan_amount</th><th>loan_period</th><th>interest_rate</th><th>emi</th><th>var1</th><th>approved</th><th>test_col</th><th>existing_emi_log1p</th><th>loan_amount_log1p</th><th>loan_amount_log1p_clipped</th><th>loan_amount_sqrt</th><th>loan_amount_lag_1</th><th>employer_category1_is_missing</th><th>gender_Male</th></tr><tr><td>str</td><td>str</td><td>str</td><td>str</td><td>f64</td><td>str</td><td>f64</td><td>f64</td><td>f64</td><td>str</td><td>str</td><td>str</td><td>str</td><td>str</td><td>f64</td><td>f64</td><td>f64</td><td>f64</td><td>f64</td><td>i64</td><td>i64</td><td>str</td><td>f64</td><td>f64</td><td>f64</td><td>f64</td><td>f64</td><td>u8</td><td>u8</td></tr></thead><tbody><tr><td>&quot;APPD40611263344&quot;</td><td>&quot;07/12/86&quot;</td><td>&quot;04/07/16&quot;</td><td>&quot;C10003&quot;</td><td>0.080959</td><td>&quot;COM0000002&quot;</td><td>0.026603</td><td>-3.106548</td><td>-0.017613</td><td>&quot;B002&quot;</td><td>&quot;P&quot;</td><td>&quot;Y&quot;</td><td>&quot;S122&quot;</td><td>&quot;G&quot;</td><td>-0.096348</td><td>-0.632338</td><td>-1.619415</td><td>-1.019936</td><td>-0.197259</td><td>10</td><td>0</td><td>&quot;TEST&quot;</td><td>0.0</td><td>-0.586105</td><td>NaN</td><td>-0.658025</td><td>0.181257</td><td>0</td><td>1</td></tr><tr><td>&quot;APPE70289249423&quot;</td><td>&quot;10/12/82&quot;</td><td>&quot;19/07/16&quot;</td><td>&quot;C10125&quot;</td><td>-0.479553</td><td>&quot;COM0005267&quot;</td><td>0.026603</td><td>0.371879</td><td>-0.023167</td><td>&quot;B003&quot;</td><td>&quot;G&quot;</td><td>&quot;Y&quot;</td><td>&quot;S143&quot;</td><td>&quot;B&quot;</td><td>-0.096348</td><td>0.181273</td><td>0.093681</td><td>null</td><td>null</td><td>0</td><td>0</td><td>&quot;TEST&quot;</td><td>0.0</td><td>0.537137</td><td>NaN</td><td>0.375948</td><td>1.710834</td><td>0</td><td>1</td></tr><tr><td>&quot;APPF80273865537&quot;</td><td>&quot;30/01/89&quot;</td><td>&quot;09/07/16&quot;</td><td>&quot;C10477&quot;</td><td>-0.479553</td><td>&quot;COM0004143&quot;</td><td>0.014737</td><td>0.371879</td><td>-0.017613</td><td>&quot;B003&quot;</td><td>&quot;G&quot;</td><td>&quot;Y&quot;</td><td>&quot;S143&quot;</td><td>&quot;B&quot;</td><td>-0.096348</td><td>1.710861</td><td>0.950229</td><td>null</td><td>null</td><td>7</td><td>0</td><td>&quot;TEST&quot;</td><td>0.0</td><td>1.527696</td><td>NaN</td><td>1.709278</td><td>0.343978</td><td>0</td><td>1</td></tr><tr><td>&quot;APPG60994436641&quot;</td><td>&quot;19/04/85&quot;</td><td>&quot;20/07/16&quot;</td><td>&quot;C10002&quot;</td><td>0.080959</td><td>&quot;COM0001781&quot;</td><td>0.014737</td><td>0.371879</td><td>0.011269</td><td>&quot;B001&quot;</td><td>&quot;P&quot;</td><td>&quot;Y&quot;</td><td>&quot;S134&quot;</td><td>&quot;B&quot;</td><td>0.810234</td><td>0.343995</td><td>-1.619415</td><td>null</td><td>null</td><td>10</td><td>0</td><td>&quot;TEST&quot;</td><td>7.824446</td><td>0.683076</td><td>NaN</td><td>0.543738</td><td>2.947513</td><td>0</td><td>1</td></tr><tr><td>&quot;APPK80327232033&quot;</td><td>&quot;28/03/73&quot;</td><td>&quot;02/07/16&quot;</td><td>&quot;C10022&quot;</td><td>-0.046475</td><td>&quot;COM0030526&quot;</td><td>0.024336</td><td>0.371879</td><td>0.000161</td><td>&quot;B003&quot;</td><td>&quot;G&quot;</td><td>&quot;Y&quot;</td><td>&quot;S122&quot;</td><td>&quot;C&quot;</td><td>-0.096348</td><td>2.947549</td><td>0.950229</td><td>-0.746291</td><td>2.631433</td><td>10</td><td>0</td><td>&quot;TEST&quot;</td><td>0.0</td><td>2.00661</td><td>NaN</td><td>2.546276</td><td>-0.306906</td><td>0</td><td>1</td></tr></tbody></table></div>"
      ],
      "text/plain": [
       "shape: (5, 29)\n",
       "┌───────────┬──────────┬───────────┬───────────┬───┬───────────┬───────────┬───────────┬───────────┐\n",
       "│ id        ┆ dob      ┆ lead_crea ┆ city_code ┆ … ┆ loan_amou ┆ loan_amou ┆ employer_ ┆ gender_Ma │\n",
       "│ ---       ┆ ---      ┆ tion_date ┆ ---       ┆   ┆ nt_sqrt   ┆ nt_lag_1  ┆ category1 ┆ le        │\n",
       "│ str       ┆ str      ┆ ---       ┆ str       ┆   ┆ ---       ┆ ---       ┆ _is_missi ┆ ---       │\n",
       "│           ┆          ┆ str       ┆           ┆   ┆ f64       ┆ f64       ┆ ng        ┆ u8        │\n",
       "│           ┆          ┆           ┆           ┆   ┆           ┆           ┆ ---       ┆           │\n",
       "│           ┆          ┆           ┆           ┆   ┆           ┆           ┆ u8        ┆           │\n",
       "╞═══════════╪══════════╪═══════════╪═══════════╪═══╪═══════════╪═══════════╪═══════════╪═══════════╡\n",
       "│ APPD40611 ┆ 07/12/86 ┆ 04/07/16  ┆ C10003    ┆ … ┆ -0.658025 ┆ 0.181257  ┆ 0         ┆ 1         │\n",
       "│ 263344    ┆          ┆           ┆           ┆   ┆           ┆           ┆           ┆           │\n",
       "│ APPE70289 ┆ 10/12/82 ┆ 19/07/16  ┆ C10125    ┆ … ┆ 0.375948  ┆ 1.710834  ┆ 0         ┆ 1         │\n",
       "│ 249423    ┆          ┆           ┆           ┆   ┆           ┆           ┆           ┆           │\n",
       "│ APPF80273 ┆ 30/01/89 ┆ 09/07/16  ┆ C10477    ┆ … ┆ 1.709278  ┆ 0.343978  ┆ 0         ┆ 1         │\n",
       "│ 865537    ┆          ┆           ┆           ┆   ┆           ┆           ┆           ┆           │\n",
       "│ APPG60994 ┆ 19/04/85 ┆ 20/07/16  ┆ C10002    ┆ … ┆ 0.543738  ┆ 2.947513  ┆ 0         ┆ 1         │\n",
       "│ 436641    ┆          ┆           ┆           ┆   ┆           ┆           ┆           ┆           │\n",
       "│ APPK80327 ┆ 28/03/73 ┆ 02/07/16  ┆ C10022    ┆ … ┆ 2.546276  ┆ -0.306906 ┆ 0         ┆ 1         │\n",
       "│ 232033    ┆          ┆           ┆           ┆   ┆           ┆           ┆           ┆           │\n",
       "└───────────┴──────────┴───────────┴───────────┴───┴───────────┴───────────┴───────────┴───────────┘"
      ]
     },
     "execution_count": 6,
     "metadata": {},
     "output_type": "execute_result"
    }
   ],
   "source": [
    "# If you want separation between features (X) and target (y)\n",
    "# you can run the following:\n",
    "# df_x, df_y = pipe.transform(df, separate=True)\n",
    "\n",
    "df_transformed = pipe.transform(df)\n",
    "df_transformed.head()"
   ]
  },
  {
   "cell_type": "code",
   "execution_count": 7,
   "metadata": {},
   "outputs": [
    {
     "data": {
      "text/html": [
       "<div><style>\n",
       ".dataframe > thead > tr,\n",
       ".dataframe > tbody > tr {\n",
       "  text-align: right;\n",
       "  white-space: pre-wrap;\n",
       "}\n",
       "</style>\n",
       "<small>shape: (0, 29)</small><table border=\"1\" class=\"dataframe\"><thead><tr><th>id</th><th>dob</th><th>lead_creation_date</th><th>city_code</th><th>city_category</th><th>employer_code</th><th>employer_category1</th><th>employer_category2</th><th>monthly_income</th><th>customer_existing_primary_bank_code</th><th>primary_bank_type</th><th>contacted</th><th>source</th><th>source_category</th><th>existing_emi</th><th>loan_amount</th><th>loan_period</th><th>interest_rate</th><th>emi</th><th>var1</th><th>approved</th><th>test_col</th><th>existing_emi_log1p</th><th>loan_amount_log1p</th><th>loan_amount_log1p_clipped</th><th>loan_amount_sqrt</th><th>loan_amount_lag_1</th><th>employer_category1_is_missing</th><th>gender_Male</th></tr><tr><td>str</td><td>str</td><td>str</td><td>str</td><td>f64</td><td>str</td><td>f64</td><td>f64</td><td>f64</td><td>str</td><td>str</td><td>str</td><td>str</td><td>str</td><td>f64</td><td>f64</td><td>f64</td><td>f64</td><td>f64</td><td>i64</td><td>i64</td><td>str</td><td>f64</td><td>f64</td><td>f64</td><td>f64</td><td>f64</td><td>u8</td><td>u8</td></tr></thead><tbody></tbody></table></div>"
      ],
      "text/plain": [
       "shape: (0, 29)\n",
       "┌─────┬─────┬──────────────┬───────────┬───┬─────────────┬─────────────┬─────────────┬─────────────┐\n",
       "│ id  ┆ dob ┆ lead_creatio ┆ city_code ┆ … ┆ loan_amount ┆ loan_amount ┆ employer_ca ┆ gender_Male │\n",
       "│ --- ┆ --- ┆ n_date       ┆ ---       ┆   ┆ _sqrt       ┆ _lag_1      ┆ tegory1_is_ ┆ ---         │\n",
       "│ str ┆ str ┆ ---          ┆ str       ┆   ┆ ---         ┆ ---         ┆ missing     ┆ u8          │\n",
       "│     ┆     ┆ str          ┆           ┆   ┆ f64         ┆ f64         ┆ ---         ┆             │\n",
       "│     ┆     ┆              ┆           ┆   ┆             ┆             ┆ u8          ┆             │\n",
       "╞═════╪═════╪══════════════╪═══════════╪═══╪═════════════╪═════════════╪═════════════╪═════════════╡\n",
       "└─────┴─────┴──────────────┴───────────┴───┴─────────────┴─────────────┴─────────────┴─────────────┘"
      ]
     },
     "execution_count": 7,
     "metadata": {},
     "output_type": "execute_result"
    }
   ],
   "source": [
    "# Empty. Because we filtered this to not null.\n",
    "df_transformed.filter(\n",
    "    pl.col(\"city_category\").is_null()\n",
    ")"
   ]
  },
  {
   "cell_type": "code",
   "execution_count": 8,
   "metadata": {},
   "outputs": [
    {
     "data": {
      "text/html": [
       "<div><style>\n",
       ".dataframe > thead > tr,\n",
       ".dataframe > tbody > tr {\n",
       "  text-align: right;\n",
       "  white-space: pre-wrap;\n",
       "}\n",
       "</style>\n",
       "<small>shape: (0, 29)</small><table border=\"1\" class=\"dataframe\"><thead><tr><th>id</th><th>dob</th><th>lead_creation_date</th><th>city_code</th><th>city_category</th><th>employer_code</th><th>employer_category1</th><th>employer_category2</th><th>monthly_income</th><th>customer_existing_primary_bank_code</th><th>primary_bank_type</th><th>contacted</th><th>source</th><th>source_category</th><th>existing_emi</th><th>loan_amount</th><th>loan_period</th><th>interest_rate</th><th>emi</th><th>var1</th><th>approved</th><th>test_col</th><th>existing_emi_log1p</th><th>loan_amount_log1p</th><th>loan_amount_log1p_clipped</th><th>loan_amount_sqrt</th><th>loan_amount_lag_1</th><th>employer_category1_is_missing</th><th>gender_Male</th></tr><tr><td>str</td><td>str</td><td>str</td><td>str</td><td>f64</td><td>str</td><td>f64</td><td>f64</td><td>f64</td><td>str</td><td>str</td><td>str</td><td>str</td><td>str</td><td>f64</td><td>f64</td><td>f64</td><td>f64</td><td>f64</td><td>i64</td><td>i64</td><td>str</td><td>f64</td><td>f64</td><td>f64</td><td>f64</td><td>f64</td><td>u8</td><td>u8</td></tr></thead><tbody></tbody></table></div>"
      ],
      "text/plain": [
       "shape: (0, 29)\n",
       "┌─────┬─────┬──────────────┬───────────┬───┬─────────────┬─────────────┬─────────────┬─────────────┐\n",
       "│ id  ┆ dob ┆ lead_creatio ┆ city_code ┆ … ┆ loan_amount ┆ loan_amount ┆ employer_ca ┆ gender_Male │\n",
       "│ --- ┆ --- ┆ n_date       ┆ ---       ┆   ┆ _sqrt       ┆ _lag_1      ┆ tegory1_is_ ┆ ---         │\n",
       "│ str ┆ str ┆ ---          ┆ str       ┆   ┆ ---         ┆ ---         ┆ missing     ┆ u8          │\n",
       "│     ┆     ┆ str          ┆           ┆   ┆ f64         ┆ f64         ┆ ---         ┆             │\n",
       "│     ┆     ┆              ┆           ┆   ┆             ┆             ┆ u8          ┆             │\n",
       "╞═════╪═════╪══════════════╪═══════════╪═══╪═════════════╪═════════════╪═════════════╪═════════════╡\n",
       "└─────┴─────┴──────────────┴───────────┴───┴─────────────┴─────────────┴─────────────┴─────────────┘"
      ]
     },
     "execution_count": 8,
     "metadata": {},
     "output_type": "execute_result"
    }
   ],
   "source": [
    "# Empty. Because we filtered this to not null in the SQL\n",
    "df_transformed.filter(\n",
    "    pl.col(\"loan_amount\").is_null()\n",
    ")"
   ]
  },
  {
   "cell_type": "markdown",
   "metadata": {},
   "source": [
    "# Serialization Methods\n",
    "\n",
    "Pickle + JSON support."
   ]
  },
  {
   "cell_type": "code",
   "execution_count": 9,
   "metadata": {},
   "outputs": [],
   "source": [
    "import pickle\n",
    "# The pipe object can be pickled\n",
    "with open(\"pipe.pickle\", \"wb\") as f:\n",
    "    pickle.dump(pipe, f)"
   ]
  },
  {
   "cell_type": "code",
   "execution_count": 10,
   "metadata": {},
   "outputs": [
    {
     "data": {
      "text/plain": [
       "Naive Query Steps: \n",
       "\n",
       "Step 1:\n",
       "Run SQL: \n",
       "select\n",
       "*\n",
       ", 'TEST' as test_col\n",
       "from df\n",
       "where loan_amount is not null\n",
       "\n",
       "\n",
       "\n",
       "Step 2:\n",
       "col(\"city_category\").is_not_null()\n",
       "\n",
       "Step 3:\n",
       "col(\"loan_period\").fill_null([[(col(\"var1\")) * (dyn float: 0.509810011759666)].sum_horizontal([[(col(\"existing_emi\")) * (dyn float: -0.0000076040796537527814)]])]).alias(\"loan_period\")\n",
       "\n",
       "Step 4:\n",
       "col(\"existing_emi\").fill_null([dyn float: 0])\n",
       "\n",
       "Step 5:\n",
       "col(\"existing_emi\").log1p().alias(\"existing_emi_log1p\"),\n",
       "col(\"loan_amount\").log1p().alias(\"loan_amount_log1p\"),\n",
       "col(\"loan_amount\").clip([dyn int: 0, dyn int: 1000]).alias(\"loan_amount_log1p_clipped\"),\n",
       "col(\"loan_amount\").sqrt().alias(\"loan_amount_sqrt\"),\n",
       "col(\"loan_amount\").shift([dyn int: -1]).alias(\"loan_amount_lag_1\")\n",
       "\n",
       "Step 6:\n",
       "[([(col(\"employer_category2\")) - (dyn float: 3.679269695227142)]) / (dyn float: 0.862458786067542)],\n",
       "[([(col(\"monthly_income\")) - (dyn float: 7463.797309780022)]) / (dyn float: 225051.54436104206)],\n",
       "[([(col(\"existing_emi\")) - (dyn float: 265.6902475240454)]) / (dyn float: 2757.6092535058183)],\n",
       "[([(col(\"loan_amount\")) - (dyn float: 39429.98285877536)]) / (dyn float: 30727.23021813224)],\n",
       "[([(col(\"loan_period\")) - (dyn float: 3.8906294638605847)]) / (dyn float: 1.1674769269411276)],\n",
       "[([(col(\"interest_rate\")) - (dyn float: 19.213569761177947)]) / (dyn float: 5.8470045315482775)],\n",
       "[([(col(\"emi\")) - (dyn float: 1101.4662416950978)]) / (dyn float: 752.6444995250869)],\n",
       "[([(col(\"loan_amount_log1p\")) - (dyn float: 10.326664500589036)]) / (dyn float: 0.7219306388560954)],\n",
       "[([(col(\"loan_amount_log1p_clipped\")) - (dyn float: 1000)]) / (dyn float: 0)],\n",
       "[([(col(\"loan_amount_sqrt\")) - (dyn float: 186.4219606393428)]) / (dyn float: 68.38739247959866)],\n",
       "[([(col(\"loan_amount_lag_1\")) - (dyn float: 39430.44544437302)]) / (dyn float: 30727.449732966947)]\n",
       "\n",
       "Step 7:\n",
       "col(\"employer_category1\").is_null().strict_cast(UInt8).alias(\"employer_category1_is_missing\")\n",
       "\n",
       "Step 8:\n",
       "[(col(\"gender\")) ==v (\"Male\")].strict_cast(UInt8).alias(\"gender_Male\")\n",
       "\n",
       "Step 9:\n",
       "*.exclude([Name(\"gender\")])\n",
       "\n",
       "Step 10:\n",
       "col(\"city_category\").replace_strict([Series[value], Series[woe], null])\n",
       "\n",
       "Step 11:\n",
       "col(\"employer_category1\").replace_strict([Series[value], Series[to], null])\n"
      ]
     },
     "execution_count": 10,
     "metadata": {},
     "output_type": "execute_result"
    }
   ],
   "source": [
    "with open(\"pipe.pickle\", \"rb\") as f:\n",
    "    pipe2 = pickle.load(f)\n",
    "\n",
    "pipe2"
   ]
  },
  {
   "cell_type": "code",
   "execution_count": 11,
   "metadata": {},
   "outputs": [
    {
     "data": {
      "text/html": [
       "<div><style>\n",
       ".dataframe > thead > tr,\n",
       ".dataframe > tbody > tr {\n",
       "  text-align: right;\n",
       "  white-space: pre-wrap;\n",
       "}\n",
       "</style>\n",
       "<small>shape: (42_004, 29)</small><table border=\"1\" class=\"dataframe\"><thead><tr><th>id</th><th>dob</th><th>lead_creation_date</th><th>city_code</th><th>city_category</th><th>employer_code</th><th>employer_category1</th><th>employer_category2</th><th>monthly_income</th><th>customer_existing_primary_bank_code</th><th>primary_bank_type</th><th>contacted</th><th>source</th><th>source_category</th><th>existing_emi</th><th>loan_amount</th><th>loan_period</th><th>interest_rate</th><th>emi</th><th>var1</th><th>approved</th><th>test_col</th><th>existing_emi_log1p</th><th>loan_amount_log1p</th><th>loan_amount_log1p_clipped</th><th>loan_amount_sqrt</th><th>loan_amount_lag_1</th><th>employer_category1_is_missing</th><th>gender_Male</th></tr><tr><td>str</td><td>str</td><td>str</td><td>str</td><td>f64</td><td>str</td><td>f64</td><td>f64</td><td>f64</td><td>str</td><td>str</td><td>str</td><td>str</td><td>str</td><td>f64</td><td>f64</td><td>f64</td><td>f64</td><td>f64</td><td>i64</td><td>i64</td><td>str</td><td>f64</td><td>f64</td><td>f64</td><td>f64</td><td>f64</td><td>u8</td><td>u8</td></tr></thead><tbody><tr><td>&quot;APPD40611263344&quot;</td><td>&quot;07/12/86&quot;</td><td>&quot;04/07/16&quot;</td><td>&quot;C10003&quot;</td><td>0.080959</td><td>&quot;COM0000002&quot;</td><td>0.026603</td><td>-3.106548</td><td>-0.017613</td><td>&quot;B002&quot;</td><td>&quot;P&quot;</td><td>&quot;Y&quot;</td><td>&quot;S122&quot;</td><td>&quot;G&quot;</td><td>-0.096348</td><td>-0.632338</td><td>-1.619415</td><td>-1.019936</td><td>-0.197259</td><td>10</td><td>0</td><td>&quot;TEST&quot;</td><td>0.0</td><td>-0.586105</td><td>NaN</td><td>-0.658025</td><td>0.181257</td><td>0</td><td>1</td></tr><tr><td>&quot;APPE70289249423&quot;</td><td>&quot;10/12/82&quot;</td><td>&quot;19/07/16&quot;</td><td>&quot;C10125&quot;</td><td>-0.479553</td><td>&quot;COM0005267&quot;</td><td>0.026603</td><td>0.371879</td><td>-0.023167</td><td>&quot;B003&quot;</td><td>&quot;G&quot;</td><td>&quot;Y&quot;</td><td>&quot;S143&quot;</td><td>&quot;B&quot;</td><td>-0.096348</td><td>0.181273</td><td>0.093681</td><td>null</td><td>null</td><td>0</td><td>0</td><td>&quot;TEST&quot;</td><td>0.0</td><td>0.537137</td><td>NaN</td><td>0.375948</td><td>1.710834</td><td>0</td><td>1</td></tr><tr><td>&quot;APPF80273865537&quot;</td><td>&quot;30/01/89&quot;</td><td>&quot;09/07/16&quot;</td><td>&quot;C10477&quot;</td><td>-0.479553</td><td>&quot;COM0004143&quot;</td><td>0.014737</td><td>0.371879</td><td>-0.017613</td><td>&quot;B003&quot;</td><td>&quot;G&quot;</td><td>&quot;Y&quot;</td><td>&quot;S143&quot;</td><td>&quot;B&quot;</td><td>-0.096348</td><td>1.710861</td><td>0.950229</td><td>null</td><td>null</td><td>7</td><td>0</td><td>&quot;TEST&quot;</td><td>0.0</td><td>1.527696</td><td>NaN</td><td>1.709278</td><td>0.343978</td><td>0</td><td>1</td></tr><tr><td>&quot;APPG60994436641&quot;</td><td>&quot;19/04/85&quot;</td><td>&quot;20/07/16&quot;</td><td>&quot;C10002&quot;</td><td>0.080959</td><td>&quot;COM0001781&quot;</td><td>0.014737</td><td>0.371879</td><td>0.011269</td><td>&quot;B001&quot;</td><td>&quot;P&quot;</td><td>&quot;Y&quot;</td><td>&quot;S134&quot;</td><td>&quot;B&quot;</td><td>0.810234</td><td>0.343995</td><td>-1.619415</td><td>null</td><td>null</td><td>10</td><td>0</td><td>&quot;TEST&quot;</td><td>7.824446</td><td>0.683076</td><td>NaN</td><td>0.543738</td><td>2.947513</td><td>0</td><td>1</td></tr><tr><td>&quot;APPK80327232033&quot;</td><td>&quot;28/03/73&quot;</td><td>&quot;02/07/16&quot;</td><td>&quot;C10022&quot;</td><td>-0.046475</td><td>&quot;COM0030526&quot;</td><td>0.024336</td><td>0.371879</td><td>0.000161</td><td>&quot;B003&quot;</td><td>&quot;G&quot;</td><td>&quot;Y&quot;</td><td>&quot;S122&quot;</td><td>&quot;C&quot;</td><td>-0.096348</td><td>2.947549</td><td>0.950229</td><td>-0.746291</td><td>2.631433</td><td>10</td><td>0</td><td>&quot;TEST&quot;</td><td>0.0</td><td>2.00661</td><td>NaN</td><td>2.546276</td><td>-0.306906</td><td>0</td><td>1</td></tr><tr><td>&hellip;</td><td>&hellip;</td><td>&hellip;</td><td>&hellip;</td><td>&hellip;</td><td>&hellip;</td><td>&hellip;</td><td>&hellip;</td><td>&hellip;</td><td>&hellip;</td><td>&hellip;</td><td>&hellip;</td><td>&hellip;</td><td>&hellip;</td><td>&hellip;</td><td>&hellip;</td><td>&hellip;</td><td>&hellip;</td><td>&hellip;</td><td>&hellip;</td><td>&hellip;</td><td>&hellip;</td><td>&hellip;</td><td>&hellip;</td><td>&hellip;</td><td>&hellip;</td><td>&hellip;</td><td>&hellip;</td><td>&hellip;</td></tr><tr><td>&quot;APPS20215136404&quot;</td><td>&quot;04/03/86&quot;</td><td>&quot;30/09/16&quot;</td><td>&quot;C10002&quot;</td><td>0.080959</td><td>&quot;COM0000003&quot;</td><td>0.024336</td><td>-1.947072</td><td>-0.012725</td><td>&quot;B001&quot;</td><td>&quot;P&quot;</td><td>&quot;Y&quot;</td><td>&quot;S122&quot;</td><td>&quot;G&quot;</td><td>-0.096348</td><td>-0.306893</td><td>-0.762867</td><td>-1.062693</td><td>-0.120198</td><td>10</td><td>0</td><td>&quot;TEST&quot;</td><td>0.0</td><td>-0.024488</td><td>NaN</td><td>-0.193265</td><td>-0.306906</td><td>0</td><td>1</td></tr><tr><td>&quot;APPT50870248519&quot;</td><td>&quot;03/03/91&quot;</td><td>&quot;30/09/16&quot;</td><td>&quot;C10041&quot;</td><td>-0.479553</td><td>&quot;COM0000009&quot;</td><td>0.014737</td><td>-3.106548</td><td>-0.022501</td><td>&quot;B003&quot;</td><td>&quot;G&quot;</td><td>&quot;Y&quot;</td><td>&quot;S122&quot;</td><td>&quot;G&quot;</td><td>-0.096348</td><td>-0.306893</td><td>-0.762867</td><td>null</td><td>null</td><td>2</td><td>0</td><td>&quot;TEST&quot;</td><td>0.0</td><td>-0.024488</td><td>NaN</td><td>-0.193265</td><td>-0.502171</td><td>0</td><td>1</td></tr><tr><td>&quot;APPW50697209842&quot;</td><td>&quot;01/02/92&quot;</td><td>&quot;30/09/16&quot;</td><td>&quot;C10022&quot;</td><td>-0.046475</td><td>&quot;COM0013284&quot;</td><td>0.026603</td><td>0.371879</td><td>-0.026055</td><td>&quot;B030&quot;</td><td>&quot;P&quot;</td><td>&quot;Y&quot;</td><td>&quot;S122&quot;</td><td>&quot;G&quot;</td><td>-0.096348</td><td>-0.50216</td><td>0.093681</td><td>2.785431</td><td>-0.210546</td><td>2</td><td>0</td><td>&quot;TEST&quot;</td><td>0.0</td><td>-0.333569</td><td>NaN</td><td>-0.46065</td><td>1.320303</td><td>0</td><td>0</td></tr><tr><td>&quot;APPY50870035036&quot;</td><td>&quot;27/06/78&quot;</td><td>&quot;30/09/16&quot;</td><td>&quot;C10002&quot;</td><td>0.080959</td><td>&quot;COM0000098&quot;</td><td>0.026603</td><td>-0.787597</td><td>0.010794</td><td>&quot;B002&quot;</td><td>&quot;P&quot;</td><td>&quot;Y&quot;</td><td>&quot;S122&quot;</td><td>&quot;G&quot;</td><td>0.399009</td><td>1.320328</td><td>0.950229</td><td>null</td><td>null</td><td>10</td><td>0</td><td>&quot;TEST&quot;</td><td>7.220374</td><td>1.334103</td><td>NaN</td><td>1.40992</td><td>0.962317</td><td>0</td><td>1</td></tr><tr><td>&quot;APPZ60733046119&quot;</td><td>&quot;31/12/89&quot;</td><td>&quot;30/09/16&quot;</td><td>&quot;C10003&quot;</td><td>0.080959</td><td>&quot;COM0000056&quot;</td><td>0.014737</td><td>-3.106548</td><td>-0.014369</td><td>null</td><td>null</td><td>&quot;Y&quot;</td><td>&quot;S122&quot;</td><td>&quot;G&quot;</td><td>-0.096348</td><td>0.962339</td><td>0.093681</td><td>-0.893375</td><td>1.041041</td><td>10</td><td>0</td><td>&quot;TEST&quot;</td><td>0.0</td><td>1.129211</td><td>NaN</td><td>1.115067</td><td>null</td><td>0</td><td>1</td></tr></tbody></table></div>"
      ],
      "text/plain": [
       "shape: (42_004, 29)\n",
       "┌───────────┬──────────┬───────────┬───────────┬───┬───────────┬───────────┬───────────┬───────────┐\n",
       "│ id        ┆ dob      ┆ lead_crea ┆ city_code ┆ … ┆ loan_amou ┆ loan_amou ┆ employer_ ┆ gender_Ma │\n",
       "│ ---       ┆ ---      ┆ tion_date ┆ ---       ┆   ┆ nt_sqrt   ┆ nt_lag_1  ┆ category1 ┆ le        │\n",
       "│ str       ┆ str      ┆ ---       ┆ str       ┆   ┆ ---       ┆ ---       ┆ _is_missi ┆ ---       │\n",
       "│           ┆          ┆ str       ┆           ┆   ┆ f64       ┆ f64       ┆ ng        ┆ u8        │\n",
       "│           ┆          ┆           ┆           ┆   ┆           ┆           ┆ ---       ┆           │\n",
       "│           ┆          ┆           ┆           ┆   ┆           ┆           ┆ u8        ┆           │\n",
       "╞═══════════╪══════════╪═══════════╪═══════════╪═══╪═══════════╪═══════════╪═══════════╪═══════════╡\n",
       "│ APPD40611 ┆ 07/12/86 ┆ 04/07/16  ┆ C10003    ┆ … ┆ -0.658025 ┆ 0.181257  ┆ 0         ┆ 1         │\n",
       "│ 263344    ┆          ┆           ┆           ┆   ┆           ┆           ┆           ┆           │\n",
       "│ APPE70289 ┆ 10/12/82 ┆ 19/07/16  ┆ C10125    ┆ … ┆ 0.375948  ┆ 1.710834  ┆ 0         ┆ 1         │\n",
       "│ 249423    ┆          ┆           ┆           ┆   ┆           ┆           ┆           ┆           │\n",
       "│ APPF80273 ┆ 30/01/89 ┆ 09/07/16  ┆ C10477    ┆ … ┆ 1.709278  ┆ 0.343978  ┆ 0         ┆ 1         │\n",
       "│ 865537    ┆          ┆           ┆           ┆   ┆           ┆           ┆           ┆           │\n",
       "│ APPG60994 ┆ 19/04/85 ┆ 20/07/16  ┆ C10002    ┆ … ┆ 0.543738  ┆ 2.947513  ┆ 0         ┆ 1         │\n",
       "│ 436641    ┆          ┆           ┆           ┆   ┆           ┆           ┆           ┆           │\n",
       "│ APPK80327 ┆ 28/03/73 ┆ 02/07/16  ┆ C10022    ┆ … ┆ 2.546276  ┆ -0.306906 ┆ 0         ┆ 1         │\n",
       "│ 232033    ┆          ┆           ┆           ┆   ┆           ┆           ┆           ┆           │\n",
       "│ …         ┆ …        ┆ …         ┆ …         ┆ … ┆ …         ┆ …         ┆ …         ┆ …         │\n",
       "│ APPS20215 ┆ 04/03/86 ┆ 30/09/16  ┆ C10002    ┆ … ┆ -0.193265 ┆ -0.306906 ┆ 0         ┆ 1         │\n",
       "│ 136404    ┆          ┆           ┆           ┆   ┆           ┆           ┆           ┆           │\n",
       "│ APPT50870 ┆ 03/03/91 ┆ 30/09/16  ┆ C10041    ┆ … ┆ -0.193265 ┆ -0.502171 ┆ 0         ┆ 1         │\n",
       "│ 248519    ┆          ┆           ┆           ┆   ┆           ┆           ┆           ┆           │\n",
       "│ APPW50697 ┆ 01/02/92 ┆ 30/09/16  ┆ C10022    ┆ … ┆ -0.46065  ┆ 1.320303  ┆ 0         ┆ 0         │\n",
       "│ 209842    ┆          ┆           ┆           ┆   ┆           ┆           ┆           ┆           │\n",
       "│ APPY50870 ┆ 27/06/78 ┆ 30/09/16  ┆ C10002    ┆ … ┆ 1.40992   ┆ 0.962317  ┆ 0         ┆ 1         │\n",
       "│ 035036    ┆          ┆           ┆           ┆   ┆           ┆           ┆           ┆           │\n",
       "│ APPZ60733 ┆ 31/12/89 ┆ 30/09/16  ┆ C10003    ┆ … ┆ 1.115067  ┆ null      ┆ 0         ┆ 1         │\n",
       "│ 046119    ┆          ┆           ┆           ┆   ┆           ┆           ┆           ┆           │\n",
       "└───────────┴──────────┴───────────┴───────────┴───┴───────────┴───────────┴───────────┴───────────┘"
      ]
     },
     "execution_count": 11,
     "metadata": {},
     "output_type": "execute_result"
    }
   ],
   "source": [
    "df_transformed_2 = pipe2.transform(df)\n",
    "df_transformed_2"
   ]
  },
  {
   "cell_type": "code",
   "execution_count": 12,
   "metadata": {},
   "outputs": [],
   "source": [
    "from polars.testing import assert_frame_equal\n",
    "# True\n",
    "assert_frame_equal(df_transformed, df_transformed_2)"
   ]
  },
  {
   "cell_type": "code",
   "execution_count": 13,
   "metadata": {},
   "outputs": [
    {
     "data": {
      "text/plain": [
       "{'name': 'example',\n",
       " 'feature_names_in_': ['id',\n",
       "  'gender',\n",
       "  'dob',\n",
       "  'lead_creation_date',\n",
       "  'city_code',\n",
       "  'city_category',\n",
       "  'employer_code',\n",
       "  'employer_category1',\n",
       "  'employer_category2',\n",
       "  'monthly_income',\n",
       "  'customer_existing_primary_bank_code',\n",
       "  'primary_bank_type',\n",
       "  'contacted',\n",
       "  'source',\n",
       "  'source_category',\n",
       "  'existing_emi',\n",
       "  'loan_amount',\n",
       "  'loan_period',\n",
       "  'interest_rate',\n",
       "  'emi',\n",
       "  'var1',\n",
       "  'approved'],\n",
       " 'feature_names_out_': ['id',\n",
       "  'dob',\n",
       "  'lead_creation_date',\n",
       "  'city_code',\n",
       "  'city_category',\n",
       "  'employer_code',\n",
       "  'employer_category1',\n",
       "  'employer_category2',\n",
       "  'monthly_income',\n",
       "  'customer_existing_primary_bank_code',\n",
       "  'primary_bank_type',\n",
       "  'contacted',\n",
       "  'source',\n",
       "  'source_category',\n",
       "  'existing_emi',\n",
       "  'loan_amount',\n",
       "  'loan_period',\n",
       "  'interest_rate',\n",
       "  'emi',\n",
       "  'var1',\n",
       "  'approved',\n",
       "  'test_col',\n",
       "  'existing_emi_log1p',\n",
       "  'loan_amount_log1p',\n",
       "  'loan_amount_log1p_clipped',\n",
       "  'loan_amount_sqrt',\n",
       "  'loan_amount_lag_1',\n",
       "  'employer_category1_is_missing',\n",
       "  'gender_Male'],\n",
       " 'transforms': [{'context': 'sql',\n",
       "   'action': \"\\nselect\\n*\\n, 'TEST' as test_col\\nfrom df\\nwhere loan_amount is not null\\n\"},\n",
       "  {'context': 'filter',\n",
       "   'action': '{\"Function\":{\"input\":[{\"Column\":\"city_category\"}],\"function\":{\"Boolean\":\"IsNotNull\"},\"options\":{\"check_lengths\":true,\"flags\":\"ALLOW_GROUP_AWARE | ROW_SEPARABLE | LENGTH_PRESERVING\"}}}'},\n",
       "  {'context': 'with_columns',\n",
       "   'action': ['{\"Alias\":[{\"Function\":{\"input\":[{\"Column\":\"loan_period\"},{\"Function\":{\"input\":[{\"BinaryExpr\":{\"left\":{\"Column\":\"var1\"},\"op\":\"Multiply\",\"right\":{\"Literal\":{\"Dyn\":{\"Float\":0.509810011759666}}}}},{\"BinaryExpr\":{\"left\":{\"Column\":\"existing_emi\"},\"op\":\"Multiply\",\"right\":{\"Literal\":{\"Dyn\":{\"Float\":-7.6040796537527814e-6}}}}}],\"function\":{\"SumHorizontal\":{\"ignore_nulls\":true}},\"options\":{\"check_lengths\":true,\"flags\":\"ALLOW_GROUP_AWARE | INPUT_WILDCARD_EXPANSION | ROW_SEPARABLE | LENGTH_PRESERVING\"}}}],\"function\":\"FillNull\",\"options\":{\"check_lengths\":true,\"flags\":\"ALLOW_GROUP_AWARE | ROW_SEPARABLE | LENGTH_PRESERVING\"}}},\"loan_period\"]}']},\n",
       "  {'context': 'with_columns',\n",
       "   'action': ['{\"Function\":{\"input\":[{\"Column\":\"existing_emi\"},{\"Literal\":{\"Dyn\":{\"Float\":0.0}}}],\"function\":\"FillNull\",\"options\":{\"check_lengths\":true,\"flags\":\"ALLOW_GROUP_AWARE | ROW_SEPARABLE | LENGTH_PRESERVING\"}}}']},\n",
       "  {'context': 'with_columns',\n",
       "   'action': ['{\"Alias\":[{\"Function\":{\"input\":[{\"Column\":\"existing_emi\"}],\"function\":\"Log1p\",\"options\":{\"check_lengths\":true,\"flags\":\"ALLOW_GROUP_AWARE | ROW_SEPARABLE | LENGTH_PRESERVING\"}}},\"existing_emi_log1p\"]}',\n",
       "    '{\"Alias\":[{\"Function\":{\"input\":[{\"Column\":\"loan_amount\"}],\"function\":\"Log1p\",\"options\":{\"check_lengths\":true,\"flags\":\"ALLOW_GROUP_AWARE | ROW_SEPARABLE | LENGTH_PRESERVING\"}}},\"loan_amount_log1p\"]}',\n",
       "    '{\"Alias\":[{\"Function\":{\"input\":[{\"Column\":\"loan_amount\"},{\"Literal\":{\"Dyn\":{\"Int\":0}}},{\"Literal\":{\"Dyn\":{\"Int\":1000}}}],\"function\":{\"Clip\":{\"has_min\":true,\"has_max\":true}},\"options\":{\"check_lengths\":true,\"flags\":\"ALLOW_GROUP_AWARE | ROW_SEPARABLE | LENGTH_PRESERVING\"}}},\"loan_amount_log1p_clipped\"]}',\n",
       "    '{\"Alias\":[{\"Function\":{\"input\":[{\"Column\":\"loan_amount\"}],\"function\":{\"Pow\":\"Sqrt\"},\"options\":{\"check_lengths\":true,\"flags\":\"ALLOW_GROUP_AWARE | ROW_SEPARABLE | LENGTH_PRESERVING\"}}},\"loan_amount_sqrt\"]}',\n",
       "    '{\"Alias\":[{\"Function\":{\"input\":[{\"Column\":\"loan_amount\"},{\"Literal\":{\"Dyn\":{\"Int\":-1}}}],\"function\":\"Shift\",\"options\":{\"check_lengths\":true,\"flags\":\"ALLOW_GROUP_AWARE | LENGTH_PRESERVING\"}}},\"loan_amount_lag_1\"]}']},\n",
       "  {'context': 'with_columns',\n",
       "   'action': ['{\"BinaryExpr\":{\"left\":{\"BinaryExpr\":{\"left\":{\"Column\":\"employer_category2\"},\"op\":\"Minus\",\"right\":{\"Literal\":{\"Dyn\":{\"Float\":3.679269695227142}}}}},\"op\":\"TrueDivide\",\"right\":{\"Literal\":{\"Dyn\":{\"Float\":0.862458786067542}}}}}',\n",
       "    '{\"BinaryExpr\":{\"left\":{\"BinaryExpr\":{\"left\":{\"Column\":\"monthly_income\"},\"op\":\"Minus\",\"right\":{\"Literal\":{\"Dyn\":{\"Float\":7463.797309780022}}}}},\"op\":\"TrueDivide\",\"right\":{\"Literal\":{\"Dyn\":{\"Float\":225051.54436104206}}}}}',\n",
       "    '{\"BinaryExpr\":{\"left\":{\"BinaryExpr\":{\"left\":{\"Column\":\"existing_emi\"},\"op\":\"Minus\",\"right\":{\"Literal\":{\"Dyn\":{\"Float\":265.6902475240454}}}}},\"op\":\"TrueDivide\",\"right\":{\"Literal\":{\"Dyn\":{\"Float\":2757.6092535058183}}}}}',\n",
       "    '{\"BinaryExpr\":{\"left\":{\"BinaryExpr\":{\"left\":{\"Column\":\"loan_amount\"},\"op\":\"Minus\",\"right\":{\"Literal\":{\"Dyn\":{\"Float\":39429.98285877536}}}}},\"op\":\"TrueDivide\",\"right\":{\"Literal\":{\"Dyn\":{\"Float\":30727.23021813224}}}}}',\n",
       "    '{\"BinaryExpr\":{\"left\":{\"BinaryExpr\":{\"left\":{\"Column\":\"loan_period\"},\"op\":\"Minus\",\"right\":{\"Literal\":{\"Dyn\":{\"Float\":3.8906294638605847}}}}},\"op\":\"TrueDivide\",\"right\":{\"Literal\":{\"Dyn\":{\"Float\":1.1674769269411276}}}}}',\n",
       "    '{\"BinaryExpr\":{\"left\":{\"BinaryExpr\":{\"left\":{\"Column\":\"interest_rate\"},\"op\":\"Minus\",\"right\":{\"Literal\":{\"Dyn\":{\"Float\":19.213569761177947}}}}},\"op\":\"TrueDivide\",\"right\":{\"Literal\":{\"Dyn\":{\"Float\":5.8470045315482775}}}}}',\n",
       "    '{\"BinaryExpr\":{\"left\":{\"BinaryExpr\":{\"left\":{\"Column\":\"emi\"},\"op\":\"Minus\",\"right\":{\"Literal\":{\"Dyn\":{\"Float\":1101.4662416950978}}}}},\"op\":\"TrueDivide\",\"right\":{\"Literal\":{\"Dyn\":{\"Float\":752.6444995250869}}}}}',\n",
       "    '{\"BinaryExpr\":{\"left\":{\"BinaryExpr\":{\"left\":{\"Column\":\"loan_amount_log1p\"},\"op\":\"Minus\",\"right\":{\"Literal\":{\"Dyn\":{\"Float\":10.326664500589036}}}}},\"op\":\"TrueDivide\",\"right\":{\"Literal\":{\"Dyn\":{\"Float\":0.7219306388560954}}}}}',\n",
       "    '{\"BinaryExpr\":{\"left\":{\"BinaryExpr\":{\"left\":{\"Column\":\"loan_amount_log1p_clipped\"},\"op\":\"Minus\",\"right\":{\"Literal\":{\"Dyn\":{\"Float\":1000.0}}}}},\"op\":\"TrueDivide\",\"right\":{\"Literal\":{\"Dyn\":{\"Float\":0.0}}}}}',\n",
       "    '{\"BinaryExpr\":{\"left\":{\"BinaryExpr\":{\"left\":{\"Column\":\"loan_amount_sqrt\"},\"op\":\"Minus\",\"right\":{\"Literal\":{\"Dyn\":{\"Float\":186.4219606393428}}}}},\"op\":\"TrueDivide\",\"right\":{\"Literal\":{\"Dyn\":{\"Float\":68.38739247959866}}}}}',\n",
       "    '{\"BinaryExpr\":{\"left\":{\"BinaryExpr\":{\"left\":{\"Column\":\"loan_amount_lag_1\"},\"op\":\"Minus\",\"right\":{\"Literal\":{\"Dyn\":{\"Float\":39430.44544437302}}}}},\"op\":\"TrueDivide\",\"right\":{\"Literal\":{\"Dyn\":{\"Float\":30727.449732966947}}}}}']},\n",
       "  {'context': 'with_columns',\n",
       "   'action': ['{\"Alias\":[{\"Cast\":{\"expr\":{\"Function\":{\"input\":[{\"Column\":\"employer_category1\"}],\"function\":{\"Boolean\":\"IsNull\"},\"options\":{\"check_lengths\":true,\"flags\":\"ALLOW_GROUP_AWARE | ROW_SEPARABLE | LENGTH_PRESERVING\"}}},\"dtype\":\"UInt8\",\"options\":\"Strict\"}},\"employer_category1_is_missing\"]}']},\n",
       "  {'context': 'with_columns',\n",
       "   'action': ['{\"Alias\":[{\"Cast\":{\"expr\":{\"BinaryExpr\":{\"left\":{\"Column\":\"gender\"},\"op\":\"EqValidity\",\"right\":{\"Literal\":{\"Scalar\":{\"dtype\":\"String\",\"value\":{\"StringOwned\":\"Male\"}}}}}},\"dtype\":\"UInt8\",\"options\":\"Strict\"}},\"gender_Male\"]}']},\n",
       "  {'context': 'select',\n",
       "   'action': ['{\"Exclude\":[\"Wildcard\",[{\"Name\":\"gender\"}]]}']},\n",
       "  {'context': 'with_columns',\n",
       "   'action': ['{\"Function\":{\"input\":[{\"Column\":\"city_category\"},{\"Literal\":{\"Series\":[255,255,255,255,176,0,0,0,4,0,0,0,242,255,255,255,20,0,0,0,4,0,1,0,0,0,10,0,11,0,8,0,10,0,4,0,242,255,255,255,72,0,0,0,16,0,0,0,0,0,10,0,12,0,0,0,4,0,8,0,1,0,0,0,4,0,0,0,244,255,255,255,24,0,0,0,12,0,0,0,8,0,12,0,4,0,8,0,3,0,0,0,91,48,93,0,9,0,0,0,95,80,76,95,70,76,65,71,83,0,0,0,1,0,0,0,4,0,0,0,236,255,255,255,44,0,0,0,32,0,0,0,24,0,0,0,1,24,0,0,16,0,18,0,4,0,16,0,17,0,8,0,0,0,12,0,0,0,0,0,252,255,255,255,4,0,4,0,5,0,0,0,118,97,108,117,101,0,0,0,0,0,0,0,255,255,255,255,160,0,0,0,4,0,0,0,236,255,255,255,64,0,0,0,0,0,0,0,20,0,0,0,4,0,3,0,12,0,19,0,16,0,18,0,12,0,4,0,226,255,255,255,3,0,0,0,0,0,0,0,88,0,0,0,44,0,0,0,24,0,0,0,0,0,0,0,0,0,14,0,24,0,4,0,12,0,16,0,0,0,20,0,1,0,0,0,0,0,0,0,0,0,0,0,0,0,0,0,2,0,0,0,0,0,0,0,0,0,0,0,0,0,0,0,0,0,0,0,0,0,0,0,0,0,0,0,48,0,0,0,0,0,0,0,0,0,0,0,1,0,0,0,3,0,0,0,0,0,0,0,0,0,0,0,0,0,0,0,0,0,0,0,1,0,0,0,65,0,0,0,0,0,0,0,0,0,0,0,1,0,0,0,66,0,0,0,0,0,0,0,0,0,0,0,1,0,0,0,67,0,0,0,0,0,0,0,0,0,0,0,0,0,0,0,0,0,0,0,0,0,0,0,0,0,0,0,255,255,255,255,0,0,0,0]}},{\"Literal\":{\"Series\":[255,255,255,255,176,0,0,0,4,0,0,0,242,255,255,255,20,0,0,0,4,0,1,0,0,0,10,0,11,0,8,0,10,0,4,0,242,255,255,255,72,0,0,0,16,0,0,0,0,0,10,0,12,0,0,0,4,0,8,0,1,0,0,0,4,0,0,0,244,255,255,255,24,0,0,0,12,0,0,0,8,0,12,0,4,0,8,0,3,0,0,0,91,48,93,0,9,0,0,0,95,80,76,95,70,76,65,71,83,0,0,0,1,0,0,0,4,0,0,0,236,255,255,255,48,0,0,0,32,0,0,0,24,0,0,0,1,3,0,0,16,0,18,0,4,0,16,0,17,0,8,0,0,0,12,0,0,0,0,0,250,255,255,255,2,0,6,0,6,0,4,0,3,0,0,0,119,111,101,0,0,0,0,0,255,255,255,255,136,0,0,0,4,0,0,0,236,255,255,255,64,0,0,0,0,0,0,0,20,0,0,0,4,0,3,0,12,0,19,0,16,0,18,0,12,0,4,0,230,255,255,255,3,0,0,0,0,0,0,0,64,0,0,0,20,0,0,0,0,0,0,0,0,0,10,0,20,0,4,0,12,0,16,0,2,0,0,0,0,0,0,0,0,0,0,0,0,0,0,0,0,0,0,0,0,0,0,0,0,0,0,0,24,0,0,0,0,0,0,0,0,0,0,0,1,0,0,0,3,0,0,0,0,0,0,0,0,0,0,0,0,0,0,0,0,0,0,0,39,178,234,56,180,185,180,63,158,64,201,195,152,203,167,191,214,151,16,95,254,176,222,191,0,0,0,0,0,0,0,0,0,0,0,0,0,0,0,0,0,0,0,0,0,0,0,0,0,0,0,0,0,0,0,0,0,0,0,0,0,0,0,0,255,255,255,255,0,0,0,0]}},{\"Literal\":{\"Scalar\":{\"dtype\":\"Null\",\"value\":\"Null\"}}}],\"function\":{\"ReplaceStrict\":{\"return_dtype\":null}},\"options\":{\"check_lengths\":true,\"flags\":\"ALLOW_GROUP_AWARE | ROW_SEPARABLE | LENGTH_PRESERVING\"}}}']},\n",
       "  {'context': 'with_columns',\n",
       "   'action': ['{\"Function\":{\"input\":[{\"Column\":\"employer_category1\"},{\"Literal\":{\"Series\":[255,255,255,255,176,0,0,0,4,0,0,0,242,255,255,255,20,0,0,0,4,0,1,0,0,0,10,0,11,0,8,0,10,0,4,0,242,255,255,255,72,0,0,0,16,0,0,0,0,0,10,0,12,0,0,0,4,0,8,0,1,0,0,0,4,0,0,0,244,255,255,255,24,0,0,0,12,0,0,0,8,0,12,0,4,0,8,0,3,0,0,0,91,48,93,0,9,0,0,0,95,80,76,95,70,76,65,71,83,0,0,0,1,0,0,0,4,0,0,0,236,255,255,255,44,0,0,0,32,0,0,0,24,0,0,0,1,24,0,0,16,0,18,0,4,0,16,0,17,0,8,0,0,0,12,0,0,0,0,0,252,255,255,255,4,0,4,0,5,0,0,0,118,97,108,117,101,0,0,0,0,0,0,0,255,255,255,255,160,0,0,0,4,0,0,0,236,255,255,255,64,0,0,0,0,0,0,0,20,0,0,0,4,0,3,0,12,0,19,0,16,0,18,0,12,0,4,0,226,255,255,255,3,0,0,0,0,0,0,0,88,0,0,0,44,0,0,0,24,0,0,0,0,0,0,0,0,0,14,0,24,0,4,0,12,0,16,0,0,0,20,0,1,0,0,0,0,0,0,0,0,0,0,0,0,0,0,0,2,0,0,0,0,0,0,0,0,0,0,0,0,0,0,0,0,0,0,0,0,0,0,0,0,0,0,0,48,0,0,0,0,0,0,0,0,0,0,0,1,0,0,0,3,0,0,0,0,0,0,0,0,0,0,0,0,0,0,0,0,0,0,0,1,0,0,0,66,0,0,0,0,0,0,0,0,0,0,0,1,0,0,0,67,0,0,0,0,0,0,0,0,0,0,0,1,0,0,0,65,0,0,0,0,0,0,0,0,0,0,0,0,0,0,0,0,0,0,0,0,0,0,0,0,0,0,0,255,255,255,255,0,0,0,0]}},{\"Literal\":{\"Series\":[255,255,255,255,176,0,0,0,4,0,0,0,242,255,255,255,20,0,0,0,4,0,1,0,0,0,10,0,11,0,8,0,10,0,4,0,242,255,255,255,72,0,0,0,16,0,0,0,0,0,10,0,12,0,0,0,4,0,8,0,1,0,0,0,4,0,0,0,244,255,255,255,24,0,0,0,12,0,0,0,8,0,12,0,4,0,8,0,3,0,0,0,91,48,93,0,9,0,0,0,95,80,76,95,70,76,65,71,83,0,0,0,1,0,0,0,4,0,0,0,236,255,255,255,48,0,0,0,32,0,0,0,24,0,0,0,1,3,0,0,16,0,18,0,4,0,16,0,17,0,8,0,0,0,12,0,0,0,0,0,250,255,255,255,2,0,6,0,6,0,4,0,2,0,0,0,116,111,0,0,0,0,0,0,255,255,255,255,136,0,0,0,4,0,0,0,236,255,255,255,64,0,0,0,0,0,0,0,20,0,0,0,4,0,3,0,12,0,19,0,16,0,18,0,12,0,4,0,230,255,255,255,3,0,0,0,0,0,0,0,64,0,0,0,20,0,0,0,0,0,0,0,0,0,10,0,20,0,4,0,12,0,16,0,2,0,0,0,0,0,0,0,0,0,0,0,0,0,0,0,0,0,0,0,0,0,0,0,0,0,0,0,24,0,0,0,0,0,0,0,0,0,0,0,1,0,0,0,3,0,0,0,0,0,0,0,0,0,0,0,0,0,0,0,0,0,0,0,212,255,32,254,106,235,152,63,131,89,103,13,214,61,155,63,127,124,27,119,89,46,142,63,0,0,0,0,0,0,0,0,0,0,0,0,0,0,0,0,0,0,0,0,0,0,0,0,0,0,0,0,0,0,0,0,0,0,0,0,0,0,0,0,255,255,255,255,0,0,0,0]}},{\"Literal\":{\"Scalar\":{\"dtype\":\"Null\",\"value\":\"Null\"}}}],\"function\":{\"ReplaceStrict\":{\"return_dtype\":null}},\"options\":{\"check_lengths\":true,\"flags\":\"ALLOW_GROUP_AWARE | ROW_SEPARABLE | LENGTH_PRESERVING\"}}}']}],\n",
       " 'ensure_features_in': False,\n",
       " 'ensure_features_out': True,\n",
       " 'lowercase': True,\n",
       " 'uppercase': False}"
      ]
     },
     "execution_count": 13,
     "metadata": {},
     "output_type": "execute_result"
    }
   ],
   "source": [
    "pipe.to_dict()"
   ]
  },
  {
   "cell_type": "code",
   "execution_count": 14,
   "metadata": {},
   "outputs": [],
   "source": [
    "# To save the pipeline as JSON\n",
    "\n",
    "pipe.to_json(\"test.json\")\n",
    "pipe3 = Pipeline.from_json(\"test.json\")\n",
    "# True\n",
    "assert_frame_equal(df_transformed, pipe3.transform(df))"
   ]
  },
  {
   "cell_type": "markdown",
   "metadata": {},
   "source": [
    "# Combining Pipeline"
   ]
  },
  {
   "cell_type": "code",
   "execution_count": 15,
   "metadata": {},
   "outputs": [],
   "source": [
    "bp1 = (\n",
    "    Blueprint(df, name = \"example\", target = \"approved\", lowercase=True) \n",
    "    .append_expr(\n",
    "        # Add missing flags\n",
    "        pl.col(\"employer_category1\").is_null().cast(pl.UInt8).alias(\"employer_category1_is_missing\")\n",
    "    )\n",
    "    .one_hot_encode(\"gender\", drop_first=True)\n",
    "    .woe_encode(\"city_category\") # No need to specify target because we initialized bp with a target\n",
    "    .target_encode(\"employer_category1\", min_samples_leaf = 20, smoothing = 10.0) # same as above\n",
    ")\n",
    "pipe1 = bp1.materialize()"
   ]
  },
  {
   "cell_type": "code",
   "execution_count": 16,
   "metadata": {},
   "outputs": [
    {
     "data": {
      "text/html": [
       "<div><style>\n",
       ".dataframe > thead > tr,\n",
       ".dataframe > tbody > tr {\n",
       "  text-align: right;\n",
       "  white-space: pre-wrap;\n",
       "}\n",
       "</style>\n",
       "<small>shape: (69_713, 23)</small><table border=\"1\" class=\"dataframe\"><thead><tr><th>id</th><th>dob</th><th>lead_creation_date</th><th>city_code</th><th>city_category</th><th>employer_code</th><th>employer_category1</th><th>employer_category2</th><th>monthly_income</th><th>customer_existing_primary_bank_code</th><th>primary_bank_type</th><th>contacted</th><th>source</th><th>source_category</th><th>existing_emi</th><th>loan_amount</th><th>loan_period</th><th>interest_rate</th><th>emi</th><th>var1</th><th>approved</th><th>employer_category1_is_missing</th><th>gender_Male</th></tr><tr><td>str</td><td>str</td><td>str</td><td>str</td><td>f64</td><td>str</td><td>f64</td><td>i64</td><td>f64</td><td>str</td><td>str</td><td>str</td><td>str</td><td>str</td><td>f64</td><td>i64</td><td>i64</td><td>f64</td><td>i64</td><td>i64</td><td>i64</td><td>u8</td><td>u8</td></tr></thead><tbody><tr><td>&quot;APPC90493171225&quot;</td><td>&quot;23/07/79&quot;</td><td>&quot;15/07/16&quot;</td><td>&quot;C10001&quot;</td><td>0.114988</td><td>&quot;COM0044082&quot;</td><td>0.010829</td><td>4</td><td>2000.0</td><td>&quot;B001&quot;</td><td>&quot;P&quot;</td><td>&quot;N&quot;</td><td>&quot;S122&quot;</td><td>&quot;G&quot;</td><td>0.0</td><td>null</td><td>null</td><td>null</td><td>null</td><td>0</td><td>0</td><td>0</td><td>0</td></tr><tr><td>&quot;APPD40611263344&quot;</td><td>&quot;07/12/86&quot;</td><td>&quot;04/07/16&quot;</td><td>&quot;C10003&quot;</td><td>0.114988</td><td>&quot;COM0000002&quot;</td><td>0.021114</td><td>1</td><td>3500.0</td><td>&quot;B002&quot;</td><td>&quot;P&quot;</td><td>&quot;Y&quot;</td><td>&quot;S122&quot;</td><td>&quot;G&quot;</td><td>0.0</td><td>20000</td><td>2</td><td>13.25</td><td>953</td><td>10</td><td>0</td><td>0</td><td>1</td></tr><tr><td>&quot;APPE70289249423&quot;</td><td>&quot;10/12/82&quot;</td><td>&quot;19/07/16&quot;</td><td>&quot;C10125&quot;</td><td>-0.606987</td><td>&quot;COM0005267&quot;</td><td>0.021114</td><td>4</td><td>2250.0</td><td>&quot;B003&quot;</td><td>&quot;G&quot;</td><td>&quot;Y&quot;</td><td>&quot;S143&quot;</td><td>&quot;B&quot;</td><td>0.0</td><td>45000</td><td>4</td><td>null</td><td>null</td><td>0</td><td>0</td><td>0</td><td>1</td></tr><tr><td>&quot;APPF80273865537&quot;</td><td>&quot;30/01/89&quot;</td><td>&quot;09/07/16&quot;</td><td>&quot;C10477&quot;</td><td>-0.606987</td><td>&quot;COM0004143&quot;</td><td>0.010829</td><td>4</td><td>3500.0</td><td>&quot;B003&quot;</td><td>&quot;G&quot;</td><td>&quot;Y&quot;</td><td>&quot;S143&quot;</td><td>&quot;B&quot;</td><td>0.0</td><td>92000</td><td>5</td><td>null</td><td>null</td><td>7</td><td>0</td><td>0</td><td>1</td></tr><tr><td>&quot;APPG60994436641&quot;</td><td>&quot;19/04/85&quot;</td><td>&quot;20/07/16&quot;</td><td>&quot;C10002&quot;</td><td>0.114988</td><td>&quot;COM0001781&quot;</td><td>0.010829</td><td>4</td><td>10000.0</td><td>&quot;B001&quot;</td><td>&quot;P&quot;</td><td>&quot;Y&quot;</td><td>&quot;S134&quot;</td><td>&quot;B&quot;</td><td>2500.0</td><td>50000</td><td>2</td><td>null</td><td>null</td><td>10</td><td>0</td><td>0</td><td>1</td></tr><tr><td>&hellip;</td><td>&hellip;</td><td>&hellip;</td><td>&hellip;</td><td>&hellip;</td><td>&hellip;</td><td>&hellip;</td><td>&hellip;</td><td>&hellip;</td><td>&hellip;</td><td>&hellip;</td><td>&hellip;</td><td>&hellip;</td><td>&hellip;</td><td>&hellip;</td><td>&hellip;</td><td>&hellip;</td><td>&hellip;</td><td>&hellip;</td><td>&hellip;</td><td>&hellip;</td><td>&hellip;</td><td>&hellip;</td></tr><tr><td>&quot;APPU90955789628&quot;</td><td>&quot;31/07/83&quot;</td><td>&quot;30/09/16&quot;</td><td>&quot;C10006&quot;</td><td>0.114988</td><td>&quot;COM0000010&quot;</td><td>0.010829</td><td>1</td><td>4900.0</td><td>&quot;B002&quot;</td><td>&quot;P&quot;</td><td>&quot;N&quot;</td><td>&quot;S122&quot;</td><td>&quot;G&quot;</td><td>0.0</td><td>null</td><td>null</td><td>null</td><td>null</td><td>10</td><td>0</td><td>0</td><td>0</td></tr><tr><td>&quot;APPV80989824738&quot;</td><td>&quot;27/01/71&quot;</td><td>&quot;30/09/16&quot;</td><td>&quot;C10116&quot;</td><td>-0.606987</td><td>&quot;COM0045789&quot;</td><td>0.010829</td><td>4</td><td>7190.1</td><td>&quot;B002&quot;</td><td>&quot;P&quot;</td><td>&quot;N&quot;</td><td>&quot;S122&quot;</td><td>&quot;G&quot;</td><td>1450.0</td><td>null</td><td>null</td><td>null</td><td>null</td><td>7</td><td>0</td><td>0</td><td>0</td></tr><tr><td>&quot;APPW50697209842&quot;</td><td>&quot;01/02/92&quot;</td><td>&quot;30/09/16&quot;</td><td>&quot;C10022&quot;</td><td>-0.091923</td><td>&quot;COM0013284&quot;</td><td>0.021114</td><td>4</td><td>1600.0</td><td>&quot;B030&quot;</td><td>&quot;P&quot;</td><td>&quot;Y&quot;</td><td>&quot;S122&quot;</td><td>&quot;G&quot;</td><td>0.0</td><td>24000</td><td>4</td><td>35.5</td><td>943</td><td>2</td><td>0</td><td>0</td><td>0</td></tr><tr><td>&quot;APPY50870035036&quot;</td><td>&quot;27/06/78&quot;</td><td>&quot;30/09/16&quot;</td><td>&quot;C10002&quot;</td><td>0.114988</td><td>&quot;COM0000098&quot;</td><td>0.021114</td><td>3</td><td>9893.0</td><td>&quot;B002&quot;</td><td>&quot;P&quot;</td><td>&quot;Y&quot;</td><td>&quot;S122&quot;</td><td>&quot;G&quot;</td><td>1366.0</td><td>80000</td><td>5</td><td>null</td><td>null</td><td>10</td><td>0</td><td>0</td><td>1</td></tr><tr><td>&quot;APPZ60733046119&quot;</td><td>&quot;31/12/89&quot;</td><td>&quot;30/09/16&quot;</td><td>&quot;C10003&quot;</td><td>0.114988</td><td>&quot;COM0000056&quot;</td><td>0.010829</td><td>1</td><td>4230.0</td><td>null</td><td>null</td><td>&quot;Y&quot;</td><td>&quot;S122&quot;</td><td>&quot;G&quot;</td><td>0.0</td><td>69000</td><td>4</td><td>13.99</td><td>1885</td><td>10</td><td>0</td><td>0</td><td>1</td></tr></tbody></table></div>"
      ],
      "text/plain": [
       "shape: (69_713, 23)\n",
       "┌─────────────┬──────────┬─────────────┬───────────┬───┬──────┬──────────┬────────────┬────────────┐\n",
       "│ id          ┆ dob      ┆ lead_creati ┆ city_code ┆ … ┆ var1 ┆ approved ┆ employer_c ┆ gender_Mal │\n",
       "│ ---         ┆ ---      ┆ on_date     ┆ ---       ┆   ┆ ---  ┆ ---      ┆ ategory1_i ┆ e          │\n",
       "│ str         ┆ str      ┆ ---         ┆ str       ┆   ┆ i64  ┆ i64      ┆ s_missing  ┆ ---        │\n",
       "│             ┆          ┆ str         ┆           ┆   ┆      ┆          ┆ ---        ┆ u8         │\n",
       "│             ┆          ┆             ┆           ┆   ┆      ┆          ┆ u8         ┆            │\n",
       "╞═════════════╪══════════╪═════════════╪═══════════╪═══╪══════╪══════════╪════════════╪════════════╡\n",
       "│ APPC9049317 ┆ 23/07/79 ┆ 15/07/16    ┆ C10001    ┆ … ┆ 0    ┆ 0        ┆ 0          ┆ 0          │\n",
       "│ 1225        ┆          ┆             ┆           ┆   ┆      ┆          ┆            ┆            │\n",
       "│ APPD4061126 ┆ 07/12/86 ┆ 04/07/16    ┆ C10003    ┆ … ┆ 10   ┆ 0        ┆ 0          ┆ 1          │\n",
       "│ 3344        ┆          ┆             ┆           ┆   ┆      ┆          ┆            ┆            │\n",
       "│ APPE7028924 ┆ 10/12/82 ┆ 19/07/16    ┆ C10125    ┆ … ┆ 0    ┆ 0        ┆ 0          ┆ 1          │\n",
       "│ 9423        ┆          ┆             ┆           ┆   ┆      ┆          ┆            ┆            │\n",
       "│ APPF8027386 ┆ 30/01/89 ┆ 09/07/16    ┆ C10477    ┆ … ┆ 7    ┆ 0        ┆ 0          ┆ 1          │\n",
       "│ 5537        ┆          ┆             ┆           ┆   ┆      ┆          ┆            ┆            │\n",
       "│ APPG6099443 ┆ 19/04/85 ┆ 20/07/16    ┆ C10002    ┆ … ┆ 10   ┆ 0        ┆ 0          ┆ 1          │\n",
       "│ 6641        ┆          ┆             ┆           ┆   ┆      ┆          ┆            ┆            │\n",
       "│ …           ┆ …        ┆ …           ┆ …         ┆ … ┆ …    ┆ …        ┆ …          ┆ …          │\n",
       "│ APPU9095578 ┆ 31/07/83 ┆ 30/09/16    ┆ C10006    ┆ … ┆ 10   ┆ 0        ┆ 0          ┆ 0          │\n",
       "│ 9628        ┆          ┆             ┆           ┆   ┆      ┆          ┆            ┆            │\n",
       "│ APPV8098982 ┆ 27/01/71 ┆ 30/09/16    ┆ C10116    ┆ … ┆ 7    ┆ 0        ┆ 0          ┆ 0          │\n",
       "│ 4738        ┆          ┆             ┆           ┆   ┆      ┆          ┆            ┆            │\n",
       "│ APPW5069720 ┆ 01/02/92 ┆ 30/09/16    ┆ C10022    ┆ … ┆ 2    ┆ 0        ┆ 0          ┆ 0          │\n",
       "│ 9842        ┆          ┆             ┆           ┆   ┆      ┆          ┆            ┆            │\n",
       "│ APPY5087003 ┆ 27/06/78 ┆ 30/09/16    ┆ C10002    ┆ … ┆ 10   ┆ 0        ┆ 0          ┆ 1          │\n",
       "│ 5036        ┆          ┆             ┆           ┆   ┆      ┆          ┆            ┆            │\n",
       "│ APPZ6073304 ┆ 31/12/89 ┆ 30/09/16    ┆ C10003    ┆ … ┆ 10   ┆ 0        ┆ 0          ┆ 1          │\n",
       "│ 6119        ┆          ┆             ┆           ┆   ┆      ┆          ┆            ┆            │\n",
       "└─────────────┴──────────┴─────────────┴───────────┴───┴──────┴──────────┴────────────┴────────────┘"
      ]
     },
     "execution_count": 16,
     "metadata": {},
     "output_type": "execute_result"
    }
   ],
   "source": [
    "pipe1.transform(df)"
   ]
  },
  {
   "cell_type": "code",
   "execution_count": 17,
   "metadata": {},
   "outputs": [],
   "source": [
    "bp2 = (\n",
    "    Blueprint(df, target = \"approved\", lowercase=True)\n",
    "    .impute([\"existing_emi\"], method = \"median\")\n",
    "    .append_expr( # generate some features\n",
    "        pl.col(\"existing_emi\").log1p().alias(\"existing_emi_log1p\"),\n",
    "        pl.col(\"loan_amount\").log1p().alias(\"loan_amount_log1p\"),\n",
    "    )\n",
    ")\n",
    "pipe2 = bp2.materialize()"
   ]
  },
  {
   "cell_type": "code",
   "execution_count": 18,
   "metadata": {},
   "outputs": [],
   "source": [
    "pipe1.append_pipeline(pipe2)"
   ]
  },
  {
   "cell_type": "code",
   "execution_count": 19,
   "metadata": {},
   "outputs": [
    {
     "data": {
      "text/html": [
       "<div><style>\n",
       ".dataframe > thead > tr,\n",
       ".dataframe > tbody > tr {\n",
       "  text-align: right;\n",
       "  white-space: pre-wrap;\n",
       "}\n",
       "</style>\n",
       "<small>shape: (69_713, 25)</small><table border=\"1\" class=\"dataframe\"><thead><tr><th>id</th><th>dob</th><th>lead_creation_date</th><th>city_code</th><th>city_category</th><th>employer_code</th><th>employer_category1</th><th>employer_category2</th><th>monthly_income</th><th>customer_existing_primary_bank_code</th><th>primary_bank_type</th><th>contacted</th><th>source</th><th>source_category</th><th>existing_emi</th><th>loan_amount</th><th>loan_period</th><th>interest_rate</th><th>emi</th><th>var1</th><th>approved</th><th>employer_category1_is_missing</th><th>gender_Male</th><th>existing_emi_log1p</th><th>loan_amount_log1p</th></tr><tr><td>str</td><td>str</td><td>str</td><td>str</td><td>f64</td><td>str</td><td>f64</td><td>i64</td><td>f64</td><td>str</td><td>str</td><td>str</td><td>str</td><td>str</td><td>f64</td><td>i64</td><td>i64</td><td>f64</td><td>i64</td><td>i64</td><td>i64</td><td>u8</td><td>u8</td><td>f64</td><td>f64</td></tr></thead><tbody><tr><td>&quot;APPC90493171225&quot;</td><td>&quot;23/07/79&quot;</td><td>&quot;15/07/16&quot;</td><td>&quot;C10001&quot;</td><td>0.114988</td><td>&quot;COM0044082&quot;</td><td>0.010829</td><td>4</td><td>2000.0</td><td>&quot;B001&quot;</td><td>&quot;P&quot;</td><td>&quot;N&quot;</td><td>&quot;S122&quot;</td><td>&quot;G&quot;</td><td>0.0</td><td>null</td><td>null</td><td>null</td><td>null</td><td>0</td><td>0</td><td>0</td><td>0</td><td>0.0</td><td>null</td></tr><tr><td>&quot;APPD40611263344&quot;</td><td>&quot;07/12/86&quot;</td><td>&quot;04/07/16&quot;</td><td>&quot;C10003&quot;</td><td>0.114988</td><td>&quot;COM0000002&quot;</td><td>0.021114</td><td>1</td><td>3500.0</td><td>&quot;B002&quot;</td><td>&quot;P&quot;</td><td>&quot;Y&quot;</td><td>&quot;S122&quot;</td><td>&quot;G&quot;</td><td>0.0</td><td>20000</td><td>2</td><td>13.25</td><td>953</td><td>10</td><td>0</td><td>0</td><td>1</td><td>0.0</td><td>9.903538</td></tr><tr><td>&quot;APPE70289249423&quot;</td><td>&quot;10/12/82&quot;</td><td>&quot;19/07/16&quot;</td><td>&quot;C10125&quot;</td><td>-0.606987</td><td>&quot;COM0005267&quot;</td><td>0.021114</td><td>4</td><td>2250.0</td><td>&quot;B003&quot;</td><td>&quot;G&quot;</td><td>&quot;Y&quot;</td><td>&quot;S143&quot;</td><td>&quot;B&quot;</td><td>0.0</td><td>45000</td><td>4</td><td>null</td><td>null</td><td>0</td><td>0</td><td>0</td><td>1</td><td>0.0</td><td>10.71444</td></tr><tr><td>&quot;APPF80273865537&quot;</td><td>&quot;30/01/89&quot;</td><td>&quot;09/07/16&quot;</td><td>&quot;C10477&quot;</td><td>-0.606987</td><td>&quot;COM0004143&quot;</td><td>0.010829</td><td>4</td><td>3500.0</td><td>&quot;B003&quot;</td><td>&quot;G&quot;</td><td>&quot;Y&quot;</td><td>&quot;S143&quot;</td><td>&quot;B&quot;</td><td>0.0</td><td>92000</td><td>5</td><td>null</td><td>null</td><td>7</td><td>0</td><td>0</td><td>1</td><td>0.0</td><td>11.429555</td></tr><tr><td>&quot;APPG60994436641&quot;</td><td>&quot;19/04/85&quot;</td><td>&quot;20/07/16&quot;</td><td>&quot;C10002&quot;</td><td>0.114988</td><td>&quot;COM0001781&quot;</td><td>0.010829</td><td>4</td><td>10000.0</td><td>&quot;B001&quot;</td><td>&quot;P&quot;</td><td>&quot;Y&quot;</td><td>&quot;S134&quot;</td><td>&quot;B&quot;</td><td>2500.0</td><td>50000</td><td>2</td><td>null</td><td>null</td><td>10</td><td>0</td><td>0</td><td>1</td><td>7.824446</td><td>10.819798</td></tr><tr><td>&hellip;</td><td>&hellip;</td><td>&hellip;</td><td>&hellip;</td><td>&hellip;</td><td>&hellip;</td><td>&hellip;</td><td>&hellip;</td><td>&hellip;</td><td>&hellip;</td><td>&hellip;</td><td>&hellip;</td><td>&hellip;</td><td>&hellip;</td><td>&hellip;</td><td>&hellip;</td><td>&hellip;</td><td>&hellip;</td><td>&hellip;</td><td>&hellip;</td><td>&hellip;</td><td>&hellip;</td><td>&hellip;</td><td>&hellip;</td><td>&hellip;</td></tr><tr><td>&quot;APPU90955789628&quot;</td><td>&quot;31/07/83&quot;</td><td>&quot;30/09/16&quot;</td><td>&quot;C10006&quot;</td><td>0.114988</td><td>&quot;COM0000010&quot;</td><td>0.010829</td><td>1</td><td>4900.0</td><td>&quot;B002&quot;</td><td>&quot;P&quot;</td><td>&quot;N&quot;</td><td>&quot;S122&quot;</td><td>&quot;G&quot;</td><td>0.0</td><td>null</td><td>null</td><td>null</td><td>null</td><td>10</td><td>0</td><td>0</td><td>0</td><td>0.0</td><td>null</td></tr><tr><td>&quot;APPV80989824738&quot;</td><td>&quot;27/01/71&quot;</td><td>&quot;30/09/16&quot;</td><td>&quot;C10116&quot;</td><td>-0.606987</td><td>&quot;COM0045789&quot;</td><td>0.010829</td><td>4</td><td>7190.1</td><td>&quot;B002&quot;</td><td>&quot;P&quot;</td><td>&quot;N&quot;</td><td>&quot;S122&quot;</td><td>&quot;G&quot;</td><td>1450.0</td><td>null</td><td>null</td><td>null</td><td>null</td><td>7</td><td>0</td><td>0</td><td>0</td><td>7.280008</td><td>null</td></tr><tr><td>&quot;APPW50697209842&quot;</td><td>&quot;01/02/92&quot;</td><td>&quot;30/09/16&quot;</td><td>&quot;C10022&quot;</td><td>-0.091923</td><td>&quot;COM0013284&quot;</td><td>0.021114</td><td>4</td><td>1600.0</td><td>&quot;B030&quot;</td><td>&quot;P&quot;</td><td>&quot;Y&quot;</td><td>&quot;S122&quot;</td><td>&quot;G&quot;</td><td>0.0</td><td>24000</td><td>4</td><td>35.5</td><td>943</td><td>2</td><td>0</td><td>0</td><td>0</td><td>0.0</td><td>10.085851</td></tr><tr><td>&quot;APPY50870035036&quot;</td><td>&quot;27/06/78&quot;</td><td>&quot;30/09/16&quot;</td><td>&quot;C10002&quot;</td><td>0.114988</td><td>&quot;COM0000098&quot;</td><td>0.021114</td><td>3</td><td>9893.0</td><td>&quot;B002&quot;</td><td>&quot;P&quot;</td><td>&quot;Y&quot;</td><td>&quot;S122&quot;</td><td>&quot;G&quot;</td><td>1366.0</td><td>80000</td><td>5</td><td>null</td><td>null</td><td>10</td><td>0</td><td>0</td><td>1</td><td>7.220374</td><td>11.289794</td></tr><tr><td>&quot;APPZ60733046119&quot;</td><td>&quot;31/12/89&quot;</td><td>&quot;30/09/16&quot;</td><td>&quot;C10003&quot;</td><td>0.114988</td><td>&quot;COM0000056&quot;</td><td>0.010829</td><td>1</td><td>4230.0</td><td>null</td><td>null</td><td>&quot;Y&quot;</td><td>&quot;S122&quot;</td><td>&quot;G&quot;</td><td>0.0</td><td>69000</td><td>4</td><td>13.99</td><td>1885</td><td>10</td><td>0</td><td>0</td><td>1</td><td>0.0</td><td>11.141876</td></tr></tbody></table></div>"
      ],
      "text/plain": [
       "shape: (69_713, 25)\n",
       "┌───────────┬──────────┬───────────┬───────────┬───┬───────────┬───────────┬───────────┬───────────┐\n",
       "│ id        ┆ dob      ┆ lead_crea ┆ city_code ┆ … ┆ employer_ ┆ gender_Ma ┆ existing_ ┆ loan_amou │\n",
       "│ ---       ┆ ---      ┆ tion_date ┆ ---       ┆   ┆ category1 ┆ le        ┆ emi_log1p ┆ nt_log1p  │\n",
       "│ str       ┆ str      ┆ ---       ┆ str       ┆   ┆ _is_missi ┆ ---       ┆ ---       ┆ ---       │\n",
       "│           ┆          ┆ str       ┆           ┆   ┆ ng        ┆ u8        ┆ f64       ┆ f64       │\n",
       "│           ┆          ┆           ┆           ┆   ┆ ---       ┆           ┆           ┆           │\n",
       "│           ┆          ┆           ┆           ┆   ┆ u8        ┆           ┆           ┆           │\n",
       "╞═══════════╪══════════╪═══════════╪═══════════╪═══╪═══════════╪═══════════╪═══════════╪═══════════╡\n",
       "│ APPC90493 ┆ 23/07/79 ┆ 15/07/16  ┆ C10001    ┆ … ┆ 0         ┆ 0         ┆ 0.0       ┆ null      │\n",
       "│ 171225    ┆          ┆           ┆           ┆   ┆           ┆           ┆           ┆           │\n",
       "│ APPD40611 ┆ 07/12/86 ┆ 04/07/16  ┆ C10003    ┆ … ┆ 0         ┆ 1         ┆ 0.0       ┆ 9.903538  │\n",
       "│ 263344    ┆          ┆           ┆           ┆   ┆           ┆           ┆           ┆           │\n",
       "│ APPE70289 ┆ 10/12/82 ┆ 19/07/16  ┆ C10125    ┆ … ┆ 0         ┆ 1         ┆ 0.0       ┆ 10.71444  │\n",
       "│ 249423    ┆          ┆           ┆           ┆   ┆           ┆           ┆           ┆           │\n",
       "│ APPF80273 ┆ 30/01/89 ┆ 09/07/16  ┆ C10477    ┆ … ┆ 0         ┆ 1         ┆ 0.0       ┆ 11.429555 │\n",
       "│ 865537    ┆          ┆           ┆           ┆   ┆           ┆           ┆           ┆           │\n",
       "│ APPG60994 ┆ 19/04/85 ┆ 20/07/16  ┆ C10002    ┆ … ┆ 0         ┆ 1         ┆ 7.824446  ┆ 10.819798 │\n",
       "│ 436641    ┆          ┆           ┆           ┆   ┆           ┆           ┆           ┆           │\n",
       "│ …         ┆ …        ┆ …         ┆ …         ┆ … ┆ …         ┆ …         ┆ …         ┆ …         │\n",
       "│ APPU90955 ┆ 31/07/83 ┆ 30/09/16  ┆ C10006    ┆ … ┆ 0         ┆ 0         ┆ 0.0       ┆ null      │\n",
       "│ 789628    ┆          ┆           ┆           ┆   ┆           ┆           ┆           ┆           │\n",
       "│ APPV80989 ┆ 27/01/71 ┆ 30/09/16  ┆ C10116    ┆ … ┆ 0         ┆ 0         ┆ 7.280008  ┆ null      │\n",
       "│ 824738    ┆          ┆           ┆           ┆   ┆           ┆           ┆           ┆           │\n",
       "│ APPW50697 ┆ 01/02/92 ┆ 30/09/16  ┆ C10022    ┆ … ┆ 0         ┆ 0         ┆ 0.0       ┆ 10.085851 │\n",
       "│ 209842    ┆          ┆           ┆           ┆   ┆           ┆           ┆           ┆           │\n",
       "│ APPY50870 ┆ 27/06/78 ┆ 30/09/16  ┆ C10002    ┆ … ┆ 0         ┆ 1         ┆ 7.220374  ┆ 11.289794 │\n",
       "│ 035036    ┆          ┆           ┆           ┆   ┆           ┆           ┆           ┆           │\n",
       "│ APPZ60733 ┆ 31/12/89 ┆ 30/09/16  ┆ C10003    ┆ … ┆ 0         ┆ 1         ┆ 0.0       ┆ 11.141876 │\n",
       "│ 046119    ┆          ┆           ┆           ┆   ┆           ┆           ┆           ┆           │\n",
       "└───────────┴──────────┴───────────┴───────────┴───┴───────────┴───────────┴───────────┴───────────┘"
      ]
     },
     "execution_count": 19,
     "metadata": {},
     "output_type": "execute_result"
    }
   ],
   "source": [
    "pipe1.transform(df)"
   ]
  },
  {
   "cell_type": "markdown",
   "metadata": {},
   "source": [
    "# Custom Tranformations in Pipeline\n",
    "\n",
    "Need version >= v0.4.6 (Not released yet)"
   ]
  },
  {
   "cell_type": "code",
   "execution_count": 20,
   "metadata": {},
   "outputs": [
    {
     "data": {
      "text/html": [
       "<div><style>\n",
       ".dataframe > thead > tr,\n",
       ".dataframe > tbody > tr {\n",
       "  text-align: right;\n",
       "  white-space: pre-wrap;\n",
       "}\n",
       "</style>\n",
       "<small>shape: (5, 22)</small><table border=\"1\" class=\"dataframe\"><thead><tr><th>ID</th><th>Gender</th><th>DOB</th><th>Lead_Creation_Date</th><th>City_Code</th><th>City_Category</th><th>Employer_Code</th><th>Employer_Category1</th><th>Employer_Category2</th><th>Monthly_Income</th><th>Customer_Existing_Primary_Bank_Code</th><th>Primary_Bank_Type</th><th>Contacted</th><th>Source</th><th>Source_Category</th><th>Existing_EMI</th><th>Loan_Amount</th><th>Loan_Period</th><th>Interest_Rate</th><th>EMI</th><th>Var1</th><th>Approved</th></tr><tr><td>str</td><td>str</td><td>str</td><td>str</td><td>str</td><td>str</td><td>str</td><td>str</td><td>i64</td><td>f64</td><td>str</td><td>str</td><td>str</td><td>str</td><td>str</td><td>f64</td><td>i64</td><td>i64</td><td>f64</td><td>i64</td><td>i64</td><td>i64</td></tr></thead><tbody><tr><td>&quot;APPC90493171225&quot;</td><td>&quot;Female&quot;</td><td>&quot;23/07/79&quot;</td><td>&quot;15/07/16&quot;</td><td>&quot;C10001&quot;</td><td>&quot;A&quot;</td><td>&quot;COM0044082&quot;</td><td>&quot;A&quot;</td><td>4</td><td>2000.0</td><td>&quot;B001&quot;</td><td>&quot;P&quot;</td><td>&quot;N&quot;</td><td>&quot;S122&quot;</td><td>&quot;G&quot;</td><td>0.0</td><td>null</td><td>null</td><td>null</td><td>null</td><td>0</td><td>0</td></tr><tr><td>&quot;APPD40611263344&quot;</td><td>&quot;Male&quot;</td><td>&quot;07/12/86&quot;</td><td>&quot;04/07/16&quot;</td><td>&quot;C10003&quot;</td><td>&quot;A&quot;</td><td>&quot;COM0000002&quot;</td><td>&quot;C&quot;</td><td>1</td><td>3500.0</td><td>&quot;B002&quot;</td><td>&quot;P&quot;</td><td>&quot;Y&quot;</td><td>&quot;S122&quot;</td><td>&quot;G&quot;</td><td>0.0</td><td>20000</td><td>2</td><td>13.25</td><td>953</td><td>10</td><td>0</td></tr><tr><td>&quot;APPE70289249423&quot;</td><td>&quot;Male&quot;</td><td>&quot;10/12/82&quot;</td><td>&quot;19/07/16&quot;</td><td>&quot;C10125&quot;</td><td>&quot;C&quot;</td><td>&quot;COM0005267&quot;</td><td>&quot;C&quot;</td><td>4</td><td>2250.0</td><td>&quot;B003&quot;</td><td>&quot;G&quot;</td><td>&quot;Y&quot;</td><td>&quot;S143&quot;</td><td>&quot;B&quot;</td><td>0.0</td><td>45000</td><td>4</td><td>null</td><td>null</td><td>0</td><td>0</td></tr><tr><td>&quot;APPF80273865537&quot;</td><td>&quot;Male&quot;</td><td>&quot;30/01/89&quot;</td><td>&quot;09/07/16&quot;</td><td>&quot;C10477&quot;</td><td>&quot;C&quot;</td><td>&quot;COM0004143&quot;</td><td>&quot;A&quot;</td><td>4</td><td>3500.0</td><td>&quot;B003&quot;</td><td>&quot;G&quot;</td><td>&quot;Y&quot;</td><td>&quot;S143&quot;</td><td>&quot;B&quot;</td><td>0.0</td><td>92000</td><td>5</td><td>null</td><td>null</td><td>7</td><td>0</td></tr><tr><td>&quot;APPG60994436641&quot;</td><td>&quot;Male&quot;</td><td>&quot;19/04/85&quot;</td><td>&quot;20/07/16&quot;</td><td>&quot;C10002&quot;</td><td>&quot;A&quot;</td><td>&quot;COM0001781&quot;</td><td>&quot;A&quot;</td><td>4</td><td>10000.0</td><td>&quot;B001&quot;</td><td>&quot;P&quot;</td><td>&quot;Y&quot;</td><td>&quot;S134&quot;</td><td>&quot;B&quot;</td><td>2500.0</td><td>50000</td><td>2</td><td>null</td><td>null</td><td>10</td><td>0</td></tr></tbody></table></div>"
      ],
      "text/plain": [
       "shape: (5, 22)\n",
       "┌────────────────┬────────┬──────────┬────────────────┬───┬───────────────┬──────┬──────┬──────────┐\n",
       "│ ID             ┆ Gender ┆ DOB      ┆ Lead_Creation_ ┆ … ┆ Interest_Rate ┆ EMI  ┆ Var1 ┆ Approved │\n",
       "│ ---            ┆ ---    ┆ ---      ┆ Date           ┆   ┆ ---           ┆ ---  ┆ ---  ┆ ---      │\n",
       "│ str            ┆ str    ┆ str      ┆ ---            ┆   ┆ f64           ┆ i64  ┆ i64  ┆ i64      │\n",
       "│                ┆        ┆          ┆ str            ┆   ┆               ┆      ┆      ┆          │\n",
       "╞════════════════╪════════╪══════════╪════════════════╪═══╪═══════════════╪══════╪══════╪══════════╡\n",
       "│ APPC9049317122 ┆ Female ┆ 23/07/79 ┆ 15/07/16       ┆ … ┆ null          ┆ null ┆ 0    ┆ 0        │\n",
       "│ 5              ┆        ┆          ┆                ┆   ┆               ┆      ┆      ┆          │\n",
       "│ APPD4061126334 ┆ Male   ┆ 07/12/86 ┆ 04/07/16       ┆ … ┆ 13.25         ┆ 953  ┆ 10   ┆ 0        │\n",
       "│ 4              ┆        ┆          ┆                ┆   ┆               ┆      ┆      ┆          │\n",
       "│ APPE7028924942 ┆ Male   ┆ 10/12/82 ┆ 19/07/16       ┆ … ┆ null          ┆ null ┆ 0    ┆ 0        │\n",
       "│ 3              ┆        ┆          ┆                ┆   ┆               ┆      ┆      ┆          │\n",
       "│ APPF8027386553 ┆ Male   ┆ 30/01/89 ┆ 09/07/16       ┆ … ┆ null          ┆ null ┆ 7    ┆ 0        │\n",
       "│ 7              ┆        ┆          ┆                ┆   ┆               ┆      ┆      ┆          │\n",
       "│ APPG6099443664 ┆ Male   ┆ 19/04/85 ┆ 20/07/16       ┆ … ┆ null          ┆ null ┆ 10   ┆ 0        │\n",
       "│ 1              ┆        ┆          ┆                ┆   ┆               ┆      ┆      ┆          │\n",
       "└────────────────┴────────┴──────────┴────────────────┴───┴───────────────┴──────┴──────┴──────────┘"
      ]
     },
     "execution_count": 20,
     "metadata": {},
     "output_type": "execute_result"
    }
   ],
   "source": [
    "df = pl.read_parquet(\"../examples/dependency.parquet\")\n",
    "df.head()"
   ]
  },
  {
   "cell_type": "code",
   "execution_count": 21,
   "metadata": {},
   "outputs": [],
   "source": [
    "from typing import Union, List\n",
    "\n",
    "# Any custom function must satistfy the following function signature:\n",
    "# func(df:Union[pl.DataFrame, pl.LazyFrame], cols: List[str], ...) -> List[pl.Expr]\n",
    "# where ... means kwargs\n",
    "# Here is a custom imputer\n",
    "\n",
    "def smallest_abs_impute(df:Union[pl.DataFrame, pl.LazyFrame], cols: List[str], epsilon:float = 0.01) -> List[pl.Expr]:\n",
    "    \"\"\"\n",
    "    Imputes columns by the min of the absolute values for c in columns, plus epsilon.\n",
    "    \"\"\"\n",
    "    temp = df.lazy().select(pl.col(cols).abs().min() + epsilon).collect().row(0)\n",
    "    return [pl.col(c).fill_null(m) for c, m in zip(cols, temp)]\n"
   ]
  },
  {
   "cell_type": "code",
   "execution_count": 22,
   "metadata": {},
   "outputs": [
    {
     "data": {
      "text/plain": [
       "Naive Query Steps: \n",
       "\n",
       "Step 1:\n",
       "col(\"var1\").fill_null([dyn float: 0.5]),\n",
       "col(\"existing_emi\").fill_null([dyn float: 0.5]),\n",
       "col(\"loan_amount\").fill_null([dyn float: 5000.5])\n"
      ]
     },
     "execution_count": 22,
     "metadata": {},
     "output_type": "execute_result"
    }
   ],
   "source": [
    "bp = (\n",
    "    Blueprint(df, name = \"example\", target = \"approved\", lowercase=True)\n",
    "    .append_fit_func(smallest_abs_impute, [\"var1\", \"existing_emi\", \"loan_amount\"], epsilon = 0.5)\n",
    "    # Use append_fit_func for custom transforms\n",
    ")\n",
    "# Notice that the value to impute is correct, it is 0.5, because the min abs of the columns are 0.\n",
    "pipe:Pipeline = bp.materialize()\n",
    "pipe"
   ]
  },
  {
   "cell_type": "code",
   "execution_count": 23,
   "metadata": {},
   "outputs": [
    {
     "data": {
      "text/html": [
       "<div><style>\n",
       ".dataframe > thead > tr,\n",
       ".dataframe > tbody > tr {\n",
       "  text-align: right;\n",
       "  white-space: pre-wrap;\n",
       "}\n",
       "</style>\n",
       "<small>shape: (1, 3)</small><table border=\"1\" class=\"dataframe\"><thead><tr><th>var1</th><th>existing_emi</th><th>loan_amount</th></tr><tr><td>u32</td><td>u32</td><td>u32</td></tr></thead><tbody><tr><td>0</td><td>0</td><td>0</td></tr></tbody></table></div>"
      ],
      "text/plain": [
       "shape: (1, 3)\n",
       "┌──────┬──────────────┬─────────────┐\n",
       "│ var1 ┆ existing_emi ┆ loan_amount │\n",
       "│ ---  ┆ ---          ┆ ---         │\n",
       "│ u32  ┆ u32          ┆ u32         │\n",
       "╞══════╪══════════════╪═════════════╡\n",
       "│ 0    ┆ 0            ┆ 0           │\n",
       "└──────┴──────────────┴─────────────┘"
      ]
     },
     "execution_count": 23,
     "metadata": {},
     "output_type": "execute_result"
    }
   ],
   "source": [
    "pipe.transform(df).null_count().select([\"var1\", \"existing_emi\", \"loan_amount\"])"
   ]
  },
  {
   "cell_type": "code",
   "execution_count": null,
   "metadata": {},
   "outputs": [],
   "source": []
  },
  {
   "cell_type": "markdown",
   "metadata": {},
   "source": [
    "# Scriptable Steps in Pipeline\n",
    "\n",
    "What is a scriptable step? It means we can encode steps in a json or yaml file easily. As long as we can turn the text into \n",
    "a valid Python dictionary, the step (the transformation) can be defined."
   ]
  },
  {
   "cell_type": "code",
   "execution_count": 24,
   "metadata": {},
   "outputs": [
    {
     "data": {
      "text/html": [
       "<div><style>\n",
       ".dataframe > thead > tr,\n",
       ".dataframe > tbody > tr {\n",
       "  text-align: right;\n",
       "  white-space: pre-wrap;\n",
       "}\n",
       "</style>\n",
       "<small>shape: (1, 1)</small><table border=\"1\" class=\"dataframe\"><thead><tr><th>Existing_EMI</th></tr><tr><td>u32</td></tr></thead><tbody><tr><td>51</td></tr></tbody></table></div>"
      ],
      "text/plain": [
       "shape: (1, 1)\n",
       "┌──────────────┐\n",
       "│ Existing_EMI │\n",
       "│ ---          │\n",
       "│ u32          │\n",
       "╞══════════════╡\n",
       "│ 51           │\n",
       "└──────────────┘"
      ]
     },
     "execution_count": 24,
     "metadata": {},
     "output_type": "execute_result"
    }
   ],
   "source": [
    "df.select(\n",
    "    pl.col(\"Existing_EMI\").null_count() \n",
    ")"
   ]
  },
  {
   "cell_type": "code",
   "execution_count": 25,
   "metadata": {},
   "outputs": [
    {
     "data": {
      "text/html": [
       "<div><style>\n",
       ".dataframe > thead > tr,\n",
       ".dataframe > tbody > tr {\n",
       "  text-align: right;\n",
       "  white-space: pre-wrap;\n",
       "}\n",
       "</style>\n",
       "<small>shape: (1, 1)</small><table border=\"1\" class=\"dataframe\"><thead><tr><th>Existing_EMI</th></tr><tr><td>u32</td></tr></thead><tbody><tr><td>0</td></tr></tbody></table></div>"
      ],
      "text/plain": [
       "shape: (1, 1)\n",
       "┌──────────────┐\n",
       "│ Existing_EMI │\n",
       "│ ---          │\n",
       "│ u32          │\n",
       "╞══════════════╡\n",
       "│ 0            │\n",
       "└──────────────┘"
      ]
     },
     "execution_count": 25,
     "metadata": {},
     "output_type": "execute_result"
    }
   ],
   "source": [
    "bp = Blueprint(df, name = \"example\", target = \"approved\")\n",
    "\n",
    "# Takes in a dict with 3 fields: `name`, `args`, and `kwargs`. \n",
    "# Args and kwargs are optional depending on whether the method call needs certain arguments.\n",
    "step_dict_1 = {\n",
    "    \"name\": \"impute\",\n",
    "    \"kwargs\": {\"cols\": [\"Existing_EMI\"], \"method\": \"median\"} \n",
    "}\n",
    "\n",
    "step_dict_2 = {\n",
    "    \"name\": \"does_not_exist\",\n",
    "    \"kwargs\": {\"test\": 1} \n",
    "}\n",
    "\n",
    "# filter_step = {\n",
    "#     \"name\": \"filter\",\n",
    "#     \"args\": [\"Employer_Category1 is not null\"]\n",
    "# }\n",
    "\n",
    "bp.append_step_from_dict(\n",
    "    step_dict_1\n",
    ")\n",
    "\n",
    "# .append_step_from_dict(\n",
    "#     filter_step\n",
    "# )\n",
    "\n",
    "# bp.append_step_from_dict(step_dict_2) # Will error\n",
    "pipe = bp.materialize()\n",
    "# \n",
    "df_transformed = pipe.transform(df)\n",
    "df_transformed.select(\n",
    "    pl.col(\"Existing_EMI\").null_count() # Imputed. So 0\n",
    ")"
   ]
  },
  {
   "cell_type": "markdown",
   "metadata": {},
   "source": [
    "# Custom Transforms as a Scriptable Step in Pipeline\n",
    "\n",
    "You need to inherit the blueprint class. Once the blueprint is materialized (learned). You do not need this class any more, because the \"learned\" info should all be encoded as Polars expressions"
   ]
  },
  {
   "cell_type": "code",
   "execution_count": 26,
   "metadata": {},
   "outputs": [],
   "source": [
    "from polars_ds.modeling import Blueprint, FitStep\n",
    "from typing import Union, List\n",
    "\n",
    "from functools import partial\n",
    "\n",
    "def smallest_abs_impute(df:Union[pl.DataFrame, pl.LazyFrame], cols: List[str], epsilon:float = 0.01) -> List[pl.Expr]:\n",
    "    \"\"\"\n",
    "    Imputes columns by the min of the absolute values for c in columns, plus epsilon.\n",
    "    \"\"\"\n",
    "    temp = df.lazy().select(pl.col(cols).abs().min() + epsilon).collect().row(0)\n",
    "    return [pl.col(c).fill_null(m).name.suffix(\"_imputed\") for c, m in zip(cols, temp)]\n",
    "\n",
    "class ExtendedBlueprint(Blueprint):\n",
    "\n",
    "    def __init__(self, *args, **kwargs):\n",
    "        super().__init__(*args, **kwargs)\n",
    "\n",
    "    def smallest_abs_impute(self, cols: List[str], epsilon:float = 0.01) -> \"ExtendedBlueprint\":\n",
    "        # bind all arguments, except df and cols.\n",
    "        # If you don't want to use partial from functool, you can define an inner function\n",
    "        partial_func = partial(smallest_abs_impute, epsilon=epsilon)\n",
    "        self._steps.append(\n",
    "            FitStep(partial_func, cols, self.exclude)\n",
    "        )\n",
    "        return self\n",
    "\n",
    "    def smallest_abs_impute2(self, cols: List[str], epsilon:float = 0.01) -> \"ExtendedBlueprint\":\n",
    "        # bind all arguments, except df and cols.\n",
    "        # Example of using an inner function\n",
    "        def inner_func(df:Union[pl.DataFrame, pl.LazyFrame], cols: List[str]) -> List[pl.Expr]:\n",
    "            temp = df.lazy().select(pl.col(cols).abs().min() + epsilon).collect().row(0)\n",
    "            return [pl.col(c).fill_null(m).name.suffix(\"_imputed2\") for c, m in zip(cols, temp)]\n",
    "\n",
    "        self._steps.append(\n",
    "            FitStep(inner_func, cols, self.exclude)\n",
    "        )\n",
    "        return self\n"
   ]
  },
  {
   "cell_type": "code",
   "execution_count": 27,
   "metadata": {},
   "outputs": [
    {
     "data": {
      "text/html": [
       "<div><style>\n",
       ".dataframe > thead > tr,\n",
       ".dataframe > tbody > tr {\n",
       "  text-align: right;\n",
       "  white-space: pre-wrap;\n",
       "}\n",
       "</style>\n",
       "<small>shape: (51, 4)</small><table border=\"1\" class=\"dataframe\"><thead><tr><th>Existing_EMI</th><th>Existing_EMI_imputed</th><th>Existing_EMI_imputed2</th><th>impute_value</th></tr><tr><td>f64</td><td>f64</td><td>f64</td><td>f64</td></tr></thead><tbody><tr><td>null</td><td>0.01</td><td>0.01</td><td>0.01</td></tr><tr><td>null</td><td>0.01</td><td>0.01</td><td>0.01</td></tr><tr><td>null</td><td>0.01</td><td>0.01</td><td>0.01</td></tr><tr><td>null</td><td>0.01</td><td>0.01</td><td>0.01</td></tr><tr><td>null</td><td>0.01</td><td>0.01</td><td>0.01</td></tr><tr><td>&hellip;</td><td>&hellip;</td><td>&hellip;</td><td>&hellip;</td></tr><tr><td>null</td><td>0.01</td><td>0.01</td><td>0.01</td></tr><tr><td>null</td><td>0.01</td><td>0.01</td><td>0.01</td></tr><tr><td>null</td><td>0.01</td><td>0.01</td><td>0.01</td></tr><tr><td>null</td><td>0.01</td><td>0.01</td><td>0.01</td></tr><tr><td>null</td><td>0.01</td><td>0.01</td><td>0.01</td></tr></tbody></table></div>"
      ],
      "text/plain": [
       "shape: (51, 4)\n",
       "┌──────────────┬──────────────────────┬───────────────────────┬──────────────┐\n",
       "│ Existing_EMI ┆ Existing_EMI_imputed ┆ Existing_EMI_imputed2 ┆ impute_value │\n",
       "│ ---          ┆ ---                  ┆ ---                   ┆ ---          │\n",
       "│ f64          ┆ f64                  ┆ f64                   ┆ f64          │\n",
       "╞══════════════╪══════════════════════╪═══════════════════════╪══════════════╡\n",
       "│ null         ┆ 0.01                 ┆ 0.01                  ┆ 0.01         │\n",
       "│ null         ┆ 0.01                 ┆ 0.01                  ┆ 0.01         │\n",
       "│ null         ┆ 0.01                 ┆ 0.01                  ┆ 0.01         │\n",
       "│ null         ┆ 0.01                 ┆ 0.01                  ┆ 0.01         │\n",
       "│ null         ┆ 0.01                 ┆ 0.01                  ┆ 0.01         │\n",
       "│ …            ┆ …                    ┆ …                     ┆ …            │\n",
       "│ null         ┆ 0.01                 ┆ 0.01                  ┆ 0.01         │\n",
       "│ null         ┆ 0.01                 ┆ 0.01                  ┆ 0.01         │\n",
       "│ null         ┆ 0.01                 ┆ 0.01                  ┆ 0.01         │\n",
       "│ null         ┆ 0.01                 ┆ 0.01                  ┆ 0.01         │\n",
       "│ null         ┆ 0.01                 ┆ 0.01                  ┆ 0.01         │\n",
       "└──────────────┴──────────────────────┴───────────────────────┴──────────────┘"
      ]
     },
     "execution_count": 27,
     "metadata": {},
     "output_type": "execute_result"
    }
   ],
   "source": [
    "bp = ExtendedBlueprint(df, name = \"example\", target = \"approved\")\n",
    "\n",
    "# Takes in a dict with 3 fields: `name`, `args`, and `kwargs`. \n",
    "# Args and kwargs are optional depending on whether the method call needs certain arguments.\n",
    "step_dict_1 = {\n",
    "    \"name\": \"smallest_abs_impute\",\n",
    "    \"kwargs\": {\"cols\": [\"Existing_EMI\"], \"epsilon\": 0.01} \n",
    "}\n",
    "\n",
    "step_dict_2 = {\n",
    "    \"name\": \"smallest_abs_impute2\",\n",
    "    \"kwargs\": {\"cols\": [\"Existing_EMI\"], \"epsilon\": 0.01} \n",
    "}\n",
    "\n",
    "bp.append_step_from_dict(\n",
    "    step_dict_1\n",
    ").append_step_from_dict(\n",
    "    step_dict_2\n",
    ")\n",
    "\n",
    "pipe = bp.materialize()\n",
    "df_transformed = pipe.transform(df)\n",
    "\n",
    "df_transformed.with_columns(\n",
    "    impute_value = pl.col(\"Existing_EMI\").abs().min() + 0.01\n",
    ").filter(\n",
    "    pl.col(\"Existing_EMI\").is_null()\n",
    ").select(\n",
    "    pl.col(\"Existing_EMI\"),\n",
    "    pl.col(\"Existing_EMI_imputed\"),\n",
    "    pl.col(\"Existing_EMI_imputed2\"),\n",
    "    pl.col(\"impute_value\")\n",
    ")"
   ]
  },
  {
   "cell_type": "markdown",
   "metadata": {},
   "source": [
    "# Wrapping PDS Pipeline (blueprint) Inside a Sklearn Pipeline\n",
    "\n",
    "It is not recommended, but it is possible. If there is a sklearn pipeline transform you want, and that is not implemented in PDS, please submit a feature request."
   ]
  },
  {
   "cell_type": "code",
   "execution_count": 28,
   "metadata": {},
   "outputs": [
    {
     "data": {
      "text/html": [
       "<div><style>\n",
       ".dataframe > thead > tr,\n",
       ".dataframe > tbody > tr {\n",
       "  text-align: right;\n",
       "  white-space: pre-wrap;\n",
       "}\n",
       "</style>\n",
       "<small>shape: (68_899, 12)</small><table border=\"1\" class=\"dataframe\"><thead><tr><th>gender</th><th>city_category</th><th>employer_category1</th><th>employer_category2</th><th>monthly_income</th><th>existing_emi</th><th>loan_amount</th><th>loan_period</th><th>interest_rate</th><th>emi</th><th>var1</th><th>approved</th></tr><tr><td>str</td><td>str</td><td>str</td><td>i64</td><td>f64</td><td>f64</td><td>i64</td><td>f64</td><td>f64</td><td>i64</td><td>i64</td><td>i64</td></tr></thead><tbody><tr><td>&quot;Female&quot;</td><td>&quot;A&quot;</td><td>&quot;A&quot;</td><td>4</td><td>2000.0</td><td>0.0</td><td>null</td><td>0.0</td><td>null</td><td>null</td><td>0</td><td>0</td></tr><tr><td>&quot;Male&quot;</td><td>&quot;A&quot;</td><td>&quot;C&quot;</td><td>1</td><td>3500.0</td><td>0.0</td><td>20000</td><td>2.0</td><td>13.25</td><td>953</td><td>10</td><td>0</td></tr><tr><td>&quot;Male&quot;</td><td>&quot;C&quot;</td><td>&quot;C&quot;</td><td>4</td><td>2250.0</td><td>0.0</td><td>45000</td><td>4.0</td><td>null</td><td>null</td><td>0</td><td>0</td></tr><tr><td>&quot;Male&quot;</td><td>&quot;C&quot;</td><td>&quot;A&quot;</td><td>4</td><td>3500.0</td><td>0.0</td><td>92000</td><td>5.0</td><td>null</td><td>null</td><td>7</td><td>0</td></tr><tr><td>&quot;Male&quot;</td><td>&quot;A&quot;</td><td>&quot;A&quot;</td><td>4</td><td>10000.0</td><td>2500.0</td><td>50000</td><td>2.0</td><td>null</td><td>null</td><td>10</td><td>0</td></tr><tr><td>&hellip;</td><td>&hellip;</td><td>&hellip;</td><td>&hellip;</td><td>&hellip;</td><td>&hellip;</td><td>&hellip;</td><td>&hellip;</td><td>&hellip;</td><td>&hellip;</td><td>&hellip;</td><td>&hellip;</td></tr><tr><td>&quot;Female&quot;</td><td>&quot;A&quot;</td><td>&quot;A&quot;</td><td>1</td><td>4900.0</td><td>0.0</td><td>null</td><td>5.0981</td><td>null</td><td>null</td><td>10</td><td>0</td></tr><tr><td>&quot;Female&quot;</td><td>&quot;C&quot;</td><td>&quot;A&quot;</td><td>4</td><td>7190.1</td><td>1450.0</td><td>null</td><td>3.557644</td><td>null</td><td>null</td><td>7</td><td>0</td></tr><tr><td>&quot;Female&quot;</td><td>&quot;B&quot;</td><td>&quot;C&quot;</td><td>4</td><td>1600.0</td><td>0.0</td><td>24000</td><td>4.0</td><td>35.5</td><td>943</td><td>2</td><td>0</td></tr><tr><td>&quot;Male&quot;</td><td>&quot;A&quot;</td><td>&quot;C&quot;</td><td>3</td><td>9893.0</td><td>1366.0</td><td>80000</td><td>5.0</td><td>null</td><td>null</td><td>10</td><td>0</td></tr><tr><td>&quot;Male&quot;</td><td>&quot;A&quot;</td><td>&quot;A&quot;</td><td>1</td><td>4230.0</td><td>0.0</td><td>69000</td><td>4.0</td><td>13.99</td><td>1885</td><td>10</td><td>0</td></tr></tbody></table></div>"
      ],
      "text/plain": [
       "shape: (68_899, 12)\n",
       "┌────────┬───────────────┬──────────────┬──────────────┬───┬──────────────┬──────┬──────┬──────────┐\n",
       "│ gender ┆ city_category ┆ employer_cat ┆ employer_cat ┆ … ┆ interest_rat ┆ emi  ┆ var1 ┆ approved │\n",
       "│ ---    ┆ ---           ┆ egory1       ┆ egory2       ┆   ┆ e            ┆ ---  ┆ ---  ┆ ---      │\n",
       "│ str    ┆ str           ┆ ---          ┆ ---          ┆   ┆ ---          ┆ i64  ┆ i64  ┆ i64      │\n",
       "│        ┆               ┆ str          ┆ i64          ┆   ┆ f64          ┆      ┆      ┆          │\n",
       "╞════════╪═══════════════╪══════════════╪══════════════╪═══╪══════════════╪══════╪══════╪══════════╡\n",
       "│ Female ┆ A             ┆ A            ┆ 4            ┆ … ┆ null         ┆ null ┆ 0    ┆ 0        │\n",
       "│ Male   ┆ A             ┆ C            ┆ 1            ┆ … ┆ 13.25        ┆ 953  ┆ 10   ┆ 0        │\n",
       "│ Male   ┆ C             ┆ C            ┆ 4            ┆ … ┆ null         ┆ null ┆ 0    ┆ 0        │\n",
       "│ Male   ┆ C             ┆ A            ┆ 4            ┆ … ┆ null         ┆ null ┆ 7    ┆ 0        │\n",
       "│ Male   ┆ A             ┆ A            ┆ 4            ┆ … ┆ null         ┆ null ┆ 10   ┆ 0        │\n",
       "│ …      ┆ …             ┆ …            ┆ …            ┆ … ┆ …            ┆ …    ┆ …    ┆ …        │\n",
       "│ Female ┆ A             ┆ A            ┆ 1            ┆ … ┆ null         ┆ null ┆ 10   ┆ 0        │\n",
       "│ Female ┆ C             ┆ A            ┆ 4            ┆ … ┆ null         ┆ null ┆ 7    ┆ 0        │\n",
       "│ Female ┆ B             ┆ C            ┆ 4            ┆ … ┆ 35.5         ┆ 943  ┆ 2    ┆ 0        │\n",
       "│ Male   ┆ A             ┆ C            ┆ 3            ┆ … ┆ null         ┆ null ┆ 10   ┆ 0        │\n",
       "│ Male   ┆ A             ┆ A            ┆ 1            ┆ … ┆ 13.99        ┆ 1885 ┆ 10   ┆ 0        │\n",
       "└────────┴───────────────┴──────────────┴──────────────┴───┴──────────────┴──────┴──────┴──────────┘"
      ]
     },
     "execution_count": 28,
     "metadata": {},
     "output_type": "execute_result"
    }
   ],
   "source": [
    "import polars_ds.modeling as pm\n",
    "from sklearn.pipeline import Pipeline\n",
    "from sklearn.base import BaseEstimator, TransformerMixin\n",
    "\n",
    "class CustomPDSTransformer(BaseEstimator, TransformerMixin):\n",
    "\n",
    "    def __init__(self):\n",
    "        self.pipe = None\n",
    "\n",
    "    def fit(self, df, y=None):\n",
    "        # specify all the rules for the transform here\n",
    "        bp = (\n",
    "            pm.Blueprint(df, name = \"example\", target = \"approved\", lowercase=True) \n",
    "            .filter( \n",
    "                \"city_category is not null\" # or equivalently, you can do: pl.col(\"city_category\").is_not_null()\n",
    "            )\n",
    "            .select(cs.numeric() | cs.by_name([\"gender\", \"employer_category1\", \"city_category\", \"test_col\"]))\n",
    "            .linear_impute(features = [\"var1\", \"existing_emi\"], target = \"loan_period\") \n",
    "            .impute([\"existing_emi\"], method = \"median\")\n",
    "        )\n",
    "        self.pipe = bp.materialize()\n",
    "        return self\n",
    "\n",
    "    def transform(self, df, y=None):\n",
    "        return self.pipe.transform(df)\n",
    "\n",
    "# ---------------------------------------------------------------\n",
    "\n",
    "df = pl.read_parquet(\"../examples/dependency.parquet\")\n",
    "\n",
    "pipe = Pipeline(\n",
    "    steps=[\n",
    "        (\"CustomPDSTransformer\", CustomPDSTransformer())    \n",
    "    ]\n",
    ")\n",
    "df_transformed = pipe.fit_transform(df)\n",
    "df_transformed\n"
   ]
  },
  {
   "cell_type": "code",
   "execution_count": null,
   "metadata": {},
   "outputs": [],
   "source": []
  }
 ],
 "metadata": {
  "kernelspec": {
   "display_name": ".venv",
   "language": "python",
   "name": "python3"
  },
  "language_info": {
   "codemirror_mode": {
    "name": "ipython",
    "version": 3
   },
   "file_extension": ".py",
   "mimetype": "text/x-python",
   "name": "python",
   "nbconvert_exporter": "python",
   "pygments_lexer": "ipython3",
   "version": "3.13.3"
  }
 },
 "nbformat": 4,
 "nbformat_minor": 2
}
