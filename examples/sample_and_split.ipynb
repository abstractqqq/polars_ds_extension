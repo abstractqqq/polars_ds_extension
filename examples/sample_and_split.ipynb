{
 "cells": [
  {
   "cell_type": "markdown",
   "metadata": {},
   "source": [
    "# Sampling and Splitting"
   ]
  },
  {
   "cell_type": "markdown",
   "metadata": {},
   "source": [
    "## Sampling\n",
    "\n",
    "Sampling for basic tabular datasets. (Not designed for time series as of now.)"
   ]
  },
  {
   "cell_type": "code",
   "execution_count": 1,
   "metadata": {},
   "outputs": [],
   "source": [
    "import polars as pl\n",
    "import polars_ds as pds\n",
    "import polars_ds.sample as sa"
   ]
  },
  {
   "cell_type": "code",
   "execution_count": 2,
   "metadata": {},
   "outputs": [
    {
     "data": {
      "text/html": [
       "<div><style>\n",
       ".dataframe > thead > tr,\n",
       ".dataframe > tbody > tr {\n",
       "  text-align: right;\n",
       "  white-space: pre-wrap;\n",
       "}\n",
       "</style>\n",
       "<small>shape: (5, 8)</small><table border=\"1\" class=\"dataframe\"><thead><tr><th>row_num</th><th>uniform_1</th><th>uniform_2</th><th>exp</th><th>normal</th><th>fat_normal</th><th>flags</th><th>category</th></tr><tr><td>i64</td><td>f64</td><td>f64</td><td>f64</td><td>f64</td><td>f64</td><td>i32</td><td>str</td></tr></thead><tbody><tr><td>0</td><td>1.442612</td><td>0.723444</td><td>0.448733</td><td>-0.084833</td><td>-1056.526036</td><td>2</td><td>&quot;A&quot;</td></tr><tr><td>1</td><td>4.989622</td><td>0.015146</td><td>0.903302</td><td>2.962368</td><td>-1014.483108</td><td>1</td><td>&quot;A&quot;</td></tr><tr><td>2</td><td>9.686805</td><td>0.21509</td><td>0.835874</td><td>0.877411</td><td>-1273.97176</td><td>1</td><td>&quot;A&quot;</td></tr><tr><td>3</td><td>3.613803</td><td>0.14252</td><td>0.002497</td><td>0.359183</td><td>-428.85816</td><td>1</td><td>&quot;A&quot;</td></tr><tr><td>4</td><td>1.856903</td><td>0.732123</td><td>1.876483</td><td>0.168933</td><td>1385.691192</td><td>0</td><td>&quot;A&quot;</td></tr></tbody></table></div>"
      ],
      "text/plain": [
       "shape: (5, 8)\n",
       "┌─────────┬───────────┬───────────┬──────────┬───────────┬──────────────┬───────┬──────────┐\n",
       "│ row_num ┆ uniform_1 ┆ uniform_2 ┆ exp      ┆ normal    ┆ fat_normal   ┆ flags ┆ category │\n",
       "│ ---     ┆ ---       ┆ ---       ┆ ---      ┆ ---       ┆ ---          ┆ ---   ┆ ---      │\n",
       "│ i64     ┆ f64       ┆ f64       ┆ f64      ┆ f64       ┆ f64          ┆ i32   ┆ str      │\n",
       "╞═════════╪═══════════╪═══════════╪══════════╪═══════════╪══════════════╪═══════╪══════════╡\n",
       "│ 0       ┆ 1.442612  ┆ 0.723444  ┆ 0.448733 ┆ -0.084833 ┆ -1056.526036 ┆ 2     ┆ A        │\n",
       "│ 1       ┆ 4.989622  ┆ 0.015146  ┆ 0.903302 ┆ 2.962368  ┆ -1014.483108 ┆ 1     ┆ A        │\n",
       "│ 2       ┆ 9.686805  ┆ 0.21509   ┆ 0.835874 ┆ 0.877411  ┆ -1273.97176  ┆ 1     ┆ A        │\n",
       "│ 3       ┆ 3.613803  ┆ 0.14252   ┆ 0.002497 ┆ 0.359183  ┆ -428.85816   ┆ 1     ┆ A        │\n",
       "│ 4       ┆ 1.856903  ┆ 0.732123  ┆ 1.876483 ┆ 0.168933  ┆ 1385.691192  ┆ 0     ┆ A        │\n",
       "└─────────┴───────────┴───────────┴──────────┴───────────┴──────────────┴───────┴──────────┘"
      ]
     },
     "execution_count": 2,
     "metadata": {},
     "output_type": "execute_result"
    }
   ],
   "source": [
    "df = pds.frame(size=100_000).with_columns(\n",
    "    pds.random(0.0, 12.0).alias(\"uniform_1\"),\n",
    "    pds.random(0.0, 1.0).alias(\"uniform_2\"),\n",
    "    pds.random_exp(0.5).alias(\"exp\"),\n",
    "    pds.random_normal(0.0, 1.0).alias(\"normal\"),\n",
    "    pds.random_normal(0.0, 1000.0).alias(\"fat_normal\"),\n",
    "    (pds.random_int(0, 3)).alias(\"flags\"),\n",
    "    pl.Series([\"A\"] * 30_000 + [\"B\"] * 30_000 + [\"C\"] * 40_000).alias(\"category\"),\n",
    ")\n",
    "df.head()"
   ]
  },
  {
   "cell_type": "code",
   "execution_count": 3,
   "metadata": {},
   "outputs": [
    {
     "data": {
      "text/plain": [
       "['row_num', 'uniform_2', 'fat_normal']"
      ]
     },
     "execution_count": 3,
     "metadata": {},
     "output_type": "execute_result"
    }
   ],
   "source": [
    "sa.random_cols(df, 2, keep = [\"row_num\"])"
   ]
  },
  {
   "cell_type": "code",
   "execution_count": 4,
   "metadata": {},
   "outputs": [
    {
     "data": {
      "text/html": [
       "<div><style>\n",
       ".dataframe > thead > tr,\n",
       ".dataframe > tbody > tr {\n",
       "  text-align: right;\n",
       "  white-space: pre-wrap;\n",
       "}\n",
       "</style>\n",
       "<small>shape: (60_000, 8)</small><table border=\"1\" class=\"dataframe\"><thead><tr><th>row_num</th><th>uniform_1</th><th>uniform_2</th><th>exp</th><th>normal</th><th>fat_normal</th><th>flags</th><th>category</th></tr><tr><td>i64</td><td>f64</td><td>f64</td><td>f64</td><td>f64</td><td>f64</td><td>i32</td><td>str</td></tr></thead><tbody><tr><td>0</td><td>1.442612</td><td>0.723444</td><td>0.448733</td><td>-0.084833</td><td>-1056.526036</td><td>2</td><td>&quot;A&quot;</td></tr><tr><td>1</td><td>4.989622</td><td>0.015146</td><td>0.903302</td><td>2.962368</td><td>-1014.483108</td><td>1</td><td>&quot;A&quot;</td></tr><tr><td>3</td><td>3.613803</td><td>0.14252</td><td>0.002497</td><td>0.359183</td><td>-428.85816</td><td>1</td><td>&quot;A&quot;</td></tr><tr><td>4</td><td>1.856903</td><td>0.732123</td><td>1.876483</td><td>0.168933</td><td>1385.691192</td><td>0</td><td>&quot;A&quot;</td></tr><tr><td>6</td><td>5.811808</td><td>0.989879</td><td>1.489097</td><td>0.094162</td><td>-517.926376</td><td>1</td><td>&quot;A&quot;</td></tr><tr><td>&hellip;</td><td>&hellip;</td><td>&hellip;</td><td>&hellip;</td><td>&hellip;</td><td>&hellip;</td><td>&hellip;</td><td>&hellip;</td></tr><tr><td>99990</td><td>6.656671</td><td>0.611289</td><td>6.087972</td><td>-0.250988</td><td>-56.640158</td><td>0</td><td>&quot;C&quot;</td></tr><tr><td>99992</td><td>3.166684</td><td>0.60644</td><td>2.020982</td><td>-0.505243</td><td>1162.715874</td><td>1</td><td>&quot;C&quot;</td></tr><tr><td>99994</td><td>6.969484</td><td>0.37924</td><td>0.32146</td><td>-0.078272</td><td>-917.49053</td><td>0</td><td>&quot;C&quot;</td></tr><tr><td>99998</td><td>10.797581</td><td>0.866862</td><td>0.134093</td><td>-0.25451</td><td>988.159201</td><td>0</td><td>&quot;C&quot;</td></tr><tr><td>99999</td><td>7.277423</td><td>0.418536</td><td>0.885176</td><td>1.42577</td><td>-201.946478</td><td>2</td><td>&quot;C&quot;</td></tr></tbody></table></div>"
      ],
      "text/plain": [
       "shape: (60_000, 8)\n",
       "┌─────────┬───────────┬───────────┬──────────┬───────────┬──────────────┬───────┬──────────┐\n",
       "│ row_num ┆ uniform_1 ┆ uniform_2 ┆ exp      ┆ normal    ┆ fat_normal   ┆ flags ┆ category │\n",
       "│ ---     ┆ ---       ┆ ---       ┆ ---      ┆ ---       ┆ ---          ┆ ---   ┆ ---      │\n",
       "│ i64     ┆ f64       ┆ f64       ┆ f64      ┆ f64       ┆ f64          ┆ i32   ┆ str      │\n",
       "╞═════════╪═══════════╪═══════════╪══════════╪═══════════╪══════════════╪═══════╪══════════╡\n",
       "│ 0       ┆ 1.442612  ┆ 0.723444  ┆ 0.448733 ┆ -0.084833 ┆ -1056.526036 ┆ 2     ┆ A        │\n",
       "│ 1       ┆ 4.989622  ┆ 0.015146  ┆ 0.903302 ┆ 2.962368  ┆ -1014.483108 ┆ 1     ┆ A        │\n",
       "│ 3       ┆ 3.613803  ┆ 0.14252   ┆ 0.002497 ┆ 0.359183  ┆ -428.85816   ┆ 1     ┆ A        │\n",
       "│ 4       ┆ 1.856903  ┆ 0.732123  ┆ 1.876483 ┆ 0.168933  ┆ 1385.691192  ┆ 0     ┆ A        │\n",
       "│ 6       ┆ 5.811808  ┆ 0.989879  ┆ 1.489097 ┆ 0.094162  ┆ -517.926376  ┆ 1     ┆ A        │\n",
       "│ …       ┆ …         ┆ …         ┆ …        ┆ …         ┆ …            ┆ …     ┆ …        │\n",
       "│ 99990   ┆ 6.656671  ┆ 0.611289  ┆ 6.087972 ┆ -0.250988 ┆ -56.640158   ┆ 0     ┆ C        │\n",
       "│ 99992   ┆ 3.166684  ┆ 0.60644   ┆ 2.020982 ┆ -0.505243 ┆ 1162.715874  ┆ 1     ┆ C        │\n",
       "│ 99994   ┆ 6.969484  ┆ 0.37924   ┆ 0.32146  ┆ -0.078272 ┆ -917.49053   ┆ 0     ┆ C        │\n",
       "│ 99998   ┆ 10.797581 ┆ 0.866862  ┆ 0.134093 ┆ -0.25451  ┆ 988.159201   ┆ 0     ┆ C        │\n",
       "│ 99999   ┆ 7.277423  ┆ 0.418536  ┆ 0.885176 ┆ 1.42577   ┆ -201.946478  ┆ 2     ┆ C        │\n",
       "└─────────┴───────────┴───────────┴──────────┴───────────┴──────────────┴───────┴──────────┘"
      ]
     },
     "execution_count": 4,
     "metadata": {},
     "output_type": "execute_result"
    }
   ],
   "source": [
    "# Random Sample\n",
    "sa.sample(df, 0.6) # by ratio"
   ]
  },
  {
   "cell_type": "code",
   "execution_count": 5,
   "metadata": {},
   "outputs": [
    {
     "data": {
      "text/html": [
       "<div><style>\n",
       ".dataframe > thead > tr,\n",
       ".dataframe > tbody > tr {\n",
       "  text-align: right;\n",
       "  white-space: pre-wrap;\n",
       "}\n",
       "</style>\n",
       "<small>shape: (30_000, 8)</small><table border=\"1\" class=\"dataframe\"><thead><tr><th>row_num</th><th>uniform_1</th><th>uniform_2</th><th>exp</th><th>normal</th><th>fat_normal</th><th>flags</th><th>category</th></tr><tr><td>i64</td><td>f64</td><td>f64</td><td>f64</td><td>f64</td><td>f64</td><td>i32</td><td>str</td></tr></thead><tbody><tr><td>3</td><td>3.613803</td><td>0.14252</td><td>0.002497</td><td>0.359183</td><td>-428.85816</td><td>1</td><td>&quot;A&quot;</td></tr><tr><td>4</td><td>1.856903</td><td>0.732123</td><td>1.876483</td><td>0.168933</td><td>1385.691192</td><td>0</td><td>&quot;A&quot;</td></tr><tr><td>7</td><td>10.586623</td><td>0.518819</td><td>9.577112</td><td>1.402459</td><td>-1194.209391</td><td>0</td><td>&quot;A&quot;</td></tr><tr><td>9</td><td>7.851517</td><td>0.178806</td><td>3.892864</td><td>-1.331864</td><td>221.991515</td><td>2</td><td>&quot;A&quot;</td></tr><tr><td>10</td><td>6.793582</td><td>0.507613</td><td>0.766305</td><td>0.999309</td><td>-71.046855</td><td>2</td><td>&quot;A&quot;</td></tr><tr><td>&hellip;</td><td>&hellip;</td><td>&hellip;</td><td>&hellip;</td><td>&hellip;</td><td>&hellip;</td><td>&hellip;</td><td>&hellip;</td></tr><tr><td>99982</td><td>5.376131</td><td>0.497036</td><td>0.366662</td><td>0.260872</td><td>564.002351</td><td>1</td><td>&quot;C&quot;</td></tr><tr><td>99986</td><td>1.101901</td><td>0.986311</td><td>0.638334</td><td>0.965154</td><td>2246.819502</td><td>1</td><td>&quot;C&quot;</td></tr><tr><td>99988</td><td>8.57487</td><td>0.283489</td><td>2.209421</td><td>0.003966</td><td>1417.797346</td><td>0</td><td>&quot;C&quot;</td></tr><tr><td>99989</td><td>11.038472</td><td>0.486723</td><td>1.479531</td><td>-0.711058</td><td>271.637801</td><td>2</td><td>&quot;C&quot;</td></tr><tr><td>99993</td><td>4.879049</td><td>0.51402</td><td>0.762629</td><td>-0.182455</td><td>728.603605</td><td>1</td><td>&quot;C&quot;</td></tr></tbody></table></div>"
      ],
      "text/plain": [
       "shape: (30_000, 8)\n",
       "┌─────────┬───────────┬───────────┬──────────┬───────────┬──────────────┬───────┬──────────┐\n",
       "│ row_num ┆ uniform_1 ┆ uniform_2 ┆ exp      ┆ normal    ┆ fat_normal   ┆ flags ┆ category │\n",
       "│ ---     ┆ ---       ┆ ---       ┆ ---      ┆ ---       ┆ ---          ┆ ---   ┆ ---      │\n",
       "│ i64     ┆ f64       ┆ f64       ┆ f64      ┆ f64       ┆ f64          ┆ i32   ┆ str      │\n",
       "╞═════════╪═══════════╪═══════════╪══════════╪═══════════╪══════════════╪═══════╪══════════╡\n",
       "│ 3       ┆ 3.613803  ┆ 0.14252   ┆ 0.002497 ┆ 0.359183  ┆ -428.85816   ┆ 1     ┆ A        │\n",
       "│ 4       ┆ 1.856903  ┆ 0.732123  ┆ 1.876483 ┆ 0.168933  ┆ 1385.691192  ┆ 0     ┆ A        │\n",
       "│ 7       ┆ 10.586623 ┆ 0.518819  ┆ 9.577112 ┆ 1.402459  ┆ -1194.209391 ┆ 0     ┆ A        │\n",
       "│ 9       ┆ 7.851517  ┆ 0.178806  ┆ 3.892864 ┆ -1.331864 ┆ 221.991515   ┆ 2     ┆ A        │\n",
       "│ 10      ┆ 6.793582  ┆ 0.507613  ┆ 0.766305 ┆ 0.999309  ┆ -71.046855   ┆ 2     ┆ A        │\n",
       "│ …       ┆ …         ┆ …         ┆ …        ┆ …         ┆ …            ┆ …     ┆ …        │\n",
       "│ 99982   ┆ 5.376131  ┆ 0.497036  ┆ 0.366662 ┆ 0.260872  ┆ 564.002351   ┆ 1     ┆ C        │\n",
       "│ 99986   ┆ 1.101901  ┆ 0.986311  ┆ 0.638334 ┆ 0.965154  ┆ 2246.819502  ┆ 1     ┆ C        │\n",
       "│ 99988   ┆ 8.57487   ┆ 0.283489  ┆ 2.209421 ┆ 0.003966  ┆ 1417.797346  ┆ 0     ┆ C        │\n",
       "│ 99989   ┆ 11.038472 ┆ 0.486723  ┆ 1.479531 ┆ -0.711058 ┆ 271.637801   ┆ 2     ┆ C        │\n",
       "│ 99993   ┆ 4.879049  ┆ 0.51402   ┆ 0.762629 ┆ -0.182455 ┆ 728.603605   ┆ 1     ┆ C        │\n",
       "└─────────┴───────────┴───────────┴──────────┴───────────┴──────────────┴───────┴──────────┘"
      ]
     },
     "execution_count": 5,
     "metadata": {},
     "output_type": "execute_result"
    }
   ],
   "source": [
    "sa.sample(df, 30_000) # by count"
   ]
  },
  {
   "cell_type": "code",
   "execution_count": 6,
   "metadata": {},
   "outputs": [
    {
     "data": {
      "text/html": [
       "<div><style>\n",
       ".dataframe > thead > tr,\n",
       ".dataframe > tbody > tr {\n",
       "  text-align: right;\n",
       "  white-space: pre-wrap;\n",
       "}\n",
       "</style>\n",
       "<small>shape: (3, 2)</small><table border=\"1\" class=\"dataframe\"><thead><tr><th>flags</th><th>len</th></tr><tr><td>i32</td><td>u32</td></tr></thead><tbody><tr><td>0</td><td>33541</td></tr><tr><td>1</td><td>33270</td></tr><tr><td>2</td><td>33189</td></tr></tbody></table></div>"
      ],
      "text/plain": [
       "shape: (3, 2)\n",
       "┌───────┬───────┐\n",
       "│ flags ┆ len   │\n",
       "│ ---   ┆ ---   │\n",
       "│ i32   ┆ u32   │\n",
       "╞═══════╪═══════╡\n",
       "│ 0     ┆ 33541 │\n",
       "│ 1     ┆ 33270 │\n",
       "│ 2     ┆ 33189 │\n",
       "└───────┴───────┘"
      ]
     },
     "execution_count": 6,
     "metadata": {},
     "output_type": "execute_result"
    }
   ],
   "source": [
    "df.group_by(\"flags\").len().sort(\"flags\")"
   ]
  },
  {
   "cell_type": "code",
   "execution_count": 7,
   "metadata": {},
   "outputs": [
    {
     "data": {
      "text/html": [
       "<div><style>\n",
       ".dataframe > thead > tr,\n",
       ".dataframe > tbody > tr {\n",
       "  text-align: right;\n",
       "  white-space: pre-wrap;\n",
       "}\n",
       "</style>\n",
       "<small>shape: (3, 2)</small><table border=\"1\" class=\"dataframe\"><thead><tr><th>flags</th><th>len</th></tr><tr><td>i32</td><td>u32</td></tr></thead><tbody><tr><td>0</td><td>16771</td></tr><tr><td>1</td><td>33270</td></tr><tr><td>2</td><td>33189</td></tr></tbody></table></div>"
      ],
      "text/plain": [
       "shape: (3, 2)\n",
       "┌───────┬───────┐\n",
       "│ flags ┆ len   │\n",
       "│ ---   ┆ ---   │\n",
       "│ i32   ┆ u32   │\n",
       "╞═══════╪═══════╡\n",
       "│ 0     ┆ 16771 │\n",
       "│ 1     ┆ 33270 │\n",
       "│ 2     ┆ 33189 │\n",
       "└───────┴───────┘"
      ]
     },
     "execution_count": 7,
     "metadata": {},
     "output_type": "execute_result"
    }
   ],
   "source": [
    "# Downsample on one group\n",
    "sa1 = sa.downsample(\n",
    "    df, \n",
    "    (pl.col(\"flags\") == 0, 0.5)\n",
    ")\n",
    "sa1.group_by(\"flags\").len().sort(\"flags\")"
   ]
  },
  {
   "cell_type": "code",
   "execution_count": 8,
   "metadata": {},
   "outputs": [
    {
     "data": {
      "text/html": [
       "<div><style>\n",
       ".dataframe > thead > tr,\n",
       ".dataframe > tbody > tr {\n",
       "  text-align: right;\n",
       "  white-space: pre-wrap;\n",
       "}\n",
       "</style>\n",
       "<small>shape: (3, 2)</small><table border=\"1\" class=\"dataframe\"><thead><tr><th>flags</th><th>len</th></tr><tr><td>i32</td><td>u32</td></tr></thead><tbody><tr><td>0</td><td>16771</td></tr><tr><td>1</td><td>9981</td></tr><tr><td>2</td><td>13276</td></tr></tbody></table></div>"
      ],
      "text/plain": [
       "shape: (3, 2)\n",
       "┌───────┬───────┐\n",
       "│ flags ┆ len   │\n",
       "│ ---   ┆ ---   │\n",
       "│ i32   ┆ u32   │\n",
       "╞═══════╪═══════╡\n",
       "│ 0     ┆ 16771 │\n",
       "│ 1     ┆ 9981  │\n",
       "│ 2     ┆ 13276 │\n",
       "└───────┴───────┘"
      ]
     },
     "execution_count": 8,
     "metadata": {},
     "output_type": "execute_result"
    }
   ],
   "source": [
    "# Downsample on multiple groups\n",
    "sa2 = sa.downsample(\n",
    "    df, \n",
    "    (pl.col(\"flags\") == 0, 0.5),\n",
    "    (pl.col(\"flags\") == 1, 0.3),\n",
    "    (pl.col(\"flags\") == 2, 0.4),\n",
    ")\n",
    "sa2.group_by(\"flags\").len().sort(\"flags\")"
   ]
  },
  {
   "cell_type": "code",
   "execution_count": 9,
   "metadata": {},
   "outputs": [
    {
     "data": {
      "text/html": [
       "<div><style>\n",
       ".dataframe > thead > tr,\n",
       ".dataframe > tbody > tr {\n",
       "  text-align: right;\n",
       "  white-space: pre-wrap;\n",
       "}\n",
       "</style>\n",
       "<small>shape: (3, 2)</small><table border=\"1\" class=\"dataframe\"><thead><tr><th>category</th><th>len</th></tr><tr><td>str</td><td>u32</td></tr></thead><tbody><tr><td>&quot;A&quot;</td><td>30000</td></tr><tr><td>&quot;B&quot;</td><td>30000</td></tr><tr><td>&quot;C&quot;</td><td>40000</td></tr></tbody></table></div>"
      ],
      "text/plain": [
       "shape: (3, 2)\n",
       "┌──────────┬───────┐\n",
       "│ category ┆ len   │\n",
       "│ ---      ┆ ---   │\n",
       "│ str      ┆ u32   │\n",
       "╞══════════╪═══════╡\n",
       "│ A        ┆ 30000 │\n",
       "│ B        ┆ 30000 │\n",
       "│ C        ┆ 40000 │\n",
       "└──────────┴───────┘"
      ]
     },
     "execution_count": 9,
     "metadata": {},
     "output_type": "execute_result"
    }
   ],
   "source": [
    "df.group_by(\"category\").len().sort(\"category\")"
   ]
  },
  {
   "cell_type": "code",
   "execution_count": 10,
   "metadata": {},
   "outputs": [
    {
     "data": {
      "text/html": [
       "<div><style>\n",
       ".dataframe > thead > tr,\n",
       ".dataframe > tbody > tr {\n",
       "  text-align: right;\n",
       "  white-space: pre-wrap;\n",
       "}\n",
       "</style>\n",
       "<small>shape: (3, 2)</small><table border=\"1\" class=\"dataframe\"><thead><tr><th>category</th><th>len</th></tr><tr><td>str</td><td>u32</td></tr></thead><tbody><tr><td>&quot;A&quot;</td><td>30000</td></tr><tr><td>&quot;B&quot;</td><td>30000</td></tr><tr><td>&quot;C&quot;</td><td>30000</td></tr></tbody></table></div>"
      ],
      "text/plain": [
       "shape: (3, 2)\n",
       "┌──────────┬───────┐\n",
       "│ category ┆ len   │\n",
       "│ ---      ┆ ---   │\n",
       "│ str      ┆ u32   │\n",
       "╞══════════╪═══════╡\n",
       "│ A        ┆ 30000 │\n",
       "│ B        ┆ 30000 │\n",
       "│ C        ┆ 30000 │\n",
       "└──────────┴───────┘"
      ]
     },
     "execution_count": 10,
     "metadata": {},
     "output_type": "execute_result"
    }
   ],
   "source": [
    "# Volume neutral by each category, will take the greatest possible value so that we get neutral volume.\n",
    "vn = sa.volume_neutral(\n",
    "    df,\n",
    "    by = pl.col(\"category\"),\n",
    ")\n",
    "vn.group_by(\"category\").len().sort(\"category\")"
   ]
  },
  {
   "cell_type": "code",
   "execution_count": 11,
   "metadata": {},
   "outputs": [
    {
     "data": {
      "text/html": [
       "<div><style>\n",
       ".dataframe > thead > tr,\n",
       ".dataframe > tbody > tr {\n",
       "  text-align: right;\n",
       "  white-space: pre-wrap;\n",
       "}\n",
       "</style>\n",
       "<small>shape: (3, 2)</small><table border=\"1\" class=\"dataframe\"><thead><tr><th>category</th><th>len</th></tr><tr><td>str</td><td>u32</td></tr></thead><tbody><tr><td>&quot;A&quot;</td><td>10000</td></tr><tr><td>&quot;B&quot;</td><td>10000</td></tr><tr><td>&quot;C&quot;</td><td>10000</td></tr></tbody></table></div>"
      ],
      "text/plain": [
       "shape: (3, 2)\n",
       "┌──────────┬───────┐\n",
       "│ category ┆ len   │\n",
       "│ ---      ┆ ---   │\n",
       "│ str      ┆ u32   │\n",
       "╞══════════╪═══════╡\n",
       "│ A        ┆ 10000 │\n",
       "│ B        ┆ 10000 │\n",
       "│ C        ┆ 10000 │\n",
       "└──────────┴───────┘"
      ]
     },
     "execution_count": 11,
     "metadata": {},
     "output_type": "execute_result"
    }
   ],
   "source": [
    "# Volume neutral (10_000) by each category\n",
    "vn = sa.volume_neutral(\n",
    "    df,\n",
    "    by = pl.col(\"category\"),\n",
    "    target_volume = 10_000\n",
    ")\n",
    "vn.group_by(\"category\").len().sort(\"category\")"
   ]
  },
  {
   "cell_type": "code",
   "execution_count": 12,
   "metadata": {},
   "outputs": [
    {
     "data": {
      "text/html": [
       "<div><style>\n",
       ".dataframe > thead > tr,\n",
       ".dataframe > tbody > tr {\n",
       "  text-align: right;\n",
       "  white-space: pre-wrap;\n",
       "}\n",
       "</style>\n",
       "<small>shape: (3, 2)</small><table border=\"1\" class=\"dataframe\"><thead><tr><th>category</th><th>len</th></tr><tr><td>str</td><td>u32</td></tr></thead><tbody><tr><td>&quot;A&quot;</td><td>10000</td></tr><tr><td>&quot;B&quot;</td><td>4283</td></tr><tr><td>&quot;C&quot;</td><td>5717</td></tr></tbody></table></div>"
      ],
      "text/plain": [
       "shape: (3, 2)\n",
       "┌──────────┬───────┐\n",
       "│ category ┆ len   │\n",
       "│ ---      ┆ ---   │\n",
       "│ str      ┆ u32   │\n",
       "╞══════════╪═══════╡\n",
       "│ A        ┆ 10000 │\n",
       "│ B        ┆ 4283  │\n",
       "│ C        ┆ 5717  │\n",
       "└──────────┴───────┘"
      ]
     },
     "execution_count": 12,
     "metadata": {},
     "output_type": "execute_result"
    }
   ],
   "source": [
    "# Volume neutral (10_000) by a more complicated condition\n",
    "vn = sa.volume_neutral(\n",
    "    df,\n",
    "    by = pl.col(\"category\") == \"A\",\n",
    "    target_volume = 10_000\n",
    ") # This makes sense because count for B + count for C = 10_000\n",
    "vn.group_by(\"category\").len().sort(\"category\")"
   ]
  },
  {
   "cell_type": "code",
   "execution_count": 13,
   "metadata": {},
   "outputs": [
    {
     "data": {
      "text/html": [
       "<div><style>\n",
       ".dataframe > thead > tr,\n",
       ".dataframe > tbody > tr {\n",
       "  text-align: right;\n",
       "  white-space: pre-wrap;\n",
       "}\n",
       "</style>\n",
       "<small>shape: (9, 3)</small><table border=\"1\" class=\"dataframe\"><thead><tr><th>category</th><th>flags</th><th>len</th></tr><tr><td>str</td><td>i32</td><td>u32</td></tr></thead><tbody><tr><td>&quot;A&quot;</td><td>0</td><td>9932</td></tr><tr><td>&quot;A&quot;</td><td>1</td><td>9932</td></tr><tr><td>&quot;A&quot;</td><td>2</td><td>9932</td></tr><tr><td>&quot;B&quot;</td><td>0</td><td>9942</td></tr><tr><td>&quot;B&quot;</td><td>1</td><td>9942</td></tr><tr><td>&quot;B&quot;</td><td>2</td><td>9942</td></tr><tr><td>&quot;C&quot;</td><td>0</td><td>13283</td></tr><tr><td>&quot;C&quot;</td><td>1</td><td>13283</td></tr><tr><td>&quot;C&quot;</td><td>2</td><td>13283</td></tr></tbody></table></div>"
      ],
      "text/plain": [
       "shape: (9, 3)\n",
       "┌──────────┬───────┬───────┐\n",
       "│ category ┆ flags ┆ len   │\n",
       "│ ---      ┆ ---   ┆ ---   │\n",
       "│ str      ┆ i32   ┆ u32   │\n",
       "╞══════════╪═══════╪═══════╡\n",
       "│ A        ┆ 0     ┆ 9932  │\n",
       "│ A        ┆ 1     ┆ 9932  │\n",
       "│ A        ┆ 2     ┆ 9932  │\n",
       "│ B        ┆ 0     ┆ 9942  │\n",
       "│ B        ┆ 1     ┆ 9942  │\n",
       "│ B        ┆ 2     ┆ 9942  │\n",
       "│ C        ┆ 0     ┆ 13283 │\n",
       "│ C        ┆ 1     ┆ 13283 │\n",
       "│ C        ┆ 2     ┆ 13283 │\n",
       "└──────────┴───────┴───────┘"
      ]
     },
     "execution_count": 13,
     "metadata": {},
     "output_type": "execute_result"
    }
   ],
   "source": [
    "# Volume neutral sample with a control level. Volume neutral happens under the category level, meaning\n",
    "# the volume for each flag in each category is neutral.\n",
    "vn = sa.volume_neutral(\n",
    "    df,\n",
    "    by = pl.col(\"flags\"),\n",
    "    control = pl.col(\"category\")\n",
    ") \n",
    "vn.group_by([\"category\", \"flags\"]).len().sort([\"category\", \"flags\"])"
   ]
  },
  {
   "cell_type": "code",
   "execution_count": 14,
   "metadata": {},
   "outputs": [
    {
     "data": {
      "text/html": [
       "<div><style>\n",
       ".dataframe > thead > tr,\n",
       ".dataframe > tbody > tr {\n",
       "  text-align: right;\n",
       "  white-space: pre-wrap;\n",
       "}\n",
       "</style>\n",
       "<small>shape: (9, 3)</small><table border=\"1\" class=\"dataframe\"><thead><tr><th>category</th><th>flags</th><th>len</th></tr><tr><td>str</td><td>i32</td><td>u32</td></tr></thead><tbody><tr><td>&quot;A&quot;</td><td>0</td><td>9932</td></tr><tr><td>&quot;A&quot;</td><td>1</td><td>9932</td></tr><tr><td>&quot;A&quot;</td><td>2</td><td>9932</td></tr><tr><td>&quot;B&quot;</td><td>0</td><td>9942</td></tr><tr><td>&quot;B&quot;</td><td>1</td><td>9942</td></tr><tr><td>&quot;B&quot;</td><td>2</td><td>9942</td></tr><tr><td>&quot;C&quot;</td><td>0</td><td>10000</td></tr><tr><td>&quot;C&quot;</td><td>1</td><td>10000</td></tr><tr><td>&quot;C&quot;</td><td>2</td><td>10000</td></tr></tbody></table></div>"
      ],
      "text/plain": [
       "shape: (9, 3)\n",
       "┌──────────┬───────┬───────┐\n",
       "│ category ┆ flags ┆ len   │\n",
       "│ ---      ┆ ---   ┆ ---   │\n",
       "│ str      ┆ i32   ┆ u32   │\n",
       "╞══════════╪═══════╪═══════╡\n",
       "│ A        ┆ 0     ┆ 9932  │\n",
       "│ A        ┆ 1     ┆ 9932  │\n",
       "│ A        ┆ 2     ┆ 9932  │\n",
       "│ B        ┆ 0     ┆ 9942  │\n",
       "│ B        ┆ 1     ┆ 9942  │\n",
       "│ B        ┆ 2     ┆ 9942  │\n",
       "│ C        ┆ 0     ┆ 10000 │\n",
       "│ C        ┆ 1     ┆ 10000 │\n",
       "│ C        ┆ 2     ┆ 10000 │\n",
       "└──────────┴───────┴───────┘"
      ]
     },
     "execution_count": 14,
     "metadata": {},
     "output_type": "execute_result"
    }
   ],
   "source": [
    "# We may not meet the target volume for all categories.\n",
    "vn = sa.volume_neutral(\n",
    "    df,\n",
    "    by = pl.col(\"flags\"),\n",
    "    control = pl.col(\"category\"),\n",
    "    target_volume= 10_000\n",
    ") # \n",
    "vn.group_by([\"category\", \"flags\"]).len().sort([\"category\", \"flags\"])"
   ]
  },
  {
   "cell_type": "markdown",
   "metadata": {},
   "source": [
    "## Splitting\n",
    "\n",
    "To be added..."
   ]
  },
  {
   "cell_type": "markdown",
   "metadata": {},
   "source": []
  },
  {
   "cell_type": "markdown",
   "metadata": {},
   "source": []
  }
 ],
 "metadata": {
  "kernelspec": {
   "display_name": ".venv",
   "language": "python",
   "name": "python3"
  },
  "language_info": {
   "codemirror_mode": {
    "name": "ipython",
    "version": 3
   },
   "file_extension": ".py",
   "mimetype": "text/x-python",
   "name": "python",
   "nbconvert_exporter": "python",
   "pygments_lexer": "ipython3",
   "version": "3.12.4"
  }
 },
 "nbformat": 4,
 "nbformat_minor": 2
}
